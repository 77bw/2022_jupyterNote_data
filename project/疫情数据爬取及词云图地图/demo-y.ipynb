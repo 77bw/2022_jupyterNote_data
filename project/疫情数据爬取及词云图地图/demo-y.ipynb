{
 "cells": [
  {
   "cell_type": "code",
   "execution_count": 2,
   "metadata": {},
   "outputs": [],
   "source": [
    "import sys\n",
    "sys.path.append('D:\\\\anaconda3\\\\Lib\\\\site-packages')"
   ]
  },
  {
   "cell_type": "code",
   "execution_count": 3,
   "metadata": {},
   "outputs": [],
   "source": [
    "import openpyxl\n",
    "from wordcloud import  WordCloud"
   ]
  },
  {
   "cell_type": "code",
   "execution_count": 4,
   "metadata": {},
   "outputs": [
    {
     "data": {
      "text/plain": [
       "<Worksheet \"同一日期提取\">"
      ]
     },
     "execution_count": 4,
     "metadata": {},
     "output_type": "execute_result"
    }
   ],
   "source": [
    "# 1.读取数据\n",
    "wb = openpyxl.load_workbook('data.xlsx')\n",
    "# 2.获取工作表\n",
    "ws = wb['同一日期提取']\n",
    "ws"
   ]
  },
  {
   "cell_type": "code",
   "execution_count": 7,
   "metadata": {},
   "outputs": [
    {
     "name": "stdout",
     "output_type": "stream",
     "text": [
      "('省份', '累计确诊', '累计死亡', '累计治愈', '境外输入')\n",
      "('北京', 1064, 9, 1046, 0)\n",
      "('上海', 2124, 7, 2046, 0)\n",
      "('江苏', 728, 0, 719, 0)\n",
      "('广东', 2534, 8, 2396, 0)\n",
      "('浙江', 1366, 1, 1334, 0)\n",
      "('陕西', 618, 3, 596, 0)\n",
      "('山西', 253, 0, 250, 0)\n",
      "('河北', 1317, 7, 1310, 0)\n",
      "('河南', 1276, 22, 1254, 0)\n",
      "('湖北', 68159, 4512, 63647, 0)\n",
      "('湖南', 1051, 4, 1043, 0)\n",
      "('安徽', 1004, 6, 998, 0)\n",
      "('山东', 883, 7, 875, 0)\n",
      "('重庆', 598, 6, 587, 0)\n",
      "('四川', 1039, 3, 999, 0)\n",
      "('辽宁', 425, 2, 418, 0)\n",
      "('吉林', 573, 3, 570, 0)\n",
      "('黑龙江', 1612, 13, 1598, 0)\n",
      "('天津', 394, 3, 385, 0)\n",
      "('福建', 629, 1, 591, 0)\n",
      "('云南', 358, 2, 338, 0)\n",
      "('贵州', 147, 2, 145, 0)\n",
      "('青海', 18, 0, 18, 0)\n",
      "('海南', 188, 6, 181, 0)\n",
      "('西藏', 1, 0, 1, 0)\n",
      "('广西', 275, 2, 268, 0)\n",
      "('宁夏', 76, 0, 75, 0)\n",
      "('甘肃', 194, 2, 192, 0)\n",
      "('新疆', 980, 3, 977, 0)\n",
      "('内蒙古', 388, 1, 383, 0)\n",
      "('江西', 937, 1, 936, 0)\n"
     ]
    }
   ],
   "source": [
    "for row in ws.values:\n",
    "    print(row)"
   ]
  },
  {
   "cell_type": "code",
   "execution_count": 8,
   "metadata": {},
   "outputs": [
    {
     "name": "stdout",
     "output_type": "stream",
     "text": [
      "省份\n",
      "北京\n",
      "上海\n",
      "江苏\n",
      "广东\n",
      "浙江\n",
      "陕西\n",
      "山西\n",
      "河北\n",
      "河南\n",
      "湖北\n",
      "湖南\n",
      "安徽\n",
      "山东\n",
      "重庆\n",
      "四川\n",
      "辽宁\n",
      "吉林\n",
      "黑龙江\n",
      "天津\n",
      "福建\n",
      "云南\n",
      "贵州\n",
      "青海\n",
      "海南\n",
      "西藏\n",
      "广西\n",
      "宁夏\n",
      "甘肃\n",
      "新疆\n",
      "内蒙古\n",
      "江西\n"
     ]
    }
   ],
   "source": [
    "for row in ws.values:\n",
    "    print(row[0])"
   ]
  },
  {
   "cell_type": "code",
   "execution_count": null,
   "metadata": {},
   "outputs": [],
   "source": []
  }
 ],
 "metadata": {
  "kernelspec": {
   "display_name": "Python 3",
   "language": "python",
   "name": "python3"
  },
  "language_info": {
   "codemirror_mode": {
    "name": "ipython",
    "version": 3
   },
   "file_extension": ".py",
   "mimetype": "text/x-python",
   "name": "python",
   "nbconvert_exporter": "python",
   "pygments_lexer": "ipython3",
   "version": "3.8.3"
  }
 },
 "nbformat": 4,
 "nbformat_minor": 4
}
