{
 "cells": [
  {
   "cell_type": "code",
   "execution_count": 1,
   "metadata": {},
   "outputs": [
    {
     "ename": "NameError",
     "evalue": "name 'logger' is not defined",
     "output_type": "error",
     "traceback": [
      "\u001b[1;31m---------------------------------------------------------------------------\u001b[0m",
      "\u001b[1;31mNameError\u001b[0m                                 Traceback (most recent call last)",
      "\u001b[1;32m<ipython-input-1-cc56d8437b68>\u001b[0m in \u001b[0;36m<module>\u001b[1;34m\u001b[0m\n\u001b[1;32m----> 1\u001b[1;33m \u001b[0mlogger\u001b[0m\u001b[1;33m.\u001b[0m\u001b[0mdebug\u001b[0m\u001b[1;33m(\u001b[0m\u001b[1;34m\"莫阿撒旦吉萨\"\u001b[0m\u001b[1;33m)\u001b[0m\u001b[1;33m\u001b[0m\u001b[1;33m\u001b[0m\u001b[0m\n\u001b[0m",
      "\u001b[1;31mNameError\u001b[0m: name 'logger' is not defined"
     ]
    }
   ],
   "source": [
    "logger.debug(\"莫阿撒旦吉萨\")"
   ]
  },
  {
   "cell_type": "code",
   "execution_count": 8,
   "metadata": {},
   "outputs": [
    {
     "name": "stderr",
     "output_type": "stream",
     "text": [
      "WARNING:root:warning message\n",
      "ERROR:root:error message\n",
      "CRITICAL:root:critical message\n",
      "WARNING:root:姓名 bw，性别 男\n"
     ]
    }
   ],
   "source": [
    "import logging\n",
    "logging.debug('debug message')\n",
    "logging.info('info message')\n",
    "logging.warning('warning message')\n",
    "logging.error('error message')\n",
    "logging.critical('critical message')\n",
    "logging.warning(\"姓名 %s，性别 %s\",\"bw\",\"男\")"
   ]
  },
  {
   "cell_type": "code",
   "execution_count": 5,
   "metadata": {},
   "outputs": [
    {
     "name": "stdout",
     "output_type": "stream",
     "text": [
      "姓名 %s，性别 %s bw 男\n"
     ]
    }
   ],
   "source": [
    "print(\"姓名 %s，性别 %s\",\"bw\",\"男\")"
   ]
  },
  {
   "cell_type": "code",
   "execution_count": 4,
   "metadata": {
    "scrolled": true
   },
   "outputs": [
    {
     "name": "stdout",
     "output_type": "stream",
     "text": [
      "姓名bw，性别男\n"
     ]
    }
   ],
   "source": [
    "print(\"姓名%s，性别%s\"%(\"bw\",\"男\"))"
   ]
  },
  {
   "cell_type": "code",
   "execution_count": 8,
   "metadata": {},
   "outputs": [
    {
     "name": "stdout",
     "output_type": "stream",
     "text": [
      "2022-04-15 09:42:03.124169\n",
      "<class 'datetime.datetime'>\n",
      "2022-04-15 09:42\n",
      "<class 'str'>\n"
     ]
    }
   ],
   "source": [
    "import datetime\n",
    "now=datetime.datetime.now()\n",
    "print(now)\n",
    "print(type(now))\n",
    "now=now.strftime('%Y-%m-%d %H:%M')\n",
    "print(now)\n",
    "print(type(now))"
   ]
  },
  {
   "cell_type": "code",
   "execution_count": 1,
   "metadata": {
    "scrolled": true
   },
   "outputs": [
    {
     "ename": "SyntaxError",
     "evalue": "EOL while scanning string literal (<ipython-input-1-7089112ad28b>, line 2)",
     "output_type": "error",
     "traceback": [
      "\u001b[1;36m  File \u001b[1;32m\"<ipython-input-1-7089112ad28b>\"\u001b[1;36m, line \u001b[1;32m2\u001b[0m\n\u001b[1;33m    date_str = time.strftime(\"%Y-%m-%od %H:%M:%S', time.localtime())\u001b[0m\n\u001b[1;37m                                                                    ^\u001b[0m\n\u001b[1;31mSyntaxError\u001b[0m\u001b[1;31m:\u001b[0m EOL while scanning string literal\n"
     ]
    }
   ],
   "source": [
    "import time\n",
    "date_str = time.strftime(\"%Y-%m-%od %H:%M:%S', time.localtime())\n",
    "print(date_str)"
   ]
  },
  {
   "cell_type": "code",
   "execution_count": 24,
   "metadata": {},
   "outputs": [
    {
     "name": "stdout",
     "output_type": "stream",
     "text": [
      "error\n"
     ]
    }
   ],
   "source": [
    "time=\"2022-03\"\n",
    "time_format = \"0000-00-00 00:00:00\"\n",
    "time_format1 = \"01 00:00:00\"\n",
    "if  '年' and '月' and '日' in time:\n",
    "    # time=re.findall(r\"(\\d+年\\d+月\\d+日)\",time)[0]\n",
    "    time=time[0].strip()\n",
    "    time = time.replace('年', '-').replace('月', '-').replace('日', '')\n",
    "    length = len(time)\n",
    "    if length == 19:\n",
    "        print(time) \n",
    "    if length == 8:\n",
    "        print(time+time_format1) \n",
    "    else:\n",
    "        print(time + time_format[length:]) \n",
    "else:\n",
    "    print(\"error\")"
   ]
  },
  {
   "cell_type": "code",
   "execution_count": 33,
   "metadata": {},
   "outputs": [
    {
     "name": "stdout",
     "output_type": "stream",
     "text": [
      "0:00:00\n",
      "2022-04-15 00:00:00\n",
      "2022-04-15  00\n",
      "<class 'str'>\n"
     ]
    }
   ],
   "source": [
    "import datetime\n",
    "start=\"2022-04-15\"\n",
    "d = datetime.datetime.strptime(start, '%Y-%m-%d')\n",
    "day=datetime.timedelta(days=0)\n",
    "print(day)\n",
    "print(d+day)\n",
    "data = datetime.datetime.strftime(d, '%Y-%m-%d  %H')\n",
    "print(data)\n",
    "print(type(data))"
   ]
  },
  {
   "cell_type": "code",
   "execution_count": 2,
   "metadata": {},
   "outputs": [
    {
     "name": "stdout",
     "output_type": "stream",
     "text": [
      "1650470400.0\n"
     ]
    }
   ],
   "source": [
    "import time\n",
    "\n",
    "times = time.mktime(time.strptime(\"2022-04/21\",\"%Y-%m/%d\"))\n",
    "print(times)"
   ]
  }
 ],
 "metadata": {
  "kernelspec": {
   "display_name": "Python 3",
   "language": "python",
   "name": "python3"
  },
  "language_info": {
   "codemirror_mode": {
    "name": "ipython",
    "version": 3
   },
   "file_extension": ".py",
   "mimetype": "text/x-python",
   "name": "python",
   "nbconvert_exporter": "python",
   "pygments_lexer": "ipython3",
   "version": "3.8.5"
  }
 },
 "nbformat": 4,
 "nbformat_minor": 4
}
