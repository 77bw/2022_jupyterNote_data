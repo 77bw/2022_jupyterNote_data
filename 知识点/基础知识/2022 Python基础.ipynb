{
 "cells": [
  {
   "cell_type": "markdown",
   "metadata": {},
   "source": [
    "迭代：\n",
    "迭代是通过重复执行的代码处理相似的数据集的过程，并且本次迭代的处理数据要依赖上一次的结果继续往下做，上一次产生的结果为下一次产生结果的初始状态，如果中途有任何停顿，都不能算是迭代。\n",
    "\n",
    "range(),是当你迭代它的时候，它是一个能够像期望的序列返回连续的对象，我们称这类对象是可迭代的。\n",
    "for语句，list()函数就是一个迭代器。\n",
    "迭代器是一个可以记住遍历位置的对象，因此不会像列表那样一次性全部生成，而是可以等到用的时候才生成，因此节省了大量的内存资源。迭代器对象从集合中的第一个元素开始访问，直到所有的元素被访问完。迭代器有两个方法：iter（）和next（）方法。"
   ]
  },
  {
   "cell_type": "code",
   "execution_count": 3,
   "metadata": {},
   "outputs": [
    {
     "name": "stdout",
     "output_type": "stream",
     "text": [
      "0\n",
      "3\n",
      "6\n",
      "9\n",
      "[0, 1, 2, 3]\n"
     ]
    }
   ],
   "source": [
    "for i in range(0,10,3):\n",
    "    print(i)\n",
    "a=list(range(0,4))\n",
    "print(a)"
   ]
  },
  {
   "cell_type": "raw",
   "metadata": {},
   "source": [
    "可变参数的传递  函数定义时，二者同时存在，一定要将*args放在**kwargs之前\n",
    "作为函数定义时：\n",
    "1、*参数收集所有未匹配的位置参数组成一个tuple对象，局部变量args指向此tuple对象 \n",
    "2、**参数收集所有未匹配的关键字参数组成一个dict对象，局部变量kwargs指向此dict对象\n",
    "\n",
    "作为函数调用时：\n",
    "1、*参数用于解包tuple对象的每个元素，作为一个一个的位置参数传入到函数中\n",
    "2、**参数用于解包dict对象的每个元素，作为一个一个的关键字参数传入到函数中"
   ]
  },
  {
   "cell_type": "code",
   "execution_count": 4,
   "metadata": {},
   "outputs": [
    {
     "name": "stdout",
     "output_type": "stream",
     "text": [
      "hello\n",
      "\n",
      "----------------------------------------------------------------------\n",
      "hello\n",
      "美女 小猫 青蛙\n",
      "----------------------------------------------------------------------\n",
      "1\n",
      "2 3 4 5\n"
     ]
    }
   ],
   "source": [
    "def print_str(first, *second):\n",
    "    print(first)\n",
    "    print(second)\n",
    "numbers_strings = (\"1\",\"2\",\"3\",\"4\",\"5\")\n",
    "print_str(\"hello\")\n",
    "print('-'*70)\n",
    "print_str(\"hello\",\"美女\",\"小猫\",\"青蛙\")\n",
    "print('-'*70)\n",
    "print_str(*numbers_strings) #注意这里的*numbers_strings\n",
    "#元组解包的过程中会将每一个元素依次放入到位置参数\n",
    "# 1、可以在可变参数中使用\n",
    "# 2、也可以在未定义可变参数的函数上使用\n",
    "# 元组解包功能是完全独立的一个功能\n",
    "# 注意：解包tuple的时候，tuple的元素数量要与函数的位置参数总数一致"
   ]
  },
  {
   "cell_type": "code",
   "execution_count": 2,
   "metadata": {},
   "outputs": [
    {
     "name": "stdout",
     "output_type": "stream",
     "text": [
      "{'first': 5, 'second': 100}\n"
     ]
    }
   ],
   "source": [
    "def printStr(**anything):\n",
    "    print(anything)\n",
    "printStr(first = 5, second = 100)\n",
    "# printStr({'first': 5, 'second': 100})"
   ]
  },
  {
   "cell_type": "code",
   "execution_count": 5,
   "metadata": {},
   "outputs": [
    {
     "name": "stdout",
     "output_type": "stream",
     "text": [
      "100\n",
      "\n"
     ]
    },
    {
     "ename": "TypeError",
     "evalue": "'name' is an invalid keyword argument for print()",
     "output_type": "error",
     "traceback": [
      "\u001b[1;31m---------------------------------------------------------------------------\u001b[0m",
      "\u001b[1;31mTypeError\u001b[0m                                 Traceback (most recent call last)",
      "\u001b[1;32m<ipython-input-5-7794485f71c0>\u001b[0m in \u001b[0;36m<module>\u001b[1;34m\u001b[0m\n\u001b[0;32m      5\u001b[0m \u001b[1;33m\u001b[0m\u001b[0m\n\u001b[0;32m      6\u001b[0m \u001b[1;33m\u001b[0m\u001b[0m\n\u001b[1;32m----> 7\u001b[1;33m \u001b[0mprintStr\u001b[0m\u001b[1;33m(\u001b[0m\u001b[1;36m100\u001b[0m\u001b[1;33m,\u001b[0m \u001b[1;33m**\u001b[0m\u001b[0mprintDic\u001b[0m\u001b[1;33m)\u001b[0m\u001b[1;33m\u001b[0m\u001b[1;33m\u001b[0m\u001b[0m\n\u001b[0m\u001b[0;32m      8\u001b[0m \u001b[1;31m#等同于    printStr(100, name = \"tyson\", age = \"99\")\u001b[0m\u001b[1;33m\u001b[0m\u001b[1;33m\u001b[0m\u001b[1;33m\u001b[0m\u001b[0m\n\u001b[0;32m      9\u001b[0m \u001b[1;31m# 函数调用时，在一个dict对象的前面，添加**，表示字典的解包，它会把dict对象中的\u001b[0m\u001b[1;33m\u001b[0m\u001b[1;33m\u001b[0m\u001b[1;33m\u001b[0m\u001b[0m\n",
      "\u001b[1;32m<ipython-input-5-7794485f71c0>\u001b[0m in \u001b[0;36mprintStr\u001b[1;34m(first, **dict)\u001b[0m\n\u001b[0;32m      1\u001b[0m \u001b[1;32mdef\u001b[0m \u001b[0mprintStr\u001b[0m\u001b[1;33m(\u001b[0m\u001b[0mfirst\u001b[0m\u001b[1;33m,\u001b[0m \u001b[1;33m**\u001b[0m\u001b[0mdict\u001b[0m\u001b[1;33m)\u001b[0m\u001b[1;33m:\u001b[0m\u001b[1;33m\u001b[0m\u001b[1;33m\u001b[0m\u001b[0m\n\u001b[0;32m      2\u001b[0m     \u001b[0mprint\u001b[0m\u001b[1;33m(\u001b[0m\u001b[0mstr\u001b[0m\u001b[1;33m(\u001b[0m\u001b[0mfirst\u001b[0m\u001b[1;33m)\u001b[0m \u001b[1;33m+\u001b[0m \u001b[1;34m\"\\n\"\u001b[0m\u001b[1;33m)\u001b[0m\u001b[1;33m\u001b[0m\u001b[1;33m\u001b[0m\u001b[0m\n\u001b[1;32m----> 3\u001b[1;33m     \u001b[0mprint\u001b[0m\u001b[1;33m(\u001b[0m\u001b[1;33m**\u001b[0m\u001b[0mdict\u001b[0m\u001b[1;33m)\u001b[0m\u001b[1;33m\u001b[0m\u001b[1;33m\u001b[0m\u001b[0m\n\u001b[0m\u001b[0;32m      4\u001b[0m \u001b[0mprintDic\u001b[0m \u001b[1;33m=\u001b[0m \u001b[1;33m{\u001b[0m\u001b[1;34m\"name\"\u001b[0m\u001b[1;33m:\u001b[0m \u001b[1;34m\"tyson\"\u001b[0m\u001b[1;33m,\u001b[0m \u001b[1;34m\"age\"\u001b[0m\u001b[1;33m:\u001b[0m\u001b[1;34m\"99\"\u001b[0m\u001b[1;33m}\u001b[0m\u001b[1;33m\u001b[0m\u001b[1;33m\u001b[0m\u001b[0m\n\u001b[0;32m      5\u001b[0m \u001b[1;33m\u001b[0m\u001b[0m\n",
      "\u001b[1;31mTypeError\u001b[0m: 'name' is an invalid keyword argument for print()"
     ]
    }
   ],
   "source": [
    "def printStr(first, **dict):\n",
    "    print(str(first) + \"\\n\")\n",
    "    print(dict) \n",
    "printDic = {\"name\": \"tyson\", \"age\":\"99\"}\n",
    "\n",
    "\n",
    "printStr(100, **printDic)\n",
    "#等同于    printStr(100, name = \"tyson\", age = \"99\")\n",
    "# 函数调用时，在一个dict对象的前面，添加**，表示字典的解包，它会把dict对象中的\n",
    "# 每个键值对元素，依次转换为一个一个的关键字参数传入到函数中\n",
    "\n"
   ]
  },
  {
   "cell_type": "code",
   "execution_count": 2,
   "metadata": {},
   "outputs": [
    {
     "name": "stdout",
     "output_type": "stream",
     "text": [
      "1 2 3\n",
      "1 2 3\n"
     ]
    },
    {
     "ename": "TypeError",
     "evalue": "len() takes exactly one argument (3 given)",
     "output_type": "error",
     "traceback": [
      "\u001b[1;31m---------------------------------------------------------------------------\u001b[0m",
      "\u001b[1;31mTypeError\u001b[0m                                 Traceback (most recent call last)",
      "\u001b[1;32m<ipython-input-2-c3531f6adcdb>\u001b[0m in \u001b[0;36m<module>\u001b[1;34m\u001b[0m\n\u001b[0;32m     13\u001b[0m \u001b[1;33m\u001b[0m\u001b[0m\n\u001b[0;32m     14\u001b[0m \u001b[0mprint\u001b[0m\u001b[1;33m(\u001b[0m\u001b[1;33m*\u001b[0m\u001b[0msecond\u001b[0m\u001b[1;33m)\u001b[0m\u001b[1;33m\u001b[0m\u001b[1;33m\u001b[0m\u001b[0m\n\u001b[1;32m---> 15\u001b[1;33m \u001b[0mprint\u001b[0m\u001b[1;33m(\u001b[0m\u001b[0mlen\u001b[0m\u001b[1;33m(\u001b[0m\u001b[1;33m*\u001b[0m\u001b[0msecond\u001b[0m\u001b[1;33m)\u001b[0m\u001b[1;33m)\u001b[0m\u001b[1;33m\u001b[0m\u001b[1;33m\u001b[0m\u001b[0m\n\u001b[0m\u001b[0;32m     16\u001b[0m \u001b[1;33m\u001b[0m\u001b[0m\n\u001b[0;32m     17\u001b[0m \u001b[0mprint\u001b[0m\u001b[1;33m(\u001b[0m\u001b[1;33m*\u001b[0m\u001b[0mthird\u001b[0m\u001b[1;33m)\u001b[0m\u001b[1;33m\u001b[0m\u001b[1;33m\u001b[0m\u001b[0m\n",
      "\u001b[1;31mTypeError\u001b[0m: len() takes exactly one argument (3 given)"
     ]
    }
   ],
   "source": [
    "#解包功能不只是tuple、还有list、str、range\n",
    "# 只要是序列类型，可迭代对象，都可以使用解包功能哦\n",
    "\n",
    "first = (1,2,3)\n",
    " \n",
    "second = [1,2,3]\n",
    " \n",
    "third = \"123\"\n",
    " \n",
    "fourth = range(4)\n",
    "  \n",
    "print(*first)\n",
    " \n",
    "print(*second)\n",
    " \n",
    "print(*third)\n",
    " \n",
    "print(*fourth)"
   ]
  },
  {
   "cell_type": "code",
   "execution_count": 7,
   "metadata": {},
   "outputs": [
    {
     "data": {
      "text/plain": [
       "[3, 4, 5]"
      ]
     },
     "execution_count": 7,
     "metadata": {},
     "output_type": "execute_result"
    }
   ],
   "source": [
    "args = [3, 6]\n",
    "list(range(*args))            #这个方式可以直接将一个列表的所有元素当作不定参数\n"
   ]
  },
  {
   "cell_type": "code",
   "execution_count": null,
   "metadata": {},
   "outputs": [],
   "source": []
  },
  {
   "cell_type": "code",
   "execution_count": 6,
   "metadata": {},
   "outputs": [
    {
     "name": "stdout",
     "output_type": "stream",
     "text": [
      "([2, 4, 6],)\n",
      "(1, 2, 3)\n",
      "<class 'tuple'>\n"
     ]
    }
   ],
   "source": [
    "def func(*args):\n",
    "    return  args\n",
    "x=func([2,4,6])\n",
    "print(x)\n",
    "a=func(*[1,2,3])  #这个方式可以直接将一个列表的所有元素当作不定参数  传入(1, 2, 3) \n",
    "print(a)\n",
    "print(type(a))"
   ]
  },
  {
   "cell_type": "code",
   "execution_count": 3,
   "metadata": {},
   "outputs": [
    {
     "name": "stdout",
     "output_type": "stream",
     "text": [
      "{'a': 1, 'b': 2, 'c': 3}\n",
      "<class 'dict'>\n"
     ]
    }
   ],
   "source": [
    "def func(**kwargs):\n",
    "    return kwargs\n",
    "# a=func(a=1,b=2)\n",
    "a=func(**{'a':1, 'b':2, 'c':3})   #这个方式可以直接将一个字典的所有键值对当作关键字参数传入\n",
    "print(a)\n",
    "print(type(a))"
   ]
  },
  {
   "cell_type": "markdown",
   "metadata": {},
   "source": [
    "运算符：//整除   %取余  **幂  比较值相等==  赋值运输 a+=b 等价于 a=a+b\n"
   ]
  },
  {
   "cell_type": "code",
   "execution_count": 11,
   "metadata": {},
   "outputs": [
    {
     "name": "stdout",
     "output_type": "stream",
     "text": [
      "ython\n",
      "py\n",
      "nohtyp\n"
     ]
    }
   ],
   "source": [
    "#字符串\n",
    "s=\"python\"\n",
    "print(s[1:]) #冒号后可以省略，表示从1开始后面的全部取\n",
    "print(s[:2]) #冒号前可以省略，表示从0开始到2但2不取\n",
    "print(s[::-1]) #取该字符串的逆序"
   ]
  },
  {
   "cell_type": "markdown",
   "metadata": {},
   "source": [
    "### 列表：map()函数 第一个参数接受一个函数名，后面的参数接受一个或多个可迭代的序列，返回的是一个集合。\n",
    "### 把函数依次作用在list中的每一个元素上，得到一个新的list并返回。注意，map不改变原list，而是返回一个新list。"
   ]
  },
  {
   "cell_type": "code",
   "execution_count": 17,
   "metadata": {},
   "outputs": [
    {
     "name": "stdout",
     "output_type": "stream",
     "text": [
      "[0, 1, 4, 9, 16, 25, 36, 49, 64, 81]\n",
      "[1, 2, 3]\n",
      "[1, 2, 3, 4]\n",
      "[1, 2, 3]\n"
     ]
    }
   ],
   "source": [
    "squares = list(map(lambda x: x**2, range(10)))   #等价于[x**2 for x in range(10)]\n",
    "print(squares)\n",
    "a=list(map(int,(1,2,3))) #元组转换为list：\n",
    "print(a)\n",
    "\n",
    "b=list(map(int,'1234'))  #字符串转换为list：\n",
    "print(b)\n",
    "\n",
    "c=list(map(int,{1:2,2:3,3:4}))  #提取字典中的key，并将结果放在一个list中：\n",
    "print(c)"
   ]
  },
  {
   "cell_type": "code",
   "execution_count": 28,
   "metadata": {},
   "outputs": [
    {
     "name": "stdout",
     "output_type": "stream",
     "text": [
      "[[1, 5, 9], [2, 6, 10], [3, 7, 11], [4, 8, 12]]\n",
      "[[1, 5, 9], [2, 6, 10], [3, 7, 11], [4, 8, 12]]\n",
      "[(1, 5, 9), (2, 6, 10), (3, 7, 11), (4, 8, 12)]\n"
     ]
    }
   ],
   "source": [
    "#zip()函数zip函数的原型为：zip([iterable, …])   参数iterable为可迭代的对象，并且可以有多个参数。该函数返回一个以元组为元素的列表\n",
    "\n",
    "#1\n",
    "matrix = [ [1, 2, 3, 4], [5, 6, 7, 8],[9, 10, 11, 12] ]\n",
    "#交换行和列，可以用嵌套的列表推导式:\n",
    "a=[  [x[i] for x in matrix] for i in range(4)]\n",
    "print(a)\n",
    "\n",
    "#2\n",
    "transposed = []\n",
    "for i in range(4):\n",
    "    transposed.append([row[i] for row in matrix])\n",
    "print(transposed)\n",
    "\n",
    "\n",
    "#3\n",
    "b=list(zip(*matrix))\n",
    "print(b)"
   ]
  }
 ],
 "metadata": {
  "kernelspec": {
   "display_name": "Python 3",
   "language": "python",
   "name": "python3"
  },
  "language_info": {
   "codemirror_mode": {
    "name": "ipython",
    "version": 3
   },
   "file_extension": ".py",
   "mimetype": "text/x-python",
   "name": "python",
   "nbconvert_exporter": "python",
   "pygments_lexer": "ipython3",
   "version": "3.8.5"
  }
 },
 "nbformat": 4,
 "nbformat_minor": 5
}
