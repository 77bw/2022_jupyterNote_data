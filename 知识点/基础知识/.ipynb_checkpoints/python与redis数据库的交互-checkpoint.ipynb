{
 "cells": [
  {
   "cell_type": "markdown",
   "metadata": {},
   "source": [
    "#### 具体操作方法细节参考文章：https://cloud.tencent.com/developer/article/1151834"
   ]
  },
  {
   "cell_type": "code",
   "execution_count": 2,
   "metadata": {},
   "outputs": [],
   "source": [
    "import redis"
   ]
  },
  {
   "cell_type": "code",
   "execution_count": 3,
   "metadata": {},
   "outputs": [],
   "source": [
    "# 连接Redis\n",
    "redis_conn = redis.StrictRedis(\n",
    "\n",
    "        # host = 'localhost',\n",
    "        host = '127.0.0.1',\n",
    "        port = 6379,\n",
    "        decode_responses = True\n",
    "    )"
   ]
  },
  {
   "cell_type": "code",
   "execution_count": 65,
   "metadata": {},
   "outputs": [],
   "source": [
    "#清理所有现在的数据，方便测试\n",
    "for key in redis_conn.keys():\n",
    "    redis_conn.delete(key)"
   ]
  },
  {
   "cell_type": "markdown",
   "metadata": {},
   "source": [
    "### 1.向网站新增几篇文章"
   ]
  },
  {
   "cell_type": "code",
   "execution_count": 66,
   "metadata": {},
   "outputs": [],
   "source": [
    "#使用hash，类似map的形式，存储(id,标题)数据\n",
    "#name：键名；key：映射键名；value：映射键值  hset(name, key, value)\n",
    "for  idx in range(100,106):\n",
    "    redis_conn.hset('articles',str(idx),f'this is {idx} articles title')"
   ]
  },
  {
   "cell_type": "markdown",
   "metadata": {},
   "source": [
    "### 2.给用户展示文章列表"
   ]
  },
  {
   "cell_type": "code",
   "execution_count": 67,
   "metadata": {},
   "outputs": [
    {
     "name": "stdout",
     "output_type": "stream",
     "text": [
      "------------------------------\n",
      "100 this is 100 articles title\n",
      "------------------------------\n",
      "101 this is 101 articles title\n",
      "------------------------------\n",
      "102 this is 102 articles title\n",
      "------------------------------\n",
      "103 this is 103 articles title\n",
      "------------------------------\n",
      "104 this is 104 articles title\n",
      "------------------------------\n",
      "105 this is 105 articles title\n"
     ]
    }
   ],
   "source": [
    "#展示所有的文章列表\n",
    "for article_id,article_title in redis_conn.hgetall('articles').items():\n",
    "    print('-'*30)\n",
    "    #默认返回bytes类型\n",
    "    print(article_id,article_title)\n",
    "    #转换成str类型\n",
    "#     print(article_id.decode('utf-8'),article_title.decode('utf-8'))"
   ]
  },
  {
   "cell_type": "code",
   "execution_count": 33,
   "metadata": {
    "scrolled": true
   },
   "outputs": [
    {
     "name": "stdout",
     "output_type": "stream",
     "text": [
      "this is 105 articles title\n"
     ]
    }
   ],
   "source": [
    "#展示单个文章的标题\n",
    "print(redis_conn.hget('articles','105'))"
   ]
  },
  {
   "cell_type": "markdown",
   "metadata": {},
   "source": [
    "### 3.用户访问文章则产生行为记录"
   ]
  },
  {
   "cell_type": "code",
   "execution_count": 68,
   "metadata": {},
   "outputs": [],
   "source": [
    "def user_visit(uid,article_id):\n",
    "    \"\"\"产生了行为：uid访问了article_id\"\"\"\n",
    "    #1.String结构，文章的访问次数加一   访问健的增加次数\n",
    "    #incr(name, amount=1)  name：键名；amount：增长的值 不设置默认为1 \n",
    "    redis_conn.incr(f\"article_counter_{article_id}\") \n",
    "    \n",
    "    #2.List结构，记录id的访问列表\n",
    "    #lpush(name, *values)   name：键名；values：值\n",
    "    #在键为name的列表头添加值为value的元素，可以传多个\n",
    "    redis_conn.lpush(f\"user_visit_{uid}\",str(article_id))\n",
    "   \n",
    "    #3.Set结构，记录uid的全站集合  向健为all_visit_uids的集合添加str(uid)内容，且不会重复\n",
    "    #向键为name的集合中添加元素\n",
    "    redis_conn.sadd(\"all_visit_uids\",str(uid))\n",
    "    \n",
    "    #4.SortedSet结构，文章的热度加1\n",
    "    #键为article_hots的zset中str(article_id)+1\n",
    "    redis_conn.zincrby(\"article_hots\",1,str(article_id))"
   ]
  },
  {
   "cell_type": "code",
   "execution_count": 69,
   "metadata": {},
   "outputs": [],
   "source": [
    "#模拟三个用户的访问记录\n",
    "user_visit('uid_01',\"101\")\n",
    "user_visit('uid_01',\"102\")\n",
    "user_visit('uid_01',\"103\")\n",
    "\n",
    "user_visit('uid_02',\"104\")\n",
    "user_visit('uid_02',\"102\")\n",
    "user_visit('uid_02',\"103\")\n",
    "\n",
    "user_visit('uid_03',\"103\")\n",
    "user_visit('uid_03',\"104\")\n",
    "user_visit('uid_03',\"105\")"
   ]
  },
  {
   "cell_type": "markdown",
   "metadata": {},
   "source": [
    "### 4.查询文章的访问次数"
   ]
  },
  {
   "cell_type": "code",
   "execution_count": 40,
   "metadata": {},
   "outputs": [
    {
     "name": "stdout",
     "output_type": "stream",
     "text": [
      "1\n"
     ]
    }
   ],
   "source": [
    "print(redis_conn.get(f\"article_counter_105\"))"
   ]
  },
  {
   "cell_type": "code",
   "execution_count": 42,
   "metadata": {},
   "outputs": [
    {
     "name": "stdout",
     "output_type": "stream",
     "text": [
      "2\n"
     ]
    }
   ],
   "source": [
    "print(redis_conn.get(f\"article_counter_104\"))"
   ]
  },
  {
   "cell_type": "markdown",
   "metadata": {},
   "source": [
    "### 5.展示一个用户的访问历史"
   ]
  },
  {
   "cell_type": "code",
   "execution_count": 43,
   "metadata": {},
   "outputs": [
    {
     "name": "stdout",
     "output_type": "stream",
     "text": [
      "['103', '102', '101']\n"
     ]
    }
   ],
   "source": [
    "print(redis_conn.lrange(\"user_visit_uid_01\",0,-1))"
   ]
  },
  {
   "cell_type": "code",
   "execution_count": 44,
   "metadata": {},
   "outputs": [
    {
     "name": "stdout",
     "output_type": "stream",
     "text": [
      "['103', '102', '104']\n"
     ]
    }
   ],
   "source": [
    "print(redis_conn.lrange(\"user_visit_uid_02\",0,-1))"
   ]
  },
  {
   "cell_type": "markdown",
   "metadata": {},
   "source": [
    "### 6.展示访问全站的用户集合"
   ]
  },
  {
   "cell_type": "code",
   "execution_count": 47,
   "metadata": {},
   "outputs": [
    {
     "name": "stdout",
     "output_type": "stream",
     "text": [
      "{'uid_03', 'uid_02', 'uid_01'}\n"
     ]
    }
   ],
   "source": [
    "print(redis_conn.smembers(\"all_visit_uids\"))"
   ]
  },
  {
   "cell_type": "markdown",
   "metadata": {},
   "source": [
    "### 7.展示文章热版以及热度"
   ]
  },
  {
   "cell_type": "code",
   "execution_count": 48,
   "metadata": {},
   "outputs": [
    {
     "name": "stdout",
     "output_type": "stream",
     "text": [
      "[('103', 3.0), ('104', 2.0), ('102', 2.0), ('105', 1.0), ('101', 1.0)]\n"
     ]
    }
   ],
   "source": [
    "print(redis_conn.zrange(\"article_hots\",0,-1,withscores=True,desc=True))"
   ]
  }
 ],
 "metadata": {
  "kernelspec": {
   "display_name": "Python 3",
   "language": "python",
   "name": "python3"
  },
  "language_info": {
   "codemirror_mode": {
    "name": "ipython",
    "version": 3
   },
   "file_extension": ".py",
   "mimetype": "text/x-python",
   "name": "python",
   "nbconvert_exporter": "python",
   "pygments_lexer": "ipython3",
   "version": "3.8.5"
  }
 },
 "nbformat": 4,
 "nbformat_minor": 4
}
