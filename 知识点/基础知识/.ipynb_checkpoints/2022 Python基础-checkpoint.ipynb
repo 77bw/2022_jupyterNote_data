{
 "cells": [
  {
   "cell_type": "markdown",
   "metadata": {},
   "source": [
    "迭代：\n",
    "迭代是通过重复执行的代码处理相似的数据集的过程，并且本次迭代的处理数据要依赖上一次的结果继续往下做，上一次产生的结果为下一次产生结果的初始状态，如果中途有任何停顿，都不能算是迭代。\n",
    "\n",
    "range(),是当你迭代它的时候，它是一个能够像期望的序列返回连续的对象，我们称这类对象是可迭代的。\n",
    "for语句，list()函数就是一个迭代器。\n",
    "迭代器是一个可以记住遍历位置的对象，因此不会像列表那样一次性全部生成，而是可以等到用的时候才生成，因此节省了大量的内存资源。迭代器对象从集合中的第一个元素开始访问，直到所有的元素被访问完。迭代器有两个方法：iter（）和next（）方法。"
   ]
  },
  {
   "cell_type": "code",
   "execution_count": 3,
   "metadata": {},
   "outputs": [
    {
     "name": "stdout",
     "output_type": "stream",
     "text": [
      "0\n",
      "3\n",
      "6\n",
      "9\n",
      "[0, 1, 2, 3]\n"
     ]
    }
   ],
   "source": [
    "for i in range(0,10,3):\n",
    "    print(i)\n",
    "a=list(range(0,4))\n",
    "print(a)"
   ]
  },
  {
   "cell_type": "code",
   "execution_count": null,
   "metadata": {},
   "outputs": [],
   "source": [
    "可变参数的传递"
   ]
  },
  {
   "cell_type": "code",
   "execution_count": 7,
   "metadata": {},
   "outputs": [
    {
     "data": {
      "text/plain": [
       "[3, 4, 5]"
      ]
     },
     "execution_count": 7,
     "metadata": {},
     "output_type": "execute_result"
    }
   ],
   "source": [
    "args = [3, 6]\n",
    "list(range(*args))            #这个方式可以直接将一个列表的所有元素当作不定参数\n"
   ]
  },
  {
   "cell_type": "code",
   "execution_count": 6,
   "metadata": {},
   "outputs": [
    {
     "name": "stdout",
     "output_type": "stream",
     "text": [
      "([2, 4, 6],)\n",
      "(1, 2, 3)\n",
      "<class 'tuple'>\n"
     ]
    }
   ],
   "source": [
    "def func(*args):\n",
    "    return  args\n",
    "x=func([2,4,6])\n",
    "print(x)\n",
    "a=func(*[1,2,3])  #这个方式可以直接将一个列表的所有元素当作不定参数  传入(1, 2, 3)\n",
    "print(a)\n",
    "print(type(a))"
   ]
  },
  {
   "cell_type": "code",
   "execution_count": 9,
   "metadata": {},
   "outputs": [
    {
     "name": "stdout",
     "output_type": "stream",
     "text": [
      "{'a': 1, 'b': 2, 'c': 3}\n",
      "<class 'dict'>\n"
     ]
    }
   ],
   "source": [
    "def func(**kwargs):\n",
    "    return kwargs\n",
    "# func(a=1,b=2)\n",
    "a=func(**{'a':1, 'b':2, 'c':3})   #这个方式可以直接将一个字典的所有键值对当作关键字参数传入\n",
    "print(a)\n",
    "print(type(a))"
   ]
  },
  {
   "cell_type": "markdown",
   "metadata": {},
   "source": [
    "运算符：//整除   %取余  **幂  比较值相等==  赋值运输 a+=b 等价于 a=a+b\n"
   ]
  },
  {
   "cell_type": "code",
   "execution_count": 11,
   "metadata": {},
   "outputs": [
    {
     "name": "stdout",
     "output_type": "stream",
     "text": [
      "ython\n",
      "py\n",
      "nohtyp\n"
     ]
    }
   ],
   "source": [
    "#字符串\n",
    "s=\"python\"\n",
    "print(s[1:]) #冒号后可以省略，表示从1开始后面的全部取\n",
    "print(s[:2]) #冒号前可以省略，表示从0开始到2但2不取\n",
    "print(s[::-1]) #取该字符串的逆序"
   ]
  },
  {
   "cell_type": "markdown",
   "metadata": {},
   "source": [
    "### 列表：map()函数 第一个参数接受一个函数名，后面的参数接受一个或多个可迭代的序列，返回的是一个集合。\n",
    "### 把函数依次作用在list中的每一个元素上，得到一个新的list并返回。注意，map不改变原list，而是返回一个新list。"
   ]
  },
  {
   "cell_type": "code",
   "execution_count": 17,
   "metadata": {},
   "outputs": [
    {
     "name": "stdout",
     "output_type": "stream",
     "text": [
      "[0, 1, 4, 9, 16, 25, 36, 49, 64, 81]\n",
      "[1, 2, 3]\n",
      "[1, 2, 3, 4]\n",
      "[1, 2, 3]\n"
     ]
    }
   ],
   "source": [
    "squares = list(map(lambda x: x**2, range(10)))   #等价于[x**2 for x in range(10)]\n",
    "print(squares)\n",
    "a=list(map(int,(1,2,3))) #元组转换为list：\n",
    "print(a)\n",
    "\n",
    "b=list(map(int,'1234'))  #字符串转换为list：\n",
    "print(b)\n",
    "\n",
    "c=list(map(int,{1:2,2:3,3:4}))  #提取字典中的key，并将结果放在一个list中：\n",
    "print(c)"
   ]
  },
  {
   "cell_type": "code",
   "execution_count": 28,
   "metadata": {},
   "outputs": [
    {
     "name": "stdout",
     "output_type": "stream",
     "text": [
      "[[1, 5, 9], [2, 6, 10], [3, 7, 11], [4, 8, 12]]\n",
      "[[1, 5, 9], [2, 6, 10], [3, 7, 11], [4, 8, 12]]\n",
      "[(1, 5, 9), (2, 6, 10), (3, 7, 11), (4, 8, 12)]\n"
     ]
    }
   ],
   "source": [
    "#zip()函数zip函数的原型为：zip([iterable, …])   参数iterable为可迭代的对象，并且可以有多个参数。该函数返回一个以元组为元素的列表\n",
    "\n",
    "#1\n",
    "matrix = [ [1, 2, 3, 4], [5, 6, 7, 8],[9, 10, 11, 12] ]\n",
    "#交换行和列，可以用嵌套的列表推导式:\n",
    "a=[  [x[i] for x in matrix] for i in range(4)]\n",
    "print(a)\n",
    "\n",
    "#2\n",
    "transposed = []\n",
    "for i in range(4):\n",
    "    transposed.append([row[i] for row in matrix])\n",
    "print(transposed)\n",
    "\n",
    "\n",
    "#3\n",
    "b=list(zip(*matrix))\n",
    "print(b)"
   ]
  }
 ],
 "metadata": {
  "kernelspec": {
   "display_name": "Python 3",
   "language": "python",
   "name": "python3"
  },
  "language_info": {
   "codemirror_mode": {
    "name": "ipython",
    "version": 3
   },
   "file_extension": ".py",
   "mimetype": "text/x-python",
   "name": "python",
   "nbconvert_exporter": "python",
   "pygments_lexer": "ipython3",
   "version": "3.8.5"
  }
 },
 "nbformat": 4,
 "nbformat_minor": 5
}
