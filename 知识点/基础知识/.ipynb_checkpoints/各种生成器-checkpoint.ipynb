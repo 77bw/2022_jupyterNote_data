{
 "cells": [
  {
   "cell_type": "markdown",
   "id": "c80e8cc0",
   "metadata": {},
   "source": [
    "## 1.闭包和嵌套函数\n",
    "如果在一个函数的内部还定义了另一个函数(注意: 是定义，不是引用!），这个函数就叫嵌套函数。外部的我们叫它外函数，内部的我们叫他内函数。\n"
   ]
  },
  {
   "cell_type": "code",
   "execution_count": 4,
   "id": "b0f5e3f0",
   "metadata": {},
   "outputs": [
    {
     "name": "stdout",
     "output_type": "stream",
     "text": [
      "11\n"
     ]
    }
   ],
   "source": [
    "def outer(x):\n",
    "    a = x\n",
    "\n",
    "    def inner(y):\n",
    "        b = y\n",
    "        print(a+b)\n",
    "\n",
    "    return inner\n",
    "\n",
    "f1 = outer(1) # 返回inner函数对象+局部变量1(闭包)\n",
    "f1(10) # 相当于inner(10)。输出11\n",
    "\n",
    "# 我们的outer方法返回的只是内函数对象吗? 错。我们的outer函数返回的实际上是一个由inner函数和外部引用变量(a)组成的闭包!\n",
    "# 一般一个函数运行结束的时候，临时变量会被销毁。但是闭包是一个特别的情况。当外函数发现，自己的临时变量会在将来的内函数中用到，\n",
    "# 自己在结束的时候，返回内函数的同时，会把外函数的临时变量同内函数绑定在一起。这样即使外函数已经结束了，内函数仍然能够使用外函数的临时变量。\n",
    "# 这就是闭包的强大之处。\n"
   ]
  },
  {
   "cell_type": "markdown",
   "id": "f7fe62a9",
   "metadata": {},
   "source": [
    "## 2.装饰器\n",
    "由于Python装饰器的工作原理主要依赖于嵌套函数和闭包"
   ]
  },
  {
   "cell_type": "code",
   "execution_count": 5,
   "id": "c4eec1ee",
   "metadata": {},
   "outputs": [
    {
     "name": "stdout",
     "output_type": "stream",
     "text": [
      "hello\n",
      "world\n"
     ]
    }
   ],
   "source": [
    "import time\n",
    "def func():\n",
    "    print(\"hello\")\n",
    "    time.sleep(1)\n",
    "    print(\"world\")\n",
    "func()"
   ]
  },
  {
   "cell_type": "code",
   "execution_count": 6,
   "id": "8f35141f",
   "metadata": {},
   "outputs": [
    {
     "name": "stdout",
     "output_type": "stream",
     "text": [
      "hello\n",
      "world\n",
      "time is 1001 ms\n"
     ]
    }
   ],
   "source": [
    "#原始侵入，篡改原函数\n",
    "import time\n",
    "def func():\n",
    "    startTime = time.time()\n",
    "    \n",
    "    print(\"hello\")\n",
    "    time.sleep(1)\n",
    "    print(\"world\")\n",
    "    endTime = time.time()\n",
    "    \n",
    "    msecs = (endTime - startTime)*1000\n",
    "    print(\"time is %d ms\" %msecs)\n",
    "func()\n"
   ]
  },
  {
   "cell_type": "code",
   "execution_count": 7,
   "id": "07fca628",
   "metadata": {},
   "outputs": [
    {
     "name": "stdout",
     "output_type": "stream",
     "text": [
      "hello，here is a func for add :\n",
      "result is 7\n",
      "time is 1001 ms\n"
     ]
    }
   ],
   "source": [
    "#带有参数的装饰器\n",
    "import time\n",
    "\n",
    "def deco(func):\n",
    "    def wrapper(a,b):\n",
    "        startTime = time.time()\n",
    "        func(a,b)\n",
    "        endTime = time.time()\n",
    "        msecs = (endTime - startTime)*1000\n",
    "        print(\"time is %d ms\" % msecs)\n",
    "    return wrapper\n",
    "\n",
    "\n",
    "@deco\n",
    "def func(a,b):\n",
    "    print(\"hello，here is a func for add :\")\n",
    "    time.sleep(1)\n",
    "    print(\"result is %d\" %(a+b))\n",
    "\n",
    "if __name__ == '__main__':\n",
    "    f = func\n",
    "    f(3,4)\n",
    "    #func()\n"
   ]
  },
  {
   "cell_type": "code",
   "execution_count": 9,
   "id": "3e720c75",
   "metadata": {},
   "outputs": [
    {
     "name": "stdout",
     "output_type": "stream",
     "text": [
      "1 2 (3, 4) {'a': 1}\n"
     ]
    }
   ],
   "source": [
    "# *argss  可以传入任意个参数(以元组的形式返回)\n",
    "# **kwargs  以键值对字典的形式向函数传入函数（以字典的形式返回）\n",
    "\n",
    "def test(x,y,*a,**b):\n",
    "    print(x,y,a,b)\n",
    "\n",
    "test(1,2,3,4,a=1)"
   ]
  },
  {
   "cell_type": "code",
   "execution_count": 8,
   "id": "53e95bb1",
   "metadata": {},
   "outputs": [
    {
     "name": "stdout",
     "output_type": "stream",
     "text": [
      "hello，here is a func for add :\n",
      "result is 12\n",
      "time is 1002 ms\n",
      "hello，here is a func for add :\n",
      "result is 7\n",
      "time is 1001 ms\n"
     ]
    }
   ],
   "source": [
    "#带有不定参数的装饰器\n",
    "import time\n",
    "\n",
    "def deco(func):\n",
    "    def wrapper(*args, **kwargs):  #(*args  设置传入多个参数)\n",
    "        startTime = time.time()\n",
    "        func(*args, **kwargs)\n",
    "        endTime = time.time()\n",
    "        msecs = (endTime - startTime)*1000\n",
    "        print(\"time is %d ms\" %msecs)\n",
    "    return wrapper\n",
    "\n",
    "\n",
    "@deco\n",
    "def func(a,b):\n",
    "    print(\"hello，here is a func for add :\")\n",
    "    time.sleep(1)\n",
    "    print(\"result is %d\" %(a+b))\n",
    "\n",
    "@deco\n",
    "def func2(a,b,c):\n",
    "    print(\"hello，here is a func for add :\")\n",
    "    time.sleep(1)\n",
    "    print(\"result is %d\" %(a+b+c))\n",
    "\n",
    "\n",
    "if __name__ == '__main__':\n",
    "    f = func\n",
    "    func2(3,4,5)\n",
    "    f(3,4)\n",
    "    #func()\n"
   ]
  },
  {
   "cell_type": "code",
   "execution_count": 10,
   "id": "a6a71072",
   "metadata": {},
   "outputs": [
    {
     "name": "stdout",
     "output_type": "stream",
     "text": [
      "this is deco01\n",
      "this is deco02\n",
      "hello，here is a func for add :\n",
      "result is 7\n",
      "deco02 end here\n",
      "time is 1000 ms\n",
      "deco01 end here\n"
     ]
    },
    {
     "data": {
      "text/plain": [
       "'\\nthis is deco01\\nthis is deco02\\nhello，here is a func for add :\\nresult is 7\\ndeco02 end here\\ntime is 1003 ms\\ndeco01 end here\\n'"
      ]
     },
     "execution_count": 10,
     "metadata": {},
     "output_type": "execute_result"
    }
   ],
   "source": [
    "#多个装饰器\n",
    "\n",
    "import time\n",
    "\n",
    "def deco01(func):\n",
    "    def wrapper(*args, **kwargs):\n",
    "        print(\"this is deco01\")\n",
    "        startTime = time.time()\n",
    "        func(*args, **kwargs)\n",
    "        endTime = time.time()\n",
    "        msecs = (endTime - startTime)*1000\n",
    "        print(\"time is %d ms\" %msecs)\n",
    "        print(\"deco01 end here\")\n",
    "    return wrapper\n",
    "\n",
    "def deco02(func):\n",
    "    def wrapper(*args, **kwargs):\n",
    "        print(\"this is deco02\")\n",
    "        func(*args, **kwargs)\n",
    "\n",
    "        print(\"deco02 end here\")\n",
    "    return wrapper\n",
    "\n",
    "@deco01\n",
    "@deco02\n",
    "def func(a,b):\n",
    "    print(\"hello，here is a func for add :\")\n",
    "    time.sleep(1)\n",
    "    print(\"result is %d\" %(a+b))\n",
    "\n",
    "\n",
    "\n",
    "if __name__ == '__main__':\n",
    "    f = func\n",
    "    f(3,4)\n",
    "    #func()\n",
    "\n",
    "'''\n",
    "this is deco01\n",
    "this is deco02\n",
    "hello，here is a func for add :\n",
    "result is 7\n",
    "deco02 end here\n",
    "time is 1003 ms\n",
    "deco01 end here\n",
    "'''\n"
   ]
  },
  {
   "cell_type": "code",
   "execution_count": 11,
   "id": "4472feb1",
   "metadata": {},
   "outputs": [
    {
     "name": "stdout",
     "output_type": "stream",
     "text": [
      "aaaa\n",
      "1111\n",
      "2222\n",
      "bbbb\n",
      "test test\n",
      "cccc\n",
      "3333\n"
     ]
    }
   ],
   "source": [
    "def dec1(func):  \n",
    "    print(\"1111\")  \n",
    "    def one():  \n",
    "        print(\"2222\")  \n",
    "        func()  \n",
    "        print(\"3333\")  \n",
    "    return one  \n",
    "  \n",
    "def dec2(func):  \n",
    "    print(\"aaaa\")  \n",
    "    def two():  \n",
    "        print(\"bbbb\")  \n",
    "        func()  \n",
    "        print(\"cccc\")  \n",
    "    return two  \n",
    " \n",
    "@dec1  \n",
    "@dec2  \n",
    "def test():  \n",
    "    print(\"test test\")    #多个装饰器执行的顺序就是从最后一个装饰器开始，执行到第一个装饰器，再执行函数本身。\n",
    "  \n",
    "test()  \n"
   ]
  },
  {
   "cell_type": "markdown",
   "id": "a888d638",
   "metadata": {},
   "source": [
    "## 3.迭代器、生成器、可迭代对象的介绍"
   ]
  },
  {
   "cell_type": "code",
   "execution_count": 12,
   "id": "607e4d99",
   "metadata": {},
   "outputs": [
    {
     "name": "stdout",
     "output_type": "stream",
     "text": [
      "1\n",
      "2\n"
     ]
    }
   ],
   "source": [
    "#  1）迭代器类型的定义：\n",
    "#       当类中定义了 __iter__ 和 __next__ 两个方法\n",
    "#       __iter__方法需要返回对象本身，即self\n",
    "#       __next__ 方法，返回下一个数据，如果没有数据，则需要抛出一个 StopIteration的异常  （Iteration翻译为迭代）\n",
    "    \n",
    "    \n",
    "# 创建迭代器类型：\n",
    "class IT():\n",
    "    def __init__(self):\n",
    "        self.counter=0\n",
    "\n",
    "    def __iter__(self):\n",
    "        return self\n",
    "\n",
    "    def __next__(self):\n",
    "        self.counter +=1\n",
    "        if self.counter ==3:\n",
    "            raise StopIteration()\n",
    "        return self.counter\n",
    "        \n",
    "#根据类实例化创建一个迭代器对象：\n",
    "obj=IT()\n",
    "\n",
    "# v1=obj.__next__()\n",
    "# v2=obj.__next__()\n",
    "# print(v1,v2)\n",
    "\n",
    "# v1=next(obj) #相当于 obj.__next__()\n",
    "# print(v1)\n",
    "\n",
    "# v2=next(obj) #相当于 obj.__next__()\n",
    "# print(v2)\n",
    "\n",
    "obj1=IT()\n",
    "for item in obj1: #首先会执行迭代器对象的_iter__方法并获取返回值，一直去反复的执行next(对象)\n",
    "    print(item)\n",
    "\n",
    "# 逸代器对象支持通过next取值，如果取值结束则自动抛出stopiteration,\n",
    "# for循环内部在循环时，先执行_iter_方法,获取一个迭代器对象，然后不断执行的next取值（有异常StopIteration则终止循环)"
   ]
  },
  {
   "cell_type": "code",
   "execution_count": 13,
   "id": "d4691215",
   "metadata": {
    "scrolled": true
   },
   "outputs": [
    {
     "name": "stdout",
     "output_type": "stream",
     "text": [
      "1\n",
      "2\n"
     ]
    },
    {
     "ename": "StopIteration",
     "evalue": "",
     "output_type": "error",
     "traceback": [
      "\u001b[1;31m---------------------------------------------------------------------------\u001b[0m",
      "\u001b[1;31mStopIteration\u001b[0m                             Traceback (most recent call last)",
      "\u001b[1;32m~\\AppData\\Local\\Temp/ipykernel_13352/2154522702.py\u001b[0m in \u001b[0;36m<module>\u001b[1;34m\u001b[0m\n\u001b[0;32m     13\u001b[0m \u001b[0mprint\u001b[0m\u001b[1;33m(\u001b[0m\u001b[0mv2\u001b[0m\u001b[1;33m)\u001b[0m\u001b[1;33m\u001b[0m\u001b[1;33m\u001b[0m\u001b[0m\n\u001b[0;32m     14\u001b[0m \u001b[1;33m\u001b[0m\u001b[0m\n\u001b[1;32m---> 15\u001b[1;33m \u001b[0mv3\u001b[0m\u001b[1;33m=\u001b[0m\u001b[0mnext\u001b[0m\u001b[1;33m(\u001b[0m\u001b[0mobj1\u001b[0m\u001b[1;33m)\u001b[0m\u001b[1;33m\u001b[0m\u001b[1;33m\u001b[0m\u001b[0m\n\u001b[0m\u001b[0;32m     16\u001b[0m \u001b[0mprint\u001b[0m\u001b[1;33m(\u001b[0m\u001b[0mv3\u001b[0m\u001b[1;33m)\u001b[0m\u001b[1;33m\u001b[0m\u001b[1;33m\u001b[0m\u001b[0m\n\u001b[0;32m     17\u001b[0m \u001b[1;33m\u001b[0m\u001b[0m\n",
      "\u001b[1;31mStopIteration\u001b[0m: "
     ]
    }
   ],
   "source": [
    "# 2)生成器\n",
    "\n",
    "def func():\n",
    "    yield 1\n",
    "    yield 2\n",
    "\n",
    "# 创建生成器对象（内部是根据生成器类generator创建的对象)，生成器类的内部也声明了:_iter_、_next_方法。\n",
    "obj1=func()\n",
    "v1=next(obj1)\n",
    "print(v1)\n",
    "\n",
    "v2=next(obj1)\n",
    "print(v2)\n",
    "\n",
    "v3=next(obj1)\n",
    "print(v3)\n",
    "    \n",
    "# 如果按照迭代器的规定来看，其实生成器类面是一种特殊的迭代器类（生成器也是一个中特殊的迭代器)    "
   ]
  },
  {
   "cell_type": "code",
   "execution_count": 14,
   "id": "c58b0e9e",
   "metadata": {},
   "outputs": [
    {
     "ename": "SyntaxError",
     "evalue": "invalid character in identifier (Temp/ipykernel_13352/2932171383.py, line 7)",
     "output_type": "error",
     "traceback": [
      "\u001b[1;36m  File \u001b[1;32m\"C:\\Users\\bw\\AppData\\Local\\Temp/ipykernel_13352/2932171383.py\"\u001b[1;36m, line \u001b[1;32m7\u001b[0m\n\u001b[1;33m    return 迭代器对象（生成器对象)\u001b[0m\n\u001b[1;37m                     ^\u001b[0m\n\u001b[1;31mSyntaxError\u001b[0m\u001b[1;31m:\u001b[0m invalid character in identifier\n"
     ]
    }
   ],
   "source": [
    "#3）可迭代对象\n",
    "\n",
    "#如果一个类中有_iter_方法且返回一个迭代器对象﹔则我们称以这个类创建的对象为可迭代对象。\n",
    "class Foo( object ):\n",
    "    \n",
    "    def _iter__(self):\n",
    "        return 迭代器对象（生成器对象)\n",
    "\n",
    "obj = Foo()#obj是可迭代对象。\n",
    "\n",
    "#可迭代对象是可以使用for来进行循环，在循环的内部其实是先执行_iter_方法，获取其迭代器对象，然后再在内部执行这个迭代器对象的next功能，逐步取值。\n",
    "for item in obj:\n",
    "    pass"
   ]
  },
  {
   "cell_type": "code",
   "execution_count": 15,
   "id": "4a7a3133",
   "metadata": {},
   "outputs": [
    {
     "name": "stdout",
     "output_type": "stream",
     "text": [
      "1\n",
      "2\n"
     ]
    }
   ],
   "source": [
    "# 4)一般可迭代器对象跟迭代器都是共同使用的\n",
    "class IT():\n",
    "    def __init__(self):\n",
    "        self.counter=0\n",
    "\n",
    "    def __iter__(self):\n",
    "        return self\n",
    "\n",
    "    def __next__(self):\n",
    "        self.counter +=1\n",
    "        if self.counter ==3:\n",
    "            raise StopIteration()\n",
    "        return self.counter\n",
    "    \n",
    "class Foo():\n",
    "    def __iter__(self):\n",
    "        return IT()\n",
    "    \n",
    "obj=Foo() #可迭代对象\n",
    "\n",
    "for item in obj:  #循环可迭代对象时，内部先执行obj._iter_并获取迭代器对象;不断地执行迭代器对象的next方法。\n",
    "    print(item)"
   ]
  }
 ],
 "metadata": {
  "kernelspec": {
   "display_name": "Python 3 (ipykernel)",
   "language": "python",
   "name": "python3"
  },
  "language_info": {
   "codemirror_mode": {
    "name": "ipython",
    "version": 3
   },
   "file_extension": ".py",
   "mimetype": "text/x-python",
   "name": "python",
   "nbconvert_exporter": "python",
   "pygments_lexer": "ipython3",
   "version": "3.8.5"
  }
 },
 "nbformat": 4,
 "nbformat_minor": 5
}
