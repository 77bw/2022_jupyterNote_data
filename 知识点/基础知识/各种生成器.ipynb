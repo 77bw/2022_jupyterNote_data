{
 "cells": [
  {
   "cell_type": "markdown",
   "metadata": {},
   "source": [
    "## 1.闭包和嵌套函数\n",
    "如果在一个函数的内部还定义了另一个函数(注意: 是定义，不是引用!），这个函数就叫嵌套函数。外部的我们叫它外函数，内部的我们叫他内函数。\n"
   ]
  },
  {
   "cell_type": "code",
   "execution_count": 10,
   "metadata": {},
   "outputs": [
    {
     "data": {
      "text/plain": [
       "7.5"
      ]
     },
     "execution_count": 10,
     "metadata": {},
     "output_type": "execute_result"
    }
   ],
   "source": [
    "# 闭包：通过闭包可以创建一些只有当前函数能访问的变量  可以将一些私有的数据藏到的闭包中\n",
    "#形成闭包的条件：\n",
    "#     1.函数嵌套\n",
    "#     2.将内部函数作为返回值返回\n",
    "#     3.内部函数必须使用到外部函数的变量\n",
    "\n",
    "def make_average():\n",
    "    nums=[]\n",
    "    def average(n):\n",
    "        nums.append(n)\n",
    "        return sum(nums)/len(nums)\n",
    "    return average\n",
    "\n",
    "a=make_average()  #a是一个函数，是调用make_average()返回后的average函数，这个函数实在make_average内部定义的，而且这个函数能访问到make_average的变量\n",
    "a(5)\n",
    "a(10)\n",
    "        "
   ]
  },
  {
   "cell_type": "code",
   "execution_count": 4,
   "metadata": {},
   "outputs": [
    {
     "name": "stdout",
     "output_type": "stream",
     "text": [
      "11\n"
     ]
    }
   ],
   "source": [
    "def outer(x):\n",
    "    a = x\n",
    "\n",
    "    def inner(y):\n",
    "        b = y\n",
    "        print(a+b)\n",
    "\n",
    "    return inner\n",
    "\n",
    "f1 = outer(1) # 返回inner函数对象+局部变量1(闭包)\n",
    "f1(10) # 相当于inner(10)。输出11\n",
    "\n",
    "# 我们的outer方法返回的只是内函数对象吗? 错。我们的outer函数返回的实际上是一个由inner函数和外部引用变量(a)组成的闭包!\n",
    "# 一般一个函数运行结束的时候，临时变量会被销毁。但是闭包是一个特别的情况。当外函数发现，自己的临时变量会在将来的内函数中用到，\n",
    "# 自己在结束的时候，返回内函数的同时，会把外函数的临时变量同内函数绑定在一起。这样即使外函数已经结束了，内函数仍然能够使用外函数的临时变量。\n",
    "# 这就是闭包的强大之处。\n"
   ]
  },
  {
   "cell_type": "markdown",
   "metadata": {},
   "source": [
    "## 2.装饰器\n",
    "由于Python装饰器的工作原理主要依赖于嵌套函数和闭包"
   ]
  },
  {
   "cell_type": "code",
   "execution_count": 5,
   "metadata": {},
   "outputs": [
    {
     "name": "stdout",
     "output_type": "stream",
     "text": [
      "hello\n",
      "world\n"
     ]
    }
   ],
   "source": [
    "import time\n",
    "def func():\n",
    "    print(\"hello\")\n",
    "    time.sleep(1)\n",
    "    print(\"world\")\n",
    "func()"
   ]
  },
  {
   "cell_type": "code",
   "execution_count": 6,
   "metadata": {},
   "outputs": [
    {
     "name": "stdout",
     "output_type": "stream",
     "text": [
      "hello\n",
      "world\n",
      "time is 1001 ms\n"
     ]
    }
   ],
   "source": [
    "#原始侵入，篡改原函数\n",
    "import time\n",
    "def func():\n",
    "    startTime = time.time()\n",
    "    \n",
    "    print(\"hello\")\n",
    "    time.sleep(1)\n",
    "    print(\"world\")\n",
    "    endTime = time.time()\n",
    "    \n",
    "    msecs = (endTime - startTime)*1000\n",
    "    print(\"time is %d ms\" %msecs)\n",
    "func()\n"
   ]
  },
  {
   "cell_type": "code",
   "execution_count": 7,
   "metadata": {},
   "outputs": [
    {
     "name": "stdout",
     "output_type": "stream",
     "text": [
      "hello，here is a func for add :\n",
      "result is 7\n",
      "time is 1001 ms\n"
     ]
    }
   ],
   "source": [
    "#带有参数的装饰器\n",
    "import time\n",
    "\n",
    "def deco(func):\n",
    "    def wrapper(a,b):\n",
    "        startTime = time.time()\n",
    "        func(a,b)\n",
    "        endTime = time.time()\n",
    "        msecs = (endTime - startTime)*1000\n",
    "        print(\"time is %d ms\" % msecs)\n",
    "    return wrapper\n",
    "\n",
    "\n",
    "@deco\n",
    "def func(a,b):\n",
    "    print(\"hello，here is a func for add :\")\n",
    "    time.sleep(1)\n",
    "    print(\"result is %d\" %(a+b))\n",
    "\n",
    "if __name__ == '__main__':\n",
    "    f = func\n",
    "    f(3,4)\n",
    "    #func()\n"
   ]
  },
  {
   "cell_type": "code",
   "execution_count": 9,
   "metadata": {},
   "outputs": [
    {
     "name": "stdout",
     "output_type": "stream",
     "text": [
      "1 2 (3, 4) {'a': 1}\n"
     ]
    }
   ],
   "source": [
    "# *argss  可以传入任意个参数(以元组的形式返回)\n",
    "# **kwargs  以键值对字典的形式向函数传入函数（以字典的形式返回）\n",
    "\n",
    "def test(x,y,*a,**b):\n",
    "    print(x,y,a,b)\n",
    "\n",
    "test(1,2,3,4,a=1)"
   ]
  },
  {
   "cell_type": "code",
   "execution_count": 8,
   "metadata": {},
   "outputs": [
    {
     "name": "stdout",
     "output_type": "stream",
     "text": [
      "hello，here is a func for add :\n",
      "result is 12\n",
      "time is 1002 ms\n",
      "hello，here is a func for add :\n",
      "result is 7\n",
      "time is 1001 ms\n"
     ]
    }
   ],
   "source": [
    "#带有不定参数的装饰器\n",
    "import time\n",
    "\n",
    "def deco(func):\n",
    "    def wrapper(*args, **kwargs):  #(*args  设置传入多个参数)\n",
    "        startTime = time.time()\n",
    "        func(*args, **kwargs)\n",
    "        endTime = time.time()\n",
    "        msecs = (endTime - startTime)*1000\n",
    "        print(\"time is %d ms\" %msecs)\n",
    "    return wrapper\n",
    "\n",
    "\n",
    "@deco\n",
    "def func(a,b):\n",
    "    print(\"hello，here is a func for add :\")\n",
    "    time.sleep(1)\n",
    "    print(\"result is %d\" %(a+b))\n",
    "\n",
    "@deco\n",
    "def func2(a,b,c):\n",
    "    print(\"hello，here is a func for add :\")\n",
    "    time.sleep(1)\n",
    "    print(\"result is %d\" %(a+b+c))\n",
    "\n",
    "\n",
    "if __name__ == '__main__':\n",
    "    f = func\n",
    "    func2(3,4,5)\n",
    "    f(3,4)\n",
    "    #func()\n"
   ]
  },
  {
   "cell_type": "code",
   "execution_count": 10,
   "metadata": {},
   "outputs": [
    {
     "name": "stdout",
     "output_type": "stream",
     "text": [
      "this is deco01\n",
      "this is deco02\n",
      "hello，here is a func for add :\n",
      "result is 7\n",
      "deco02 end here\n",
      "time is 1000 ms\n",
      "deco01 end here\n"
     ]
    },
    {
     "data": {
      "text/plain": [
       "'\\nthis is deco01\\nthis is deco02\\nhello，here is a func for add :\\nresult is 7\\ndeco02 end here\\ntime is 1003 ms\\ndeco01 end here\\n'"
      ]
     },
     "execution_count": 10,
     "metadata": {},
     "output_type": "execute_result"
    }
   ],
   "source": [
    "#多个装饰器\n",
    "\n",
    "import time\n",
    "\n",
    "def deco01(func):\n",
    "    def wrapper(*args, **kwargs):\n",
    "        print(\"this is deco01\")\n",
    "        startTime = time.time()\n",
    "        func(*args, **kwargs)\n",
    "        endTime = time.time()\n",
    "        msecs = (endTime - startTime)*1000\n",
    "        print(\"time is %d ms\" %msecs)\n",
    "        print(\"deco01 end here\")\n",
    "    return wrapper\n",
    "\n",
    "def deco02(func):\n",
    "    def wrapper(*args, **kwargs):\n",
    "        print(\"this is deco02\")\n",
    "        func(*args, **kwargs)\n",
    "\n",
    "        print(\"deco02 end here\")\n",
    "    return wrapper\n",
    "\n",
    "@deco01\n",
    "@deco02\n",
    "def func(a,b):\n",
    "    print(\"hello，here is a func for add :\")\n",
    "    time.sleep(1)\n",
    "    print(\"result is %d\" %(a+b))\n",
    "\n",
    "\n",
    "\n",
    "if __name__ == '__main__':\n",
    "    f = func\n",
    "    f(3,4)\n",
    "    #func()\n",
    "\n",
    "'''\n",
    "this is deco01\n",
    "this is deco02\n",
    "hello，here is a func for add :\n",
    "result is 7\n",
    "deco02 end here\n",
    "time is 1003 ms\n",
    "deco01 end here\n",
    "'''\n"
   ]
  },
  {
   "cell_type": "code",
   "execution_count": 11,
   "metadata": {},
   "outputs": [
    {
     "name": "stdout",
     "output_type": "stream",
     "text": [
      "aaaa\n",
      "1111\n",
      "2222\n",
      "bbbb\n",
      "test test\n",
      "cccc\n",
      "3333\n"
     ]
    }
   ],
   "source": [
    "def dec1(func):  \n",
    "    print(\"1111\")  \n",
    "    def one():  \n",
    "        print(\"2222\")  \n",
    "        func()  \n",
    "        print(\"3333\")  \n",
    "    return one  \n",
    "  \n",
    "def dec2(func):  \n",
    "    print(\"aaaa\")  \n",
    "    def two():  \n",
    "        print(\"bbbb\")  \n",
    "        func()  \n",
    "        print(\"cccc\")  \n",
    "    return two  \n",
    " \n",
    "@dec1  \n",
    "@dec2  \n",
    "def test():  \n",
    "    print(\"test test\")    #多个装饰器执行的顺序就是从最后一个装饰器开始，执行到第一个装饰器，再执行函数本身。\n",
    "  \n",
    "test()  \n"
   ]
  },
  {
   "cell_type": "code",
   "execution_count": 17,
   "metadata": {},
   "outputs": [
    {
     "name": "stdout",
     "output_type": "stream",
     "text": [
      "Parent\n",
      "Child\n",
      "HelloWorld from Parent\n",
      "Child bar fuction\n",
      "I'm the parent.\n"
     ]
    }
   ],
   "source": [
    "class FooParent(object):\n",
    "    def __init__(self):\n",
    "        self.parent = 'I\\'m the parent.'\n",
    "        print ('Parent')\n",
    "    \n",
    "    def bar(self,message):\n",
    "        print (\"%s from Parent\" % message)\n",
    " \n",
    "class FooChild(FooParent):\n",
    "    def __init__(self):\n",
    "        # super(FooChild,self) 首先找到 FooChild 的父类（就是类 FooParent），然后把类 FooChild 的对象转换为类 FooParent 的对象\n",
    "        super(FooChild,self).__init__()    \n",
    "        print ('Child')\n",
    "        \n",
    "    def bar(self,message):\n",
    "        super().bar(message)\n",
    "        print ('Child bar fuction')\n",
    "        print (self.parent)\n",
    " \n",
    "if __name__ == '__main__':\n",
    "    fooChild = FooChild()\n",
    "    fooChild.bar('HelloWorld')"
   ]
  },
  {
   "cell_type": "markdown",
   "metadata": {},
   "source": [
    "## 3.迭代器、生成器、可迭代对象的介绍"
   ]
  },
  {
   "cell_type": "code",
   "execution_count": 2,
   "metadata": {},
   "outputs": [
    {
     "name": "stdout",
     "output_type": "stream",
     "text": [
      "1 2 3 4 "
     ]
    }
   ],
   "source": [
    "list=[1,2,3,4]\n",
    "it = iter(list)# 创建迭代器对象\n",
    "# print(next(it))\n",
    "# print(next(it))\n",
    "# print(next(it))\n",
    "for x in it:\n",
    "    print (x, end=\" \")"
   ]
  },
  {
   "cell_type": "code",
   "execution_count": 4,
   "metadata": {},
   "outputs": [
    {
     "name": "stdout",
     "output_type": "stream",
     "text": [
      "1\n",
      "2\n",
      "3\n",
      "4\n",
      "5\n"
     ]
    }
   ],
   "source": [
    "# 字符串，列表或元组对象都可用于创建迭代器：\n",
    "#  1）迭代器类型的定义：\n",
    "#       当类中定义了 __iter__ 和 __next__ 两个方法\n",
    "#       __iter__方法需要返回对象本身，即self\n",
    "#       __next__ 方法，返回下一个数据，如果没有数据，则需要抛出一个 StopIteration的异常  （Iteration翻译为迭代）\n",
    "    \n",
    "    \n",
    "#创建一个迭代器\n",
    "class MyNumbers:\n",
    "    def __iter__(self):\n",
    "        self.a = 1\n",
    "        return self\n",
    " \n",
    "    def __next__(self):\n",
    "        x = self.a\n",
    "        self.a += 1\n",
    "        return x\n",
    "\n",
    "myclass = MyNumbers()\n",
    "myiter = iter(myclass)\n",
    "\n",
    "print(next(myiter))\n",
    "print(next(myiter))\n",
    "print(next(myiter))\n",
    "print(next(myiter))\n",
    "print(next(myiter))"
   ]
  },
  {
   "cell_type": "code",
   "execution_count": 5,
   "metadata": {},
   "outputs": [
    {
     "name": "stdout",
     "output_type": "stream",
     "text": [
      "<class 'list'> <class 'generator'>\n",
      "<generator object <genexpr> at 0x000002C7C4ABB7B0>\n",
      "<generator object sample at 0x000002C7C4ABB9E0>\n",
      "1\n",
      "2\n",
      "3\n",
      "4\n",
      "5\n",
      "6\n",
      "7\n",
      "8\n",
      "9\n"
     ]
    }
   ],
   "source": [
    "# sampleList = [1,2,3,4,5,6,7,8]\n",
    "sampleList = [i for i in range(1,9)]\n",
    "sampleList2 = (i for i  in range(1,9))  #直接创建一个生成器\n",
    "# print(list[sampleList])\n",
    "print(type(sampleList), type(sampleList2))\n",
    "print(sampleList2)\n",
    "def sample():\n",
    "    for i in range(1,10):\n",
    "        yield i\n",
    "generator1 = sample()\n",
    "print(generator1)\n",
    "for items in generator1:\n",
    "    print(items)"
   ]
  },
  {
   "cell_type": "code",
   "execution_count": 1,
   "metadata": {},
   "outputs": [
    {
     "name": "stdout",
     "output_type": "stream",
     "text": [
      "next method:\n",
      "first\n",
      "1\n",
      "second\n",
      "2\n",
      "third\n",
      "3\n"
     ]
    }
   ],
   "source": [
    " # 简单的生成器函数\n",
    "def my_gen():\n",
    "    n=1\n",
    "    print(\"first\")\n",
    "    # yield区域\n",
    "    yield n\n",
    "\n",
    "    n+=1\n",
    "    print(\"second\")\n",
    "    yield n\n",
    "\n",
    "    n+=1\n",
    "    print(\"third\")\n",
    "    yield n\n",
    "\n",
    "a=my_gen()\n",
    "print(\"next method:\")\n",
    "# 每次调用a的时候，函数都从之前保存的状态执行\n",
    "print(next(a))\n",
    "print(next(a))\n",
    "print(next(a))\n"
   ]
  },
  {
   "cell_type": "code",
   "execution_count": 1,
   "metadata": {
    "scrolled": true
   },
   "outputs": [
    {
     "name": "stdout",
     "output_type": "stream",
     "text": [
      "1\n",
      "2\n"
     ]
    },
    {
     "ename": "StopIteration",
     "evalue": "",
     "output_type": "error",
     "traceback": [
      "\u001b[1;31m---------------------------------------------------------------------------\u001b[0m",
      "\u001b[1;31mStopIteration\u001b[0m                             Traceback (most recent call last)",
      "\u001b[1;32m<ipython-input-1-81aca4edb287>\u001b[0m in \u001b[0;36m<module>\u001b[1;34m\u001b[0m\n\u001b[0;32m     13\u001b[0m \u001b[0mprint\u001b[0m\u001b[1;33m(\u001b[0m\u001b[0mv2\u001b[0m\u001b[1;33m)\u001b[0m\u001b[1;33m\u001b[0m\u001b[1;33m\u001b[0m\u001b[0m\n\u001b[0;32m     14\u001b[0m \u001b[1;33m\u001b[0m\u001b[0m\n\u001b[1;32m---> 15\u001b[1;33m \u001b[0mv3\u001b[0m\u001b[1;33m=\u001b[0m\u001b[0mnext\u001b[0m\u001b[1;33m(\u001b[0m\u001b[0mobj1\u001b[0m\u001b[1;33m)\u001b[0m\u001b[1;33m\u001b[0m\u001b[1;33m\u001b[0m\u001b[0m\n\u001b[0m\u001b[0;32m     16\u001b[0m \u001b[0mprint\u001b[0m\u001b[1;33m(\u001b[0m\u001b[0mv3\u001b[0m\u001b[1;33m)\u001b[0m\u001b[1;33m\u001b[0m\u001b[1;33m\u001b[0m\u001b[0m\n\u001b[0;32m     17\u001b[0m \u001b[1;33m\u001b[0m\u001b[0m\n",
      "\u001b[1;31mStopIteration\u001b[0m: "
     ]
    }
   ],
   "source": [
    "# 2)生成器\n",
    "\n",
    "def func():\n",
    "    yield 1\n",
    "    yield 2\n",
    "\n",
    "# 创建生成器对象（内部是根据生成器类generator创建的对象)，生成器类的内部也声明了:_iter_、_next_方法。\n",
    "obj1=func()\n",
    "v1=next(obj1)\n",
    "print(v1)\n",
    "\n",
    "v2=next(obj1)\n",
    "print(v2)\n",
    "\n",
    "v3=next(obj1)\n",
    "print(v3)\n",
    "    \n",
    "# 如果按照迭代器的规定来看，其实生成器类面是一种特殊的迭代器类（生成器也是一个中特殊的迭代器)    "
   ]
  },
  {
   "cell_type": "code",
   "execution_count": 14,
   "metadata": {},
   "outputs": [
    {
     "ename": "SyntaxError",
     "evalue": "invalid character in identifier (Temp/ipykernel_13352/2932171383.py, line 7)",
     "output_type": "error",
     "traceback": [
      "\u001b[1;36m  File \u001b[1;32m\"C:\\Users\\bw\\AppData\\Local\\Temp/ipykernel_13352/2932171383.py\"\u001b[1;36m, line \u001b[1;32m7\u001b[0m\n\u001b[1;33m    return 迭代器对象（生成器对象)\u001b[0m\n\u001b[1;37m                     ^\u001b[0m\n\u001b[1;31mSyntaxError\u001b[0m\u001b[1;31m:\u001b[0m invalid character in identifier\n"
     ]
    }
   ],
   "source": [
    "#3）可迭代对象\n",
    "\n",
    "#如果一个类中有_iter_方法且返回一个迭代器对象﹔则我们称以这个类创建的对象为可迭代对象。\n",
    "class Foo( object ):\n",
    "    \n",
    "    def _iter__(self):\n",
    "        return 迭代器对象（生成器对象)\n",
    "\n",
    "obj = Foo()#obj是可迭代对象。\n",
    "\n",
    "#可迭代对象是可以使用for来进行循环，在循环的内部其实是先执行_iter_方法，获取其迭代器对象，然后再在内部执行这个迭代器对象的next功能，逐步取值。\n",
    "for item in obj:\n",
    "    pass"
   ]
  },
  {
   "cell_type": "code",
   "execution_count": 15,
   "metadata": {},
   "outputs": [
    {
     "name": "stdout",
     "output_type": "stream",
     "text": [
      "1\n",
      "2\n"
     ]
    }
   ],
   "source": [
    "# 4)一般可迭代器对象跟迭代器都是共同使用的\n",
    "class IT():\n",
    "    def __init__(self):\n",
    "        self.counter=0\n",
    "\n",
    "    def __iter__(self):\n",
    "        return self\n",
    "\n",
    "    def __next__(self):\n",
    "        self.counter +=1\n",
    "        if self.counter ==3:\n",
    "            raise StopIteration()\n",
    "        return self.counter\n",
    "    \n",
    "class Foo():\n",
    "    def __iter__(self):\n",
    "        return IT()\n",
    "    \n",
    "obj=Foo() #可迭代对象\n",
    "\n",
    "for item in obj:  #循环可迭代对象时，内部先执行obj._iter_并获取迭代器对象;不断地执行迭代器对象的next方法。\n",
    "    print(item)"
   ]
  }
 ],
 "metadata": {
  "kernelspec": {
   "display_name": "Python 3",
   "language": "python",
   "name": "python3"
  },
  "language_info": {
   "codemirror_mode": {
    "name": "ipython",
    "version": 3
   },
   "file_extension": ".py",
   "mimetype": "text/x-python",
   "name": "python",
   "nbconvert_exporter": "python",
   "pygments_lexer": "ipython3",
   "version": "3.8.5"
  }
 },
 "nbformat": 4,
 "nbformat_minor": 5
}
