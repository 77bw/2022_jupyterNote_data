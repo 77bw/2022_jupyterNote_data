{
 "cells": [
  {
   "cell_type": "markdown",
   "metadata": {},
   "source": [
    "## 使用re（正则表达式）进行精确数字的匹配"
   ]
  },
  {
   "cell_type": "markdown",
   "metadata": {},
   "source": [
    "1.re贪婪匹配和非贪婪匹配   .与('?' '*' '+' '{}')就是贪婪  加上？就是非贪婪\n",
    "贪婪匹配：即在条件满足条件下，尽量多的进行匹配（匹配优先）\n",
    "非贪婪匹配：尽量少的匹配（忽略优先）"
   ]
  },
  {
   "cell_type": "code",
   "execution_count": 1,
   "metadata": {},
   "outputs": [
    {
     "name": "stdout",
     "output_type": "stream",
     "text": [
      "['吃鸡游戏, 晚上⼀起上游戏, ⼲嘛呢? 打']\n",
      "['玩⼉吃鸡游戏']\n"
     ]
    }
   ],
   "source": [
    "import re\n",
    "str=\"玩⼉吃鸡游戏, 晚上⼀起上游戏, ⼲嘛呢? 打游戏\"\n",
    "a=re.findall(r\"玩⼉.*游戏\",str)         #贪婪匹配，尽可能多的匹配\n",
    "b=re.findall(r\"玩⼉.*?游戏\",str)        #非贪婪匹配，尽可能少的匹配\n",
    "print(a)\n",
    "print(b)"
   ]
  },
  {
   "cell_type": "raw",
   "metadata": {},
   "source": [
    "2.re模块\n",
    "1）查找模块\n",
    "search 找到一个就返回\n",
    "match 只返回一个，必须从一开始进行匹配，开通匹配不到就没有（从头匹配）\n",
    "finditer 匹配字符串中所有的内容，返回match迭代器\n",
    "（上面三个都返回match对象，调用数据都得用.group()获取）\n",
    "findall 匹配字符串中所有的内容符合正则的内容"
   ]
  },
  {
   "cell_type": "code",
   "execution_count": 52,
   "metadata": {},
   "outputs": [
    {
     "name": "stdout",
     "output_type": "stream",
     "text": [
      "['5', '5000']\n",
      "5\n",
      "5000\n",
      "search的内容：5\n",
      "match只匹配从头开始，否则错误显示nonetype:0000\n"
     ]
    },
    {
     "ename": "AttributeError",
     "evalue": "'NoneType' object has no attribute 'group'",
     "output_type": "error",
     "traceback": [
      "\u001b[1;31m---------------------------------------------------------------------------\u001b[0m",
      "\u001b[1;31mAttributeError\u001b[0m                            Traceback (most recent call last)",
      "\u001b[1;32m<ipython-input-52-19dce69ff01c>\u001b[0m in \u001b[0;36m<module>\u001b[1;34m\u001b[0m\n\u001b[0;32m     14\u001b[0m \u001b[1;33m\u001b[0m\u001b[0m\n\u001b[0;32m     15\u001b[0m \u001b[0mm1\u001b[0m\u001b[1;33m=\u001b[0m\u001b[0mre\u001b[0m\u001b[1;33m.\u001b[0m\u001b[0mmatch\u001b[0m\u001b[1;33m(\u001b[0m\u001b[1;34mr\"\\d+\"\u001b[0m\u001b[1;33m,\u001b[0m\u001b[1;34m\"a10086\"\u001b[0m\u001b[1;33m)\u001b[0m\u001b[1;33m\u001b[0m\u001b[1;33m\u001b[0m\u001b[0m\n\u001b[1;32m---> 16\u001b[1;33m \u001b[0mprint\u001b[0m\u001b[1;33m(\u001b[0m\u001b[0mm1\u001b[0m\u001b[1;33m.\u001b[0m\u001b[0mgroup\u001b[0m\u001b[1;33m(\u001b[0m\u001b[1;33m)\u001b[0m\u001b[1;33m)\u001b[0m\u001b[1;33m\u001b[0m\u001b[1;33m\u001b[0m\u001b[0m\n\u001b[0m",
      "\u001b[1;31mAttributeError\u001b[0m: 'NoneType' object has no attribute 'group'"
     ]
    }
   ],
   "source": [
    "str=\"5点之前. 你要给我5000万\"\n",
    "lst = re.findall(r\"\\d+\",str )  #findall匹配字符串中所有的内容符合正则的内容\n",
    "print(lst) \n",
    "\n",
    "ret=re.finditer(r\"\\d+\",str)  #finditer 匹配字符串中所有的内容，返回match迭代器\n",
    "for i in ret:\n",
    "    print(i.group())\n",
    "\n",
    "s=re.search(r\"\\d+\",str)\n",
    "print(\"search的内容：\"+s.group())\n",
    "\n",
    "m=re.match(r\"\\d+\",\"0000,你好我的电话号码：123456\")\n",
    "print(\"match只匹配从头开始，否则错误显示nonetype:\"+m.group())\n",
    "\n",
    "m1=re.match(r\"\\d+\",\"a10086\")\n",
    "print(m1.group())"
   ]
  },
  {
   "cell_type": "code",
   "execution_count": 68,
   "metadata": {},
   "outputs": [
    {
     "name": "stdout",
     "output_type": "stream",
     "text": [
      "['5', '5000']\n",
      "徐龙象\n",
      "1\n",
      "徐凤年\n",
      "2\n",
      "李剑神\n",
      "22\n",
      "姜泥\n",
      "33\n"
     ]
    }
   ],
   "source": [
    "#预加载正则表达式\n",
    "obj=re.compile(r\"\\d+\") #预处理语句\n",
    "ret=obj.findall(\"5点之前. 你要给我5000万\")\n",
    "print(ret)\n",
    "\n",
    "s = \"\"\"\n",
    "<div class='jay'><span id='1'>徐龙象</span></div>\n",
    "<div class='abc'><span id='2'>徐凤年</span></div>\n",
    "<div class='njdh'><span id='22'>李剑神</span></div>\n",
    "<div class='dshjas'><span id='33'>姜泥</span></div>\n",
    "\"\"\"\n",
    "#(?P<分组名字>正则)  可以单独从正则的内容中进一步提取内容\n",
    "obj=re.compile(r\"<div class='.*?'><span id='(?P<id>\\d+)'>(?P<abc>.*?)</span></div>\",re.S) #re.S让.能匹配换行符\n",
    "a=obj.finditer(s)\n",
    "for i in a:\n",
    "    print(i.group(\"abc\"))\n",
    "    print(i.group(\"id\"))"
   ]
  },
  {
   "cell_type": "code",
   "execution_count": 3,
   "metadata": {},
   "outputs": [
    {
     "name": "stdout",
     "output_type": "stream",
     "text": [
      "('123', 'abc', '456')\n",
      "123abc456\n",
      "123abc456\n",
      "123\n",
      "abc\n",
      "456\n"
     ]
    },
    {
     "ename": "IndexError",
     "evalue": "no such group",
     "output_type": "error",
     "traceback": [
      "\u001b[1;31m---------------------------------------------------------------------------\u001b[0m",
      "\u001b[1;31mIndexError\u001b[0m                                Traceback (most recent call last)",
      "\u001b[1;32m<ipython-input-3-f1d4e48e17d7>\u001b[0m in \u001b[0;36m<module>\u001b[1;34m\u001b[0m\n\u001b[0;32m      8\u001b[0m \u001b[0mprint\u001b[0m\u001b[1;33m(\u001b[0m\u001b[0mre\u001b[0m\u001b[1;33m.\u001b[0m\u001b[0msearch\u001b[0m\u001b[1;33m(\u001b[0m\u001b[1;34m\"([0-9]*)([a-z]*)([0-9]*)\"\u001b[0m\u001b[1;33m,\u001b[0m\u001b[0ma\u001b[0m\u001b[1;33m)\u001b[0m\u001b[1;33m.\u001b[0m\u001b[0mgroup\u001b[0m\u001b[1;33m(\u001b[0m\u001b[1;36m2\u001b[0m\u001b[1;33m)\u001b[0m\u001b[1;33m)\u001b[0m   \u001b[1;31m#匹配带匹配值的第二个\u001b[0m\u001b[1;33m\u001b[0m\u001b[1;33m\u001b[0m\u001b[0m\n\u001b[0;32m      9\u001b[0m \u001b[0mprint\u001b[0m\u001b[1;33m(\u001b[0m\u001b[0mre\u001b[0m\u001b[1;33m.\u001b[0m\u001b[0msearch\u001b[0m\u001b[1;33m(\u001b[0m\u001b[1;34m\"([0-9]*)([a-z]*)([0-9]*)\"\u001b[0m\u001b[1;33m,\u001b[0m\u001b[0ma\u001b[0m\u001b[1;33m)\u001b[0m\u001b[1;33m.\u001b[0m\u001b[0mgroup\u001b[0m\u001b[1;33m(\u001b[0m\u001b[1;36m3\u001b[0m\u001b[1;33m)\u001b[0m\u001b[1;33m)\u001b[0m   \u001b[1;31m#匹配带匹配值的第三个\u001b[0m\u001b[1;33m\u001b[0m\u001b[1;33m\u001b[0m\u001b[0m\n\u001b[1;32m---> 10\u001b[1;33m \u001b[0mprint\u001b[0m\u001b[1;33m(\u001b[0m\u001b[0mre\u001b[0m\u001b[1;33m.\u001b[0m\u001b[0msearch\u001b[0m\u001b[1;33m(\u001b[0m\u001b[1;34m\"([0-9]*)([a-z]*)([0-9]*)\"\u001b[0m\u001b[1;33m,\u001b[0m\u001b[0ma\u001b[0m\u001b[1;33m)\u001b[0m\u001b[1;33m.\u001b[0m\u001b[0mgroup\u001b[0m\u001b[1;33m(\u001b[0m\u001b[1;36m4\u001b[0m\u001b[1;33m)\u001b[0m\u001b[1;33m)\u001b[0m\u001b[1;33m\u001b[0m\u001b[1;33m\u001b[0m\u001b[0m\n\u001b[0m",
      "\u001b[1;31mIndexError\u001b[0m: no such group"
     ]
    }
   ],
   "source": [
    "import re\n",
    "a = \"123abc456\"\n",
    "#groups\n",
    "print(re.search(\"([0-9]*)([a-z]*)([0-9]*)\",a).groups()) #以元组形式返回全部分组截获的字符串\n",
    "print(re.search(\"([0-9]*)([a-z]*)([0-9]*)\",a).group()) \n",
    "print(re.search(\"([0-9]*)([a-z]*)([0-9]*)\",a).group(0))   #123abc456,返回整体  匹配正则表达式整体结果\n",
    "print(re.search(\"([0-9]*)([a-z]*)([0-9]*)\",a).group(1))   #匹配第一个待匹配的值123\n",
    "print(re.search(\"([0-9]*)([a-z]*)([0-9]*)\",a).group(2))   #匹配带匹配值的第二个\n",
    "print(re.search(\"([0-9]*)([a-z]*)([0-9]*)\",a).group(3))   #匹配带匹配值的第三个 "
   ]
  },
  {
   "cell_type": "code",
   "execution_count": 54,
   "metadata": {},
   "outputs": [
    {
     "name": "stdout",
     "output_type": "stream",
     "text": [
      "0571-52157216\n"
     ]
    }
   ],
   "source": [
    "import re\n",
    "text = '18812345678，他还有一个电话号码是18887654321，他爱好的数字是01234567891，他的座机是∶0571-52157216,她的座机号码是：0163-77778888'\n",
    "m=re.search(r'(\\d{4})-(\\d{8})',text)  #r去除转义字符\n",
    "print(m.group())"
   ]
  },
  {
   "cell_type": "raw",
   "metadata": {},
   "source": [
    "2)查找\n",
    "sub  返回替换后的对象\n",
    "subn  返回替换的对象和替换次数\n",
    "分割\n",
    "split 保存到列表中"
   ]
  },
  {
   "cell_type": "code",
   "execution_count": 5,
   "metadata": {},
   "outputs": [
    {
     "name": "stdout",
     "output_type": "stream",
     "text": [
      "***, Abc, ABC\n",
      "('abc, ***, ABC', 1)\n"
     ]
    }
   ],
   "source": [
    "import re\n",
    "text = \"abc, Abc, ABC\"\n",
    "result=re.sub(r'abc','***',text)\n",
    "a=re.subn(r'Abc','***',text)\n",
    "print(result)\n",
    "print(a)"
   ]
  },
  {
   "cell_type": "code",
   "execution_count": 6,
   "metadata": {},
   "outputs": [
    {
     "name": "stdout",
     "output_type": "stream",
     "text": [
      "['www', 'doiido', 'com', 'cn']\n",
      "['www', 'doiido.com.cn']\n",
      "['www', 'doiido', 'com.cn']\n"
     ]
    }
   ],
   "source": [
    "u =\"www.doiido.com.cn\"\n",
    "print(u.split('.'))\n",
    "print(u.split('.',1))\n",
    "print(u.split('.',2))"
   ]
  },
  {
   "cell_type": "code",
   "execution_count": 7,
   "metadata": {},
   "outputs": [
    {
     "name": "stdout",
     "output_type": "stream",
     "text": [
      "www.doiido.com\n",
      "['www', 'doiido', 'com']\n"
     ]
    }
   ],
   "source": [
    "import re\n",
    "str=\"hello boy<[www.doiido.com]>byebye\"\n",
    "print(str.split(\"[\")[1].split(\"]\")[0])\n",
    "print(str.split(\"[\")[1].split(\"]\")[0].split(\".\"))"
   ]
  },
  {
   "cell_type": "markdown",
   "metadata": {},
   "source": [
    "# 例子"
   ]
  },
  {
   "cell_type": "raw",
   "metadata": {},
   "source": [
    "1）匹配.com或.cn的网站"
   ]
  },
  {
   "cell_type": "code",
   "execution_count": 1,
   "metadata": {},
   "outputs": [
    {
     "name": "stdout",
     "output_type": "stream",
     "text": [
      "['http://www.interoem.com', 'http://3995503.com', 'http://lib.wzmc.edu.cn', 'http://www.zy-ls.com', 'http://www.fincm.com']\n"
     ]
    }
   ],
   "source": [
    "import re\n",
    "s2 = \"\"\"http://www.interoem.com/messageinfo.asp?id=35\n",
    "      http://3995503.com/class/class09/news_show.asp?id=14\n",
    "        http://lib.wzmc.edu.cn/news/onews.asp?id=769\n",
    "        http://www.zy-ls.com/alfx.asp?newsid=377&id=6\n",
    "        http://www.fincm.com/newslist.asp?id=415\"\"\"\n",
    "s = re.findall(r\"http://.*?.com|http://.*?.cn\", s2)\n",
    "print(s)"
   ]
  },
  {
   "cell_type": "raw",
   "metadata": {},
   "source": [
    "2）提取出如下字符串中的单词：\n",
    "hello world ha ha"
   ]
  },
  {
   "cell_type": "code",
   "execution_count": 12,
   "metadata": {},
   "outputs": [
    {
     "name": "stdout",
     "output_type": "stream",
     "text": [
      "['hello', 'world', 'ha', 'ha']\n",
      "['hello', 'world', 'ha', 'ha']\n"
     ]
    }
   ],
   "source": [
    "s3 = \"hello world ha ha\"\n",
    "\n",
    "print(re.split(r\" +\", s3))\n",
    "\n",
    "print(re.findall(r\"\\b\\w+\\b\", s3))"
   ]
  },
  {
   "cell_type": "code",
   "execution_count": 2,
   "metadata": {},
   "outputs": [
    {
     "name": "stdout",
     "output_type": "stream",
     "text": [
      "0\n"
     ]
    }
   ],
   "source": [
    "a=int(0)\n",
    "print(a)"
   ]
  }
 ],
 "metadata": {
  "kernelspec": {
   "display_name": "Python 3",
   "language": "python",
   "name": "python3"
  },
  "language_info": {
   "codemirror_mode": {
    "name": "ipython",
    "version": 3
   },
   "file_extension": ".py",
   "mimetype": "text/x-python",
   "name": "python",
   "nbconvert_exporter": "python",
   "pygments_lexer": "ipython3",
   "version": "3.8.5"
  }
 },
 "nbformat": 4,
 "nbformat_minor": 5
}
