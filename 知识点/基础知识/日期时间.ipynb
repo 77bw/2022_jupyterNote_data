{
 "cells": [
  {
   "cell_type": "markdown",
   "metadata": {},
   "source": [
    "## python模块datetime模块处理时间和日期的标准库\n",
    "类名\n",
    "date  日期对象  年月日\n",
    "time  时间对象   小时，分，秒，毫秒\n",
    "datetime  日期时间对象  年月日 小时，分，秒，毫秒\n",
    "timedelta  时间间隔对象，即两个时间点之间的长度  "
   ]
  },
  {
   "cell_type": "code",
   "execution_count": 2,
   "metadata": {},
   "outputs": [
    {
     "name": "stdout",
     "output_type": "stream",
     "text": [
      "<class 'datetime.date'>\n",
      "2018-03-10\n",
      "20:36:15.000001\n"
     ]
    }
   ],
   "source": [
    "import datetime\n",
    "d=datetime.date(2018,3,10)\n",
    "print(type(d))\n",
    "print(d)\n",
    "t = datetime.time(20, 36, 15, 1)\t# 时，分，秒，毫秒\n",
    "print(t)"
   ]
  },
  {
   "cell_type": "code",
   "execution_count": null,
   "metadata": {},
   "outputs": [],
   "source": [
    "（3）日期时间对象——datetime类：\n",
    "①常用方法：\n",
    "获取当前日期时间：datetime.now()\n",
    "获取当前日期：datetime.now().date()\n",
    "获取当前时间：datetime.now().time()"
   ]
  },
  {
   "cell_type": "code",
   "execution_count": 8,
   "metadata": {},
   "outputs": [
    {
     "name": "stdout",
     "output_type": "stream",
     "text": [
      "当前日期时间是： 2022-04-18 15:43:20.433049\n",
      "当前日期是： 2022-04-18\n",
      "当前时间是： 15:43:20.433049\n",
      "1650267800.433809\n",
      "2021-07-31 10:56:48.446621\n"
     ]
    }
   ],
   "source": [
    "from datetime import datetime\n",
    "\n",
    "now = datetime.now()\n",
    "print('当前日期时间是：',now)\n",
    "\n",
    "print('当前日期是：',now.date())\n",
    "print('当前时间是：',now.time())\n",
    "\n",
    "#日期时间转化为时间戳：时间日期对象.timestamp()\n",
    "print(datetime.now().timestamp())\n",
    "#时间戳转化为日期时间：datetime.fromtimestamp(时间戳)\n",
    "print(datetime.fromtimestamp(1627700208.446621))"
   ]
  },
  {
   "cell_type": "code",
   "execution_count": 9,
   "metadata": {
    "scrolled": true
   },
   "outputs": [
    {
     "name": "stdout",
     "output_type": "stream",
     "text": [
      "2022-04-18 15:43:21.590916\n",
      "2022-04-18\n",
      "<class 'str'>\n"
     ]
    }
   ],
   "source": [
    "#日期时间对象转字符串：时间日期对象.strftime(format)\n",
    "print(datetime.now())\n",
    "print(datetime.now().strftime(\"%Y-%m-%d\"))\n",
    "print(type(datetime.now().strftime(\"%Y-%m-%d\")))"
   ]
  },
  {
   "cell_type": "code",
   "execution_count": 2,
   "metadata": {},
   "outputs": [
    {
     "name": "stdout",
     "output_type": "stream",
     "text": [
      "<class 'datetime.datetime'>\n",
      "2018-03-22 15:28:18\n"
     ]
    }
   ],
   "source": [
    "# 字符串转日期时间对象：datetime.strptime(data_str, format)\n",
    "a=datetime.strptime('2018-3-22 15:28:18', '%Y-%m-%d %H:%M:%S')\n",
    "print(type(a))\n",
    "print(a)\n",
    "# 注意：format要和data_str格式相匹配！\n"
   ]
  },
  {
   "cell_type": "markdown",
   "metadata": {},
   "source": [
    "## 时间间隔对象——timedelta类：\n",
    "此类进行用于进行时间计算！\n",
    "注意：使用时——必须是时间对象和timedelta对象进行运算，否则报错！\n",
    "- 不支持的操作数类型：“datetime.time”和“datetime.timedelta” "
   ]
  },
  {
   "cell_type": "code",
   "execution_count": 20,
   "metadata": {},
   "outputs": [
    {
     "name": "stdout",
     "output_type": "stream",
     "text": [
      "2022-03-30 10:20:59.462311\n",
      "<class 'datetime.datetime'>\n",
      "8:20:10\n",
      "<class 'datetime.timedelta'>\n",
      "2022-03-30 02:00:49.462311\n",
      "2022-03-30 18:41:09.462311\n"
     ]
    }
   ],
   "source": [
    "from datetime import datetime,timedelta\n",
    "now = datetime.now()\n",
    "print(now)\n",
    "print(type(now))\n",
    "a = timedelta(hours=8,minutes=20,seconds=10)\n",
    "print(a)\n",
    "print(type(a))\n",
    "print(now - a)\n",
    "print(now + a)\n"
   ]
  },
  {
   "cell_type": "code",
   "execution_count": 21,
   "metadata": {},
   "outputs": [
    {
     "name": "stdout",
     "output_type": "stream",
     "text": [
      "1 day, 0:00:00\n",
      "<class 'datetime.timedelta'>\n",
      "2022-03-29 10:21:02.373601\n",
      "2022-03-31 10:21:02.373601\n"
     ]
    }
   ],
   "source": [
    "from datetime import datetime,timedelta\n",
    "now = datetime.now()\n",
    "a = timedelta(days=1)\n",
    "print(a)\n",
    "print(type(a))\n",
    "print(now - a)\n",
    "print(now + a)"
   ]
  },
  {
   "cell_type": "code",
   "execution_count": 1,
   "metadata": {},
   "outputs": [
    {
     "name": "stdout",
     "output_type": "stream",
     "text": [
      "<class 'datetime.datetime'>\n",
      "2022-01-27 15:02:40.050189\n"
     ]
    }
   ],
   "source": [
    "from datetime import datetime,timedelta\n",
    "yesterday = datetime.now()- timedelta(days=1)\n",
    "print(type(yesterday))\n",
    "time = timedelta(hours=int(5), minutes=int(50))\n",
    "print(yesterday + time)"
   ]
  },
  {
   "cell_type": "markdown",
   "metadata": {},
   "source": [
    "#### python 获取指定范围所有日期"
   ]
  },
  {
   "cell_type": "code",
   "execution_count": 36,
   "metadata": {},
   "outputs": [
    {
     "name": "stdout",
     "output_type": "stream",
     "text": [
      "['2022-03-25', '2022-03-26', '2022-03-27', '2022-03-28', '2022-03-29']\n",
      "5\n"
     ]
    }
   ],
   "source": [
    "import datetime\n",
    "\n",
    "# 通过生成器返回计算后的日期格式\n",
    "\n",
    "def gen_dates(b_date, days):\n",
    "    day = datetime.timedelta(days=1)\n",
    "    for i in range(days):\n",
    "        yield b_date + day * i\n",
    "\n",
    "def get_date_list(start=None, end=None):\n",
    "    if start is None:\n",
    "        #先获取当前日期减去3，得到的是日期格式\n",
    "        now=datetime.datetime.now()\n",
    "        day=datetime.timedelta(days=3)\n",
    "        start = now-day\n",
    "    else:\n",
    "        start = datetime.datetime.strptime(start, '%Y-%m-%d')\n",
    "\n",
    "    if end is None:\n",
    "        end = datetime.datetime.now()\n",
    "    data = []\n",
    "    for d in gen_dates(start, (end - start).days):\n",
    "        m = datetime.datetime.strftime(d, '%Y-%m-%d')\n",
    "        data.append(m)  # 如果你想添加的为日期类型 m改为 d即可\n",
    "    print(data, data.__len__(), sep='\\n')\n",
    "\n",
    "get_date_list(start='2022-3-25', end=None)"
   ]
  }
 ],
 "metadata": {
  "kernelspec": {
   "display_name": "Python 3",
   "language": "python",
   "name": "python3"
  },
  "language_info": {
   "codemirror_mode": {
    "name": "ipython",
    "version": 3
   },
   "file_extension": ".py",
   "mimetype": "text/x-python",
   "name": "python",
   "nbconvert_exporter": "python",
   "pygments_lexer": "ipython3",
   "version": "3.8.5"
  }
 },
 "nbformat": 4,
 "nbformat_minor": 4
}
