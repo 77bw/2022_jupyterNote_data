{
 "cells": [
  {
   "cell_type": "markdown",
   "metadata": {},
   "source": [
    " ### 1.eval()函数用来执行一个字符串表达式，并返回表达式的值。还可以把字符串转化为list、tuple、dict\n",
    "    eval是Python的一个内置函数，功能十分强大，这个函数的作用是，返回传入字符串的表达式的结果。就是说：将字符串当成有效的表达式 来求值 并 返回计算结果。\n",
    "    eval函数就是实现list、dict、tuple与str之间的转化，同样str函数把list，dict，tuple转为为字符串\n",
    "#### eval(expression[, globals[, locals]])\n",
    "expression ： 表达式。\n",
    "globals ： （可选参数)变量作用域，全局命名空间，如果被提供，则必须是一个字典对象。\n",
    "locals ： (可选参数)变量作用域，局部命名空间，如果被提供，可以是任何映射对象。"
   ]
  },
  {
   "cell_type": "code",
   "execution_count": 1,
   "metadata": {
    "scrolled": true
   },
   "outputs": [
    {
     "name": "stdout",
     "output_type": "stream",
     "text": [
      "16\n",
      "3\n",
      "{'name': 'linux', 'age': 18}\n",
      "{'name': 'linux', 'age': 1822}\n",
      "{'name': 'linux', 'age': 1823}\n",
      "{'name': 'linux', 'age': 18}\n",
      "-----------------\n",
      "{'name': 'linux', 'age': 18}\n"
     ]
    }
   ],
   "source": [
    "\n",
    "#1.eval无参实现字符串转化\n",
    "s = '1+2+3*5-2'\n",
    "print(eval(s))  #16\n",
    " \n",
    "#2.字符串中有变量也可以\n",
    "x = 1\n",
    "print(eval('x+2'))  #3\n",
    " \n",
    "#3.字符串转字典\n",
    "print(eval(\"{'name':'linux','age':18}\"))\n",
    "#输出结果：{'name':'linux','age':18}\n",
    " \n",
    "#4.eval传递全局变量参数,注意字典里的:age中的age没有带引号，说明它是个变量，而不是字符串。\n",
    "#这里两个参数都是全局的\n",
    "print(eval(\"{'name':'linux','age':age}\",{\"age\":1822}))\n",
    "#输出结果：{'name': 'linux', 'age': 1822}\n",
    "print(eval(\"{'name':'linux','age':age}\",{\"age\":1822},{\"age\":1823}))\n",
    "#输出结果：{'name': 'linux', 'age': 1823}\n",
    " \n",
    "#eval传递本地变量，既有global和local时，变量值先从local中查找。\n",
    "age=18\n",
    "print(eval(\"{'name':'linux','age':age}\",{\"age\":1822},locals()))\n",
    "#输出结果：{'name': 'linux', 'age': 18}\n",
    "print(\"-----------------\")\n",
    " \n",
    "print(eval(\"{'name':'linux','age':age}\"))\n"
   ]
  },
  {
   "cell_type": "code",
   "execution_count": 1,
   "metadata": {},
   "outputs": [
    {
     "name": "stdout",
     "output_type": "stream",
     "text": [
      "foo_eval()\n",
      "bar_eval()\n"
     ]
    }
   ],
   "source": [
    "def foo():\n",
    "\n",
    "    print(\"foo_eval()\")\n",
    "\n",
    "def bar():\n",
    "\n",
    "    print(\"bar_eval()\")\n",
    "\n",
    "func_list = [\"foo\",\"bar\"]\n",
    "\n",
    "for func in func_list:\n",
    "    eval(func)()"
   ]
  },
  {
   "cell_type": "code",
   "execution_count": 6,
   "metadata": {},
   "outputs": [
    {
     "name": "stdout",
     "output_type": "stream",
     "text": [
      "foo_locals()\n",
      "bar_locals()\n",
      "foo_globals()\n",
      "bar_globals()\n"
     ]
    }
   ],
   "source": [
    "def foo():\n",
    "\n",
    "    print(\"foo_locals()\")\n",
    "\n",
    "def bar():\n",
    "\n",
    "    print(\"bar_locals()\")\n",
    "\n",
    "func_list = [\"foo\",\"bar\"]\n",
    "\n",
    "for func in func_list:\n",
    "\n",
    "    locals()[func]()\n",
    "\n",
    "def foo():\n",
    "\n",
    "    print(\"foo_globals()\")\n",
    "\n",
    "def bar():\n",
    "\n",
    "    print(\"bar_globals()\")\n",
    "\n",
    "func_list = [\"foo\",\"bar\"]\n",
    "\n",
    "for func in func_list:\n",
    "        globals()[func]()"
   ]
  },
  {
   "cell_type": "code",
   "execution_count": 1,
   "metadata": {},
   "outputs": [
    {
     "name": "stdout",
     "output_type": "stream",
     "text": [
      "[1, 2, 3, 4, 5]\n"
     ]
    }
   ],
   "source": [
    "a=\"[1,2,3,4,5]\"\n",
    "b=eval(a)\n",
    "print(b)\n",
    "# print(type(b))\n",
    "# a是字符串类型数据，b是列表类型数据"
   ]
  },
  {
   "cell_type": "code",
   "execution_count": 5,
   "metadata": {
    "scrolled": true
   },
   "outputs": [
    {
     "name": "stdout",
     "output_type": "stream",
     "text": [
      "<class 'dict'>\n"
     ]
    }
   ],
   "source": [
    "a='{\"name\":\"guo\",\"age\":25}'\n",
    "b=eval(a)\n",
    "print(type(b))\n",
    "# a为字符串类型数据，b为字典类型数据"
   ]
  },
  {
   "cell_type": "markdown",
   "metadata": {},
   "source": [
    "Python中exec,eval函数都可以通过函数名直接调用函数，exec,eval的参数都为一个字符串，不同的是，exec将字符串当成python表达式来执行不返回结果，而eval将接收的字符串当作表达式来执行，并返回结果。具体的例子请看下面："
   ]
  },
  {
   "cell_type": "code",
   "execution_count": 2,
   "metadata": {},
   "outputs": [
    {
     "name": "stdout",
     "output_type": "stream",
     "text": [
      "1\n"
     ]
    }
   ],
   "source": [
    "def a():\n",
    "    print('1')\n",
    "func_a = 'a'\n",
    "eval(func_a)()"
   ]
  },
  {
   "cell_type": "code",
   "execution_count": 3,
   "metadata": {},
   "outputs": [
    {
     "name": "stdout",
     "output_type": "stream",
     "text": [
      "1\n",
      "3\n"
     ]
    }
   ],
   "source": [
    "def a():\n",
    "    print('1')\n",
    "def b():\n",
    "    print('2')\n",
    "def c():\n",
    "    print('3')\n",
    "func_list = ['a','c']\n",
    "for func in func_list:\n",
    "    eval(func)()"
   ]
  },
  {
   "cell_type": "code",
   "execution_count": 1,
   "metadata": {
    "scrolled": true
   },
   "outputs": [
    {
     "name": "stdout",
     "output_type": "stream",
     "text": [
      "255的十六进制为:0xff\n",
      "1000的十六进制为:0x3e8\n"
     ]
    }
   ],
   "source": [
    "n1 = 255\n",
    "n2 = 1000\n",
    "for i in (n1, n2):\n",
    "    print('%d的十六进制为:%s' % (i, hex(i)))   #格式化输出，%d为数字，%s为字符串"
   ]
  },
  {
   "cell_type": "code",
   "execution_count": 4,
   "metadata": {},
   "outputs": [
    {
     "name": "stdout",
     "output_type": "stream",
     "text": [
      "3.0 -4.5\n"
     ]
    }
   ],
   "source": [
    "class Complex:\n",
    "    def __init__(self, realpart, imagpart):  #构造方法,self代表类的实例\n",
    "        self.r = realpart\n",
    "        self.i = imagpart\n",
    "x = Complex(3.0, -4.5)\n",
    "print(x.r,x.i)"
   ]
  },
  {
   "cell_type": "code",
   "execution_count": 6,
   "metadata": {
    "scrolled": false
   },
   "outputs": [
    {
     "name": "stdout",
     "output_type": "stream",
     "text": [
      "自动调用\n",
      "name  :  菜鸟教程\n",
      "url :  www.runoob.com\n",
      "这是公共方法\n",
      "这是私有方法\n"
     ]
    },
    {
     "ename": "AttributeError",
     "evalue": "'Site' object has no attribute '__foo'",
     "output_type": "error",
     "traceback": [
      "\u001b[1;31m---------------------------------------------------------------------------\u001b[0m",
      "\u001b[1;31mAttributeError\u001b[0m                            Traceback (most recent call last)",
      "\u001b[1;32m~\\AppData\\Local\\Temp/ipykernel_2872/1067588917.py\u001b[0m in \u001b[0;36m<module>\u001b[1;34m\u001b[0m\n\u001b[0;32m     18\u001b[0m \u001b[0mx\u001b[0m\u001b[1;33m.\u001b[0m\u001b[0mwho\u001b[0m\u001b[1;33m(\u001b[0m\u001b[1;33m)\u001b[0m        \u001b[1;31m# 正常输出\u001b[0m\u001b[1;33m\u001b[0m\u001b[1;33m\u001b[0m\u001b[0m\n\u001b[0;32m     19\u001b[0m \u001b[0mx\u001b[0m\u001b[1;33m.\u001b[0m\u001b[0mfoo\u001b[0m\u001b[1;33m(\u001b[0m\u001b[1;33m)\u001b[0m        \u001b[1;31m# 正常输出\u001b[0m\u001b[1;33m\u001b[0m\u001b[1;33m\u001b[0m\u001b[0m\n\u001b[1;32m---> 20\u001b[1;33m \u001b[0mx\u001b[0m\u001b[1;33m.\u001b[0m\u001b[0m__foo\u001b[0m\u001b[1;33m(\u001b[0m\u001b[1;33m)\u001b[0m      \u001b[1;31m# 报错\u001b[0m\u001b[1;33m\u001b[0m\u001b[1;33m\u001b[0m\u001b[0m\n\u001b[0m",
      "\u001b[1;31mAttributeError\u001b[0m: 'Site' object has no attribute '__foo'"
     ]
    }
   ],
   "source": [
    "class Site:\n",
    "    def __init__(self, name, url):\n",
    "        self.name = name       # public\n",
    "        self.__url = url   # private\n",
    "        print(\"自动调用\")\n",
    "    def who(self):\n",
    "        print('name  : ', self.name)\n",
    "        print('url : ', self.__url)\n",
    " \n",
    "    def __foo(self):          # 私有方法\n",
    "        print('这是私有方法')\n",
    " \n",
    "    def foo(self):            # 公共方法\n",
    "        print('这是公共方法')\n",
    "        self.__foo()\n",
    " \n",
    "x = Site('菜鸟教程', 'www.runoob.com')\n",
    "x.who()        # 正常输出\n",
    "x.foo()        # 正常输出\n",
    "x.__foo()      # 报错"
   ]
  },
  {
   "cell_type": "markdown",
   "metadata": {},
   "source": [
    "### 2.匿名函数 lambda\n",
    "python中允许用lambda函数定义一个匿名函数，所谓匿名函数即调用一次就不在被调用的函数，属于’一次性函数‘。"
   ]
  },
  {
   "cell_type": "code",
   "execution_count": 2,
   "metadata": {},
   "outputs": [
    {
     "name": "stdout",
     "output_type": "stream",
     "text": [
      "5\n"
     ]
    }
   ],
   "source": [
    "#求两数之和，定义函数f(x,y)=x+y\n",
    "f=lambda x,y:x+y\n",
    "print(f(2,3))"
   ]
  },
  {
   "cell_type": "code",
   "execution_count": 3,
   "metadata": {
    "scrolled": true
   },
   "outputs": [
    {
     "name": "stdout",
     "output_type": "stream",
     "text": [
      "25\n"
     ]
    }
   ],
   "source": [
    "#求两数的平方和 g(x,y)=x**2+y**2\n",
    "g=lambda x,y:x**2+y**2\n",
    "print(g(3,4))"
   ]
  },
  {
   "cell_type": "markdown",
   "metadata": {},
   "source": [
    "### 3.python常用的内置函数"
   ]
  },
  {
   "cell_type": "code",
   "execution_count": 9,
   "metadata": {},
   "outputs": [
    {
     "data": {
      "text/plain": [
       "[111, 122, 133]"
      ]
     },
     "execution_count": 9,
     "metadata": {},
     "output_type": "execute_result"
    }
   ],
   "source": [
    "# 1)遍历函数map()\n",
    "# map(f,s)\n",
    "# 将函数f作用在序列s上\n",
    "li=(11,22,33)\n",
    "new_tuple=map(lambda x:x+100,li)\n",
    "#tuple(new_tuple)\n",
    "list(new_tuple)"
   ]
  },
  {
   "cell_type": "code",
   "execution_count": 11,
   "metadata": {},
   "outputs": [
    {
     "data": {
      "text/plain": [
       "[33]"
      ]
     },
     "execution_count": 11,
     "metadata": {},
     "output_type": "execute_result"
    }
   ],
   "source": [
    "# 2)筛选函数 filter()\n",
    "# 对序列中的元素进行筛选，最终获取符合条件的序列\n",
    "# filter(f,s) 将条件函数f作用在序列s上，符合条件函数的输出\n",
    "li=[11,22,33]\n",
    "new_list=filter(lambda x:x>22,li)\n",
    "list(new_list)"
   ]
  },
  {
   "cell_type": "code",
   "execution_count": 22,
   "metadata": {
    "scrolled": true
   },
   "outputs": [
    {
     "data": {
      "text/plain": [
       "[5, 9, -12, -21, 36]"
      ]
     },
     "execution_count": 22,
     "metadata": {},
     "output_type": "execute_result"
    }
   ],
   "source": [
    "# 3)排序函数 sorted()\n",
    "sorted([36, 5, -12, 9, -21])"
   ]
  },
  {
   "cell_type": "code",
   "execution_count": 25,
   "metadata": {},
   "outputs": [
    {
     "data": {
      "text/plain": [
       "[5, 9, -12, -21, 36]"
      ]
     },
     "execution_count": 25,
     "metadata": {},
     "output_type": "execute_result"
    }
   ],
   "source": [
    "sorted([36, 5, -12, 9, -21], key=abs) #它还可以接收一个key函数来实现自定义的排序，例如按绝对值大小排序"
   ]
  },
  {
   "cell_type": "code",
   "execution_count": 24,
   "metadata": {},
   "outputs": [
    {
     "data": {
      "text/plain": [
       "['Credit', 'Zoo', 'about', 'bob']"
      ]
     },
     "execution_count": 24,
     "metadata": {},
     "output_type": "execute_result"
    }
   ],
   "source": [
    "sorted(['bob', 'about', 'Zoo', 'Credit'])"
   ]
  },
  {
   "cell_type": "code",
   "execution_count": 23,
   "metadata": {},
   "outputs": [
    {
     "data": {
      "text/plain": [
       "['about', 'bob', 'Credit', 'Zoo']"
      ]
     },
     "execution_count": 23,
     "metadata": {},
     "output_type": "execute_result"
    }
   ],
   "source": [
    "sorted(['bob', 'about', 'Zoo', 'Credit'], key=str.lower)#忽略大小写来比较两个字符串，把字符串都变成大写（或者都变成小写），再比较"
   ]
  },
  {
   "cell_type": "markdown",
   "metadata": {},
   "source": [
    "### 4.python常用的外部函数"
   ]
  },
  {
   "cell_type": "code",
   "execution_count": 12,
   "metadata": {},
   "outputs": [
    {
     "data": {
      "text/plain": [
       "25"
      ]
     },
     "execution_count": 12,
     "metadata": {},
     "output_type": "execute_result"
    }
   ],
   "source": [
    "# 1）累计函数 reduce()\n",
    "# reduce把结果继续和序列的下一个元素做累积计算，其效果就是：\n",
    "# reduce(f, [x1, x2, x3, x4]) = f(f(f(x1, x2), x3), x4)\n",
    "from functools import reduce\n",
    "def add(x, y):\n",
    "     return x + y\n",
    "reduce(add, [1, 3, 5, 7, 9])\n"
   ]
  },
  {
   "cell_type": "code",
   "execution_count": 13,
   "metadata": {},
   "outputs": [
    {
     "data": {
      "text/plain": [
       "13579"
      ]
     },
     "execution_count": 13,
     "metadata": {},
     "output_type": "execute_result"
    }
   ],
   "source": [
    "from functools import reduce\n",
    "def fn(x, y):\n",
    "    return x * 10 + y\n",
    "\n",
    "reduce(fn, [1, 3, 5, 7, 9])\n"
   ]
  },
  {
   "cell_type": "markdown",
   "metadata": {},
   "source": [
    "### 5.常见的标准模块"
   ]
  },
  {
   "cell_type": "code",
   "execution_count": 31,
   "metadata": {},
   "outputs": [
    {
     "name": "stdout",
     "output_type": "stream",
     "text": [
      "0.9736838311852666\n",
      "5\n"
     ]
    }
   ],
   "source": [
    "#1）random模块  随机数模块\n",
    "import random\n",
    "print(random.random())  #返回（0，1】之间的随机数\n",
    "print(random.randint(1,8))  #返回[1-8]之间的随机整数"
   ]
  },
  {
   "cell_type": "code",
   "execution_count": 40,
   "metadata": {},
   "outputs": [
    {
     "data": {
      "text/plain": [
       "time.struct_time(tm_year=2021, tm_mon=11, tm_mday=17, tm_hour=20, tm_min=6, tm_sec=37, tm_wday=2, tm_yday=321, tm_isdst=0)"
      ]
     },
     "execution_count": 40,
     "metadata": {},
     "output_type": "execute_result"
    }
   ],
   "source": [
    "#2)time模块 一系列处理时间的函数\n",
    "# tm_min ：分（0-59）\n",
    "# tm_sec ：秒（0-59）\n",
    "# tm_wday ：星期几（0-6,0表示周日）\n",
    "# tm_yday ：一年中的第几天（1-366）\n",
    "# tm_isdst ：是否是夏令时（默认为-1）\n",
    "\n",
    "# 元组方式：struct_time元组共有9个元素，返回struct_time的函数主要有gmtime()，localtime()，strptime()。\n",
    "\n",
    "import time\n",
    "time.localtime()\n",
    "# time.strptime(\"30 Nov 14\", \"%d %b %y\")"
   ]
  },
  {
   "cell_type": "code",
   "execution_count": 46,
   "metadata": {},
   "outputs": [
    {
     "data": {
      "text/plain": [
       "'2021-11-17 20:09:28'"
      ]
     },
     "execution_count": 46,
     "metadata": {},
     "output_type": "execute_result"
    }
   ],
   "source": [
    "# time.strftime( format [, t] )  返回字符串表示的当地时间  \n",
    "time.strftime(\"%Y-%m-%d %H:%M:%S\",  time.localtime()) #通过函数将struct_time转成格式字符串"
   ]
  },
  {
   "cell_type": "code",
   "execution_count": 47,
   "metadata": {},
   "outputs": [
    {
     "name": "stdout",
     "output_type": "stream",
     "text": [
      "20:12:01\n"
     ]
    }
   ],
   "source": [
    "print(time.strftime('%H:%M:%S'))  #获取当前时间的时分秒"
   ]
  },
  {
   "cell_type": "raw",
   "metadata": {},
   "source": [
    "time.strptime(string[,format])  将格式字符串转化成struct_time.\n",
    "该函数是time.strftime()函数的逆操作。time.strptime() 函数根据指定的格式把一个时间字符串解析为时间元组。所以函数返回的是struct_time对象。"
   ]
  },
  {
   "cell_type": "code",
   "execution_count": 49,
   "metadata": {},
   "outputs": [
    {
     "data": {
      "text/plain": [
       "time.struct_time(tm_year=2015, tm_mon=8, tm_mday=24, tm_hour=13, tm_min=1, tm_sec=30, tm_wday=0, tm_yday=236, tm_isdst=-1)"
      ]
     },
     "execution_count": 49,
     "metadata": {},
     "output_type": "execute_result"
    }
   ],
   "source": [
    "stime = \"2015-08-24 13:01:30\"\n",
    "formattime = time.strptime(stime,\"%Y-%m-%d %H:%M:%S\")\n",
    "formattime"
   ]
  },
  {
   "cell_type": "code",
   "execution_count": 51,
   "metadata": {},
   "outputs": [
    {
     "name": "stdout",
     "output_type": "stream",
     "text": [
      "2015\n",
      "8\n",
      "24\n",
      "13\n",
      "1\n",
      "30\n",
      "0\n",
      "236\n",
      "-1\n"
     ]
    }
   ],
   "source": [
    "for i in formattime :\n",
    "    print(i)"
   ]
  },
  {
   "cell_type": "code",
   "execution_count": 38,
   "metadata": {
    "scrolled": true
   },
   "outputs": [
    {
     "name": "stdout",
     "output_type": "stream",
     "text": [
      "start\n",
      "end\n"
     ]
    }
   ],
   "source": [
    "# time.sleep(secs)：线程推迟指定的时间运行\n",
    "# 线程睡眠指定时间，单位为妙。\n",
    "print('start')\n",
    "time.sleep(2)  #睡眠2秒\n",
    "print('end')"
   ]
  },
  {
   "cell_type": "markdown",
   "metadata": {},
   "source": [
    "### set()函数 创建集合"
   ]
  },
  {
   "cell_type": "code",
   "execution_count": 2,
   "metadata": {},
   "outputs": [
    {
     "data": {
      "text/plain": [
       "{'b', 'o', 'y'}"
      ]
     },
     "execution_count": 2,
     "metadata": {},
     "output_type": "execute_result"
    }
   ],
   "source": [
    "a=set(\"boy\")\n",
    "a"
   ]
  },
  {
   "cell_type": "code",
   "execution_count": 3,
   "metadata": {},
   "outputs": [
    {
     "name": "stdout",
     "output_type": "stream",
     "text": [
      "<class 'set'>\n"
     ]
    }
   ],
   "source": [
    "print(type(a))"
   ]
  },
  {
   "cell_type": "code",
   "execution_count": 18,
   "metadata": {
    "scrolled": true
   },
   "outputs": [
    {
     "data": {
      "text/plain": [
       "{'b', 'o', 'pythpon', 'y'}"
      ]
     },
     "execution_count": 18,
     "metadata": {},
     "output_type": "execute_result"
    }
   ],
   "source": [
    "a.add(\"pythpon\")#把python作为一整个元素添加到集合中\n",
    "a"
   ]
  },
  {
   "cell_type": "code",
   "execution_count": 19,
   "metadata": {
    "scrolled": true
   },
   "outputs": [
    {
     "data": {
      "text/plain": [
       "{'b', 'h', 'n', 'o', 'p', 'pythpon', 't', 'y'}"
      ]
     },
     "execution_count": 19,
     "metadata": {},
     "output_type": "execute_result"
    }
   ],
   "source": [
    "a.update('python')  #集合update方法：是把要传入的元素拆分，做为个体传入到集合中\n",
    "a"
   ]
  },
  {
   "cell_type": "code",
   "execution_count": 22,
   "metadata": {
    "scrolled": true
   },
   "outputs": [
    {
     "data": {
      "text/plain": [
       "{'b', 'h', 'n', 'o', 'p', 't', 'y'}"
      ]
     },
     "execution_count": 22,
     "metadata": {},
     "output_type": "execute_result"
    }
   ],
   "source": [
    "a.remove('pythpon')  #集合删除的方法\n",
    "a"
   ]
  },
  {
   "cell_type": "markdown",
   "metadata": {},
   "source": [
    "## strip()函数\n",
    "Python strip() 方法用于移除字符串头尾指定的字符（默认为空格或换行符）或字符序列。\n",
    "注意：该方法只能删除开头或是结尾的字符，不能删除中间部分的字符。"
   ]
  },
  {
   "cell_type": "code",
   "execution_count": 2,
   "metadata": {},
   "outputs": [
    {
     "name": "stdout",
     "output_type": "stream",
     "text": [
      "3210Runoob0123\n",
      "Runoob\n",
      "3abd\n",
      "3abd\n"
     ]
    }
   ],
   "source": [
    "str = \"00000003210Runoob01230000000\"; \n",
    "print (str.strip( '0' ))# 去除首尾字符 0\n",
    " \n",
    "str2 = \"   Runoob      \";   # 去除首尾空格\n",
    "print( str2.strip())\n",
    "\n",
    "a=\"123abd\"\n",
    "print(a.strip('21'))  #这里的rm删除序列是只要边（开头或结尾）上的字符在删除序列内，就删除掉。\n",
    "print(a.strip(\"12\"))\n"
   ]
  },
  {
   "cell_type": "code",
   "execution_count": 6,
   "metadata": {},
   "outputs": [
    {
     "name": "stdout",
     "output_type": "stream",
     "text": [
      "<class 'str'>\n"
     ]
    }
   ],
   "source": [
    "import json\n",
    "a={ \"name\":\"菜鸟教程\" , \"url\":\"www.runoob.com\" }\n",
    "a=str(a)\n",
    "print(type(a))"
   ]
  },
  {
   "cell_type": "markdown",
   "metadata": {},
   "source": [
    "## 获取目录的函数"
   ]
  },
  {
   "cell_type": "code",
   "execution_count": null,
   "metadata": {},
   "outputs": [],
   "source": [
    "#当前文件的路径为PycharmProjects/pythonLearn/dir/dir2/getRootPath.py\n",
    "cur_path = os.path.dirname(os.path.realpath(__file__)) \n",
    "#得到的目录为PycharmProjects/pythonLearn/dir/dir2"
   ]
  },
  {
   "cell_type": "markdown",
   "metadata": {},
   "source": [
    "### globals()自动创建集合"
   ]
  },
  {
   "cell_type": "code",
   "execution_count": 5,
   "metadata": {},
   "outputs": [
    {
     "name": "stdout",
     "output_type": "stream",
     "text": [
      "{0} {1} {2}\n",
      "{0},{1},{2}\n"
     ]
    }
   ],
   "source": [
    "\n",
    "def fun():\n",
    "    dfg = ['aa', 'bb', 'cc']\n",
    "    i = 0\n",
    "    for n in dfg:\n",
    "        globals()[n] = {i}   #花括号的为集合或者字典，这里通过迭代，自动定义三个变量，并且每个变量是集合形式\n",
    "        i += 1\n",
    "    return aa,bb,cc\n",
    "w,x,y=fun()\n",
    "print(str(w)+','+str(x)+','+str(y))\n"
   ]
  },
  {
   "cell_type": "markdown",
   "metadata": {},
   "source": [
    "### 使用globals()自动创建字典。"
   ]
  },
  {
   "cell_type": "code",
   "execution_count": 6,
   "metadata": {},
   "outputs": [
    {
     "name": "stdout",
     "output_type": "stream",
     "text": [
      "{'data': [0, 1, 2, 3, 4]},{'data': [0, 1, 2, 3, 4]},{'data': [0, 1, 2, 3, 4]}\n"
     ]
    }
   ],
   "source": [
    "def fun():\n",
    "    dfg=['aa','bb','cc']\n",
    "    for n in dfg:\n",
    "        globals()[n]={}   #先迭代自动创建变量，花括号是集合或者字典\n",
    "        globals()[n]['data'] = []   #每个变量自动创建为键为‘data’的字典，其中对应的值为列表\n",
    "        for i in range(5):\n",
    "            globals()[n]['data'].append(i)   #data对应的值为列表，通过append添加元素\n",
    "    return aa,bb,cc\n",
    "w,x,y=fun()\n",
    "print(str(w)+','+str(x)+','+str(y))"
   ]
  },
  {
   "cell_type": "markdown",
   "metadata": {},
   "source": [
    "### getattr函数的用法"
   ]
  },
  {
   "cell_type": "code",
   "execution_count": 38,
   "metadata": {},
   "outputs": [
    {
     "data": {
      "text/plain": [
       "'小谢'"
      ]
     },
     "execution_count": 38,
     "metadata": {},
     "output_type": "execute_result"
    }
   ],
   "source": [
    "class Object:\n",
    "    name=\"小谢\"\n",
    "    def method(self,a):\n",
    "        print(\"你好\"+self.a)\n",
    "object=Object()\n",
    "\n",
    "# getattr(object, name)  =  object.name\n",
    "getattr(object, \"name\")"
   ]
  },
  {
   "cell_type": "markdown",
   "metadata": {},
   "source": [
    "### isinstance函数\n",
    "Python 中的 isinstance 函数用于判断一个 对象 是否是某种类型。 isinstance 不仅可以用于内置类型的判断，也可以用于自定义 类 的判断。\n",
    "语法：isinstance(object, classinfo)\n",
    "说明：\n",
    "判断实例 object 是否为类 classinfo 的类型，如果 object 是 classinfo 的类型返回 True，否则返回 False。\n",
    "isinstance 函数的第二个参数可以是一个 元祖，如果第二个参数是一个元祖，那么只要第一个参数 object 是元祖中类的任何一个类型，那么 isinstance 就返回 True。"
   ]
  },
  {
   "cell_type": "code",
   "execution_count": 41,
   "metadata": {},
   "outputs": [
    {
     "name": "stdout",
     "output_type": "stream",
     "text": [
      "name isinstance str = True\n",
      "嗨客网(www.haicoder.net)\n",
      "student isinstance Person = True\n",
      "teacher isinstance Person = True\n",
      "cat isinstance Person = False\n"
     ]
    },
    {
     "ename": "TypeError",
     "evalue": "isinstance() arg 2 must be a type or tuple of types",
     "output_type": "error",
     "traceback": [
      "\u001b[1;31m---------------------------------------------------------------------------\u001b[0m",
      "\u001b[1;31mTypeError\u001b[0m                                 Traceback (most recent call last)",
      "\u001b[1;32m<ipython-input-41-1a2b584534d0>\u001b[0m in \u001b[0;36m<module>\u001b[1;34m\u001b[0m\n\u001b[0;32m     17\u001b[0m \u001b[0mprint\u001b[0m\u001b[1;33m(\u001b[0m\u001b[1;34m\"teacher isinstance Person =\"\u001b[0m\u001b[1;33m,\u001b[0m \u001b[0misinstance\u001b[0m\u001b[1;33m(\u001b[0m\u001b[0mteacher\u001b[0m\u001b[1;33m,\u001b[0m \u001b[0mPerson\u001b[0m\u001b[1;33m)\u001b[0m\u001b[1;33m)\u001b[0m\u001b[1;33m\u001b[0m\u001b[1;33m\u001b[0m\u001b[0m\n\u001b[0;32m     18\u001b[0m \u001b[0mprint\u001b[0m\u001b[1;33m(\u001b[0m\u001b[1;34m\"cat isinstance Person =\"\u001b[0m\u001b[1;33m,\u001b[0m \u001b[0misinstance\u001b[0m\u001b[1;33m(\u001b[0m\u001b[0mcat\u001b[0m\u001b[1;33m,\u001b[0m \u001b[0mPerson\u001b[0m\u001b[1;33m)\u001b[0m\u001b[1;33m)\u001b[0m\u001b[1;33m\u001b[0m\u001b[1;33m\u001b[0m\u001b[0m\n\u001b[1;32m---> 19\u001b[1;33m \u001b[0mprint\u001b[0m\u001b[1;33m(\u001b[0m\u001b[1;34m\"cat isinstance Person =\"\u001b[0m\u001b[1;33m,\u001b[0m \u001b[0misinstance\u001b[0m\u001b[1;33m(\u001b[0m\u001b[0mcat\u001b[0m\u001b[1;33m,\u001b[0m \u001b[1;33m(\u001b[0m\u001b[0mPerson\u001b[0m\u001b[1;33m,\u001b[0m \u001b[0mobject\u001b[0m\u001b[1;33m)\u001b[0m\u001b[1;33m)\u001b[0m\u001b[1;33m)\u001b[0m\u001b[1;33m\u001b[0m\u001b[1;33m\u001b[0m\u001b[0m\n\u001b[0m",
      "\u001b[1;31mTypeError\u001b[0m: isinstance() arg 2 must be a type or tuple of types"
     ]
    }
   ],
   "source": [
    "name = \"HaiCoder\"\n",
    "print(\"name isinstance str =\", isinstance(name, str))\n",
    "print(\"嗨客网(www.haicoder.net)\")\n",
    "class Person:\n",
    "    pass\n",
    "class Student(Person):\n",
    "    pass\n",
    "class Teacher(Student):\n",
    "    pass\n",
    "class Cat:\n",
    "    pass\n",
    "person = Person()\n",
    "student = Student()\n",
    "teacher = Teacher()\n",
    "cat = Cat()\n",
    "print(\"student isinstance Person =\", isinstance(student, Person))\n",
    "print(\"teacher isinstance Person =\", isinstance(teacher, Person))\n",
    "print(\"cat isinstance Person =\", isinstance(cat, Person))\n",
    "print(\"cat isinstance Person =\", isinstance(cat, (Person, object)))"
   ]
  }
 ],
 "metadata": {
  "kernelspec": {
   "display_name": "Python 3",
   "language": "python",
   "name": "python3"
  },
  "language_info": {
   "codemirror_mode": {
    "name": "ipython",
    "version": 3
   },
   "file_extension": ".py",
   "mimetype": "text/x-python",
   "name": "python",
   "nbconvert_exporter": "python",
   "pygments_lexer": "ipython3",
   "version": "3.8.5"
  }
 },
 "nbformat": 4,
 "nbformat_minor": 5
}
