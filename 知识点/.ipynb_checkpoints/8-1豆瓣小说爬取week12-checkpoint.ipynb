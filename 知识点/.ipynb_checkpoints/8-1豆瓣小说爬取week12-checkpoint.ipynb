{
 "cells": [
  {
   "cell_type": "code",
   "execution_count": 1,
   "metadata": {},
   "outputs": [],
   "source": [
    "#urllib爬取\n",
    "import urllib.request #引入包\n",
    "import requests#\n",
    "url=\"https://www.bilibili.com\"\n",
    "headers={'User-Agent': 'Mozilla/5.0 (Windows NT 10.0; Win64; x64) AppleWebKit/537.36 (KHTML, like Gecko) Chrome/88.0.4324.190 Safari/537.36'}\n",
    "req=urllib.request.Request(url,headers=headers)\n",
    "response=urllib.request.urlopen(req) #爬取网页\n",
    "response\n",
    "data=response.read().decode()#\n",
    "data\n",
    "file_path=\"./bilibli首页1.html\"\n",
    "with open(file_path,\"w\",encoding=\"utf-8\") as f:\n",
    "    f.write(data)\n"
   ]
  },
  {
   "cell_type": "code",
   "execution_count": 4,
   "metadata": {},
   "outputs": [],
   "source": [
    "#requests爬取\n",
    "import urllib.request #引入包\n",
    "import requests#\n",
    "from bs4 import BeautifulSoup\n",
    "url=\"https://www.bilibili.com\"\n",
    "headers={'User-Agent': 'Mozilla/5.0 (Windows NT 10.0; Win64; x64) AppleWebKit/537.36 (KHTML, like Gecko) Chrome/88.0.4324.190 Safari/537.36'}\n",
    "\n",
    "response=requests.get(url,headers=headers)#爬取网页\n",
    "response\n",
    "data=response.text#\n",
    "data\n",
    "file_path=\"./bilibli首页3.html\"\n",
    "with open(file_path,\"w\",encoding=\"utf-8\") as f:\n",
    "    f.write(data)"
   ]
  },
  {
   "cell_type": "markdown",
   "metadata": {},
   "source": [
    "## 使用BeautifulSoup 进行网页内容抓取，自动标记筛选\n",
    "   1. <div>  </div >\n",
    "   2. 引入bs4 里面"
   ]
  },
  {
   "cell_type": "code",
   "execution_count": 5,
   "metadata": {},
   "outputs": [],
   "source": [
    "#对抓取到的网页内容data 进行自动筛选\n",
    "from bs4 import BeautifulSoup"
   ]
  },
  {
   "cell_type": "code",
   "execution_count": 7,
   "metadata": {},
   "outputs": [],
   "source": [
    "#实列化一个soup对象，以网页的形式，对抓取的内容进行解析\n",
    "soup=BeautifulSoup(data,\"html.parser\")\n",
    "\n"
   ]
  },
  {
   "cell_type": "code",
   "execution_count": 8,
   "metadata": {},
   "outputs": [
    {
     "data": {
      "text/plain": [
       "[<title>哔哩哔哩 (゜-゜)つロ 干杯~-bilibili</title>]"
      ]
     },
     "execution_count": 8,
     "metadata": {},
     "output_type": "execute_result"
    }
   ],
   "source": [
    "title=soup.select(\"title\")\n",
    "title"
   ]
  },
  {
   "cell_type": "markdown",
   "metadata": {},
   "source": [
    "##  四、实例爬取豆瓣读书里小说标签下所有书籍的书名，作者、出版时间，价格、评分数，评价人数\n",
    "        1.分析网址https://book.douban.com/tag/%E5%B0%8F%E8%AF%B4?start=0&type=T 发现小说两个字，已经被转码ascii码。\n",
    "        2.quote(key)将汉字编码成ascii码\n",
    "        2.第2页，网址：https://book.douban.com/tag/%E5%B0%8F%E8%AF%B4?start=20&type=T，发现每一页放20本小说，如果是第4页start=60\n",
    "        #subject_list > ul > li:nth-child(20) > div.info > h2 > a"
   ]
  },
  {
   "cell_type": "code",
   "execution_count": 5,
   "metadata": {},
   "outputs": [],
   "source": [
    "key=\"小说\"\n",
    "key_ascii=urllib.request.quote(key)\n"
   ]
  },
  {
   "cell_type": "code",
   "execution_count": 18,
   "metadata": {},
   "outputs": [
    {
     "name": "stdout",
     "output_type": "stream",
     "text": [
      "活着\n",
      "文城\n",
      "克拉拉与太阳\n",
      "暗夜与黎明\n",
      "白夜行\n",
      "房思琪的初恋乐园\n",
      "红楼梦\n",
      "1984\n",
      "追风筝的人\n",
      "小王子\n",
      "夜晚的潜水艇\n",
      "百年孤独\n",
      "解忧杂货店\n",
      "蛤蟆先生去看心理医生\n",
      "杀死一只知更鸟\n",
      "许三观卖血记\n",
      "局外人\n",
      "霍乱时期的爱情\n",
      "字母表谜案\n",
      "杏仁\n",
      "三体全集:地球往事三部曲\n",
      "绝叫\n",
      "三体:“地球往事”三部曲之一\n",
      "云边有个小卖部\n",
      "人生海海\n",
      "围城\n",
      "默读\n",
      "桶川跟踪狂杀人事件\n",
      "嫌疑人X的献身\n",
      "月亮与六便士\n",
      "天涯客（下册）:山河令\n",
      "遥远的救世主\n",
      "献给阿尔吉侬的花束\n",
      "飘\n",
      "野猪渡河\n",
      "平凡的世界（全三部）\n",
      "生吞\n",
      "斯通纳:ANovel\n",
      "围城\n",
      "明朝那些事儿（1-9）:限量版\n"
     ]
    }
   ],
   "source": [
    "#多页动态爬取\n",
    "import urllib.request #引入包\n",
    "import requests#\n",
    "from bs4 import BeautifulSoup\n",
    "#quote(key)将汉字编码成ascii码\n",
    "key=\"小说\"\n",
    "book_name_list=[]\n",
    "author_list=[]\n",
    "time_list=[]\n",
    "price_list=[]\n",
    "key_ascii=urllib.request.quote(key) \n",
    "headers={'User-Agent': 'Mozilla/5.0 (Windows NT 10.0; Win64; x64) AppleWebKit/537.36 (KHTML, like Gecko) Chrome/88.0.4324.190 Safari/537.36'}\n",
    "#爬取前2页内容\n",
    "for i in range(0,2):    \n",
    "    url=\"https://book.douban.com/tag/\"+str(key_ascii)+\"?start=\"+str(i*20)+\"&type=T\"\n",
    "    response=requests.get(url,headers=headers)#爬取网页\n",
    "    data=response.text#\n",
    "    file_path=\"./豆瓣小说\"+str(i+1)+\".html\"\n",
    "    with open(file_path,\"w\",encoding=\"utf-8\") as f:\n",
    "        f.write(data)\n",
    "    soup=BeautifulSoup(data,\"html.parser\")\n",
    "    #读取每一页的20本书\n",
    "    for i in range(1,21):\n",
    "        book_name=soup.select(\"#subject_list > ul > li:nth-child(\"+str(i)+\") > div.info > h2 > a\")\n",
    "        #book_name=book_name[0]\n",
    "        #print(book_name.get_text())#直接读取除标签外的内容\n",
    "        #去掉换行和空格\n",
    "        #print(book_name.get_text().replace(\"\\n\",\"\").replace(\" \",\"\"))\n",
    "        book_name_list.append(book_name.get_text().replace(\"\\n\",\"\").replace(\" \",\"\"))\n",
    "        author_time_price=soup.select('#subject_list > ul > li:nth-child('+str(i)+') > div.info > div.pub')\n",
    "        author_time_price=author_time_price[0]\n",
    "        author_time_price=author_time_price.get_text().replace(\"\\n\",\"\").replace(\" \",\"\")\n",
    "        author_time_price=author_time_price.split(\"/\")\n",
    "        #print(author_time_price)\n",
    "        #author_list.append(author_time_price[0])\n",
    "        #time_list.append(author_time_price[-2])\n",
    "        #price_list.append(author_time_price[-1])\n",
    "        #print(time_list)"
   ]
  },
  {
   "cell_type": "code",
   "execution_count": null,
   "metadata": {},
   "outputs": [],
   "source": []
  }
 ],
 "metadata": {
  "kernelspec": {
   "display_name": "Python 3",
   "language": "python",
   "name": "python3"
  },
  "language_info": {
   "codemirror_mode": {
    "name": "ipython",
    "version": 3
   },
   "file_extension": ".py",
   "mimetype": "text/x-python",
   "name": "python",
   "nbconvert_exporter": "python",
   "pygments_lexer": "ipython3",
   "version": "3.8.5"
  }
 },
 "nbformat": 4,
 "nbformat_minor": 4
}
