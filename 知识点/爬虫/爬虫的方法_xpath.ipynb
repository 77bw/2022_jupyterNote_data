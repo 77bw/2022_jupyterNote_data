{
 "cells": [
  {
   "cell_type": "raw",
   "metadata": {},
   "source": [
    "在检查元素中按cirl+f进行选择\n",
    "//跳级，获取所有节点\n",
    "/直接子级，获取下级节点\n",
    ".选取当前节点\n",
    "@选取属性\n",
    "拿到属性值： @属性\n",
    "*\t匹配任何元素节点。\n",
    "@*\t匹配任何属性节点。\n",
    "node()\t匹配任何类型的节点。\n",
    "/bookstore/book[1]  选取属于 bookstore 子元素的第一个 book 元素。\n",
    "/bookstore/book[last()]  选取属于 bookstore 子元素的最后一个 book 元素。\n",
    "/bookstore/book[last()-1]\t选取属于 bookstore 子元素的倒数第二个 book 元素。\n",
    "/bookstore/book[position()<3]\t选取最前面的两个属于 bookstore 元素的子元素的 book 元素。\n",
    "text"
   ]
  },
  {
   "cell_type": "code",
   "execution_count": null,
   "metadata": {},
   "outputs": [],
   "source": [
    "注意：有些网页的检查在网页源代码元素构造不一样，可以找接口，或者在网页源代码中进行xpath的解析"
   ]
  },
  {
   "cell_type": "markdown",
   "metadata": {},
   "source": [
    "//div[@class=\"pages\"]//a[contains(., \"下一页\")]\n",
    "https://tech.china.com/articles/"
   ]
  },
  {
   "cell_type": "code",
   "execution_count": null,
   "metadata": {},
   "outputs": [],
   "source": [
    "//input[contains(@name,’na’)] 查找name属性中包含na关键字的页面元素\n",
    "    //span[contains(text(),'用户名')]/parent::td/following-sibling::td//input[@name='username']  #查找文本包含用户名的页面元素"
   ]
  },
  {
   "cell_type": "code",
   "execution_count": null,
   "metadata": {},
   "outputs": [],
   "source": [
    "获取子标签没有 img 标签的a标签\n",
    "xpath('//li//a[not(img)]')\n",
    "\n",
    "//*[@id=\"content\"]/*[not(@type=\"text/javascript\") and not (div)]//text()  #不包含div标签和类型为text的标签"
   ]
  },
  {
   "cell_type": "markdown",
   "metadata": {},
   "source": [
    "选取若干路径   加上一个|就可以匹配多个"
   ]
  },
  {
   "cell_type": "code",
   "execution_count": null,
   "metadata": {},
   "outputs": [],
   "source": [
    "//book/title | //book/price       选取 book 元素的所有 title 和 price 元素 \n",
    "data1 = selector.xpath(\"//input[@type='submit' and @name='fuck']\"); #选取属性submit和fuck的元素\n",
    "data2 = selector.xpath(\"//input[@type='submit' or @name='fuck']\");   #选取属性submit或fuck的元素\n",
    "data2 = selector.xpath(\"//input[@type='submit' and not(contains(@name,'fuck'))]\");  #选取属性submit和不包含fuck的元素\n",
    "data3 = selector.xpath(\"//input[starts-with(@id,'fuck')]\"));  #查找id属性中开始位置包含'fuck'关键字的页面元素\n",
    "data4 = selector.xpath(\"//input[ends-with(@id,'fuck')]\"));    #查找id属性中结尾位置包含'fuck'关键字的页面元素\n",
    "data5 = selector.xpath(\"//input[contains(@id,'fuck')]\"));      #查找包含id属性为fuck的\n"
   ]
  },
  {
   "cell_type": "raw",
   "metadata": {},
   "source": [
    "有账号登录要获取cookie\n",
    "xpath的安装与使用:\n",
    "xpath安装: pip install lxml\n",
    "//div[@class=\"opr-recommends-merge-content\"]//a[contains(@class,\"inc_rs_a\")]/text() \n",
    "contains中包含class类中的一半\n",
    "//table[contains(@class,\"opr-toplist-table\")]/tbody/tr//a"
   ]
  },
  {
   "cell_type": "code",
   "execution_count": 1,
   "metadata": {},
   "outputs": [
    {
     "name": "stdout",
     "output_type": "stream",
     "text": [
      "<Response [200]>\n",
      "输入输出设备\n",
      "此电脑\n",
      "智能电脑\n",
      "人工智能计算器\n",
      "中央处理器\n",
      "超强计算器\n",
      "电脑外设\n",
      "单片机\n",
      "编程计算器\n"
     ]
    }
   ],
   "source": [
    "import requests#\n",
    "from lxml import etree #导入xpath库\n",
    "url=\"https://www.baidu.com/s?wd=%E8%AE%A1%E7%AE%97%E6%9C%BA&rsv_spt=1&rsv_iqid=0x90b8d39900005021&issp=1&f=8&rsv_bp=1&rsv_idx=2&ie=utf-8&tn=baiduhome_pg&rsv_enter=1&rsv_dl=tb&rsv_sug3=5&rsv_sug1=2&rsv_sug7=100&rsv_sug2=0&rsv_btype=i&prefixsug=%25E8%25AE%25A1%25E7%25AE%2597%25E6%259C%25BA&rsp=5&inputT=1898&rsv_sug4=7096\"\n",
    "headers={\"user-agent\": \"Mozilla/5.0 (Windows NT 10.0; Win64; x64) AppleWebKit/537.36 (KHTML, like Gecko) Chrome/95.0.4638.69 Safari/537.36\"}\n",
    "Cookie='BIDUPSID=5B142329744B593463103A1C53DE56A7; PSTM=1634014521; BAIDUID=5B142329744B5934C9BC7D7BCE3704DD:FG=1; BD_UPN=12314753; BDUSS=jg5dW9iVXUtQjllUVlJUX53VXFlTkhheWpUUkdQT3JOTVEtbTliaExyRjRxb3hoSVFBQUFBJCQAAAAAAAAAAAEAAAC~qU91cG9yaXplMzU5NTM3MTgAAAAAAAAAAAAAAAAAAAAAAAAAAAAAAAAAAAAAAAAAAAAAAAAAAAAAAAAAAAAAAAAAAHgdZWF4HWVhM; BDUSS_BFESS=jg5dW9iVXUtQjllUVlJUX53VXFlTkhheWpUUkdQT3JOTVEtbTliaExyRjRxb3hoSVFBQUFBJCQAAAAAAAAAAAEAAAC~qU91cG9yaXplMzU5NTM3MTgAAAAAAAAAAAAAAAAAAAAAAAAAAAAAAAAAAAAAAAAAAAAAAAAAAAAAAAAAAAAAAAAAAHgdZWF4HWVhM; __yjs_duid=1_2fbf6c8599e68165d5d6096956ce853f1634189800278; BDORZ=B490B5EBF6F3CD402E515D22BCDA1598; delPer=0; BD_CK_SAM=1; PSINO=6; shifen[314221349744_37725]=1636598590; BCLID=8712587017495125600; BDSFRCVID=b3_OJeC626uvM6OHZ0C1hhhGJ6sc9EnTH6aoj0I6RzdPPR6TiB-aEG0PMM8g0KAMVIkhogKK3gOTH4AF_2uxOjjg8UtVJeC6EG0Ptf8g0f5; H_BDCLCKID_SF=tJkDVI_atCP3DPnwh-QDKICShGRmqlO9WDTm_Dos-J5TMxjSjnua34kJqJ7bKxoiMRrI-pPKKR7jsID6Wh5oMb3XLn_t2PrX3mkjbUOyfn02OP5PQluKDP4syP4eKMRnWnnCKfA-b4ncjRcTehoM3xI8LNj405OTbIFO0KJDJCF5hCKwejuhj6PhMMrL54vJbT4X3b7EfbcYfh7_bf--D6K9QH3r5fkfMR6QBnPEynbqhRFw34nxy5K_hNoObfbDBIohV66vMU7qKfnHQT3mMhQbbN3i-4jQKD5zWb3cWKOJ8UbSjMQPBTD02-nBat-OQ6npaJ5nJq5nhMJmb67JD-50eG-Ht6F8fRIqV-cS2R6Hj-bmKKTjhPrM5xOWWMT-0bFH_fONtPT-OK3eW4QsMKuRbMjQJ-DtbHn7_JjO0bOvs-cKK-K2Q5tbBU_L-UQxtNR3-CnjtpvhHRRPMq6obUPUDUJ9LUkJ0mcdot5yBbc8eIna5hjkbfJBQttjQn3hfIkj0DKLtDPbhKLmD6L35n-WqlQLatcKaDJ0sJOOaCvdoDbOy4oTj6D15lOM3Jj7264HXnnS2p0aOf3Njl853MvB-fnyJb5I02bx3-DXyJCBfC_wQft20h4EeMtjB53aQmoI-b7jWhk5ep72y5ONQlRX5q79atTMfNTJ-qcH0KQpsIJM5-DWbT8IjHCetT-JfRuJoIvyMjrteJrT-R0_-P6M-GbdWMT-0bFH_t5KBCQcOMFxLTQsM-k1yGje55c4aHn7_JjO2DJzMxoubh3m06K7MtKL5xQxtNRu2CnjtpvN8fQVMP7obUPUDUJ9LUkJ0mcdot5yBbc8eIna5hjkbfJBQttjQn3hfIkj0DKLK-oj-D_9jT_b3e; BCLID_BFESS=8712587017495125600; BDSFRCVID_BFESS=b3_OJeC626uvM6OHZ0C1hhhGJ6sc9EnTH6aoj0I6RzdPPR6TiB-aEG0PMM8g0KAMVIkhogKK3gOTH4AF_2uxOjjg8UtVJeC6EG0Ptf8g0f5; H_BDCLCKID_SF_BFESS=tJkDVI_atCP3DPnwh-QDKICShGRmqlO9WDTm_Dos-J5TMxjSjnua34kJqJ7bKxoiMRrI-pPKKR7jsID6Wh5oMb3XLn_t2PrX3mkjbUOyfn02OP5PQluKDP4syP4eKMRnWnnCKfA-b4ncjRcTehoM3xI8LNj405OTbIFO0KJDJCF5hCKwejuhj6PhMMrL54vJbT4X3b7EfbcYfh7_bf--D6K9QH3r5fkfMR6QBnPEynbqhRFw34nxy5K_hNoObfbDBIohV66vMU7qKfnHQT3mMhQbbN3i-4jQKD5zWb3cWKOJ8UbSjMQPBTD02-nBat-OQ6npaJ5nJq5nhMJmb67JD-50eG-Ht6F8fRIqV-cS2R6Hj-bmKKTjhPrM5xOWWMT-0bFH_fONtPT-OK3eW4QsMKuRbMjQJ-DtbHn7_JjO0bOvs-cKK-K2Q5tbBU_L-UQxtNR3-CnjtpvhHRRPMq6obUPUDUJ9LUkJ0mcdot5yBbc8eIna5hjkbfJBQttjQn3hfIkj0DKLtDPbhKLmD6L35n-WqlQLatcKaDJ0sJOOaCvdoDbOy4oTj6D15lOM3Jj7264HXnnS2p0aOf3Njl853MvB-fnyJb5I02bx3-DXyJCBfC_wQft20h4EeMtjB53aQmoI-b7jWhk5ep72y5ONQlRX5q79atTMfNTJ-qcH0KQpsIJM5-DWbT8IjHCetT-JfRuJoIvyMjrteJrT-R0_-P6M-GbdWMT-0bFH_t5KBCQcOMFxLTQsM-k1yGje55c4aHn7_JjO2DJzMxoubh3m06K7MtKL5xQxtNRu2CnjtpvN8fQVMP7obUPUDUJ9LUkJ0mcdot5yBbc8eIna5hjkbfJBQttjQn3hfIkj0DKLK-oj-D_9jT_b3e; BAIDUID_BFESS=BF3300D8D008EEB684C552B7A6E74ACC:FG=1; BD_HOME=1; BDRCVFR[feWj1Vr5u3D]=I67x6TjHwwYf0; H_PS_PSSID=34945_34440_35106_31253_34968_34902_35097_34518_34916_34578_34813_34814_26350_34973_35113_35021; H_PS_645EC=6f831PKHrZmlhKnVJb4iuabGqK7FRpHExVlbAtz4%2BoqoYTZWX%2BxjCxLYmDeLp2BeoUh8; BDSVRTM=443; BA_HECTOR=85ah8h2hah24a0alhq1gop3rv0q; channel=baidusearch; baikeVisitId=f9df5860-6b5e-41a1-a4bd-6c90a03100ff; COOKIE_SESSION=3139_1_9_9_1_13_1_0_8_9_1_0_0_0_0_0_1636598597_1636598591_1636601726%7C9%2367488_85_1636598587%7C9'\n",
    "cookies={i.split('=')[0]:i.split('=')[1] for i in Cookie.split(';')}\n",
    "response=requests.get(url,headers=headers,cookies=cookies)#爬取网页，得到响应。\n",
    "response.encoding=\"utf-8\"\n",
    "print(response)\n",
    "tree = etree.HTML(response.text)\n",
    "about=tree.xpath('//div[@class=\"opr-recommends-merge-content\"]//a[contains(@class,\"inc_rs_a\")]/text()')\n",
    "for i in about:\n",
    "    print(i)\n",
    "#print(about)"
   ]
  },
  {
   "cell_type": "code",
   "execution_count": 24,
   "metadata": {},
   "outputs": [
    {
     "name": "stdout",
     "output_type": "stream",
     "text": [
      "{'bw': ['输入输出设备', '此电脑', '智能电脑', '人工智能计算器', '中央处理器', '超强计算器', '电脑外设', '单片机', '编程计算器']}\n"
     ]
    }
   ],
   "source": [
    "all=tree.xpath('//div[@class=\"opr-recommends-merge-content\"]')\n",
    "for a in all:\n",
    "    index=a.xpath('//a[contains(@class,\"inc_rs_a\")]/text()')\n",
    "a={\"bw\":index}\n",
    "print(a)"
   ]
  },
  {
   "cell_type": "code",
   "execution_count": 28,
   "metadata": {
    "scrolled": true
   },
   "outputs": [
    {
     "name": "stdout",
     "output_type": "stream",
     "text": [
      "\r\n",
      "<html>\n",
      "<head>\n",
      "    <meta name=\"data-spm\" content=\"a2107\"/>\n",
      "    <title>\n",
      "                    淘宝网 - 淘！我喜欢            </title>\n",
      "    <meta charset=\"UTF-8\"/>\n",
      "    <meta http-equiv=\"X-UA-Compatible\" content=\"IE=edge\"/>\n",
      "    <meta name=\"eagleeye-trace\" content=\"212cdcb416366084906538898d05d6\">\n",
      "    <meta name=\"referer-host\" content=\"\">\n",
      "    <meta name=\"referer-host-valid\" content=\"false\">\n",
      "    <meta name=\"viewport\"\n",
      "          content=\"width=device-width, initial-scale=1, maximum-scale=1\"/>\n",
      "    <meta name=\"description\"\n",
      "          content=\"淘宝网(Taobao.com)作为专业的购物网站拥有全球时尚前沿的消费者购物集市,100%认证网上商城及超值二手商品区，同时购物安全，产品丰富，应有尽有,任你选购,让你尽享网上在线购物乐趣！\"/>\n",
      "    <meta name=\"keywords\"\n",
      "          content=\"淘宝,掏宝,网上购物,C2C,在线交易,交易市场,网上交易,交易市场,网上买,网上卖，购物网站,团购,网上贸易,安全购物,电子商务,放心买,供应,买卖信息,网店,一口价,拍卖,网上开店,网络购物,打折,免费开店,网购,频道,店铺\"/>\n",
      "    <script>\n",
      "        //全登陆不允许iframe嵌入\n",
      "        if (window.top !== window.self) {\n",
      "            window.top.location = window.location;\n",
      "        }\n",
      "\n",
      "                window.enableWwSsoPluginLogin = true;\n",
      "            </script>\n",
      "    <link href=\"//gw.alicdn.com/tps/i2/TB1nmqyFFXXXXcQbFXXE5jB3XXX-114-114.png\" rel=\"apple-touch-icon-precomposed\"/>\n",
      "    <link rel=\"shortcut icon\" href=\"//gw.alicdn.com/tps/i2/TB1nmqyFFXXXXcQbFXXE5jB3XXX-114-114.png\" type=\"image/x-icon\"/>\n",
      "\n",
      "    \n",
      "    \n",
      "    <link href=\"https://x.alicdn.com/vip/havana-nlogin/0.6.7/index.css\" rel=\"stylesheet\" type=\"text/css\"/>\n",
      "\n",
      "<link href=\"https://g.alicdn.com/vip/biz-assets/0.0.18/assets/taobao_pc.css\" rel=\"stylesheet\" type=\"text/css\"/>\n",
      "    <script type=\"text/javascript\" charset=\"utf-8\" src=\"\" id=\"\"></script>\n",
      "         <style>\n",
      "        .qrcode-img {\n",
      "            box-shadow: 0 0 8px #c6c4ce;\n",
      "        }\n",
      "    </style>\n",
      "</head>\n",
      "<body class=\"chl-reg\" data-spm=\"1\"><script>\n",
      "with(document)with(body)with(insertBefore(createElement(\"script\"),firstChild))setAttribute(\"exparams\",\"category=&userid=&aplus&yunid=&e01673779ef70&trid=213ee58c16366084906577274e1871&asid=AQAAAADqqYxh14LkQAAAAABr7TzDGBbJpg==\",id=\"tb-beacon-aplus\",src=(location>\"https\"?\"//g\":\"//g\")+\".alicdn.com/alilog/mlog/aplus_v2.js\")\n",
      "</script>\n",
      "\n",
      "\n",
      "<div id=\"page\" class=\"\">\n",
      "\n",
      "    <div id=\"header\" class=\"clearfix\">\n",
      "\n",
      "                    <style>\n",
      "    .login-msg.error {\n",
      "        border-color: #ffb4a8;\n",
      "        background-color: #fef2f2;\n",
      "        color: #6C6C6C;\n",
      "    }\n",
      "\n",
      "    .login-msg {\n",
      "        line-height: 16px;\n",
      "        padding: 6px 10px;\n",
      "        overflow: hidden;\n",
      "        width: 278px;\n",
      "        background: #fef2f2;\n",
      "        border: 1px solid;\n",
      "    }\n",
      "\n",
      "    #header {\n",
      "        padding: 22px 0;\n",
      "        height: 88px;\n",
      "        box-sizing: border-box;\n",
      "    }\n",
      "\n",
      "</style>\n",
      "\n",
      "<div class=\"logo\">\n",
      "    <h1><a title=\"淘宝网\" class=\"logo-link\" href=\"//www.taobao.com\"></a></h1>\n",
      "\n",
      "    <a href=\"https://survey.taobao.com/survey/Q095thIx2\" class=\"link\">\n",
      "        <i class=\"iconfont\">&#xe61c;</i> \"登录页面\"改进建议    </a>\n",
      "</div>            </div>\n",
      "    <div id=\"content\">\n",
      "        \n",
      "        <div class=\"login-newbg\"  style=\"background-image: url(https://img.alicdn.com/imgextra/i1/O1CN01CWrAGl1W7sjDR3Lri_!!6000000002742-0-tps-2500-600.jpg);height:600px;\">\n",
      "        <input type=\"hidden\" id=\"J_adUrl\" name=\"adUrl\" value=\"\">\n",
      "        <input type=\"hidden\" id=\"J_adImage\" name=\"adImage\" value=\"\">\n",
      "        <input type=\"hidden\" id=\"J_adText\" name=\"adText\" value=\"\">\n",
      "        <input type=\"hidden\" id=\"J_viewFd4PC\"  name=\"viewFd4PC\" value=\"\">\n",
      "        <input type=\"hidden\" id=\"J_viewFd4Mobile\" name=\"viewFd4Mobile\" value=\"\">\n",
      "    \n",
      "    </div>\n",
      "    <div class=\"login-adlink\">\n",
      "        <a href=\"https:&#x2F;&#x2F;pages.tmall.com&#x2F;wow&#x2F;a&#x2F;act&#x2F;tmall&#x2F;32985&#x2F;pha?wh_bizStageId=2679&amp;pha=true&amp;disableNav=YES&amp;wh_act_nativebar=2&amp;shop_router_ignore=true&amp;hd_from_id=100136\" target=\"_blank\" onclick=\"javascript:goldlog.record('/member.11.2','','','H46777405')\"></a>\n",
      "    </div>\n",
      "        <div class=\"content-layout\">\n",
      "            <div class=\"login-box-warp\">\n",
      "                                     <div id=\"container\" class=\"login-box\">\n",
      "                                    <script type=\"text/javascript\">\n",
      "    (function (x) {\n",
      "        x && (x.className += \" loading\")\n",
      "    })(document.getElementById(\"container\"))\n",
      "</script>             </div>\n",
      "    <script>\n",
      "    window.PAGE_START_LOAD_TIME = new Date().getTime();\n",
      "    window.LOGIN_UMID_LOAD = true;\n",
      "    window.viewConfig = {\"api\":{\"smsLoginApi\":\"/newlogin/sms/login.do?appName=taobao&fromSite=0\",\"loginApi\":\"/newlogin/login.do?appName=taobao&fromSite=0\",\"checkLoginApi\":\"/newlogin/checkLogin.do?appName=taobao&fromSite=0\",\"smsLoginRegApi\":\"/newlogin/sms/reg.do?appName=taobao&fromSite=0\",\"aKeyCheckApi\":\"/newlogin/akey-query.do?appName=taobao&fromSite=0\",\"getQRCodeApi\":\"/newlogin/qrcode/generate.do?appName=taobao&fromSite=0\",\"checkQRCodeApi\":\"/newlogin/qrcode/query.do?appName=taobao&fromSite=0\",\"conLoginApi\":\"/newlogin/mini_continue_login.do?appName=taobao&fromSite=0\",\"accountCheckApi\":\"/newlogin/account/check.do?appName=taobao&fromSite=0\",\"aKeyPushApi\":\"/newlogin/akey-push.do?appName=taobao&fromSite=0\",\"sendSmsApi\":\"/newlogin/sms/send.do?appName=taobao&fromSite=0\",\"hasLoginApi\":\"/newlogin/hasLogin.do?appName=taobao&fromSite=0\"},\"autoSendSmsCode\":false,\"checkedProtocol\":true,\"defaultView\":\"password\",\"errorTipPosition\":\"top\",\"inputDeleteEnable\":false,\"labelType\":\"icon\",\"loginTypes\":[{\"title\":\"\",\"type\":\"password\"},{\"title\":\"手机扫码，安全登录\",\"titleTip\":\"扫码登录更安全\",\"type\":\"qrcode\"}],\"machineVerifyType\":\"nocaptcha\",\"pwaEffect\":false,\"regStyle\":\"plain\",\"rsaExponent\":\"10001\",\"rsaModulus\":\"d3bcef1f00424f3261c89323fa8cdfa12bbac400d9fe8bb627e8d27a44bd5d59dce559135d678a8143beb5b8d7056c4e1f89c4e1f152470625b7b41944a97f02da6f605a49a93ec6eb9cbaf2e7ac2b26a354ce69eb265953d2c29e395d6d8c1cdb688978551aa0f7521f290035fad381178da0bea8f9e6adce39020f513133fb\",\"showAgreeToast\":false,\"smsCodeLength\":6,\"toastErrorStyle\":false,\"toastKeepTime\":1000,\"useBaxiaNc\":true,\"viewCfg\":{\"password\":{\"moduleCfg\":{\"blockCfg\":{\"smsLoginTabItem\":{\"className\":\"sms-login-tab-item\",\"href\":\"javascript:void(0);\",\"onClick\":\"function(){window.events.publish('changeView', 'sms');}\",\"text\":\"短信登录\",\"type\":\"link\"},\"weiboLoginLink\":{\"className\":\"weibo-login\",\"href\":\"http://weibo.com/login.php?entry=taobao&goto=https%3A%2F%2Flogin.taobao.com%2Faso%2Ftvs%3Fdomain%3Dweibo%26sid%3D546a9b2e343bfb09425d30e4a482179c%26target%3D687474703A2F2F692E74616F62616F2E636F6D2F757365722F62617365496E666F5365742E68746D3F73706D3D61317A30322E312E3937323237323830352E64343931323030352E4C353035317A&goto2=http%3A%2F%2Fi.taobao.com%2Fuser%2FbaseInfoSet.htm%3Fspm%3Da1z02.1.972272805.d4912005.L5051z\",\"target\":\"_self\",\"text\":\"<i class=\\\"iconfont\\\"></i>微博登录\",\"type\":\"link\"},\"alipayLoginLink\":{\"className\":\"alipay-login\",\"href\":\"https://auth.alipay.com/login/index.htm?loginScene=7&goto=https%3A%2F%2Fauth.alipay.com%2Flogin%2Ftaobao_trust_login.htm%3Ftarget%3Dhttps%253A%252F%252Flogin.taobao.com%252Fmember%252Falipay_sign_dispatcher.jhtml%253Ftg%253Dhttp%25253A%25252F%25252Fi.taobao.com%25252Fuser%25252FbaseInfoSet.htm%25253Fspm%25253Da1z02.1.972272805.d4912005.L5051z&params=VFBMX3JlZGlyZWN0X3VybD1odHRwJTNBJTJGJTJGaS50YW9iYW8uY29tJTJGdXNlciUyRmJhc2VJbmZvU2V0Lmh0bSUzRnNwbSUzRGExejAyLjEuOTcyMjcyODA1LmQ0OTEyMDA1Lkw1MDUxeg%3D%3D\",\"target\":\"_self\",\"text\":\"<i class=\\\"iconfont\\\"></i>支付宝登录\",\"type\":\"link\"},\"forgotUserNameLink\":{\"className\":\"forgot-username-a-link\",\"href\":\"https://passport.taobao.com/ac/nick_find.htm?from_site=0&lang=zh_CN&app_name=tb\",\"text\":\"忘记用户名\",\"type\":\"link\"},\"forgotPwdLink\":{\"className\":\"forgot-password-a-link\",\"href\":\"https://passport.taobao.com/ac/password_find.htm?from_site=0&lang=zh_CN&app_name=tb&tracelog=signin_main_pass\",\"text\":\"忘记密码\",\"type\":\"link\"},\"passwordLoginTabItem\":{\"className\":\"password-login-tab-item\",\"href\":\"javascript:void(0);\",\"onClick\":\"function(){window.events.publish('changeView', 'password');}\",\"text\":\"密码登录\",\"type\":\"link\"},\"registerLink\":{\"className\":\"register-a-link\",\"href\":\"https://reg.taobao.com/member/newbie.htm?from=login\",\"text\":\"免费注册\",\"type\":\"link\"}},\"blockClassMapping\":{\"block00\":\"login-switch-tab\",\"block8\":\"sns-login-links\",\"block9\":\"login-links\"},\"blockLayout\":{\"block00\":[\"passwordLoginTabItem\",\"smsLoginTabItem\"],\"block8\":[\"weiboLoginLink\",\"alipayLoginLink\",\"facebookLoginButton\"],\"block9\":[\"forgotPwdLink\",\"forgotUserNameLink\",\"registerLink\"]}},\"showMobileLogin\":false},\"qrcode\":{\"interval\":1000,\"moduleCfg\":{\"blockCfg\":{\"passwordLoginLink\":{\"href\":\"javascript:void(0);\",\"onClick\":\"function(){window.events.publish('changeView', 'password');}\",\"text\":\"密码登录\",\"type\":\"link\"},\"registerLink\":{\"className\":\"register-a-link\",\"href\":\"http://reg.taobao.com/member/newbie.htm?from=login\",\"text\":\"免费注册\",\"type\":\"link\"}},\"blockClassMapping\":{\"block3\":\"qrcode-bottom-links\"},\"blockLayout\":{\"block3\":[\"passwordLoginLink\",\"registerLink\"]}},\"size\":130,\"useImgQrCode\":false},\"sms\":{\"countryAreaSelectSelectStyle\":\"nativeStyleSimple\",\"moduleCfg\":{\"blockCfg\":{\"smsLoginTabItem\":{\"className\":\"sms-login-tab-item\",\"href\":\"javascript:void(0);\",\"onClick\":\"function(){window.events.publish('changeView', 'sms');}\",\"text\":\"短信登录\",\"type\":\"link\"},\"weiboLoginLink\":{\"className\":\"weibo-login\",\"href\":\"http://weibo.com/login.php?entry=taobao&goto=https%3A%2F%2Flogin.taobao.com%2Faso%2Ftvs%3Fdomain%3Dweibo%26sid%3D546a9b2e343bfb09425d30e4a482179c%26target%3D687474703A2F2F692E74616F62616F2E636F6D2F757365722F62617365496E666F5365742E68746D3F73706D3D61317A30322E312E3937323237323830352E64343931323030352E4C353035317A&goto2=http%3A%2F%2Fi.taobao.com%2Fuser%2FbaseInfoSet.htm%3Fspm%3Da1z02.1.972272805.d4912005.L5051z\",\"target\":\"_self\",\"text\":\"<i class=\\\"iconfont\\\"></i>微博登录\",\"type\":\"link\"},\"alipayLoginLink\":{\"className\":\"alipay-login\",\"href\":\"https://auth.alipay.com/login/index.htm?loginScene=7&goto=https%3A%2F%2Fauth.alipay.com%2Flogin%2Ftaobao_trust_login.htm%3Ftarget%3Dhttps%253A%252F%252Flogin.taobao.com%252Fmember%252Falipay_sign_dispatcher.jhtml%253Ftg%253Dhttp%25253A%25252F%25252Fi.taobao.com%25252Fuser%25252FbaseInfoSet.htm%25253Fspm%25253Da1z02.1.972272805.d4912005.L5051z&params=VFBMX3JlZGlyZWN0X3VybD1odHRwJTNBJTJGJTJGaS50YW9iYW8uY29tJTJGdXNlciUyRmJhc2VJbmZvU2V0Lmh0bSUzRnNwbSUzRGExejAyLjEuOTcyMjcyODA1LmQ0OTEyMDA1Lkw1MDUxeg%3D%3D\",\"target\":\"_self\",\"text\":\"<i class=\\\"iconfont\\\"></i>支付宝登录\",\"type\":\"link\"},\"passwordLoginTabItem\":{\"className\":\"password-login-tab-item\",\"href\":\"javascript:void(0);\",\"onClick\":\"function(){window.events.publish('changeView', 'password');}\",\"text\":\"密码登录\",\"type\":\"link\"},\"registerLink\":{\"className\":\"register-a-link\",\"href\":\"https://reg.taobao.com/member/newbie.htm?from=login\",\"text\":\"免费注册\",\"type\":\"link\"}},\"blockClassMapping\":{\"block00\":\"login-switch-tab\",\"block8\":\"sns-login-links\",\"block9\":\"login-links\"},\"blockLayout\":{\"block00\":[\"passwordLoginTabItem\",\"smsLoginTabItem\"],\"block8\":[\"weiboLoginLink\",\"alipayLoginLink\",\"facebookLoginButton\"],\"block9\":[\"registerLink\"]}}}},\"viewStyle\":\"corner_icon\"};\n",
      "    window.viewData = {\"appEntrance\":\"taobao_pc\",\"appName\":\"taobao\",\"awscCdn\":\"//g.alicdn.com\",\"countryAreaConfig\":{\"countryList\":[{\"areaName\":\"中国大陆\",\"checkKey\":\"^(86){0,1}1\\\\d{10}$\",\"countryCode\":\"CN\",\"phoneCode\":\"86\"},{\"areaName\":\"中国香港\",\"checkKey\":\"^(00){0,1}(852){1}0{0,1}[1,5,6,9,4](?:\\\\d{7}|\\\\d{8}|\\\\d{12})$\",\"countryCode\":\"HK\",\"phoneCode\":\"852\"},{\"areaName\":\"中国澳门\",\"checkKey\":\"^(00){0,1}(853){1}6\\\\d{7}$\",\"countryCode\":\"MO\",\"phoneCode\":\"853\"},{\"areaName\":\"中国台湾\",\"checkKey\":\"^(00){0,1}(886){1}0{0,1}[6,7,9](?:\\\\d{7}|\\\\d{8}|\\\\d{10})$\",\"countryCode\":\"TW\",\"phoneCode\":\"886\"},{\"areaName\":\"韩国\",\"checkKey\":\"^(00){0,1}(82){1}0{0,1}[7,1](?:\\\\d{8}|\\\\d{9})$\",\"countryCode\":\"KR\",\"phoneCode\":\"82\"},{\"areaName\":\"日本\",\"checkKey\":\"^(00){0,1}(81){1}0{0,1}[7,8,9](?:\\\\d{8}|\\\\d{9})$\",\"countryCode\":\"JP\",\"phoneCode\":\"81\"},{\"areaName\":\"美国\",\"checkKey\":\"^(00){0,1}(1){1}\\\\d{10,12}$\",\"countryCode\":\"US\",\"phoneCode\":\"1\"},{\"areaName\":\"加拿大\",\"checkKey\":\"^(00){0,1}(1){1}\\\\d{10}$\",\"countryCode\":\"CA\",\"phoneCode\":\"1\"},{\"areaName\":\"英国\",\"checkKey\":\"^(00){0,1}(44){1}[347-9](\\\\d{8,9}|\\\\d{11,12})$\",\"countryCode\":\"GB\",\"phoneCode\":\"44\"},{\"areaName\":\"澳大利亚\",\"checkKey\":\"^(00){0,1}(61){1}4\\\\d{8,9}$\",\"countryCode\":\"AU\",\"phoneCode\":\"61\"},{\"areaName\":\"新加坡\",\"checkKey\":\"^(00){0,1}(65){1}[13689]\\\\d{6,7}$\",\"countryCode\":\"SG\",\"phoneCode\":\"65\"},{\"areaName\":\"马来西亚\",\"checkKey\":\"^(00){0,1}(60){1}1\\\\d{8,9}$\",\"countryCode\":\"MY\",\"phoneCode\":\"60\"},{\"areaName\":\"泰国\",\"checkKey\":\"^(00){0,1}(66){1}[13456789]\\\\d{7,8}$\",\"countryCode\":\"TH\",\"phoneCode\":\"66\"},{\"areaName\":\"越南\",\"checkKey\":\"^(00){0,1}(84){1}[1-9]\\\\d{6,9}$\",\"countryCode\":\"VN\",\"phoneCode\":\"84\"},{\"areaName\":\"菲律宾\",\"checkKey\":\"^(00){0,1}(63){1}[24579](\\\\d{7,9}|\\\\d{12})$\",\"countryCode\":\"PH\",\"phoneCode\":\"63\"},{\"areaName\":\"印度尼西亚\",\"checkKey\":\"^(00){0,1}(62){1}[2-9]\\\\d{7,11}$\",\"countryCode\":\"ID\",\"phoneCode\":\"62\"},{\"areaName\":\"德国\",\"checkKey\":\"^(00){0,1}(49){1}1(\\\\d{5,6}|\\\\d{9,12})$\",\"countryCode\":\"DE\",\"phoneCode\":\"49\"},{\"areaName\":\"意大利\",\"checkKey\":\"^(00){0,1}(39){1}[37]\\\\d{8,11}$\",\"countryCode\":\"IT\",\"phoneCode\":\"39\"},{\"areaName\":\"法国\",\"checkKey\":\"^(00){0,1}(33){1}(\\\\d{6}|\\\\d{8,9})$\",\"countryCode\":\"FR\",\"phoneCode\":\"33\"},{\"areaName\":\"俄罗斯\",\"checkKey\":\"^(00){0,1}(7){1}[13489]\\\\d{9,11}$\",\"countryCode\":\"RU\",\"phoneCode\":\"7\"},{\"areaName\":\"新西兰\",\"checkKey\":\"^(00){0,1}(64){1}[278]\\\\d{7,9}$\",\"countryCode\":\"NZ\",\"phoneCode\":\"64\"},{\"areaName\":\"荷兰\",\"checkKey\":\"^(00){0,1}(31){1}6\\\\d{8}$\",\"countryCode\":\"NL\",\"phoneCode\":\"31\"},{\"areaName\":\"瑞典\",\"checkKey\":\"^(00){0,1}(46){1}[124-7](\\\\d{8}|\\\\d{10}|\\\\d{12})$\",\"countryCode\":\"SE\",\"phoneCode\":\"46\"},{\"areaName\":\"乌克兰\",\"checkKey\":\"^(00){0,1}(380){1}[3-79]\\\\d{8,9}$\",\"countryCode\":\"UA\",\"phoneCode\":\"380\"},{\"areaName\":\"阿联酋\",\"checkKey\":\"^(00){0,1}(971){1}\\\\d{6,12}$\",\"countryCode\":\"AE\",\"phoneCode\":\"971\"},{\"areaName\":\"阿根廷\",\"checkKey\":\"^(00){0,1}(54){1}\\\\d{6,12}$\",\"countryCode\":\"AR\",\"phoneCode\":\"54\"},{\"areaName\":\"奥地利\",\"checkKey\":\"^(00){0,1}(43){1}\\\\d{6,12}$\",\"countryCode\":\"AT\",\"phoneCode\":\"43\"},{\"areaName\":\"比利时\",\"checkKey\":\"^(00){0,1}(32){1}\\\\d{6,12}$\",\"countryCode\":\"BE\",\"phoneCode\":\"32\"},{\"areaName\":\"保加利亚\",\"checkKey\":\"^(00){0,1}(359){1}\\\\d{6,12}$\",\"countryCode\":\"BG\",\"phoneCode\":\"359\"},{\"areaName\":\"巴西\",\"checkKey\":\"^(00){0,1}(55){1}\\\\d{6,12}$\",\"countryCode\":\"BR\",\"phoneCode\":\"55\"},{\"areaName\":\"巴哈马\",\"checkKey\":\"^(00){0,1}(1242){1}\\\\d{6,12}$\",\"countryCode\":\"BS\",\"phoneCode\":\"1242\"},{\"areaName\":\"白俄罗斯\",\"checkKey\":\"^(00){0,1}(375){1}\\\\d{6,12}$\",\"countryCode\":\"BY\",\"phoneCode\":\"375\"},{\"areaName\":\"伯利兹\",\"checkKey\":\"^(00){0,1}(501){1}\\\\d{6,12}$\",\"countryCode\":\"BZ\",\"phoneCode\":\"501\"},{\"areaName\":\"瑞士\",\"checkKey\":\"^(00){0,1}(41){1}\\\\d{6,12}$\",\"countryCode\":\"CH\",\"phoneCode\":\"41\"},{\"areaName\":\"智利\",\"checkKey\":\"^(00){0,1}(56){1}\\\\d{6,12}$\",\"countryCode\":\"CL\",\"phoneCode\":\"56\"},{\"areaName\":\"哥伦比亚\",\"checkKey\":\"^(00){0,1}(57){1}\\\\d{6,12}$\",\"countryCode\":\"CO\",\"phoneCode\":\"57\"},{\"areaName\":\"丹麦\",\"checkKey\":\"^(00){0,1}(45){1}\\\\d{6,12}$\",\"countryCode\":\"DK\",\"phoneCode\":\"45\"},{\"areaName\":\"爱沙尼亚\",\"checkKey\":\"^(00){0,1}(372){1}\\\\d{6,12}$\",\"countryCode\":\"EE\",\"phoneCode\":\"372\"},{\"areaName\":\"埃及\",\"checkKey\":\"^(00){0,1}(20){1}\\\\d{6,12}$\",\"countryCode\":\"EG\",\"phoneCode\":\"20\"},{\"areaName\":\"西班牙\",\"checkKey\":\"^(00){0,1}(34){1}\\\\d{6,12}$\",\"countryCode\":\"ES\",\"phoneCode\":\"34\"},{\"areaName\":\"芬兰\",\"checkKey\":\"^(00){0,1}(358){1}\\\\d{6,12}$\",\"countryCode\":\"FI\",\"phoneCode\":\"358\"},{\"areaName\":\"匈牙利\",\"checkKey\":\"^(00){0,1}(36){1}\\\\d{6,12}$\",\"countryCode\":\"HU\",\"phoneCode\":\"36\"},{\"areaName\":\"希腊\",\"checkKey\":\"^(00){0,1}(30){1}\\\\d{6,12}$\",\"countryCode\":\"GR\",\"phoneCode\":\"30\"},{\"areaName\":\"爱尔兰\",\"checkKey\":\"^(00){0,1}(353){1}\\\\d{6,12}$\",\"countryCode\":\"IE\",\"phoneCode\":\"353\"},{\"areaName\":\"以色列\",\"checkKey\":\"^(00){0,1}(972){1}\\\\d{6,12}$\",\"countryCode\":\"IL\",\"phoneCode\":\"972\"},{\"areaName\":\"印度\",\"checkKey\":\"^(00){0,1}(91){1}\\\\d{6,12}$\",\"countryCode\":\"IN\",\"phoneCode\":\"91\"},{\"areaName\":\"约旦\",\"checkKey\":\"^(00){0,1}(962){1}\\\\d{6,12}$\",\"countryCode\":\"JO\",\"phoneCode\":\"962\"},{\"areaName\":\"吉尔吉斯斯坦\",\"checkKey\":\"^(00){0,1}(996){1}\\\\d{6,12}$\",\"countryCode\":\"KG\",\"phoneCode\":\"996\"},{\"areaName\":\"柬埔寨\",\"checkKey\":\"^(00){0,1}(855){1}\\\\d{6,12}$\",\"countryCode\":\"KH\",\"phoneCode\":\"855\"},{\"areaName\":\"斯里兰卡\",\"checkKey\":\"^(00){0,1}(94){1}\\\\d{6,12}$\",\"countryCode\":\"LK\",\"phoneCode\":\"94\"},{\"areaName\":\"立陶宛\",\"checkKey\":\"^(00){0,1}(370){1}\\\\d{6,12}$\",\"countryCode\":\"LT\",\"phoneCode\":\"370\"},{\"areaName\":\"卢森堡\",\"checkKey\":\"^(00){0,1}(352){1}\\\\d{6,12}$\",\"countryCode\":\"LU\",\"phoneCode\":\"352\"},{\"areaName\":\"摩洛哥\",\"checkKey\":\"^(00){0,1}(212){1}\\\\d{6,12}$\",\"countryCode\":\"MA\",\"phoneCode\":\"212\"},{\"areaName\":\"蒙古\",\"checkKey\":\"^(00){0,1}(976){1}\\\\d{6,12}$\",\"countryCode\":\"MN\",\"phoneCode\":\"976\"},{\"areaName\":\"马尔代夫\",\"checkKey\":\"^(00){0,1}(960){1}\\\\d{6,12}$\",\"countryCode\":\"MV\",\"phoneCode\":\"960\"},{\"areaName\":\"尼日利亚\",\"checkKey\":\"^(00){0,1}(234){1}\\\\d{6,12}$\",\"countryCode\":\"NG\",\"phoneCode\":\"234\"},{\"areaName\":\"墨西哥\",\"checkKey\":\"^(00){0,1}(52){1}\\\\d{6,12}$\",\"countryCode\":\"MX\",\"phoneCode\":\"52\"},{\"areaName\":\"挪威\",\"checkKey\":\"^(00){0,1}(47){1}\\\\d{6,12}$\",\"countryCode\":\"NO\",\"phoneCode\":\"47\"},{\"areaName\":\"巴拿马\",\"checkKey\":\"^(00){0,1}(507){1}\\\\d{6,12}$\",\"countryCode\":\"PA\",\"phoneCode\":\"507\"},{\"areaName\":\"秘鲁\",\"checkKey\":\"^(00){0,1}(51){1}\\\\d{6,12}$\",\"countryCode\":\"PE\",\"phoneCode\":\"51\"},{\"areaName\":\"波兰\",\"checkKey\":\"^(00){0,1}(48){1}\\\\d{6,12}$\",\"countryCode\":\"PL\",\"phoneCode\":\"48\"},{\"areaName\":\"葡萄牙\",\"checkKey\":\"^(00){0,1}(351){1}\\\\d{6,12}$\",\"countryCode\":\"PT\",\"phoneCode\":\"351\"},{\"areaName\":\"卡塔尔\",\"checkKey\":\"^(00){0,1}(974){1}\\\\d{6,12}$\",\"countryCode\":\"QA\",\"phoneCode\":\"974\"},{\"areaName\":\"罗马尼亚\",\"checkKey\":\"^(00){0,1}(40){1}\\\\d{6,12}$\",\"countryCode\":\"RO\",\"phoneCode\":\"40\"},{\"areaName\":\"塞舌尔\",\"checkKey\":\"^(00){0,1}(248){1}\\\\d{6,12}$\",\"countryCode\":\"SC\",\"phoneCode\":\"248\"},{\"areaName\":\"沙特阿拉伯\",\"checkKey\":\"^(00){0,1}(966){1}\\\\d{6,12}$\",\"countryCode\":\"SA\",\"phoneCode\":\"966\"},{\"areaName\":\"突尼斯\",\"checkKey\":\"^(00){0,1}(216){1}\\\\d{6,12}$\",\"countryCode\":\"TN\",\"phoneCode\":\"216\"},{\"areaName\":\"土耳其\",\"checkKey\":\"^(00){0,1}(90){1}\\\\d{6,12}$\",\"countryCode\":\"TR\",\"phoneCode\":\"90\"},{\"areaName\":\"委内瑞拉\",\"checkKey\":\"^(00){0,1}(58){1}\\\\d{6,12}$\",\"countryCode\":\"VE\",\"phoneCode\":\"58\"},{\"areaName\":\"英属维尔京群岛\",\"checkKey\":\"^(00){0,1}(1284){1}\\\\d{6,12}$\",\"countryCode\":\"VG\",\"phoneCode\":\"1284\"},{\"areaName\":\"南非\",\"checkKey\":\"^(00){0,1}(27){1}\\\\d{6,12}$\",\"countryCode\":\"ZA\",\"phoneCode\":\"27\"},{\"areaName\":\"阿尔巴尼亚\",\"checkKey\":\"^(00){0,1}(355){1}\\\\d{6,15}$\",\"countryCode\":\"AL\",\"phoneCode\":\"355\"},{\"areaName\":\"安哥拉\",\"checkKey\":\"^(00){0,1}(244){1}\\\\d{6,15}$\",\"countryCode\":\"AO\",\"phoneCode\":\"244\"},{\"areaName\":\"阿塞拜疆\",\"checkKey\":\"^(00){0,1}(994){1}\\\\d{6,15}$\",\"countryCode\":\"AZ\",\"phoneCode\":\"994\"},{\"areaName\":\"布基纳法索\",\"checkKey\":\"^(00){0,1}(226){1}\\\\d{6,15}$\",\"countryCode\":\"BF\",\"phoneCode\":\"226\"},{\"areaName\":\"巴林\",\"checkKey\":\"^(00){0,1}(973){1}\\\\d{6,15}$\",\"countryCode\":\"BH\",\"phoneCode\":\"973\"},{\"areaName\":\"贝宁\",\"checkKey\":\"^(00){0,1}(229){1}\\\\d{6,15}$\",\"countryCode\":\"BJ\",\"phoneCode\":\"229\"},{\"areaName\":\"文莱\",\"checkKey\":\"^(00){0,1}(673){1}\\\\d{6,15}$\",\"countryCode\":\"BN\",\"phoneCode\":\"673\"},{\"areaName\":\"玻利维亚\",\"checkKey\":\"^(00){0,1}(591){1}\\\\d{6,15}$\",\"countryCode\":\"BO\",\"phoneCode\":\"591\"},{\"areaName\":\"喀麦隆\",\"checkKey\":\"^(00){0,1}(237){1}\\\\d{6,15}$\",\"countryCode\":\"CM\",\"phoneCode\":\"237\"},{\"areaName\":\"哥斯达黎加\",\"checkKey\":\"^(00){0,1}(506){1}\\\\d{6,15}$\",\"countryCode\":\"CR\",\"phoneCode\":\"506\"},{\"areaName\":\"佛得角\",\"checkKey\":\"^(00){0,1}(238){1}\\\\d{6,15}$\",\"countryCode\":\"CV\",\"phoneCode\":\"238\"},{\"areaName\":\"塞浦路斯\",\"checkKey\":\"^(00){0,1}(357){1}\\\\d{6,15}$\",\"countryCode\":\"CY\",\"phoneCode\":\"357\"},{\"areaName\":\"吉布提\",\"checkKey\":\"^(00){0,1}(253){1}\\\\d{6,15}$\",\"countryCode\":\"DJ\",\"phoneCode\":\"253\"},{\"areaName\":\"加蓬\",\"checkKey\":\"^(00){0,1}(241){1}\\\\d{6,15}$\",\"countryCode\":\"GA\",\"phoneCode\":\"241\"},{\"areaName\":\"格林纳达\",\"checkKey\":\"^(00){0,1}(1473){1}\\\\d{6,15}$\",\"countryCode\":\"GD\",\"phoneCode\":\"1473\"},{\"areaName\":\"格鲁吉亚\",\"checkKey\":\"^(00){0,1}(995){1}\\\\d{6,15}$\",\"countryCode\":\"GE\",\"phoneCode\":\"995\"},{\"areaName\":\"冈比亚\",\"checkKey\":\"^(00){0,1}(220){1}\\\\d{6,15}$\",\"countryCode\":\"GM\",\"phoneCode\":\"220\"},{\"areaName\":\"几内亚\",\"checkKey\":\"^(00){0,1}(224){1}\\\\d{6,15}$\",\"countryCode\":\"GN\",\"phoneCode\":\"224\"},{\"areaName\":\"赤道几内亚\",\"checkKey\":\"^(00){0,1}(240){1}\\\\d{6,15}$\",\"countryCode\":\"GQ\",\"phoneCode\":\"240\"},{\"areaName\":\"危地马拉\",\"checkKey\":\"^(00){0,1}(502){1}\\\\d{6,15}$\",\"countryCode\":\"GT\",\"phoneCode\":\"502\"},{\"areaName\":\"几内亚比绍\",\"checkKey\":\"^(00){0,1}(245){1}\\\\d{6,15}$\",\"countryCode\":\"GW\",\"phoneCode\":\"245\"},{\"areaName\":\"圭亚那\",\"checkKey\":\"^(00){0,1}(592){1}\\\\d{6,15}$\",\"countryCode\":\"GY\",\"phoneCode\":\"592\"},{\"areaName\":\"洪都拉斯\",\"checkKey\":\"^(00){0,1}(504){1}\\\\d{6,15}$\",\"countryCode\":\"HN\",\"phoneCode\":\"504\"},{\"areaName\":\"克罗地亚\",\"checkKey\":\"^(00){0,1}(385){1}\\\\d{6,15}$\",\"countryCode\":\"HR\",\"phoneCode\":\"385\"},{\"areaName\":\"牙买加\",\"checkKey\":\"^(00){0,1}(1876){1}\\\\d{6,15}$\",\"countryCode\":\"JM\",\"phoneCode\":\"1876\"},{\"areaName\":\"肯尼亚\",\"checkKey\":\"^(00){0,1}(254){1}\\\\d{6,15}$\",\"countryCode\":\"KE\",\"phoneCode\":\"254\"},{\"areaName\":\"科摩罗\",\"checkKey\":\"^(00){0,1}(269){1}\\\\d{6,15}$\",\"countryCode\":\"KM\",\"phoneCode\":\"269\"},{\"areaName\":\"科威特\",\"checkKey\":\"^(00){0,1}(965){1}\\\\d{6,15}$\",\"countryCode\":\"KW\",\"phoneCode\":\"965\"},{\"areaName\":\"开曼群岛\",\"checkKey\":\"^(00){0,1}(1345){1}\\\\d{6,15}$\",\"countryCode\":\"KY\",\"phoneCode\":\"1345\"},{\"areaName\":\"莱索托\",\"checkKey\":\"^(00){0,1}(266){1}\\\\d{6,15}$\",\"countryCode\":\"LS\",\"phoneCode\":\"266\"},{\"areaName\":\"拉脱维亚\",\"checkKey\":\"^(00){0,1}(371){1}\\\\d{6,15}$\",\"countryCode\":\"LV\",\"phoneCode\":\"371\"},{\"areaName\":\"摩尔多瓦\",\"checkKey\":\"^(00){0,1}(373){1}\\\\d{6,15}$\",\"countryCode\":\"MD\",\"phoneCode\":\"373\"},{\"areaName\":\"马达加斯加\",\"checkKey\":\"^(00){0,1}(261){1}\\\\d{6,15}$\",\"countryCode\":\"MG\",\"phoneCode\":\"261\"},{\"areaName\":\"马里\",\"checkKey\":\"^(00){0,1}(223){1}\\\\d{6,15}$\",\"countryCode\":\"ML\",\"phoneCode\":\"223\"},{\"areaName\":\"毛里塔尼亚\",\"checkKey\":\"^(00){0,1}(222){1}\\\\d{6,15}$\",\"countryCode\":\"MR\",\"phoneCode\":\"222\"},{\"areaName\":\"毛里求斯\",\"checkKey\":\"^(00){0,1}(230){1}\\\\d{6,15}$\",\"countryCode\":\"MU\",\"phoneCode\":\"230\"},{\"areaName\":\"马拉维\",\"checkKey\":\"^(00){0,1}(265){1}\\\\d{6,15}$\",\"countryCode\":\"MW\",\"phoneCode\":\"265\"},{\"areaName\":\"莫桑比克\",\"checkKey\":\"^(00){0,1}(258){1}\\\\d{6,15}$\",\"countryCode\":\"MZ\",\"phoneCode\":\"258\"},{\"areaName\":\"纳米比亚\",\"checkKey\":\"^(00){0,1}(264){1}\\\\d{6,15}$\",\"countryCode\":\"NA\",\"phoneCode\":\"264\"},{\"areaName\":\"尼日尔\",\"checkKey\":\"^(00){0,1}(227){1}\\\\d{6,15}$\",\"countryCode\":\"NE\",\"phoneCode\":\"227\"},{\"areaName\":\"尼加拉瓜\",\"checkKey\":\"^(00){0,1}(505){1}\\\\d{6,15}$\",\"countryCode\":\"NI\",\"phoneCode\":\"505\"},{\"areaName\":\"阿曼\",\"checkKey\":\"^(00){0,1}(968){1}\\\\d{6,15}$\",\"countryCode\":\"OM\",\"phoneCode\":\"968\"},{\"areaName\":\"巴布亚新几内亚\",\"checkKey\":\"^(00){0,1}(675){1}\\\\d{6,15}$\",\"countryCode\":\"PG\",\"phoneCode\":\"675\"},{\"areaName\":\"巴勒斯坦\",\"checkKey\":\"^(00){0,1}(970){1}\\\\d{6,15}$\",\"countryCode\":\"PS\",\"phoneCode\":\"970\"},{\"areaName\":\"卢旺达\",\"checkKey\":\"^(00){0,1}(250){1}\\\\d{6,15}$\",\"countryCode\":\"RW\",\"phoneCode\":\"250\"},{\"areaName\":\"斯洛文尼亚\",\"checkKey\":\"^(00){0,1}(386){1}\\\\d{6,15}$\",\"countryCode\":\"SI\",\"phoneCode\":\"386\"},{\"areaName\":\"斯洛伐克\",\"checkKey\":\"^(00){0,1}(421){1}\\\\d{6,15}$\",\"countryCode\":\"SK\",\"phoneCode\":\"421\"},{\"areaName\":\"塞拉利昂\",\"checkKey\":\"^(00){0,1}(232){1}\\\\d{6,15}$\",\"countryCode\":\"SL\",\"phoneCode\":\"232\"},{\"areaName\":\"塞内加尔\",\"checkKey\":\"^(00){0,1}(221){1}\\\\d{6,15}$\",\"countryCode\":\"SN\",\"phoneCode\":\"221\"},{\"areaName\":\"苏里南\",\"checkKey\":\"^(00){0,1}(597){1}\\\\d{6,15}$\",\"countryCode\":\"SR\",\"phoneCode\":\"597\"},{\"areaName\":\"萨尔瓦多\",\"checkKey\":\"^(00){0,1}(503){1}\\\\d{6,15}$\",\"countryCode\":\"SV\",\"phoneCode\":\"503\"},{\"areaName\":\"斯威士兰\",\"checkKey\":\"^(00){0,1}(268){1}\\\\d{6,15}$\",\"countryCode\":\"SZ\",\"phoneCode\":\"268\"},{\"areaName\":\"乍得\",\"checkKey\":\"^(00){0,1}(235){1}\\\\d{6,15}$\",\"countryCode\":\"TD\",\"phoneCode\":\"235\"},{\"areaName\":\"多哥\",\"checkKey\":\"^(00){0,1}(228){1}\\\\d{6,15}$\",\"countryCode\":\"TG\",\"phoneCode\":\"228\"},{\"areaName\":\"塔吉克斯坦\",\"checkKey\":\"^(00){0,1}(992){1}\\\\d{6,15}$\",\"countryCode\":\"TJ\",\"phoneCode\":\"992\"},{\"areaName\":\"土库曼斯坦\",\"checkKey\":\"^(00){0,1}(993){1}\\\\d{6,15}$\",\"countryCode\":\"TM\",\"phoneCode\":\"993\"},{\"areaName\":\"特立尼达和多巴哥\",\"checkKey\":\"^(00){0,1}(1868){1}\\\\d{6,15}$\",\"countryCode\":\"TT\",\"phoneCode\":\"1868\"},{\"areaName\":\"坦桑尼亚\",\"checkKey\":\"^(00){0,1}(255){1}\\\\d{6,15}$\",\"countryCode\":\"TZ\",\"phoneCode\":\"255\"},{\"areaName\":\"乌干达\",\"checkKey\":\"^(00){0,1}(256){1}\\\\d{6,15}$\",\"countryCode\":\"UG\",\"phoneCode\":\"256\"},{\"areaName\":\"乌拉圭\",\"checkKey\":\"^(00){0,1}(598){1}\\\\d{6,15}$\",\"countryCode\":\"UY\",\"phoneCode\":\"598\"},{\"areaName\":\"乌兹别克斯坦\",\"checkKey\":\"^(00){0,1}(998){1}\\\\d{6,15}$\",\"countryCode\":\"UZ\",\"phoneCode\":\"998\"},{\"areaName\":\"也门\",\"checkKey\":\"^(00){0,1}(967){1}\\\\d{6,15}$\",\"countryCode\":\"YE\",\"phoneCode\":\"967\"},{\"areaName\":\"赞比亚\",\"checkKey\":\"^(00){0,1}(260){1}\\\\d{6,15}$\",\"countryCode\":\"ZM\",\"phoneCode\":\"260\"},{\"areaName\":\"津巴布韦\",\"checkKey\":\"^(00){0,1}(263){1}\\\\d{6,15}$\",\"countryCode\":\"ZW\",\"phoneCode\":\"263\"},{\"areaName\":\"安道尔共和国\",\"checkKey\":\"^(00){0,1}(376){1}\\\\d{6,15}$\",\"countryCode\":\"AD\",\"phoneCode\":\"376\"},{\"areaName\":\"阿富汗\",\"checkKey\":\"^(00){0,1}(93){1}\\\\d{6,15}$\",\"countryCode\":\"AF\",\"phoneCode\":\"93\"},{\"areaName\":\"亚美尼亚\",\"checkKey\":\"^(00){0,1}(374){1}\\\\d{6,15}$\",\"countryCode\":\"AM\",\"phoneCode\":\"374\"},{\"areaName\":\"波斯尼亚和黑塞哥维那\",\"checkKey\":\"^(00){0,1}(387){1}\\\\d{6,15}$\",\"countryCode\":\"BA\",\"phoneCode\":\"387\"},{\"areaName\":\"孟加拉国\",\"checkKey\":\"^(00){0,1}(880){1}\\\\d{6,15}$\",\"countryCode\":\"BD\",\"phoneCode\":\"880\"},{\"areaName\":\"布隆迪\",\"checkKey\":\"^(00){0,1}(257){1}\\\\d{6,15}$\",\"countryCode\":\"BI\",\"phoneCode\":\"257\"},{\"areaName\":\"博茨瓦纳\",\"checkKey\":\"^(00){0,1}(267){1}\\\\d{6,15}$\",\"countryCode\":\"BW\",\"phoneCode\":\"267\"},{\"areaName\":\"刚果(金)\",\"checkKey\":\"^(00){0,1}(243){1}\\\\d{6,15}$\",\"countryCode\":\"CD\",\"phoneCode\":\"243\"},{\"areaName\":\"中非\",\"checkKey\":\"^(00){0,1}(236){1}\\\\d{6,15}$\",\"countryCode\":\"CF\",\"phoneCode\":\"236\"},{\"areaName\":\"刚果(布)\",\"checkKey\":\"^(00){0,1}(242){1}\\\\d{6,15}$\",\"countryCode\":\"CG\",\"phoneCode\":\"242\"},{\"areaName\":\"科特迪瓦\",\"checkKey\":\"^(00){0,1}(225){1}\\\\d{6,15}$\",\"countryCode\":\"CI\",\"phoneCode\":\"225\"},{\"areaName\":\"库拉索岛\",\"checkKey\":\"^(00){0,1}(599){1}\\\\d{6,15}$\",\"countryCode\":\"CW\",\"phoneCode\":\"599\"},{\"areaName\":\"多米尼加共和国\",\"checkKey\":\"^(00){0,1}(1809){1}\\\\d{6,15}$\",\"countryCode\":\"DO\",\"phoneCode\":\"1809\"},{\"areaName\":\"捷克共和国\",\"checkKey\":\"^(00){0,1}(420){1}\\\\d{6,15}$\",\"countryCode\":\"CZ\",\"phoneCode\":\"420\"},{\"areaName\":\"阿尔及利亚\",\"checkKey\":\"^(00){0,1}(213){1}\\\\d{6,15}$\",\"countryCode\":\"DZ\",\"phoneCode\":\"213\"},{\"areaName\":\"厄瓜多尔\",\"checkKey\":\"^(00){0,1}(593){1}\\\\d{6,15}$\",\"countryCode\":\"EC\",\"phoneCode\":\"593\"},{\"areaName\":\"伊拉克\",\"checkKey\":\"^(00){0,1}(964){1}\\\\d{6,15}$\",\"countryCode\":\"IQ\",\"phoneCode\":\"964\"},{\"areaName\":\"哈萨克斯坦\",\"checkKey\":\"^(00){0,1}(7){1}\\\\d{6,15}$\",\"countryCode\":\"KZ\",\"phoneCode\":\"7\"},{\"areaName\":\"老挝\",\"checkKey\":\"^(00){0,1}(856){1}\\\\d{6,15}$\",\"countryCode\":\"LA\",\"phoneCode\":\"856\"},{\"areaName\":\"黎巴嫩\",\"checkKey\":\"^(00){0,1}(961){1}\\\\d{6,15}$\",\"countryCode\":\"LB\",\"phoneCode\":\"961\"},{\"areaName\":\"利比里亚\",\"checkKey\":\"^(00){0,1}(231){1}\\\\d{6,15}$\",\"countryCode\":\"LR\",\"phoneCode\":\"231\"},{\"areaName\":\"利比亚\",\"checkKey\":\"^(00){0,1}(218){1}\\\\d{6,15}$\",\"countryCode\":\"LY\",\"phoneCode\":\"218\"},{\"areaName\":\"黑山共和国\",\"checkKey\":\"^(00){0,1}(382){1}\\\\d{6,15}$\",\"countryCode\":\"ME\",\"phoneCode\":\"382\"},{\"areaName\":\"圣马丁\",\"checkKey\":\"^(00){0,1}(590){1}\\\\d{6,15}$\",\"countryCode\":\"MF\",\"phoneCode\":\"590\"},{\"areaName\":\"马其顿\",\"checkKey\":\"^(00){0,1}(389){1}\\\\d{6,15}$\",\"countryCode\":\"MK\",\"phoneCode\":\"389\"},{\"areaName\":\"缅甸\",\"checkKey\":\"^(00){0,1}(95){1}\\\\d{6,15}$\",\"countryCode\":\"MM\",\"phoneCode\":\"95\"},{\"areaName\":\"巴基斯坦\",\"checkKey\":\"^(00){0,1}(92){1}\\\\d{6,15}$\",\"countryCode\":\"PK\",\"phoneCode\":\"92\"},{\"areaName\":\"波多黎各\",\"checkKey\":\"^(00){0,1}(1787){1}\\\\d{6,15}$\",\"countryCode\":\"PR\",\"phoneCode\":\"1787\"},{\"areaName\":\"索马里\",\"checkKey\":\"^(00){0,1}(252){1}\\\\d{6,15}$\",\"countryCode\":\"SO\",\"phoneCode\":\"252\"},{\"areaName\":\"圣文森特和格林纳丁斯\",\"checkKey\":\"^(00){0,1}(1784){1}\\\\d{6,15}$\",\"countryCode\":\"VC\",\"phoneCode\":\"1784\"},{\"areaName\":\"科索沃\",\"checkKey\":\"^(00){0,1}(383){1}\\\\d{6,15}$\",\"countryCode\":\"XK\",\"phoneCode\":\"383\"},{\"areaName\":\"尼泊尔\",\"checkKey\":\"^(00){0,1}(977){1}\\\\d{6,15}$\",\"countryCode\":\"NP\",\"phoneCode\":\"977\"},{\"areaName\":\"马耳他\",\"checkKey\":\"^(00){0,1}(356){1}\\\\d{6,15}$\",\"countryCode\":\"MT\",\"phoneCode\":\"356\"}],\"defaultCountryCode\":\"CN\"},\"currentTime\":\"1636608490655\",\"enableSmsAudio\":false,\"foreign\":false,\"isMobile\":false,\"lang\":\"zh_CN\",\"loginFormData\":{\"appName\":\"taobao\",\"appEntrance\":\"taobao_pc\",\"_csrf_token\":\"UDC8Qa9db47EBBqMJ3ZUQ8\",\"umidToken\":\"ae737875c4f209aee67f87a2c343a9d4532b4a45\",\"hsiz\":\"16724f23e28a6fff447ceadbc20181ad\",\"bizParams\":\"\",\"style\":\"default\",\"appkey\":\"00000000\",\"from\":\"tb\",\"isMobile\":false,\"lang\":\"zh_CN\",\"returnUrl\":\"http://i.taobao.com/user/baseInfoSet.htm?spm=a1z02.1.972272805.d4912005.L5051z\",\"fromSite\":0},\"mobile\":false,\"nocaptchaAppKey\":\"CF_APP_TBLogin_PC\",\"returnUrl\":\"http://i.taobao.com/user/baseInfoSet.htm?spm=a1z02.1.972272805.d4912005.L5051z\",\"showAutioSlipCode\":false,\"umidEncryptAppName\":\"090D1F110F187839282B151408\",\"umidServer\":\"https://ynuf.alipay.com\",\"umidServiceLocation\":\"cn\",\"umidToken\":\"ae737875c4f209aee67f87a2c343a9d4532b4a45\"};\n",
      "    window._lang = {\"error-login-mobile-empty\":\"请输入手机号码\",\"view-mobile-country-area-popup-cancel-btn-title\":\"取消\",\"view-pwdlogin-mobile-loginid-title\":\"手机号\",\"view-qrcodelogin-expired-title\":\"二维码已失效\",\"view-mobile-country-area-popup-ok-btn-title\":\"确认\",\"view-qrcodelogin-refresh-tips\":\"请刷新二维码后重新扫码\",\"error-login-click-nocaptcha-empty\":\"请点击下方圆圈进行验证\",\"error-login-nocaptcha-empty\":\"请拖动滑块完成验证\",\"view-smslogin-smscode-get-text\":\"获取验证码\",\"view-akey-login-btn-text\":\"通过手机安全登录\",\"error-login-smsCode-empty\":\"请输入短信验证码\",\"view-pwdlogin-loginid-title\":\"登录名\",\"view-qrcodelogin-bottom-desc\":\"<font class=\\\"ft-gray\\\">打开 </font><a href=\\\"https://www.taobao.com/m\\\" target=_blank class=\\\"light-link\\\">淘宝App</a> | <a href=\\\"https://www.tmall.com/wow/portal/act/app-download?mmstat=pc_login\\\" target=_blank class=\\\"light-link\\\">天猫App</a><br/>\\n<span class=\\\"ft-gray\\\">扫一扫登录</span>\",\"view-pwdlogin-password-title\":\"登录密码\",\"view-login-form-loginid-placeholder\":\"会员名/邮箱/手机号\",\"error-login-checkcode-empty\":\"请输入验证码\",\"view-akey-login-push-success-msg\":\"请求发送成功\",\"error-fm-login-id-empty\":\"请输入帐户名\",\"view-qrcodelogin-explain-tips\":\"手机扫码 安全登录\",\"view-akey-login-push-error-tip\":\"请刷新后重新发送请求\",\"view-qrcodelogin-canceled-title\":\"登录失败\",\"view-smslogin-loginid-title\":\"手机号：\",\"view-smslogin-reg-agreement\":\"已阅读并同意以下协议：<a href=\\\"https://terms.alicdn.com/legal-agreement/terms/TD/TD201609301342_19559.html\\\" target=\\\"_blank\\\">淘宝平台服务协议</a>、<a href=\\\"https://terms.alicdn.com/legal-agreement/terms/suit_bu1_taobao/suit_bu1_taobao201703241622_61002.html\\\"  target=\\\"_blank\\\">隐私权政策</a>、<a href=\\\"https://terms.alicdn.com/legal-agreement/terms/suit_bu1_taobao/suit_bu1_taobao201811121436_80276.html\\\"  target=\\\"_blank\\\">法律声明</a>、<a href=\\\"https://render.alipay.com/p/f/fd-jm7jym6r/alipay/multi-agreement.html\\\"  target=\\\"_blank\\\">支付宝及客户端服务协议</a>\",\"view-sms-code-send-suc-tip\":\"短信验证码已发送，可能会有延后请耐心等待\",\"view-akey-login-push-error-msg\":\"登录失败\",\"view-qrcodelogin-explain-desc\":\"\",\"view-smslogin-smscode-title\":\"验证码：\",\"view-login-form-mobile-loginid-placeholder\":\"请输入手机号\",\"view-qrcodelogin-scaned-tips\":\"请在手机上根据提示确认登录\",\"error-login-havana-audiocheckcode-empty\":\"请输入语音验证码\",\"view-login-form-password-placeholder\":\"请输入登录密码\",\"view-akey-login-title\":\"\",\"view-login-button-loging-button-text\":\"登录中...\",\"view-smslogin-reg-button-title\":\"同意协议并注册\",\"view-dingtalk-qrcode-login-title\":\"钉钉扫码登录\",\"view-login-haslogin-other-account\":\"使用其他帐户登录\",\"view-qrcodelogin-master-title\":\"扫码登录\",\"view-smslogin-switch-account\":\"切换账号\",\"view-akey-login-push-error-refresh-btn-text\":\"请点击刷新\",\"view-qrcodelogin-button-title\":\"刷新二维码\",\"view-haslogin-button-login-button-text\":\"快速进入\",\"error-fm-login-password-empty\":\"请输入密码\",\"view-smslogin-smscode-placeholder\":\"请输入验证码\",\"view-smslogin-smscode-count-text\":\"秒后重发\",\"view-login-image-checkcode-placeholder\":\"图片验证码\",\"view-smslogin-mobile-pattern-error\":\"手机号码格式不正确，请重新输入\",\"view-qrcodelogin-scaned-title\":\"扫描成功！\",\"view-smslogin-loginid-placeholder\":\"请输入手机号\",\"view-login-button-login-button-text\":\"登录\",\"view-smslogin-smscode-timeout-text\":\"重新发送\",\"view-haslogin-button-loging-button-text\":\"快速进入\",\"view-akey-login-push-success-confirm-tip\":\"请在手机上确认登录\",\"view-login-form-checkcode-title\":\"验证码\",\"error-network-busy\":\"网络繁忙，请稍后重试\",\"error-send-verification-code-first\":\"请先发送短信验证码\",\"error-check-login-empty\":\"请输入账号\",\"view-login-haslogin-title\":\"检测到您的以下帐号已登录，请直接进入：\"};\n",
      "\n",
      "        </script>\n",
      "\n",
      "\n",
      "<script type=\"text/javascript\" charset=\"utf-8\" src=\"https://x.alicdn.com/vip/havana-nlogin/0.6.7/index.js\"></script>\n",
      "            </div>\n",
      "        </div>\n",
      "    </div>\n",
      "\n",
      "    \n",
      "\n",
      "    <div class=\"footer\">\n",
      "\n",
      "                    <div class=\"footer-hd\">\n",
      "    <p>\n",
      "        <a href=\"http://page.1688.com/shtml/about/ali_group1.shtml\">阿里巴巴集团</a>\n",
      "        <b>|</b>\n",
      "        <a href=\"http://www.alibaba.com\">阿里巴巴国际站</a>\n",
      "        <b>|</b>\n",
      "        <a href=\"http://www.1688.com\">阿里巴巴中国站</a>\n",
      "        <b>|</b>\n",
      "        <a href=\"http://www.aliexpress.com\">全球速卖通</a>\n",
      "        <b>|</b>\n",
      "        <a href=\"http://www.taobao.com\">淘宝网</a>\n",
      "        <b>|</b>\n",
      "        <a href=\"http://www.tmall.com\">天猫</a>\n",
      "        <b>|</b>\n",
      "        <a href=\"http://ju.taobao.com\">聚划算</a>\n",
      "        <b>|</b>\n",
      "        <a href=\"http://www.etao.com\">一淘</a>\n",
      "        <b>|</b>\n",
      "        <a href=\"http://www.alimama.com\">阿里妈妈</a>\n",
      "        <b>|</b>\n",
      "        <a href=\"https://www.fliggy.com\">飞猪</a>\n",
      "        <b>|</b>\n",
      "        <a href=\"http://www.xiami.com\">虾米</a>\n",
      "        <b>|</b>\n",
      "        <a href=\"http://www.aliyun.com\">阿里云计算</a>\n",
      "        <b>|</b>\n",
      "        <a href=\"http://www.yunos.com\">云OS</a>\n",
      "        <b>|</b>\n",
      "        <a href=\"http://www.net.cn\">万网</a>\n",
      "        <b>|</b>\n",
      "        <a href=\"http://www.alipay.com\">支付宝</a>\n",
      "        <b>|</b>\n",
      "        <a href=\"http://www.laiwang.com/\">来往</a>\n",
      "    </p>\n",
      "</div>\n",
      "<div class=\"footer-bd\">\n",
      "    <p>\n",
      "        <span><a href=\"https://www.taobao.com/tbhome/page/about/home\" rel=\"noopener noreferrer\">关于淘宝</a></span><span><a href=\"https://www.taobao.com/tbhome/page/about/partner?spm=a21bo.9614792.102.5.ed410c5siU20Y\" rel=\"noopener noreferrer\">合作伙伴</a></span><span><a href=\"http://pro.taobao.com\" rel=\"noopener noreferrer\">营销中心</a></span><span><a href=\"http://jubao.alibaba.com/internet/readme.htm?site=taobao\" rel=\"noopener noreferrer\">廉正举报</a></span><span><a href=\"https://consumerservice.taobao.com/\" rel=\"noopener noreferrer\">联系客服</a></span><span><a href=\"http://open.taobao.com\" rel=\"noopener noreferrer\">开放平台</a></span><span><a href=\"http://www.taobao.com/about/join.php\" rel=\"noopener noreferrer\">诚征英才</a></span><span><a href=\"http://consumerservice.taobao.com/contact-us\" rel=\"noopener noreferrer\">联系我们</a></span><span><a href=\"https://www.taobao.com/tbhome/page/sitemap\" rel=\"noopener noreferrer\">网站地图</a></span><span><a href=\"https://terms.alicdn.com/legal-agreement/terms/suit_bu1_taobao/suit_bu1_taobao201703241622_61002.html\" rel=\"noopener noreferrer\">隐私权政策</a></span><span><a href=\"https://terms.alicdn.com/legal-agreement/terms/suit_bu1_taobao/suit_bu1_taobao201811121436_80276.html\" rel=\"noopener noreferrer\">法律声明</a></span><span><a href=\"http://ipp.alibabagroup.com/\" rel=\"noopener noreferrer\">知识产权</a></span>\n",
      "        <b>|</b> <em>&copy; 2003-现在 Taobao.com 版权所有</em>\n",
      "    </p>\n",
      "    <p><span><a href=\"http://www.beian.miit.gov.cn\" rel=\"noopener noreferrer\">增值电信业务经营许可证：浙B2-20080224</a></span><b>|</b><span><a href=\"http://www.beian.miit.gov.cn\" rel=\"noopener noreferrer\">增值电信业务经营许可证（跨地区）： B2-20150210</a></span><b>|</b><span><a href=\"http://sq.ccm.gov.cn/ccnt/sczr/service/business/emark/toDetail/2E7819FC84674D5980464916C24B7E3E\" rel=\"noopener noreferrer\">浙网文（2019）1033-086号</a></span><b>|</b><span>浙江省网络食品销售第三方平台提供者备案：浙网食A33010001</span></p><p><span>互联网药品信息服务资格证书（浙）-经营性-2018-0010</span><b>|</b><span>短消息类服务接入代码使用证书：号【2016】00154-A01</span><b>|</b><span>信息网络传播视听许可证：1109364号</span><b>|</b><span>出版物网络交易平台服务经营备案号：新出发浙备字第002号</span></p><p><span>\n",
      "            <a target=\"_blank\" href=\"http://www.beian.gov.cn/portal/registerSystemInfo?recordcode=33010002000078\" rel=\"noopener noreferrer\">\n",
      "              <span class=\"tb-footer-mod\" style=\"background-position:-861px 0px; width:20px; height: 20px; \"></span>\n",
      "              浙公网安备 33010002000078号</a></span><b>|</b><span><a href=\"http://beian.miit.gov.cn\" rel=\"noopener\n",
      "            noreferrer\">浙B2-20080224-1</a></span><b>|</b><span>广播电视节目制作经营许可证（浙）字第01012号</span><b>|</b><span>市场名称登记证：工商网市字3301004120号</span><b>|</b><span>医疗器械网络交易服务第三方平台备案：（浙）网械平台备字[2018]第00004号</span></p>\n",
      "</div>\n",
      "<div class=\"footer-ft\" style=\"font-size:40px;\">\n",
      "    <a target=\"_blank\" href=\"http://www.pingpinganan.gov.cn/\" rel=\"noopener noreferrer\"\n",
      "       style=\"margin-left:15px; display:inline-block; background-position:0px 0px; width:36px; height:40px;  background-image: url(http://img.alicdn.com/tps/i1/T1FeW3XXNfXXXXXXXX-36-36.gif);\">\n",
      "    </a>\n",
      "    <a target=\"_blank\" href=\"http://idinfo.zjamr.zj.gov.cn//bscx.do?method=lzxx&amp;id=3301843301002003002431\"\n",
      "       class=\"tb-footer-mod\" rel=\"noopener noreferrer\"\n",
      "       style=\"margin-left:15px; display:inline-block; height: 40px; background-position:0px 0px; width:30px; background-image: url(https://img.alicdn.com/tfs/TB1EPnIQXXXXXaSXpXXXXXXXXXX-1133-35.jpg);\">\n",
      "    </a>\n",
      "    <a target=\"_blank\"\n",
      "       href=\"http://idinfo.zjaic.gov.cn/bscx.do?spm=1.7274553.1997523009.29.alN7ce&amp;method=hddoc&amp;id=33018400000067\"\n",
      "       class=\"tb-footer-mod\" rel=\"noopener noreferrer\" style=\"background-position:-40px 0px; width:33px; margin-left:15px; display:inline-block; height: 40px; background-image: url(https://img.alicdn.com/tfs/TB1EPnIQXXXXXaSXpXXXXXXXXXX-1133-35.jpg);\">\n",
      "    </a>\n",
      "    <a target=\"_blank\" href=\"http://www.theclimategroup.org.cn/about/friend?spm=1.7274553.1997523009.30.alN7ce\"\n",
      "       class=\"tb-footer-mod\" rel=\"noopener noreferrer\" style=\"background-position:-80px 0px; width:50px; margin-left:15px; display:inline-block; height: 40px; background-image: url(https://img.alicdn.com/tfs/TB1EPnIQXXXXXaSXpXXXXXXXXXX-1133-35.jpg);\">\n",
      "    </a>\n",
      "    <a target=\"_blank\"\n",
      "       href=\"https://ss.knet.cn/verifyseal.dll?spm=1.7274553.1997523009.31.alN7ce&amp;&amp;sn=2010062300100001357&amp;pa=20100701\"\n",
      "       class=\"tb-footer-mod\" rel=\"noopener noreferrer\" style=\"background-position:-140px 0px; width:83px; margin-left:15px; display:inline-block; height: 40px; background-image: url(https://img.alicdn.com/tfs/TB1EPnIQXXXXXaSXpXXXXXXXXXX-1133-35.jpg);\">\n",
      "    </a>\n",
      "    <a target=\"_blank\" href=\"http://report.12377.cn:13225/toreportinputNormal_anis.do\" class=\"tb-footer-mod\"\n",
      "       rel=\"noopener noreferrer\"\n",
      "       style=\"background-position:0px -18px; width:250px; background-image: url(//img.alicdn.com/tfs/TB1N7kwRVXXXXbAapXXXXXXXXXX-500-127.png_250x250); margin-left:15px; display:inline-block; height: 40px;\">\n",
      "    </a>\n",
      "    <a target=\"_blank\" href=\"http://www.12377.cn/node_548446.htm\" class=\"tb-footer-mod\" rel=\"noopener noreferrer\"\n",
      "       style=\"background-position:-650px 0px; width:105px; margin-left:15px; display:inline-block; height: 40px; background-image: url(https://img.alicdn.com/tfs/TB1EPnIQXXXXXaSXpXXXXXXXXXX-1133-35.jpg);\">\n",
      "    </a>\n",
      "    <a target=\"_blank\"\n",
      "       href=\"http://sq.ccm.gov.cn/ccnt/sczr/service/business/emark/toDetail/2E7819FC84674D5980464916C24B7E3E\"\n",
      "       class=\"tb-footer-mod\" rel=\"noopener noreferrer\" style=\"background-position:-345px 0px; width:82px; margin-left:15px; display:inline-block; height: 40px; background-image: url(https://img.alicdn.com/tfs/TB1EPnIQXXXXXaSXpXXXXXXXXXX-1133-35.jpg);\">\n",
      "    </a>\n",
      "    <a target=\"_blank\" href=\"https://credit.szfw.org/CX20160715023573390688.html\" class=\"tb-footer-mod\"\n",
      "       rel=\"noopener noreferrer\" style=\"background-position:-761px 0px; width:97px; margin-left:15px; display:inline-block; height: 40px; background-image: url(https://img.alicdn.com/tfs/TB1EPnIQXXXXXaSXpXXXXXXXXXX-1133-35.jpg);\">\n",
      "    </a>\n",
      "</div>\n",
      "<!-- #footer END -->\n",
      "            </div>\n",
      "\n",
      "    <!-- host: havanamlogin033044220180.center.na620  --></body>\n",
      "</html>\n"
     ]
    }
   ],
   "source": [
    "import requests\n",
    "\n",
    "url='https://login.taobao.com/member/login.jhtml?redirectURL=http%3A%2F%2Fi.taobao.com%2Fuser%2FbaseInfoSet.htm%3Fspm%3Da1z02.1.972272805.d4912005.L5051z'\n",
    "headers={\"user-agent\": \"Mozilla/5.0 (Windows NT 10.0; Win64; x64) AppleWebKit/537.36 (KHTML, like Gecko) Chrome/95.0.4638.69 Safari/537.36\"}\n",
    "data = {\n",
    "        'username': '13592916928',\n",
    "        'password': '3214836abcdefg.'\n",
    "        }\n",
    "session = requests.session()\n",
    "    # 使用session发送请求，cookie保存其中\n",
    "session.post(url, headers=headers, data=data)\n",
    "    # 使用session请求登陆后地址，得到信息返回\n",
    "r = session.get(url, headers=headers)\n",
    "data=r.text\n",
    "print(data)"
   ]
  },
  {
   "cell_type": "raw",
   "metadata": {},
   "source": [
    "获取兄弟节点\n",
    "思路：\n",
    "（1）可以通过获取的节点，定位到父节点，再找到想要定位 的元素 用到 . .来获取 父节点\n",
    "（2）可以使用xpath提供的属性：preceding-sibling（当前节点之前的节点）或者following-sibling（当前节点之后的节点）属性来进行定位"
   ]
  },
  {
   "cell_type": "raw",
   "metadata": {},
   "source": [
    "<html>\n",
    "<body>\n",
    "<div>\n",
    "    <!--下面两个节点用于兄弟节点定位-->\n",
    "    <div>brother 1</div>\n",
    "    <div id=\"D\"></div>\n",
    "    <div>brother 2</div>\n",
    "</div>\n",
    "</body>\n",
    "</html>"
   ]
  },
  {
   "cell_type": "code",
   "execution_count": null,
   "metadata": {},
   "outputs": [],
   "source": [
    "#弟节点定位哥哥节点  \n",
    "//div[@id='D']/../div[1]    #brother 1\n",
    "//div[@id='D']/preceding-sibling::div[1]  #brother 1   注意括号里的标号，1 代表着离当前节点最近的一个哥哥节点，数字越大表示离当前节点越远，当然"
   ]
  },
  {
   "cell_type": "code",
   "execution_count": null,
   "metadata": {},
   "outputs": [],
   "source": [
    "#由哥哥节点定位弟弟节点\n",
    "//div[@id='D']/../div[3]         #brother 2\n",
    "//div[@id='D']/following-sibling::div[1]     #brother 2   1代表离当前节点最近的一个弟弟节点，数字越大表示离当前节点越远；"
   ]
  },
  {
   "cell_type": "markdown",
   "metadata": {},
   "source": [
    "xpath表达式中不可出现tbody标签，匹配不到<tbody>标签"
   ]
  },
  {
   "cell_type": "raw",
   "metadata": {},
   "source": [
    "去除不想要的标签:\n",
    "    我要获取div里面的内容，但是用xpath获取的时候后面那个script也会被包含在内，输出text后含有很多js的函数（跟网页源代码有关），所以要去除这一部分函数\n",
    "详情参考 链接\n",
    "for bad in html.xpath('//div[@itemprop=\"articleBody\"]//script'):\n",
    "    bad.getparent().remove(bad)\n",
    "content = html.xpath('//div[@itemprop=\"articleBody\"]//text()')\n",
    "content = ' '.join([i.strip() for i in content])[1:]\n"
   ]
  },
  {
   "cell_type": "code",
   "execution_count": 2,
   "metadata": {},
   "outputs": [
    {
     "name": "stdout",
     "output_type": "stream",
     "text": [
      "6\n"
     ]
    }
   ],
   "source": [
    "from datetime import datetime, timedelta\n",
    "\n",
    "\n",
    "str='402145小时前'\n",
    "a=str.find('小时')\n",
    "print(a)"
   ]
  },
  {
   "cell_type": "code",
   "execution_count": 5,
   "metadata": {
    "scrolled": true
   },
   "outputs": [
    {
     "ename": "ValueError",
     "evalue": "invalid literal for int() with base 10: '20:04'",
     "output_type": "error",
     "traceback": [
      "\u001b[1;31m---------------------------------------------------------------------------\u001b[0m",
      "\u001b[1;31mValueError\u001b[0m                                Traceback (most recent call last)",
      "\u001b[1;32m<ipython-input-5-25b70cf51f1d>\u001b[0m in \u001b[0;36m<module>\u001b[1;34m\u001b[0m\n\u001b[1;32m----> 1\u001b[1;33m \u001b[0ma\u001b[0m\u001b[1;33m=\u001b[0m\u001b[0mint\u001b[0m\u001b[1;33m(\u001b[0m\u001b[1;34m'20:04'\u001b[0m\u001b[1;33m)\u001b[0m\u001b[1;33m\u001b[0m\u001b[1;33m\u001b[0m\u001b[0m\n\u001b[0m\u001b[0;32m      2\u001b[0m \u001b[0mprint\u001b[0m\u001b[1;33m(\u001b[0m\u001b[0ma\u001b[0m\u001b[1;33m)\u001b[0m\u001b[1;33m\u001b[0m\u001b[1;33m\u001b[0m\u001b[0m\n",
      "\u001b[1;31mValueError\u001b[0m: invalid literal for int() with base 10: '20:04'"
     ]
    }
   ],
   "source": [
    "a=int('20:04')\n",
    "print(a)"
   ]
  },
  {
   "cell_type": "code",
   "execution_count": null,
   "metadata": {},
   "outputs": [],
   "source": []
  }
 ],
 "metadata": {
  "kernelspec": {
   "display_name": "Python 3",
   "language": "python",
   "name": "python3"
  },
  "language_info": {
   "codemirror_mode": {
    "name": "ipython",
    "version": 3
   },
   "file_extension": ".py",
   "mimetype": "text/x-python",
   "name": "python",
   "nbconvert_exporter": "python",
   "pygments_lexer": "ipython3",
   "version": "3.8.5"
  }
 },
 "nbformat": 4,
 "nbformat_minor": 5
}
