{
 "cells": [
  {
   "cell_type": "markdown",
   "id": "c93d4cfe",
   "metadata": {},
   "source": [
    "## 实例爬取豆瓣读书里小说标签下所有书籍的书名，作者、出版时间，价格、评分数，评价人数\n",
    "        1.分析网址https://book.douban.com/tag/%E5%B0%8F%E8%AF%B4?start=0&type=T 发现小说两个字，已经被转码ascii码。\n",
    "        2.quote(key)将汉字编码成ascii码\n",
    "        2.第2页，网址：https://book.douban.com/tag/%E5%B0%8F%E8%AF%B4?start=20&type=T，发现每一页放20本小说，如果是第4页start=60\n",
    "        #subject_list > ul > li:nth-child(20) > div.info > h2 > a"
   ]
  },
  {
   "cell_type": "code",
   "execution_count": 1,
   "id": "fa5ccc54",
   "metadata": {},
   "outputs": [],
   "source": [
    "import urllib.request #引入包\n",
    "import requests#\n",
    "from bs4 import BeautifulSoup"
   ]
  },
  {
   "cell_type": "code",
   "execution_count": 2,
   "id": "a70fcb69",
   "metadata": {},
   "outputs": [
    {
     "name": "stdout",
     "output_type": "stream",
     "text": [
      "%E5%B0%8F%E8%AF%B4\n"
     ]
    }
   ],
   "source": [
    "#select和find_all获取网页内容为list类型（组标签），得到内容应先[0]\n",
    "#select_one和find获取的是标签，内容可以直接得到\n",
    "key=\"小说\"\n",
    "key_ascii=urllib.request.quote(key)\n",
    "print(key_ascii)\n"
   ]
  },
  {
   "cell_type": "code",
   "execution_count": 3,
   "id": "7fad6e41",
   "metadata": {},
   "outputs": [
    {
     "name": "stdout",
     "output_type": "stream",
     "text": [
      "活着\n"
     ]
    }
   ],
   "source": [
    "url=\"https://book.douban.com/tag/%E5%B0%8F%E8%AF%B4?start=0&type=T\"\n",
    "headers={'User-Agent': 'Mozilla/5.0 (Windows NT 10.0; Win64; x64) AppleWebKit/537.36 (KHTML, like Gecko) Chrome/88.0.4324.190 Safari/537.36'}\n",
    "response=requests.get(url,headers=headers)\n",
    "data=response.text\n",
    "soup=BeautifulSoup(data,\"html.parser\")\n",
    "\n",
    "book_name=soup.select(\"#subject_list > ul > li:nth-child(1) > div.info > h2 > a\")\n",
    "#print(book_name[0].get_text())    \n",
    "print(book_name[0].get_text().replace(\"\\n\",\"\").replace(\" \",\"\"))"
   ]
  },
  {
   "cell_type": "code",
   "execution_count": 4,
   "id": "131dcc6b",
   "metadata": {},
   "outputs": [
    {
     "name": "stdout",
     "output_type": "stream",
     "text": [
      "['余华', '作家出版社', '2012-8-1', '20.00元']\n",
      "['林奕含', '北京联合出版公司', '2018-2', '45.00元']\n",
      "['[波]斯坦尼斯瓦夫·莱姆', '靖振忠', '译林出版社', '2021-8', '49.00元']\n",
      "['[日]东野圭吾', '刘姿君', '南海出版公司', '2013-1-1', 'CNY39.50']\n",
      "['[意]阿尔贝托·莫拉维亚', '沈萼梅、刘锡荣', '江苏凤凰文艺出版社', '2021-7', '62.00']\n",
      "['【英】罗伯特·戴博德', '陈赢', '天津人民出版社', '2020-8-1', '38.00元']\n",
      "['[美]卡勒德·胡赛尼', '李继宏', '上海人民出版社', '2006-5', '29.00元']\n",
      "['[美]丹尼尔·凯斯', '陈澄和', '广西师范大学出版社', '2015-4', '36.00元']\n",
      "['[哥伦比亚]加西亚·马尔克斯', '范晔', '南海出版公司', '2011-6', '39.50元']\n",
      "['[日]叶真中显', '林佩瑾', '北京联合出版公司', '2020-7', '58.00']\n",
      "['[古巴]吉列尔莫·卡夫雷拉·因凡特', '范晔', '四川人民出版社', '2021-7', '78']\n",
      "['[清]曹雪芹著、高鹗续', '人民文学出版社', '1996-12', '59.70元']\n",
      "['[日]东野圭吾', '李盈春', '南海出版公司', '2014-5', '39.50元']\n",
      "['[法]圣埃克苏佩里', '马振聘', '人民文学出版社', '2003-8', '22.00元']\n",
      "['黄丽群', '理想国｜河南文艺出版社', '2021-8', '56']\n",
      "['余华', '作家出版社', '2012-9', '24.00元']\n",
      "['[哥伦比亚]加西亚·马尔克斯', '杨玲', '南海出版公司', '2012-9-1', '39.50元']\n",
      "['刘震云', '花城出版社', '2021-7', '58']\n",
      "['张嘉佳', '湖南文艺出版社', '2018-7', '42.00元']\n",
      "['[英]乔治·奥威尔', '刘绍铭', '北京十月文艺出版社', '2010-4-1', '28.00']\n",
      "['豆豆', '作家出版社', '2005-05-01', '28.00']\n",
      "['[法]阿尔贝·加缪', '柳鸣九', '上海译文出版社', '2010-8', '22.00元']\n",
      "['陈春成', '上海三联书店', '2020-9', '52']\n",
      "['[意大利]埃莱娜·费兰特', '陈英、张燕燕', '人民文学出版社', '2021-8', '69.00元']\n",
      "['麦家', '北京十月文艺出版社', '2019-4', '55.00元']\n",
      "['[韩]韩江', '胡椒筒', '四川文艺出版社', '2021-9', '48']\n",
      "['刘慈欣', '重庆出版社', '2012-1-1', '168.00元']\n",
      "['刘慈欣', '重庆出版社', '2008-1', '23.00']\n",
      "['[美]哈珀·李', '高红梅', '译林出版社', '2012-9', '32.00元']\n",
      "['杨本芬', '北京联合出版公司', '2020-6', '38.00元']\n",
      "['[英]石黑一雄', '宋佥', '上海译文出版社', '2021-3', '68.00']\n",
      "['余华', '北京十月文艺出版社', '2021-3', '59.00元']\n",
      "['墨宝非宝', '百花洲文艺出版社', '2014-1-1', 'CNY29.80']\n",
      "['[美国]科马克·麦卡锡', '尚玉明、魏铁汉', '北京日报出版社', '2021-3', '66.00元']\n",
      "['[加拿大]罗欣顿·米斯特里', '张亦琦', '天地出版社', '2021-6', '98']\n",
      "['弗雷德里克·巴克曼', '孙璐', '天津人民出版社', '2021-8', '49.8']\n",
      "['路遥', '人民文学出版社', '2005-1', '64.00元']\n",
      "['顾漫', '九州出版社', '2019-6', '36元']\n",
      "['钱锺书', '人民文学出版社', '1991-2', '19.00']\n",
      "['[英]威廉·萨默塞特·毛姆', '徐淳刚', '浙江文艺出版社', '2017-1-1', '39.80元']\n"
     ]
    }
   ],
   "source": [
    "#quote(key)将汉字编码成ascii码\n",
    "key=\"小说\"\n",
    "book_name_list=[]\n",
    "author_list=[]\n",
    "time_list=[]\n",
    "price_list=[]\n",
    "key_ascii=urllib.request.quote(key) \n",
    "headers={'User-Agent': 'Mozilla/5.0 (Windows NT 10.0; Win64; x64) AppleWebKit/537.36 (KHTML, like Gecko) Chrome/88.0.4324.190 Safari/537.36'}\n",
    "#爬取前2页内容\n",
    "for i in range(0,2):    \n",
    "    url=\"https://book.douban.com/tag/\"+str(key_ascii)+\"?start=\"+str(i*20)+\"&type=T\"\n",
    "    response=requests.get(url,headers=headers)#爬取网页\n",
    "    data=response.text#\n",
    "    file_path=\"./豆瓣小说\"+str(i+1)+\".html\"\n",
    "    with open(file_path,\"w\",encoding=\"utf-8\") as f:\n",
    "        f.write(data)\n",
    "    soup=BeautifulSoup(data,\"html.parser\") #是指定Beautiful的解析器为“html.parser”\n",
    "    #读取每一页的20本书\n",
    "    for i in range(1,21):\n",
    "        book_name=soup.select(\"#subject_list > ul > li:nth-child(\"+str(i)+\") > div.info > h2 > a\")\n",
    "        #subject_list > ul > li:nth-child(1) > div.info > h2 > a\n",
    "        #subject_list > ul > li:nth-child(2) > div.info > h2 > a\n",
    "        book_name=book_name[0]\n",
    "        #print(book_name.get_text())#直接读取除标签外的内容\n",
    "        #去掉换行和空格\n",
    "        #print(book_name.get_text().replace(\"\\n\",\"\").replace(\" \",\"\"))\n",
    "        book_name_list.append(book_name.get_text().replace(\"\\n\",\"\").replace(\" \",\"\"))\n",
    "        author_time_price=soup.select('#subject_list > ul > li:nth-child('+str(i)+') > div.info > div.pub')\n",
    "        author_time_price=author_time_price[0]\n",
    "        author_time_price=author_time_price.get_text().replace(\"\\n\",\"\").replace(\" \",\"\")\n",
    "        author_time_price=author_time_price.split(\"/\")\n",
    "        print(author_time_price)\n",
    "        #author_list.append(author_time_price[0])\n",
    "        #time_list.append(author_time_price[-2])\n",
    "        #price_list.append(author_time_price[-1])\n",
    "        #print(time_list)"
   ]
  }
 ],
 "metadata": {
  "kernelspec": {
   "display_name": "Python 3 (ipykernel)",
   "language": "python",
   "name": "python3"
  },
  "language_info": {
   "codemirror_mode": {
    "name": "ipython",
    "version": 3
   },
   "file_extension": ".py",
   "mimetype": "text/x-python",
   "name": "python",
   "nbconvert_exporter": "python",
   "pygments_lexer": "ipython3",
   "version": "3.8.5"
  }
 },
 "nbformat": 4,
 "nbformat_minor": 5
}
