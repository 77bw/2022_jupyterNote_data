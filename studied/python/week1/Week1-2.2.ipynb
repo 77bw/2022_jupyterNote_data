{
 "cells": [
  {
   "cell_type": "markdown",
   "metadata": {},
   "source": [
    "### 文本相似度计算\n",
    "过程：\n",
    "1、准备两篇文档\n",
    "2、提取关键词\n",
    "3，生成词频向量\n",
    "4，利用余弦相似度计算值，值越大就越相识"
   ]
  },
  {
   "cell_type": "code",
   "execution_count": 7,
   "metadata": {},
   "outputs": [],
   "source": [
    "#1.导入包\n",
    "from nltk import FreqDist\n",
    "import nltk"
   ]
  },
  {
   "cell_type": "code",
   "execution_count": 4,
   "metadata": {},
   "outputs": [],
   "source": [
    "#2.准备对比的文本\n",
    "text1='John likes to watch movies'\n",
    "text2='John also likes to watch football games'"
   ]
  },
  {
   "cell_type": "code",
   "execution_count": 5,
   "metadata": {},
   "outputs": [
    {
     "data": {
      "text/plain": [
       "'John likes to watch movies John also likes to watch football games'"
      ]
     },
     "execution_count": 5,
     "metadata": {},
     "output_type": "execute_result"
    }
   ],
   "source": [
    "#3.合并两篇文本，得到三个文本\n",
    "all_text=text1+' '+text2\n",
    "all_text"
   ]
  },
  {
   "cell_type": "code",
   "execution_count": 8,
   "metadata": {},
   "outputs": [
    {
     "data": {
      "text/plain": [
       "['John',\n",
       " 'likes',\n",
       " 'to',\n",
       " 'watch',\n",
       " 'movies',\n",
       " 'John',\n",
       " 'also',\n",
       " 'likes',\n",
       " 'to',\n",
       " 'watch',\n",
       " 'football',\n",
       " 'games']"
      ]
     },
     "execution_count": 8,
     "metadata": {},
     "output_type": "execute_result"
    }
   ],
   "source": [
    "#4分词处理\n",
    "words=nltk.word_tokenize(all_text)\n",
    "words"
   ]
  },
  {
   "cell_type": "code",
   "execution_count": 9,
   "metadata": {},
   "outputs": [
    {
     "data": {
      "text/plain": [
       "FreqDist({'John': 2, 'likes': 2, 'to': 2, 'watch': 2, 'movies': 1, 'also': 1, 'football': 1, 'games': 1})"
      ]
     },
     "execution_count": 9,
     "metadata": {},
     "output_type": "execute_result"
    }
   ],
   "source": [
    "#5词频统计\n",
    "freq_dist=FreqDist(words)\n",
    "freq_dist"
   ]
  },
  {
   "cell_type": "code",
   "execution_count": 10,
   "metadata": {},
   "outputs": [
    {
     "data": {
      "text/plain": [
       "[('John', 2), ('likes', 2), ('to', 2), ('watch', 2), ('movies', 1)]"
      ]
     },
     "execution_count": 10,
     "metadata": {},
     "output_type": "execute_result"
    }
   ],
   "source": [
    "#4.提取文档中常用的关键词\n",
    "most_common_words=freq_dist.most_common(5)\n",
    "most_common_words"
   ]
  },
  {
   "cell_type": "code",
   "execution_count": 15,
   "metadata": {},
   "outputs": [],
   "source": [
    "#5找到这五个单词所在的位置\n",
    "def find_postion(common_words):\n",
    "    result={}\n",
    "    post=0\n",
    "    for word in common_words:\n",
    "        result[word[0]]=post\n",
    "        post=post+1\n",
    "    return result"
   ]
  },
  {
   "cell_type": "code",
   "execution_count": 16,
   "metadata": {},
   "outputs": [
    {
     "data": {
      "text/plain": [
       "{'John': 0, 'likes': 1, 'to': 2, 'watch': 3, 'movies': 4}"
      ]
     },
     "execution_count": 16,
     "metadata": {},
     "output_type": "execute_result"
    }
   ],
   "source": [
    "#调用方法，找到常用单词对应的位置\n",
    "post_dict=find_postion(most_common_words)\n",
    "post_dict"
   ]
  },
  {
   "cell_type": "code",
   "execution_count": 17,
   "metadata": {},
   "outputs": [],
   "source": [
    "#6. 转换为词频向量（向量就是一个词频列表）\n",
    "def text_to_vector(words):\n",
    "    #将文本转换为词频向量\n",
    "    freq_vec=[0]*5\n",
    "    #在常用的单词列表上计算词频\n",
    "    for word in words:\n",
    "        if word in list(post_dict.keys()):\n",
    "            freq_vec[post_dict[word]]+=1\n",
    "    return freq_vec"
   ]
  },
  {
   "cell_type": "code",
   "execution_count": 18,
   "metadata": {},
   "outputs": [
    {
     "data": {
      "text/plain": [
       "[1, 1, 1, 1, 1]"
      ]
     },
     "execution_count": 18,
     "metadata": {},
     "output_type": "execute_result"
    }
   ],
   "source": [
    "#7.获取text1,text2的词频向量\n",
    "t1=nltk.word_tokenize(text1)\n",
    "vec1=text_to_vector(t1)\n",
    "vec1"
   ]
  },
  {
   "cell_type": "code",
   "execution_count": 19,
   "metadata": {},
   "outputs": [
    {
     "data": {
      "text/plain": [
       "[1, 1, 1, 1, 0]"
      ]
     },
     "execution_count": 19,
     "metadata": {},
     "output_type": "execute_result"
    }
   ],
   "source": [
    "t2=nltk.word_tokenize(text2)\n",
    "vec2=text_to_vector(t2)\n",
    "vec2"
   ]
  },
  {
   "cell_type": "code",
   "execution_count": 20,
   "metadata": {},
   "outputs": [],
   "source": [
    "#计算文本相似度，利用余弦相似度\n",
    "from nltk.cluster.util import cosine_distance #导入余弦相似度包"
   ]
  },
  {
   "cell_type": "code",
   "execution_count": 21,
   "metadata": {},
   "outputs": [
    {
     "data": {
      "text/plain": [
       "0.10557280900008414"
      ]
     },
     "execution_count": 21,
     "metadata": {},
     "output_type": "execute_result"
    }
   ],
   "source": [
    "#参数是文本分词向量\n",
    "cosine_distance(vec1,vec2) #结果是0-1之间"
   ]
  },
  {
   "cell_type": "code",
   "execution_count": null,
   "metadata": {},
   "outputs": [],
   "source": []
  }
 ],
 "metadata": {
  "kernelspec": {
   "display_name": "Python 3",
   "language": "python",
   "name": "python3"
  },
  "language_info": {
   "codemirror_mode": {
    "name": "ipython",
    "version": 3
   },
   "file_extension": ".py",
   "mimetype": "text/x-python",
   "name": "python",
   "nbconvert_exporter": "python",
   "pygments_lexer": "ipython3",
   "version": "3.8.5"
  }
 },
 "nbformat": 4,
 "nbformat_minor": 5
}
