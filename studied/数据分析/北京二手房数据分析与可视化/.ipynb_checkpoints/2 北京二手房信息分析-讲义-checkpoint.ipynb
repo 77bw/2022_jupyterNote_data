{
 "cells": [
  {
   "cell_type": "markdown",
   "metadata": {
    "tags": [],
    "toc-hr-collapsed": true
   },
   "source": [
    "\n",
    "## 学习目标\n",
    "\n",
    "- 掌握数据处理的常用方法\n",
    "- 知道数据分析的指标\n",
    "\n",
    "## 导入所需包"
   ]
  },
  {
   "cell_type": "code",
   "execution_count": 2,
   "metadata": {
    "scrolled": true
   },
   "outputs": [],
   "source": [
    "import sys\n",
    "sys.path.append('D:\\\\anaconda3\\\\Lib\\\\site-packages')"
   ]
  },
  {
   "cell_type": "code",
   "execution_count": null,
   "metadata": {},
   "outputs": [],
   "source": []
  },
  {
   "cell_type": "code",
   "execution_count": 3,
   "metadata": {
    "ExecuteTime": {
     "end_time": "2021-04-22T12:44:37.481052Z",
     "start_time": "2021-04-22T12:44:36.986102Z"
    }
   },
   "outputs": [],
   "source": [
    "import numpy as np \n",
    "import pandas as pd \n",
    "import matplotlib.pyplot as plt    # matplotlib是pandas自带的图形包\n",
    "                                   # 导入matplotlib库中的pyplot模块，用于绘图\n",
    "import os   \n",
    "# os是Python标准库,提供通用的、基本的操作系统交互功能，路径操作、进程管理、环境参数等\n",
    "\n",
    "from pyecharts.charts import Pie, Map, Bar, Line, Grid, Page\n",
    "from pyecharts import options as opts "
   ]
  },
  {
   "cell_type": "code",
   "execution_count": 4,
   "metadata": {
    "ExecuteTime": {
     "end_time": "2021-04-22T12:44:37.485488Z",
     "start_time": "2021-04-22T12:44:37.483389Z"
    }
   },
   "outputs": [],
   "source": [
    "# 在jupyterlab中使用pyecharts需要如下设置\n",
    "# from pyecharts.globals import CurrentConfig, NotebookType  \n",
    "# CurrentConfig.NOTEBOOK_TYPE = NotebookType.JUPYTER_LAB"
   ]
  },
  {
   "cell_type": "code",
   "execution_count": 5,
   "metadata": {
    "ExecuteTime": {
     "end_time": "2021-04-22T12:44:37.491108Z",
     "start_time": "2021-04-22T12:44:37.488222Z"
    }
   },
   "outputs": [],
   "source": [
    "# matplotlib可以正常显示汉字\n",
    "import matplotlib.pyplot as plt\n",
    "plt.rcParams['font.sans-serif'] = ['Arial Unicode MS'] # 用来正常显示中文标签\n",
    "plt.rcParams['axes.unicode_minus'] = False  # 用来正常显示负号"
   ]
  },
  {
   "cell_type": "markdown",
   "metadata": {
    "toc-hr-collapsed": true
   },
   "source": [
    "## 加载数据"
   ]
  },
  {
   "cell_type": "code",
   "execution_count": 6,
   "metadata": {
    "ExecuteTime": {
     "end_time": "2021-04-22T12:44:37.741341Z",
     "start_time": "2021-04-22T12:44:37.494033Z"
    }
   },
   "outputs": [],
   "source": [
    "df_all = pd.read_csv('北京二手房数据.csv')"
   ]
  },
  {
   "cell_type": "code",
   "execution_count": 7,
   "metadata": {
    "ExecuteTime": {
     "end_time": "2021-04-22T12:44:37.765331Z",
     "start_time": "2021-04-22T12:44:37.743345Z"
    }
   },
   "outputs": [
    {
     "data": {
      "text/html": [
       "<div>\n",
       "<style scoped>\n",
       "    .dataframe tbody tr th:only-of-type {\n",
       "        vertical-align: middle;\n",
       "    }\n",
       "\n",
       "    .dataframe tbody tr th {\n",
       "        vertical-align: top;\n",
       "    }\n",
       "\n",
       "    .dataframe thead th {\n",
       "        text-align: right;\n",
       "    }\n",
       "</style>\n",
       "<table border=\"1\" class=\"dataframe\">\n",
       "  <thead>\n",
       "    <tr style=\"text-align: right;\">\n",
       "      <th></th>\n",
       "      <th>title</th>\n",
       "      <th>detailUrl</th>\n",
       "      <th>position</th>\n",
       "      <th>houseInfo</th>\n",
       "      <th>followInfo</th>\n",
       "      <th>tagInfo</th>\n",
       "      <th>totalPrice</th>\n",
       "      <th>unitPrice</th>\n",
       "      <th>county</th>\n",
       "    </tr>\n",
       "  </thead>\n",
       "  <tbody>\n",
       "    <tr>\n",
       "      <th>0</th>\n",
       "      <td>立水桥 北京北小区 视野特别好 税费也少</td>\n",
       "      <td>https://bj.lianjia.com/ershoufang/101103274797...</td>\n",
       "      <td>['北京北 ', '立水桥']</td>\n",
       "      <td>2室1厅 | 81.49平米 | 东南 | 简装 | 中楼层(共20层) | 2008年建 ...</td>\n",
       "      <td>271人关注 / 一年前发布</td>\n",
       "      <td>['近地铁', 'VR看装修', '房本满五年']</td>\n",
       "      <td>['455', '万']</td>\n",
       "      <td>单价55836元/平米</td>\n",
       "      <td>昌平</td>\n",
       "    </tr>\n",
       "    <tr>\n",
       "      <th>1</th>\n",
       "      <td>南北通透 全明格局 品质住宅 楼层高 观森林公园</td>\n",
       "      <td>https://bj.lianjia.com/ershoufang/101104923604...</td>\n",
       "      <td>['招商嘉铭珑原 ', '立水桥']</td>\n",
       "      <td>3室1厅 | 175.91平米 | 南 北 | 精装 | 高楼层(共14层) | 2012年...</td>\n",
       "      <td>150人关注 / 一年前发布</td>\n",
       "      <td>['VR看装修', '房本满两年']</td>\n",
       "      <td>['1250', '万']</td>\n",
       "      <td>单价71060元/平米</td>\n",
       "      <td>昌平</td>\n",
       "    </tr>\n",
       "    <tr>\n",
       "      <th>2</th>\n",
       "      <td>此房满五年唯一，有电梯，周边配套齐全</td>\n",
       "      <td>https://bj.lianjia.com/ershoufang/101108510562...</td>\n",
       "      <td>['南环里 ', '鼓楼大街']</td>\n",
       "      <td>1室0厅 | 36.3平米 | 西 | 简装 | 高楼层(共10层) | 2004年建 | ...</td>\n",
       "      <td>15人关注 / 15天以前发布</td>\n",
       "      <td>['VR房源', '房本满五年']</td>\n",
       "      <td>['165', '万']</td>\n",
       "      <td>单价45455元/平米</td>\n",
       "      <td>昌平</td>\n",
       "    </tr>\n",
       "    <tr>\n",
       "      <th>3</th>\n",
       "      <td>玫瑰园别墅，联排西边户，小区环境好</td>\n",
       "      <td>https://bj.lianjia.com/ershoufang/101108623996...</td>\n",
       "      <td>['玫瑰园 ', '沙河']</td>\n",
       "      <td>5室2厅 | 245.6平米 | 南 北 | 精装 | 底层(共3层) | 2000年建 | 板楼</td>\n",
       "      <td>19人关注 / 5天以前发布</td>\n",
       "      <td>['VR房源', '房本满五年', '随时看房']</td>\n",
       "      <td>['1150', '万']</td>\n",
       "      <td>单价46825元/平米</td>\n",
       "      <td>昌平</td>\n",
       "    </tr>\n",
       "    <tr>\n",
       "      <th>4</th>\n",
       "      <td>急售！南北通透 全明格局三居一层带花园100平看房方便</td>\n",
       "      <td>https://bj.lianjia.com/ershoufang/101108633440...</td>\n",
       "      <td>['蓬莱公寓东区 ', '北七家']</td>\n",
       "      <td>3室2厅 | 145.14平米 | 南 北 西 | 精装 | 底层(共6层) | 2001年...</td>\n",
       "      <td>11人关注 / 5天以前发布</td>\n",
       "      <td>['VR房源', '房本满五年']</td>\n",
       "      <td>['515', '万']</td>\n",
       "      <td>单价35483元/平米</td>\n",
       "      <td>昌平</td>\n",
       "    </tr>\n",
       "    <tr>\n",
       "      <th>...</th>\n",
       "      <td>...</td>\n",
       "      <td>...</td>\n",
       "      <td>...</td>\n",
       "      <td>...</td>\n",
       "      <td>...</td>\n",
       "      <td>...</td>\n",
       "      <td>...</td>\n",
       "      <td>...</td>\n",
       "      <td>...</td>\n",
       "    </tr>\n",
       "    <tr>\n",
       "      <th>33551</th>\n",
       "      <td>满五年个税1%  2层！南北通透三居！诚心出售</td>\n",
       "      <td>https://bj.lianjia.com/ershoufang/101108062964...</td>\n",
       "      <td>['右安门内西街1号院 ', '右安门内']</td>\n",
       "      <td>3室1厅 | 90.46平米 | 南 北 | 其他 | 低楼层(共7层) | 1990年建 ...</td>\n",
       "      <td>19人关注 / 1个月以前发布</td>\n",
       "      <td>['VR看装修', '房本满五年']</td>\n",
       "      <td>['920', '万']</td>\n",
       "      <td>单价101703元/平米</td>\n",
       "      <td>西城</td>\n",
       "    </tr>\n",
       "    <tr>\n",
       "      <th>33552</th>\n",
       "      <td>壹瓶三期：陶然庭   东西双通透 精装三居  眼镜户型</td>\n",
       "      <td>https://bj.lianjia.com/ershoufang/101108063739...</td>\n",
       "      <td>['一瓶 ', '陶然亭']</td>\n",
       "      <td>3室2厅 | 151.24平米 | 东 西 | 精装 | 低楼层(共13层) | 2009年...</td>\n",
       "      <td>24人关注 / 1个月以前发布</td>\n",
       "      <td>['VR看装修', '房本满两年']</td>\n",
       "      <td>['1950', '万']</td>\n",
       "      <td>单价128935元/平米</td>\n",
       "      <td>西城</td>\n",
       "    </tr>\n",
       "    <tr>\n",
       "      <th>33553</th>\n",
       "      <td>月坛低总价两居室，满五年成本价购买</td>\n",
       "      <td>https://bj.lianjia.com/ershoufang/101108063925...</td>\n",
       "      <td>['南礼士路三条北里 ', '月坛']</td>\n",
       "      <td>2室1厅 | 53.2平米 | 东 西 | 简装 | 地下室(共6层) | 1987年建 | 板楼</td>\n",
       "      <td>19人关注 / 1个月以前发布</td>\n",
       "      <td>['近地铁', 'VR看装修', '房本满五年']</td>\n",
       "      <td>['499', '万']</td>\n",
       "      <td>单价93797元/平米</td>\n",
       "      <td>西城</td>\n",
       "    </tr>\n",
       "    <tr>\n",
       "      <th>33554</th>\n",
       "      <td>西城二环边 东南三居 高楼层视野好 三世同堂 满五唯一</td>\n",
       "      <td>https://bj.lianjia.com/ershoufang/101108067705...</td>\n",
       "      <td>['荣丰2008 ', '广安门']</td>\n",
       "      <td>3室2厅 | 169.36平米 | 东南 | 精装 | 中楼层(共14层) | 2003年建...</td>\n",
       "      <td>42人关注 / 1个月以前发布</td>\n",
       "      <td>['VR看装修', '房本满五年']</td>\n",
       "      <td>['1380', '万']</td>\n",
       "      <td>单价81484元/平米</td>\n",
       "      <td>西城</td>\n",
       "    </tr>\n",
       "    <tr>\n",
       "      <th>33555</th>\n",
       "      <td>满五年唯一，央产房，2001年小区，无遮挡</td>\n",
       "      <td>https://bj.lianjia.com/ershoufang/101108068233...</td>\n",
       "      <td>['西环景苑 ', '马连道']</td>\n",
       "      <td>3室2厅 | 138.66平米 | 东南 | 精装 | 高楼层(共19层) | 2001年建...</td>\n",
       "      <td>22人关注 / 1个月以前发布</td>\n",
       "      <td>['VR看装修', '房本满五年']</td>\n",
       "      <td>['1159', '万']</td>\n",
       "      <td>单价83586元/平米</td>\n",
       "      <td>西城</td>\n",
       "    </tr>\n",
       "  </tbody>\n",
       "</table>\n",
       "<p>33556 rows × 9 columns</p>\n",
       "</div>"
      ],
      "text/plain": [
       "                             title  \\\n",
       "0             立水桥 北京北小区 视野特别好 税费也少   \n",
       "1         南北通透 全明格局 品质住宅 楼层高 观森林公园   \n",
       "2               此房满五年唯一，有电梯，周边配套齐全   \n",
       "3                玫瑰园别墅，联排西边户，小区环境好   \n",
       "4      急售！南北通透 全明格局三居一层带花园100平看房方便   \n",
       "...                            ...   \n",
       "33551      满五年个税1%  2层！南北通透三居！诚心出售   \n",
       "33552  壹瓶三期：陶然庭   东西双通透 精装三居  眼镜户型   \n",
       "33553            月坛低总价两居室，满五年成本价购买   \n",
       "33554  西城二环边 东南三居 高楼层视野好 三世同堂 满五唯一   \n",
       "33555        满五年唯一，央产房，2001年小区，无遮挡   \n",
       "\n",
       "                                               detailUrl  \\\n",
       "0      https://bj.lianjia.com/ershoufang/101103274797...   \n",
       "1      https://bj.lianjia.com/ershoufang/101104923604...   \n",
       "2      https://bj.lianjia.com/ershoufang/101108510562...   \n",
       "3      https://bj.lianjia.com/ershoufang/101108623996...   \n",
       "4      https://bj.lianjia.com/ershoufang/101108633440...   \n",
       "...                                                  ...   \n",
       "33551  https://bj.lianjia.com/ershoufang/101108062964...   \n",
       "33552  https://bj.lianjia.com/ershoufang/101108063739...   \n",
       "33553  https://bj.lianjia.com/ershoufang/101108063925...   \n",
       "33554  https://bj.lianjia.com/ershoufang/101108067705...   \n",
       "33555  https://bj.lianjia.com/ershoufang/101108068233...   \n",
       "\n",
       "                     position  \\\n",
       "0             ['北京北 ', '立水桥']   \n",
       "1          ['招商嘉铭珑原 ', '立水桥']   \n",
       "2            ['南环里 ', '鼓楼大街']   \n",
       "3              ['玫瑰园 ', '沙河']   \n",
       "4          ['蓬莱公寓东区 ', '北七家']   \n",
       "...                       ...   \n",
       "33551  ['右安门内西街1号院 ', '右安门内']   \n",
       "33552          ['一瓶 ', '陶然亭']   \n",
       "33553     ['南礼士路三条北里 ', '月坛']   \n",
       "33554      ['荣丰2008 ', '广安门']   \n",
       "33555        ['西环景苑 ', '马连道']   \n",
       "\n",
       "                                               houseInfo       followInfo  \\\n",
       "0      2室1厅 | 81.49平米 | 东南 | 简装 | 中楼层(共20层) | 2008年建 ...   271人关注 / 一年前发布   \n",
       "1      3室1厅 | 175.91平米 | 南 北 | 精装 | 高楼层(共14层) | 2012年...   150人关注 / 一年前发布   \n",
       "2      1室0厅 | 36.3平米 | 西 | 简装 | 高楼层(共10层) | 2004年建 | ...  15人关注 / 15天以前发布   \n",
       "3      5室2厅 | 245.6平米 | 南 北 | 精装 | 底层(共3层) | 2000年建 | 板楼   19人关注 / 5天以前发布   \n",
       "4      3室2厅 | 145.14平米 | 南 北 西 | 精装 | 底层(共6层) | 2001年...   11人关注 / 5天以前发布   \n",
       "...                                                  ...              ...   \n",
       "33551  3室1厅 | 90.46平米 | 南 北 | 其他 | 低楼层(共7层) | 1990年建 ...  19人关注 / 1个月以前发布   \n",
       "33552  3室2厅 | 151.24平米 | 东 西 | 精装 | 低楼层(共13层) | 2009年...  24人关注 / 1个月以前发布   \n",
       "33553  2室1厅 | 53.2平米 | 东 西 | 简装 | 地下室(共6层) | 1987年建 | 板楼  19人关注 / 1个月以前发布   \n",
       "33554  3室2厅 | 169.36平米 | 东南 | 精装 | 中楼层(共14层) | 2003年建...  42人关注 / 1个月以前发布   \n",
       "33555  3室2厅 | 138.66平米 | 东南 | 精装 | 高楼层(共19层) | 2001年建...  22人关注 / 1个月以前发布   \n",
       "\n",
       "                         tagInfo     totalPrice     unitPrice county  \n",
       "0      ['近地铁', 'VR看装修', '房本满五年']   ['455', '万']   单价55836元/平米     昌平  \n",
       "1             ['VR看装修', '房本满两年']  ['1250', '万']   单价71060元/平米     昌平  \n",
       "2              ['VR房源', '房本满五年']   ['165', '万']   单价45455元/平米     昌平  \n",
       "3      ['VR房源', '房本满五年', '随时看房']  ['1150', '万']   单价46825元/平米     昌平  \n",
       "4              ['VR房源', '房本满五年']   ['515', '万']   单价35483元/平米     昌平  \n",
       "...                          ...            ...           ...    ...  \n",
       "33551         ['VR看装修', '房本满五年']   ['920', '万']  单价101703元/平米     西城  \n",
       "33552         ['VR看装修', '房本满两年']  ['1950', '万']  单价128935元/平米     西城  \n",
       "33553  ['近地铁', 'VR看装修', '房本满五年']   ['499', '万']   单价93797元/平米     西城  \n",
       "33554         ['VR看装修', '房本满五年']  ['1380', '万']   单价81484元/平米     西城  \n",
       "33555         ['VR看装修', '房本满五年']  ['1159', '万']   单价83586元/平米     西城  \n",
       "\n",
       "[33556 rows x 9 columns]"
      ]
     },
     "execution_count": 7,
     "metadata": {},
     "output_type": "execute_result"
    }
   ],
   "source": [
    "# 查看所有数据\n",
    "df_all"
   ]
  },
  {
   "cell_type": "code",
   "execution_count": 8,
   "metadata": {
    "ExecuteTime": {
     "end_time": "2021-04-22T12:44:37.789974Z",
     "start_time": "2021-04-22T12:44:37.767594Z"
    }
   },
   "outputs": [
    {
     "name": "stdout",
     "output_type": "stream",
     "text": [
      "<class 'pandas.core.frame.DataFrame'>\n",
      "RangeIndex: 33556 entries, 0 to 33555\n",
      "Data columns (total 9 columns):\n",
      " #   Column      Non-Null Count  Dtype \n",
      "---  ------      --------------  ----- \n",
      " 0   title       33556 non-null  object\n",
      " 1   detailUrl   33556 non-null  object\n",
      " 2   position    33556 non-null  object\n",
      " 3   houseInfo   33556 non-null  object\n",
      " 4   followInfo  33556 non-null  object\n",
      " 5   tagInfo     33556 non-null  object\n",
      " 6   totalPrice  33556 non-null  object\n",
      " 7   unitPrice   33556 non-null  object\n",
      " 8   county      33556 non-null  object\n",
      "dtypes: object(9)\n",
      "memory usage: 2.3+ MB\n"
     ]
    }
   ],
   "source": [
    "# 通过 info 查看每列信息\n",
    "df_all.info() "
   ]
  },
  {
   "cell_type": "markdown",
   "metadata": {
    "toc-hr-collapsed": true
   },
   "source": [
    "## 数据预处理\n",
    "\n",
    "### 初步处理\n",
    "- 删除重复数据\n",
    "- title：无需分析，删除\n",
    "- detailUrl：无需分析，删除\n",
    "- position：维度过细、删除\n",
    "- houseInfo：提取室、厅、面积、方位、装修、楼层（高中低）、建筑年份、板塔\n",
    "- followInfo：无需分析，删除\n",
    "- tagInfo：提取是否靠近地铁\n",
    "- totalPrice：提取房屋总价\n",
    "- unitPrice：房屋单价\n",
    "- county：无需处理"
   ]
  },
  {
   "cell_type": "code",
   "execution_count": 9,
   "metadata": {
    "ExecuteTime": {
     "end_time": "2021-04-22T12:44:37.862797Z",
     "start_time": "2021-04-22T12:44:37.792041Z"
    }
   },
   "outputs": [
    {
     "data": {
      "text/plain": [
       "61"
      ]
     },
     "execution_count": 9,
     "metadata": {},
     "output_type": "execute_result"
    }
   ],
   "source": [
    "# 重复值\n",
    "df_all.duplicated().sum()"
   ]
  },
  {
   "cell_type": "code",
   "execution_count": 10,
   "metadata": {
    "ExecuteTime": {
     "end_time": "2021-04-22T12:44:37.930122Z",
     "start_time": "2021-04-22T12:44:37.867947Z"
    }
   },
   "outputs": [],
   "source": [
    "# 去重\n",
    "df_all = df_all.drop_duplicates()"
   ]
  },
  {
   "cell_type": "code",
   "execution_count": 11,
   "metadata": {
    "ExecuteTime": {
     "end_time": "2021-04-22T12:44:37.993853Z",
     "start_time": "2021-04-22T12:44:37.933802Z"
    }
   },
   "outputs": [
    {
     "data": {
      "text/plain": [
       "0"
      ]
     },
     "execution_count": 11,
     "metadata": {},
     "output_type": "execute_result"
    }
   ],
   "source": [
    "df_all.duplicated().sum()"
   ]
  },
  {
   "cell_type": "code",
   "execution_count": 12,
   "metadata": {
    "ExecuteTime": {
     "end_time": "2021-04-22T12:44:38.046735Z",
     "start_time": "2021-04-22T12:44:37.995874Z"
    }
   },
   "outputs": [],
   "source": [
    "# pd.DataFrame.drop?"
   ]
  },
  {
   "cell_type": "code",
   "execution_count": 13,
   "metadata": {
    "ExecuteTime": {
     "end_time": "2021-04-22T12:44:38.058160Z",
     "start_time": "2021-04-22T12:44:38.049144Z"
    }
   },
   "outputs": [],
   "source": [
    "# 删除列\n",
    "df_all = df_all.drop(['title', 'detailUrl', 'position', 'followInfo'], axis=1)"
   ]
  },
  {
   "cell_type": "code",
   "execution_count": 14,
   "metadata": {
    "ExecuteTime": {
     "end_time": "2021-04-22T12:44:38.078371Z",
     "start_time": "2021-04-22T12:44:38.060611Z"
    }
   },
   "outputs": [
    {
     "name": "stdout",
     "output_type": "stream",
     "text": [
      "<class 'pandas.core.frame.DataFrame'>\n",
      "Int64Index: 33495 entries, 0 to 33555\n",
      "Data columns (total 5 columns):\n",
      " #   Column      Non-Null Count  Dtype \n",
      "---  ------      --------------  ----- \n",
      " 0   houseInfo   33495 non-null  object\n",
      " 1   tagInfo     33495 non-null  object\n",
      " 2   totalPrice  33495 non-null  object\n",
      " 3   unitPrice   33495 non-null  object\n",
      " 4   county      33495 non-null  object\n",
      "dtypes: object(5)\n",
      "memory usage: 1.5+ MB\n"
     ]
    }
   ],
   "source": [
    "df_all.info()"
   ]
  },
  {
   "cell_type": "markdown",
   "metadata": {},
   "source": [
    "### 提取信息"
   ]
  },
  {
   "cell_type": "code",
   "execution_count": 15,
   "metadata": {
    "ExecuteTime": {
     "end_time": "2021-04-22T12:44:38.084471Z",
     "start_time": "2021-04-22T12:44:38.080943Z"
    }
   },
   "outputs": [
    {
     "data": {
      "text/plain": [
       "pandas.core.series.Series"
      ]
     },
     "execution_count": 15,
     "metadata": {},
     "output_type": "execute_result"
    }
   ],
   "source": [
    "type(df_all['houseInfo'])"
   ]
  },
  {
   "cell_type": "code",
   "execution_count": 16,
   "metadata": {
    "ExecuteTime": {
     "end_time": "2021-04-22T12:44:38.091543Z",
     "start_time": "2021-04-22T12:44:38.086534Z"
    }
   },
   "outputs": [
    {
     "data": {
      "text/plain": [
       "0        2室1厅 | 81.49平米 | 东南 | 简装 | 中楼层(共20层) | 2008年建 ...\n",
       "1        3室1厅 | 175.91平米 | 南 北 | 精装 | 高楼层(共14层) | 2012年...\n",
       "2        1室0厅 | 36.3平米 | 西 | 简装 | 高楼层(共10层) | 2004年建 | ...\n",
       "3        5室2厅 | 245.6平米 | 南 北 | 精装 | 底层(共3层) | 2000年建 | 板楼\n",
       "4        3室2厅 | 145.14平米 | 南 北 西 | 精装 | 底层(共6层) | 2001年...\n",
       "                               ...                        \n",
       "33551    3室1厅 | 90.46平米 | 南 北 | 其他 | 低楼层(共7层) | 1990年建 ...\n",
       "33552    3室2厅 | 151.24平米 | 东 西 | 精装 | 低楼层(共13层) | 2009年...\n",
       "33553    2室1厅 | 53.2平米 | 东 西 | 简装 | 地下室(共6层) | 1987年建 | 板楼\n",
       "33554    3室2厅 | 169.36平米 | 东南 | 精装 | 中楼层(共14层) | 2003年建...\n",
       "33555    3室2厅 | 138.66平米 | 东南 | 精装 | 高楼层(共19层) | 2001年建...\n",
       "Name: houseInfo, Length: 33495, dtype: object"
      ]
     },
     "execution_count": 16,
     "metadata": {},
     "output_type": "execute_result"
    }
   ],
   "source": [
    "df_all['houseInfo']"
   ]
  },
  {
   "cell_type": "code",
   "execution_count": 17,
   "metadata": {},
   "outputs": [],
   "source": [
    "### Series.str的类型为pandas.core.strings.StringMethods，\n",
    "###可以理解为把Series类型转化成str，可以对Series进行有关str的一些操作。\n",
    "### 相当于，每一个元素分别转换成str，再调用str函数分别对每个元素进行处理"
   ]
  },
  {
   "cell_type": "code",
   "execution_count": 18,
   "metadata": {},
   "outputs": [
    {
     "data": {
      "text/plain": [
       "0          81.49平米 \n",
       "1         175.91平米 \n",
       "2           36.3平米 \n",
       "3          245.6平米 \n",
       "4         145.14平米 \n",
       "            ...    \n",
       "33551      90.46平米 \n",
       "33552     151.24平米 \n",
       "33553       53.2平米 \n",
       "33554     169.36平米 \n",
       "33555     138.66平米 \n",
       "Name: houseInfo, Length: 33495, dtype: object"
      ]
     },
     "execution_count": 18,
     "metadata": {},
     "output_type": "execute_result"
    }
   ],
   "source": [
    "df_all['houseInfo'].str.split('|').str[1]"
   ]
  },
  {
   "cell_type": "code",
   "execution_count": null,
   "metadata": {},
   "outputs": [],
   "source": []
  },
  {
   "cell_type": "code",
   "execution_count": 19,
   "metadata": {
    "ExecuteTime": {
     "end_time": "2021-04-22T12:44:38.417872Z",
     "start_time": "2021-04-22T12:44:38.093739Z"
    }
   },
   "outputs": [],
   "source": [
    "# 提取室厅\n",
    "df_all['halls'] = df_all['houseInfo'].str.split('|').str[0].str.extract(r'(\\d+)室')\n",
    "df_all['bedrooms'] = df_all['houseInfo'].str.split('|').str[0].str.extract(r'\\d+室(\\d+)厅')"
   ]
  },
  {
   "cell_type": "code",
   "execution_count": 20,
   "metadata": {},
   "outputs": [
    {
     "data": {
      "text/plain": [
       "0        1\n",
       "1        1\n",
       "2        0\n",
       "3        2\n",
       "4        2\n",
       "        ..\n",
       "33551    1\n",
       "33552    2\n",
       "33553    1\n",
       "33554    2\n",
       "33555    2\n",
       "Name: bedrooms, Length: 33495, dtype: object"
      ]
     },
     "execution_count": 20,
     "metadata": {},
     "output_type": "execute_result"
    }
   ],
   "source": [
    "df_all['bedrooms']"
   ]
  },
  {
   "cell_type": "code",
   "execution_count": null,
   "metadata": {
    "ExecuteTime": {
     "end_time": "2021-04-22T12:34:55.020572Z",
     "start_time": "2021-04-22T12:34:55.001797Z"
    }
   },
   "outputs": [],
   "source": []
  },
  {
   "cell_type": "code",
   "execution_count": 21,
   "metadata": {
    "ExecuteTime": {
     "end_time": "2021-04-22T12:44:38.545534Z",
     "start_time": "2021-04-22T12:44:38.419917Z"
    }
   },
   "outputs": [],
   "source": [
    "# 提取面积\n",
    "df_all['area'] = df_all['houseInfo'].str.split('|').str[1].str.extract(r'(\\d+.*\\d+)平米')"
   ]
  },
  {
   "cell_type": "code",
   "execution_count": 22,
   "metadata": {},
   "outputs": [
    {
     "data": {
      "text/plain": [
       "0         81.49\n",
       "1        175.91\n",
       "2          36.3\n",
       "3         245.6\n",
       "4        145.14\n",
       "          ...  \n",
       "33551     90.46\n",
       "33552    151.24\n",
       "33553      53.2\n",
       "33554    169.36\n",
       "33555    138.66\n",
       "Name: area, Length: 33495, dtype: object"
      ]
     },
     "execution_count": 22,
     "metadata": {},
     "output_type": "execute_result"
    }
   ],
   "source": [
    "df_all['area']"
   ]
  },
  {
   "cell_type": "code",
   "execution_count": 23,
   "metadata": {
    "ExecuteTime": {
     "end_time": "2021-04-22T12:44:38.653798Z",
     "start_time": "2021-04-22T12:44:38.548605Z"
    }
   },
   "outputs": [],
   "source": [
    "# 提取朝向\n",
    "df_all['orient'] = df_all['houseInfo'].str.split('|').str[2]"
   ]
  },
  {
   "cell_type": "code",
   "execution_count": 24,
   "metadata": {},
   "outputs": [
    {
     "data": {
      "text/plain": [
       "0            东南 \n",
       "1           南 北 \n",
       "2             西 \n",
       "3           南 北 \n",
       "4         南 北 西 \n",
       "          ...   \n",
       "33551       南 北 \n",
       "33552       东 西 \n",
       "33553       东 西 \n",
       "33554        东南 \n",
       "33555        东南 \n",
       "Name: orient, Length: 33495, dtype: object"
      ]
     },
     "execution_count": 24,
     "metadata": {},
     "output_type": "execute_result"
    }
   ],
   "source": [
    "df_all['orient']"
   ]
  },
  {
   "cell_type": "code",
   "execution_count": 25,
   "metadata": {
    "ExecuteTime": {
     "end_time": "2021-04-22T12:44:38.727192Z",
     "start_time": "2021-04-22T12:44:38.655906Z"
    }
   },
   "outputs": [],
   "source": [
    "# 提取装修类型\n",
    "df_all['decorateType'] = df_all['houseInfo'].str.split('|').str[3]"
   ]
  },
  {
   "cell_type": "code",
   "execution_count": null,
   "metadata": {},
   "outputs": [],
   "source": []
  },
  {
   "cell_type": "code",
   "execution_count": 26,
   "metadata": {
    "ExecuteTime": {
     "end_time": "2021-04-22T12:44:38.802970Z",
     "start_time": "2021-04-22T12:44:38.729311Z"
    }
   },
   "outputs": [],
   "source": [
    "# 提取楼层\n",
    "df_all['floor'] = df_all['houseInfo'].str.split('|').str[4]"
   ]
  },
  {
   "cell_type": "code",
   "execution_count": 27,
   "metadata": {
    "ExecuteTime": {
     "end_time": "2021-04-22T12:44:38.822841Z",
     "start_time": "2021-04-22T12:44:38.805124Z"
    },
    "scrolled": true
   },
   "outputs": [
    {
     "data": {
      "text/html": [
       "<div>\n",
       "<style scoped>\n",
       "    .dataframe tbody tr th:only-of-type {\n",
       "        vertical-align: middle;\n",
       "    }\n",
       "\n",
       "    .dataframe tbody tr th {\n",
       "        vertical-align: top;\n",
       "    }\n",
       "\n",
       "    .dataframe thead th {\n",
       "        text-align: right;\n",
       "    }\n",
       "</style>\n",
       "<table border=\"1\" class=\"dataframe\">\n",
       "  <thead>\n",
       "    <tr style=\"text-align: right;\">\n",
       "      <th></th>\n",
       "      <th>houseInfo</th>\n",
       "      <th>tagInfo</th>\n",
       "      <th>totalPrice</th>\n",
       "      <th>unitPrice</th>\n",
       "      <th>county</th>\n",
       "      <th>halls</th>\n",
       "      <th>bedrooms</th>\n",
       "      <th>area</th>\n",
       "      <th>orient</th>\n",
       "      <th>decorateType</th>\n",
       "      <th>floor</th>\n",
       "    </tr>\n",
       "  </thead>\n",
       "  <tbody>\n",
       "    <tr>\n",
       "      <th>0</th>\n",
       "      <td>2室1厅 | 81.49平米 | 东南 | 简装 | 中楼层(共20层) | 2008年建 ...</td>\n",
       "      <td>['近地铁', 'VR看装修', '房本满五年']</td>\n",
       "      <td>['455', '万']</td>\n",
       "      <td>单价55836元/平米</td>\n",
       "      <td>昌平</td>\n",
       "      <td>2</td>\n",
       "      <td>1</td>\n",
       "      <td>81.49</td>\n",
       "      <td>东南</td>\n",
       "      <td>简装</td>\n",
       "      <td>中楼层(共20层)</td>\n",
       "    </tr>\n",
       "    <tr>\n",
       "      <th>1</th>\n",
       "      <td>3室1厅 | 175.91平米 | 南 北 | 精装 | 高楼层(共14层) | 2012年...</td>\n",
       "      <td>['VR看装修', '房本满两年']</td>\n",
       "      <td>['1250', '万']</td>\n",
       "      <td>单价71060元/平米</td>\n",
       "      <td>昌平</td>\n",
       "      <td>3</td>\n",
       "      <td>1</td>\n",
       "      <td>175.91</td>\n",
       "      <td>南 北</td>\n",
       "      <td>精装</td>\n",
       "      <td>高楼层(共14层)</td>\n",
       "    </tr>\n",
       "    <tr>\n",
       "      <th>2</th>\n",
       "      <td>1室0厅 | 36.3平米 | 西 | 简装 | 高楼层(共10层) | 2004年建 | ...</td>\n",
       "      <td>['VR房源', '房本满五年']</td>\n",
       "      <td>['165', '万']</td>\n",
       "      <td>单价45455元/平米</td>\n",
       "      <td>昌平</td>\n",
       "      <td>1</td>\n",
       "      <td>0</td>\n",
       "      <td>36.3</td>\n",
       "      <td>西</td>\n",
       "      <td>简装</td>\n",
       "      <td>高楼层(共10层)</td>\n",
       "    </tr>\n",
       "    <tr>\n",
       "      <th>3</th>\n",
       "      <td>5室2厅 | 245.6平米 | 南 北 | 精装 | 底层(共3层) | 2000年建 | 板楼</td>\n",
       "      <td>['VR房源', '房本满五年', '随时看房']</td>\n",
       "      <td>['1150', '万']</td>\n",
       "      <td>单价46825元/平米</td>\n",
       "      <td>昌平</td>\n",
       "      <td>5</td>\n",
       "      <td>2</td>\n",
       "      <td>245.6</td>\n",
       "      <td>南 北</td>\n",
       "      <td>精装</td>\n",
       "      <td>底层(共3层)</td>\n",
       "    </tr>\n",
       "    <tr>\n",
       "      <th>4</th>\n",
       "      <td>3室2厅 | 145.14平米 | 南 北 西 | 精装 | 底层(共6层) | 2001年...</td>\n",
       "      <td>['VR房源', '房本满五年']</td>\n",
       "      <td>['515', '万']</td>\n",
       "      <td>单价35483元/平米</td>\n",
       "      <td>昌平</td>\n",
       "      <td>3</td>\n",
       "      <td>2</td>\n",
       "      <td>145.14</td>\n",
       "      <td>南 北 西</td>\n",
       "      <td>精装</td>\n",
       "      <td>底层(共6层)</td>\n",
       "    </tr>\n",
       "    <tr>\n",
       "      <th>...</th>\n",
       "      <td>...</td>\n",
       "      <td>...</td>\n",
       "      <td>...</td>\n",
       "      <td>...</td>\n",
       "      <td>...</td>\n",
       "      <td>...</td>\n",
       "      <td>...</td>\n",
       "      <td>...</td>\n",
       "      <td>...</td>\n",
       "      <td>...</td>\n",
       "      <td>...</td>\n",
       "    </tr>\n",
       "    <tr>\n",
       "      <th>33551</th>\n",
       "      <td>3室1厅 | 90.46平米 | 南 北 | 其他 | 低楼层(共7层) | 1990年建 ...</td>\n",
       "      <td>['VR看装修', '房本满五年']</td>\n",
       "      <td>['920', '万']</td>\n",
       "      <td>单价101703元/平米</td>\n",
       "      <td>西城</td>\n",
       "      <td>3</td>\n",
       "      <td>1</td>\n",
       "      <td>90.46</td>\n",
       "      <td>南 北</td>\n",
       "      <td>其他</td>\n",
       "      <td>低楼层(共7层)</td>\n",
       "    </tr>\n",
       "    <tr>\n",
       "      <th>33552</th>\n",
       "      <td>3室2厅 | 151.24平米 | 东 西 | 精装 | 低楼层(共13层) | 2009年...</td>\n",
       "      <td>['VR看装修', '房本满两年']</td>\n",
       "      <td>['1950', '万']</td>\n",
       "      <td>单价128935元/平米</td>\n",
       "      <td>西城</td>\n",
       "      <td>3</td>\n",
       "      <td>2</td>\n",
       "      <td>151.24</td>\n",
       "      <td>东 西</td>\n",
       "      <td>精装</td>\n",
       "      <td>低楼层(共13层)</td>\n",
       "    </tr>\n",
       "    <tr>\n",
       "      <th>33553</th>\n",
       "      <td>2室1厅 | 53.2平米 | 东 西 | 简装 | 地下室(共6层) | 1987年建 | 板楼</td>\n",
       "      <td>['近地铁', 'VR看装修', '房本满五年']</td>\n",
       "      <td>['499', '万']</td>\n",
       "      <td>单价93797元/平米</td>\n",
       "      <td>西城</td>\n",
       "      <td>2</td>\n",
       "      <td>1</td>\n",
       "      <td>53.2</td>\n",
       "      <td>东 西</td>\n",
       "      <td>简装</td>\n",
       "      <td>地下室(共6层)</td>\n",
       "    </tr>\n",
       "    <tr>\n",
       "      <th>33554</th>\n",
       "      <td>3室2厅 | 169.36平米 | 东南 | 精装 | 中楼层(共14层) | 2003年建...</td>\n",
       "      <td>['VR看装修', '房本满五年']</td>\n",
       "      <td>['1380', '万']</td>\n",
       "      <td>单价81484元/平米</td>\n",
       "      <td>西城</td>\n",
       "      <td>3</td>\n",
       "      <td>2</td>\n",
       "      <td>169.36</td>\n",
       "      <td>东南</td>\n",
       "      <td>精装</td>\n",
       "      <td>中楼层(共14层)</td>\n",
       "    </tr>\n",
       "    <tr>\n",
       "      <th>33555</th>\n",
       "      <td>3室2厅 | 138.66平米 | 东南 | 精装 | 高楼层(共19层) | 2001年建...</td>\n",
       "      <td>['VR看装修', '房本满五年']</td>\n",
       "      <td>['1159', '万']</td>\n",
       "      <td>单价83586元/平米</td>\n",
       "      <td>西城</td>\n",
       "      <td>3</td>\n",
       "      <td>2</td>\n",
       "      <td>138.66</td>\n",
       "      <td>东南</td>\n",
       "      <td>精装</td>\n",
       "      <td>高楼层(共19层)</td>\n",
       "    </tr>\n",
       "  </tbody>\n",
       "</table>\n",
       "<p>33495 rows × 11 columns</p>\n",
       "</div>"
      ],
      "text/plain": [
       "                                               houseInfo  \\\n",
       "0      2室1厅 | 81.49平米 | 东南 | 简装 | 中楼层(共20层) | 2008年建 ...   \n",
       "1      3室1厅 | 175.91平米 | 南 北 | 精装 | 高楼层(共14层) | 2012年...   \n",
       "2      1室0厅 | 36.3平米 | 西 | 简装 | 高楼层(共10层) | 2004年建 | ...   \n",
       "3      5室2厅 | 245.6平米 | 南 北 | 精装 | 底层(共3层) | 2000年建 | 板楼   \n",
       "4      3室2厅 | 145.14平米 | 南 北 西 | 精装 | 底层(共6层) | 2001年...   \n",
       "...                                                  ...   \n",
       "33551  3室1厅 | 90.46平米 | 南 北 | 其他 | 低楼层(共7层) | 1990年建 ...   \n",
       "33552  3室2厅 | 151.24平米 | 东 西 | 精装 | 低楼层(共13层) | 2009年...   \n",
       "33553  2室1厅 | 53.2平米 | 东 西 | 简装 | 地下室(共6层) | 1987年建 | 板楼   \n",
       "33554  3室2厅 | 169.36平米 | 东南 | 精装 | 中楼层(共14层) | 2003年建...   \n",
       "33555  3室2厅 | 138.66平米 | 东南 | 精装 | 高楼层(共19层) | 2001年建...   \n",
       "\n",
       "                         tagInfo     totalPrice     unitPrice county halls  \\\n",
       "0      ['近地铁', 'VR看装修', '房本满五年']   ['455', '万']   单价55836元/平米     昌平     2   \n",
       "1             ['VR看装修', '房本满两年']  ['1250', '万']   单价71060元/平米     昌平     3   \n",
       "2              ['VR房源', '房本满五年']   ['165', '万']   单价45455元/平米     昌平     1   \n",
       "3      ['VR房源', '房本满五年', '随时看房']  ['1150', '万']   单价46825元/平米     昌平     5   \n",
       "4              ['VR房源', '房本满五年']   ['515', '万']   单价35483元/平米     昌平     3   \n",
       "...                          ...            ...           ...    ...   ...   \n",
       "33551         ['VR看装修', '房本满五年']   ['920', '万']  单价101703元/平米     西城     3   \n",
       "33552         ['VR看装修', '房本满两年']  ['1950', '万']  单价128935元/平米     西城     3   \n",
       "33553  ['近地铁', 'VR看装修', '房本满五年']   ['499', '万']   单价93797元/平米     西城     2   \n",
       "33554         ['VR看装修', '房本满五年']  ['1380', '万']   单价81484元/平米     西城     3   \n",
       "33555         ['VR看装修', '房本满五年']  ['1159', '万']   单价83586元/平米     西城     3   \n",
       "\n",
       "      bedrooms    area   orient decorateType        floor  \n",
       "0            1   81.49      东南           简装    中楼层(共20层)   \n",
       "1            1  175.91     南 北           精装    高楼层(共14层)   \n",
       "2            0    36.3       西           简装    高楼层(共10层)   \n",
       "3            2   245.6     南 北           精装      底层(共3层)   \n",
       "4            2  145.14   南 北 西           精装      底层(共6层)   \n",
       "...        ...     ...      ...          ...          ...  \n",
       "33551        1   90.46     南 北           其他     低楼层(共7层)   \n",
       "33552        2  151.24     东 西           精装    低楼层(共13层)   \n",
       "33553        1    53.2     东 西           简装     地下室(共6层)   \n",
       "33554        2  169.36      东南           精装    中楼层(共14层)   \n",
       "33555        2  138.66      东南           精装    高楼层(共19层)   \n",
       "\n",
       "[33495 rows x 11 columns]"
      ]
     },
     "execution_count": 27,
     "metadata": {},
     "output_type": "execute_result"
    }
   ],
   "source": [
    "df_all"
   ]
  },
  {
   "cell_type": "code",
   "execution_count": 28,
   "metadata": {
    "scrolled": true
   },
   "outputs": [
    {
     "data": {
      "text/plain": [
       "0        2室1厅 | 81.49平米 | 东南 | 简装 | 中楼层(共20层) | 2008年建 ...\n",
       "1        3室1厅 | 175.91平米 | 南 北 | 精装 | 高楼层(共14层) | 2012年...\n",
       "2        1室0厅 | 36.3平米 | 西 | 简装 | 高楼层(共10层) | 2004年建 | ...\n",
       "3        5室2厅 | 245.6平米 | 南 北 | 精装 | 底层(共3层) | 2000年建 | 板楼\n",
       "4        3室2厅 | 145.14平米 | 南 北 西 | 精装 | 底层(共6层) | 2001年...\n",
       "                               ...                        \n",
       "33551    3室1厅 | 90.46平米 | 南 北 | 其他 | 低楼层(共7层) | 1990年建 ...\n",
       "33552    3室2厅 | 151.24平米 | 东 西 | 精装 | 低楼层(共13层) | 2009年...\n",
       "33553    2室1厅 | 53.2平米 | 东 西 | 简装 | 地下室(共6层) | 1987年建 | 板楼\n",
       "33554    3室2厅 | 169.36平米 | 东南 | 精装 | 中楼层(共14层) | 2003年建...\n",
       "33555    3室2厅 | 138.66平米 | 东南 | 精装 | 高楼层(共19层) | 2001年建...\n",
       "Name: houseInfo, Length: 33495, dtype: object"
      ]
     },
     "execution_count": 28,
     "metadata": {},
     "output_type": "execute_result"
    }
   ],
   "source": [
    "df_all['houseInfo']"
   ]
  },
  {
   "cell_type": "code",
   "execution_count": 29,
   "metadata": {
    "ExecuteTime": {
     "end_time": "2021-04-22T12:44:38.990363Z",
     "start_time": "2021-04-22T12:44:38.824905Z"
    }
   },
   "outputs": [
    {
     "data": {
      "text/plain": [
       "0        2008\n",
       "1        2012\n",
       "2        2004\n",
       "3        2000\n",
       "4        2001\n",
       "         ... \n",
       "33551    1990\n",
       "33552    2009\n",
       "33553    1987\n",
       "33554    2003\n",
       "33555    2001\n",
       "Name: builtYear, Length: 33495, dtype: object"
      ]
     },
     "execution_count": 29,
     "metadata": {},
     "output_type": "execute_result"
    }
   ],
   "source": [
    "# 提取建筑年份\n",
    "df_all['builtYear'] = df_all['houseInfo'].str.split('|').str[5].str.extract(r'(\\d+)')\n",
    "df_all['builtYear']"
   ]
  },
  {
   "cell_type": "code",
   "execution_count": 30,
   "metadata": {
    "ExecuteTime": {
     "end_time": "2021-04-22T12:44:39.102340Z",
     "start_time": "2021-04-22T12:44:38.992593Z"
    }
   },
   "outputs": [],
   "source": [
    "# 提取板塔\n",
    "df_all['banta'] = df_all['houseInfo'].str.split('|').str[6]"
   ]
  },
  {
   "cell_type": "code",
   "execution_count": null,
   "metadata": {
    "ExecuteTime": {
     "end_time": "2021-04-22T12:37:44.324410Z",
     "start_time": "2021-04-22T12:37:44.306907Z"
    }
   },
   "outputs": [],
   "source": []
  },
  {
   "cell_type": "code",
   "execution_count": 31,
   "metadata": {
    "ExecuteTime": {
     "end_time": "2021-04-22T12:44:39.144703Z",
     "start_time": "2021-04-22T12:44:39.118384Z"
    }
   },
   "outputs": [],
   "source": [
    "# 删除houseInfo\n",
    "df_all = df_all.drop('houseInfo', axis=1) \n"
   ]
  },
  {
   "cell_type": "code",
   "execution_count": 32,
   "metadata": {
    "ExecuteTime": {
     "end_time": "2021-04-22T12:44:39.179153Z",
     "start_time": "2021-04-22T12:44:39.151506Z"
    }
   },
   "outputs": [
    {
     "data": {
      "text/plain": [
       "0        1\n",
       "1        0\n",
       "2        0\n",
       "3        0\n",
       "4        0\n",
       "        ..\n",
       "33551    0\n",
       "33552    0\n",
       "33553    1\n",
       "33554    0\n",
       "33555    0\n",
       "Name: subway, Length: 33495, dtype: int64"
      ]
     },
     "execution_count": 32,
     "metadata": {},
     "output_type": "execute_result"
    }
   ],
   "source": [
    "# 提取地铁\n",
    "df_all['subway'] = [1 if '地铁' in i else 0 for i in df_all['tagInfo']]\n",
    "# 删除tagInfo\n",
    "df_all = df_all.drop('tagInfo', axis=1)\n",
    "df_all['subway']"
   ]
  },
  {
   "cell_type": "code",
   "execution_count": 33,
   "metadata": {
    "ExecuteTime": {
     "end_time": "2021-04-22T12:44:39.188823Z",
     "start_time": "2021-04-22T12:44:39.182385Z"
    },
    "scrolled": false
   },
   "outputs": [
    {
     "data": {
      "text/plain": [
       "0         ['455', '万']\n",
       "1        ['1250', '万']\n",
       "2         ['165', '万']\n",
       "3        ['1150', '万']\n",
       "4         ['515', '万']\n",
       "             ...      \n",
       "33551     ['920', '万']\n",
       "33552    ['1950', '万']\n",
       "33553     ['499', '万']\n",
       "33554    ['1380', '万']\n",
       "33555    ['1159', '万']\n",
       "Name: totalPrice, Length: 33495, dtype: object"
      ]
     },
     "execution_count": 33,
     "metadata": {},
     "output_type": "execute_result"
    }
   ],
   "source": [
    "df_all['totalPrice']"
   ]
  },
  {
   "cell_type": "code",
   "execution_count": 34,
   "metadata": {
    "ExecuteTime": {
     "end_time": "2021-04-22T12:44:39.242520Z",
     "start_time": "2021-04-22T12:44:39.191330Z"
    }
   },
   "outputs": [],
   "source": [
    "# 提取总价\n",
    "df_all['totalPrice'] = df_all['totalPrice'].str.extract(r'(\\d+)')\n"
   ]
  },
  {
   "cell_type": "code",
   "execution_count": 35,
   "metadata": {
    "ExecuteTime": {
     "end_time": "2021-04-22T12:44:39.304573Z",
     "start_time": "2021-04-22T12:44:39.244661Z"
    }
   },
   "outputs": [],
   "source": [
    "df_all['unitPrice'] = df_all['unitPrice'].str.extract(r'(\\d+)')\n"
   ]
  },
  {
   "cell_type": "code",
   "execution_count": 36,
   "metadata": {
    "ExecuteTime": {
     "end_time": "2021-04-22T12:44:39.326164Z",
     "start_time": "2021-04-22T12:44:39.306568Z"
    },
    "scrolled": true
   },
   "outputs": [
    {
     "data": {
      "text/html": [
       "<div>\n",
       "<style scoped>\n",
       "    .dataframe tbody tr th:only-of-type {\n",
       "        vertical-align: middle;\n",
       "    }\n",
       "\n",
       "    .dataframe tbody tr th {\n",
       "        vertical-align: top;\n",
       "    }\n",
       "\n",
       "    .dataframe thead th {\n",
       "        text-align: right;\n",
       "    }\n",
       "</style>\n",
       "<table border=\"1\" class=\"dataframe\">\n",
       "  <thead>\n",
       "    <tr style=\"text-align: right;\">\n",
       "      <th></th>\n",
       "      <th>totalPrice</th>\n",
       "      <th>unitPrice</th>\n",
       "      <th>county</th>\n",
       "      <th>halls</th>\n",
       "      <th>bedrooms</th>\n",
       "      <th>area</th>\n",
       "      <th>orient</th>\n",
       "      <th>decorateType</th>\n",
       "      <th>floor</th>\n",
       "      <th>builtYear</th>\n",
       "      <th>banta</th>\n",
       "      <th>subway</th>\n",
       "    </tr>\n",
       "  </thead>\n",
       "  <tbody>\n",
       "    <tr>\n",
       "      <th>0</th>\n",
       "      <td>455</td>\n",
       "      <td>55836</td>\n",
       "      <td>昌平</td>\n",
       "      <td>2</td>\n",
       "      <td>1</td>\n",
       "      <td>81.49</td>\n",
       "      <td>东南</td>\n",
       "      <td>简装</td>\n",
       "      <td>中楼层(共20层)</td>\n",
       "      <td>2008</td>\n",
       "      <td>板塔结合</td>\n",
       "      <td>1</td>\n",
       "    </tr>\n",
       "    <tr>\n",
       "      <th>1</th>\n",
       "      <td>1250</td>\n",
       "      <td>71060</td>\n",
       "      <td>昌平</td>\n",
       "      <td>3</td>\n",
       "      <td>1</td>\n",
       "      <td>175.91</td>\n",
       "      <td>南 北</td>\n",
       "      <td>精装</td>\n",
       "      <td>高楼层(共14层)</td>\n",
       "      <td>2012</td>\n",
       "      <td>板楼</td>\n",
       "      <td>0</td>\n",
       "    </tr>\n",
       "    <tr>\n",
       "      <th>2</th>\n",
       "      <td>165</td>\n",
       "      <td>45455</td>\n",
       "      <td>昌平</td>\n",
       "      <td>1</td>\n",
       "      <td>0</td>\n",
       "      <td>36.3</td>\n",
       "      <td>西</td>\n",
       "      <td>简装</td>\n",
       "      <td>高楼层(共10层)</td>\n",
       "      <td>2004</td>\n",
       "      <td>板塔结合</td>\n",
       "      <td>0</td>\n",
       "    </tr>\n",
       "    <tr>\n",
       "      <th>3</th>\n",
       "      <td>1150</td>\n",
       "      <td>46825</td>\n",
       "      <td>昌平</td>\n",
       "      <td>5</td>\n",
       "      <td>2</td>\n",
       "      <td>245.6</td>\n",
       "      <td>南 北</td>\n",
       "      <td>精装</td>\n",
       "      <td>底层(共3层)</td>\n",
       "      <td>2000</td>\n",
       "      <td>板楼</td>\n",
       "      <td>0</td>\n",
       "    </tr>\n",
       "    <tr>\n",
       "      <th>4</th>\n",
       "      <td>515</td>\n",
       "      <td>35483</td>\n",
       "      <td>昌平</td>\n",
       "      <td>3</td>\n",
       "      <td>2</td>\n",
       "      <td>145.14</td>\n",
       "      <td>南 北 西</td>\n",
       "      <td>精装</td>\n",
       "      <td>底层(共6层)</td>\n",
       "      <td>2001</td>\n",
       "      <td>板楼</td>\n",
       "      <td>0</td>\n",
       "    </tr>\n",
       "    <tr>\n",
       "      <th>...</th>\n",
       "      <td>...</td>\n",
       "      <td>...</td>\n",
       "      <td>...</td>\n",
       "      <td>...</td>\n",
       "      <td>...</td>\n",
       "      <td>...</td>\n",
       "      <td>...</td>\n",
       "      <td>...</td>\n",
       "      <td>...</td>\n",
       "      <td>...</td>\n",
       "      <td>...</td>\n",
       "      <td>...</td>\n",
       "    </tr>\n",
       "    <tr>\n",
       "      <th>33551</th>\n",
       "      <td>920</td>\n",
       "      <td>101703</td>\n",
       "      <td>西城</td>\n",
       "      <td>3</td>\n",
       "      <td>1</td>\n",
       "      <td>90.46</td>\n",
       "      <td>南 北</td>\n",
       "      <td>其他</td>\n",
       "      <td>低楼层(共7层)</td>\n",
       "      <td>1990</td>\n",
       "      <td>板楼</td>\n",
       "      <td>0</td>\n",
       "    </tr>\n",
       "    <tr>\n",
       "      <th>33552</th>\n",
       "      <td>1950</td>\n",
       "      <td>128935</td>\n",
       "      <td>西城</td>\n",
       "      <td>3</td>\n",
       "      <td>2</td>\n",
       "      <td>151.24</td>\n",
       "      <td>东 西</td>\n",
       "      <td>精装</td>\n",
       "      <td>低楼层(共13层)</td>\n",
       "      <td>2009</td>\n",
       "      <td>板楼</td>\n",
       "      <td>0</td>\n",
       "    </tr>\n",
       "    <tr>\n",
       "      <th>33553</th>\n",
       "      <td>499</td>\n",
       "      <td>93797</td>\n",
       "      <td>西城</td>\n",
       "      <td>2</td>\n",
       "      <td>1</td>\n",
       "      <td>53.2</td>\n",
       "      <td>东 西</td>\n",
       "      <td>简装</td>\n",
       "      <td>地下室(共6层)</td>\n",
       "      <td>1987</td>\n",
       "      <td>板楼</td>\n",
       "      <td>1</td>\n",
       "    </tr>\n",
       "    <tr>\n",
       "      <th>33554</th>\n",
       "      <td>1380</td>\n",
       "      <td>81484</td>\n",
       "      <td>西城</td>\n",
       "      <td>3</td>\n",
       "      <td>2</td>\n",
       "      <td>169.36</td>\n",
       "      <td>东南</td>\n",
       "      <td>精装</td>\n",
       "      <td>中楼层(共14层)</td>\n",
       "      <td>2003</td>\n",
       "      <td>塔楼</td>\n",
       "      <td>0</td>\n",
       "    </tr>\n",
       "    <tr>\n",
       "      <th>33555</th>\n",
       "      <td>1159</td>\n",
       "      <td>83586</td>\n",
       "      <td>西城</td>\n",
       "      <td>3</td>\n",
       "      <td>2</td>\n",
       "      <td>138.66</td>\n",
       "      <td>东南</td>\n",
       "      <td>精装</td>\n",
       "      <td>高楼层(共19层)</td>\n",
       "      <td>2001</td>\n",
       "      <td>塔楼</td>\n",
       "      <td>0</td>\n",
       "    </tr>\n",
       "  </tbody>\n",
       "</table>\n",
       "<p>33495 rows × 12 columns</p>\n",
       "</div>"
      ],
      "text/plain": [
       "      totalPrice unitPrice county halls bedrooms    area   orient  \\\n",
       "0            455     55836     昌平     2        1   81.49      东南    \n",
       "1           1250     71060     昌平     3        1  175.91     南 北    \n",
       "2            165     45455     昌平     1        0    36.3       西    \n",
       "3           1150     46825     昌平     5        2   245.6     南 北    \n",
       "4            515     35483     昌平     3        2  145.14   南 北 西    \n",
       "...          ...       ...    ...   ...      ...     ...      ...   \n",
       "33551        920    101703     西城     3        1   90.46     南 北    \n",
       "33552       1950    128935     西城     3        2  151.24     东 西    \n",
       "33553        499     93797     西城     2        1    53.2     东 西    \n",
       "33554       1380     81484     西城     3        2  169.36      东南    \n",
       "33555       1159     83586     西城     3        2  138.66      东南    \n",
       "\n",
       "      decorateType        floor builtYear  banta  subway  \n",
       "0              简装    中楼层(共20层)       2008   板塔结合       1  \n",
       "1              精装    高楼层(共14层)       2012     板楼       0  \n",
       "2              简装    高楼层(共10层)       2004   板塔结合       0  \n",
       "3              精装      底层(共3层)       2000     板楼       0  \n",
       "4              精装      底层(共6层)       2001     板楼       0  \n",
       "...            ...          ...       ...    ...     ...  \n",
       "33551          其他     低楼层(共7层)       1990     板楼       0  \n",
       "33552          精装    低楼层(共13层)       2009     板楼       0  \n",
       "33553          简装     地下室(共6层)       1987     板楼       1  \n",
       "33554          精装    中楼层(共14层)       2003     塔楼       0  \n",
       "33555          精装    高楼层(共19层)       2001     塔楼       0  \n",
       "\n",
       "[33495 rows x 12 columns]"
      ]
     },
     "execution_count": 36,
     "metadata": {},
     "output_type": "execute_result"
    }
   ],
   "source": [
    "df_all"
   ]
  },
  {
   "cell_type": "code",
   "execution_count": 37,
   "metadata": {
    "ExecuteTime": {
     "end_time": "2021-04-22T12:45:08.082282Z",
     "start_time": "2021-04-22T12:45:08.052642Z"
    }
   },
   "outputs": [
    {
     "name": "stdout",
     "output_type": "stream",
     "text": [
      "<class 'pandas.core.frame.DataFrame'>\n",
      "Int64Index: 33495 entries, 0 to 33555\n",
      "Data columns (total 12 columns):\n",
      " #   Column        Non-Null Count  Dtype \n",
      "---  ------        --------------  ----- \n",
      " 0   totalPrice    33495 non-null  object\n",
      " 1   unitPrice     33495 non-null  object\n",
      " 2   county        33495 non-null  object\n",
      " 3   halls         33117 non-null  object\n",
      " 4   bedrooms      33117 non-null  object\n",
      " 5   area          33495 non-null  object\n",
      " 6   orient        33495 non-null  object\n",
      " 7   decorateType  33495 non-null  object\n",
      " 8   floor         33474 non-null  object\n",
      " 9   builtYear     32731 non-null  object\n",
      " 10  banta         32759 non-null  object\n",
      " 11  subway        33495 non-null  int64 \n",
      "dtypes: int64(1), object(11)\n",
      "memory usage: 3.3+ MB\n"
     ]
    }
   ],
   "source": [
    "df_all.info()"
   ]
  },
  {
   "cell_type": "code",
   "execution_count": 38,
   "metadata": {
    "ExecuteTime": {
     "end_time": "2021-04-22T12:45:25.685591Z",
     "start_time": "2021-04-22T12:45:25.674597Z"
    }
   },
   "outputs": [],
   "source": [
    "df_all.dropna?"
   ]
  },
  {
   "cell_type": "code",
   "execution_count": 39,
   "metadata": {
    "ExecuteTime": {
     "end_time": "2021-04-22T12:45:59.398424Z",
     "start_time": "2021-04-22T12:45:59.380396Z"
    }
   },
   "outputs": [
    {
     "data": {
      "text/html": [
       "<div>\n",
       "<style scoped>\n",
       "    .dataframe tbody tr th:only-of-type {\n",
       "        vertical-align: middle;\n",
       "    }\n",
       "\n",
       "    .dataframe tbody tr th {\n",
       "        vertical-align: top;\n",
       "    }\n",
       "\n",
       "    .dataframe thead th {\n",
       "        text-align: right;\n",
       "    }\n",
       "</style>\n",
       "<table border=\"1\" class=\"dataframe\">\n",
       "  <thead>\n",
       "    <tr style=\"text-align: right;\">\n",
       "      <th></th>\n",
       "      <th>totalPrice</th>\n",
       "      <th>unitPrice</th>\n",
       "      <th>county</th>\n",
       "      <th>halls</th>\n",
       "      <th>bedrooms</th>\n",
       "      <th>area</th>\n",
       "      <th>orient</th>\n",
       "      <th>decorateType</th>\n",
       "      <th>floor</th>\n",
       "      <th>builtYear</th>\n",
       "      <th>banta</th>\n",
       "      <th>subway</th>\n",
       "    </tr>\n",
       "  </thead>\n",
       "  <tbody>\n",
       "    <tr>\n",
       "      <th>0</th>\n",
       "      <td>455</td>\n",
       "      <td>55836</td>\n",
       "      <td>昌平</td>\n",
       "      <td>2</td>\n",
       "      <td>1</td>\n",
       "      <td>81.49</td>\n",
       "      <td>东南</td>\n",
       "      <td>简装</td>\n",
       "      <td>中楼层(共20层)</td>\n",
       "      <td>2008</td>\n",
       "      <td>板塔结合</td>\n",
       "      <td>1</td>\n",
       "    </tr>\n",
       "    <tr>\n",
       "      <th>1</th>\n",
       "      <td>1250</td>\n",
       "      <td>71060</td>\n",
       "      <td>昌平</td>\n",
       "      <td>3</td>\n",
       "      <td>1</td>\n",
       "      <td>175.91</td>\n",
       "      <td>南 北</td>\n",
       "      <td>精装</td>\n",
       "      <td>高楼层(共14层)</td>\n",
       "      <td>2012</td>\n",
       "      <td>板楼</td>\n",
       "      <td>0</td>\n",
       "    </tr>\n",
       "    <tr>\n",
       "      <th>2</th>\n",
       "      <td>165</td>\n",
       "      <td>45455</td>\n",
       "      <td>昌平</td>\n",
       "      <td>1</td>\n",
       "      <td>0</td>\n",
       "      <td>36.3</td>\n",
       "      <td>西</td>\n",
       "      <td>简装</td>\n",
       "      <td>高楼层(共10层)</td>\n",
       "      <td>2004</td>\n",
       "      <td>板塔结合</td>\n",
       "      <td>0</td>\n",
       "    </tr>\n",
       "    <tr>\n",
       "      <th>3</th>\n",
       "      <td>1150</td>\n",
       "      <td>46825</td>\n",
       "      <td>昌平</td>\n",
       "      <td>5</td>\n",
       "      <td>2</td>\n",
       "      <td>245.6</td>\n",
       "      <td>南 北</td>\n",
       "      <td>精装</td>\n",
       "      <td>底层(共3层)</td>\n",
       "      <td>2000</td>\n",
       "      <td>板楼</td>\n",
       "      <td>0</td>\n",
       "    </tr>\n",
       "    <tr>\n",
       "      <th>4</th>\n",
       "      <td>515</td>\n",
       "      <td>35483</td>\n",
       "      <td>昌平</td>\n",
       "      <td>3</td>\n",
       "      <td>2</td>\n",
       "      <td>145.14</td>\n",
       "      <td>南 北 西</td>\n",
       "      <td>精装</td>\n",
       "      <td>底层(共6层)</td>\n",
       "      <td>2001</td>\n",
       "      <td>板楼</td>\n",
       "      <td>0</td>\n",
       "    </tr>\n",
       "    <tr>\n",
       "      <th>...</th>\n",
       "      <td>...</td>\n",
       "      <td>...</td>\n",
       "      <td>...</td>\n",
       "      <td>...</td>\n",
       "      <td>...</td>\n",
       "      <td>...</td>\n",
       "      <td>...</td>\n",
       "      <td>...</td>\n",
       "      <td>...</td>\n",
       "      <td>...</td>\n",
       "      <td>...</td>\n",
       "      <td>...</td>\n",
       "    </tr>\n",
       "    <tr>\n",
       "      <th>33551</th>\n",
       "      <td>920</td>\n",
       "      <td>101703</td>\n",
       "      <td>西城</td>\n",
       "      <td>3</td>\n",
       "      <td>1</td>\n",
       "      <td>90.46</td>\n",
       "      <td>南 北</td>\n",
       "      <td>其他</td>\n",
       "      <td>低楼层(共7层)</td>\n",
       "      <td>1990</td>\n",
       "      <td>板楼</td>\n",
       "      <td>0</td>\n",
       "    </tr>\n",
       "    <tr>\n",
       "      <th>33552</th>\n",
       "      <td>1950</td>\n",
       "      <td>128935</td>\n",
       "      <td>西城</td>\n",
       "      <td>3</td>\n",
       "      <td>2</td>\n",
       "      <td>151.24</td>\n",
       "      <td>东 西</td>\n",
       "      <td>精装</td>\n",
       "      <td>低楼层(共13层)</td>\n",
       "      <td>2009</td>\n",
       "      <td>板楼</td>\n",
       "      <td>0</td>\n",
       "    </tr>\n",
       "    <tr>\n",
       "      <th>33553</th>\n",
       "      <td>499</td>\n",
       "      <td>93797</td>\n",
       "      <td>西城</td>\n",
       "      <td>2</td>\n",
       "      <td>1</td>\n",
       "      <td>53.2</td>\n",
       "      <td>东 西</td>\n",
       "      <td>简装</td>\n",
       "      <td>地下室(共6层)</td>\n",
       "      <td>1987</td>\n",
       "      <td>板楼</td>\n",
       "      <td>1</td>\n",
       "    </tr>\n",
       "    <tr>\n",
       "      <th>33554</th>\n",
       "      <td>1380</td>\n",
       "      <td>81484</td>\n",
       "      <td>西城</td>\n",
       "      <td>3</td>\n",
       "      <td>2</td>\n",
       "      <td>169.36</td>\n",
       "      <td>东南</td>\n",
       "      <td>精装</td>\n",
       "      <td>中楼层(共14层)</td>\n",
       "      <td>2003</td>\n",
       "      <td>塔楼</td>\n",
       "      <td>0</td>\n",
       "    </tr>\n",
       "    <tr>\n",
       "      <th>33555</th>\n",
       "      <td>1159</td>\n",
       "      <td>83586</td>\n",
       "      <td>西城</td>\n",
       "      <td>3</td>\n",
       "      <td>2</td>\n",
       "      <td>138.66</td>\n",
       "      <td>东南</td>\n",
       "      <td>精装</td>\n",
       "      <td>高楼层(共19层)</td>\n",
       "      <td>2001</td>\n",
       "      <td>塔楼</td>\n",
       "      <td>0</td>\n",
       "    </tr>\n",
       "  </tbody>\n",
       "</table>\n",
       "<p>33495 rows × 12 columns</p>\n",
       "</div>"
      ],
      "text/plain": [
       "      totalPrice unitPrice county halls bedrooms    area   orient  \\\n",
       "0            455     55836     昌平     2        1   81.49      东南    \n",
       "1           1250     71060     昌平     3        1  175.91     南 北    \n",
       "2            165     45455     昌平     1        0    36.3       西    \n",
       "3           1150     46825     昌平     5        2   245.6     南 北    \n",
       "4            515     35483     昌平     3        2  145.14   南 北 西    \n",
       "...          ...       ...    ...   ...      ...     ...      ...   \n",
       "33551        920    101703     西城     3        1   90.46     南 北    \n",
       "33552       1950    128935     西城     3        2  151.24     东 西    \n",
       "33553        499     93797     西城     2        1    53.2     东 西    \n",
       "33554       1380     81484     西城     3        2  169.36      东南    \n",
       "33555       1159     83586     西城     3        2  138.66      东南    \n",
       "\n",
       "      decorateType        floor builtYear  banta  subway  \n",
       "0              简装    中楼层(共20层)       2008   板塔结合       1  \n",
       "1              精装    高楼层(共14层)       2012     板楼       0  \n",
       "2              简装    高楼层(共10层)       2004   板塔结合       0  \n",
       "3              精装      底层(共3层)       2000     板楼       0  \n",
       "4              精装      底层(共6层)       2001     板楼       0  \n",
       "...            ...          ...       ...    ...     ...  \n",
       "33551          其他     低楼层(共7层)       1990     板楼       0  \n",
       "33552          精装    低楼层(共13层)       2009     板楼       0  \n",
       "33553          简装     地下室(共6层)       1987     板楼       1  \n",
       "33554          精装    中楼层(共14层)       2003     塔楼       0  \n",
       "33555          精装    高楼层(共19层)       2001     塔楼       0  \n",
       "\n",
       "[33495 rows x 12 columns]"
      ]
     },
     "execution_count": 39,
     "metadata": {},
     "output_type": "execute_result"
    }
   ],
   "source": [
    "df_all"
   ]
  },
  {
   "cell_type": "code",
   "execution_count": 40,
   "metadata": {
    "ExecuteTime": {
     "end_time": "2021-04-22T12:46:01.210210Z",
     "start_time": "2021-04-22T12:46:01.179436Z"
    }
   },
   "outputs": [],
   "source": [
    "df_all = df_all.dropna()"
   ]
  },
  {
   "cell_type": "code",
   "execution_count": 41,
   "metadata": {
    "ExecuteTime": {
     "end_time": "2021-04-22T12:46:04.548872Z",
     "start_time": "2021-04-22T12:46:04.531488Z"
    },
    "scrolled": true
   },
   "outputs": [
    {
     "data": {
      "text/html": [
       "<div>\n",
       "<style scoped>\n",
       "    .dataframe tbody tr th:only-of-type {\n",
       "        vertical-align: middle;\n",
       "    }\n",
       "\n",
       "    .dataframe tbody tr th {\n",
       "        vertical-align: top;\n",
       "    }\n",
       "\n",
       "    .dataframe thead th {\n",
       "        text-align: right;\n",
       "    }\n",
       "</style>\n",
       "<table border=\"1\" class=\"dataframe\">\n",
       "  <thead>\n",
       "    <tr style=\"text-align: right;\">\n",
       "      <th></th>\n",
       "      <th>totalPrice</th>\n",
       "      <th>unitPrice</th>\n",
       "      <th>county</th>\n",
       "      <th>halls</th>\n",
       "      <th>bedrooms</th>\n",
       "      <th>area</th>\n",
       "      <th>orient</th>\n",
       "      <th>decorateType</th>\n",
       "      <th>floor</th>\n",
       "      <th>builtYear</th>\n",
       "      <th>banta</th>\n",
       "      <th>subway</th>\n",
       "    </tr>\n",
       "  </thead>\n",
       "  <tbody>\n",
       "    <tr>\n",
       "      <th>0</th>\n",
       "      <td>455</td>\n",
       "      <td>55836</td>\n",
       "      <td>昌平</td>\n",
       "      <td>2</td>\n",
       "      <td>1</td>\n",
       "      <td>81.49</td>\n",
       "      <td>东南</td>\n",
       "      <td>简装</td>\n",
       "      <td>中楼层(共20层)</td>\n",
       "      <td>2008</td>\n",
       "      <td>板塔结合</td>\n",
       "      <td>1</td>\n",
       "    </tr>\n",
       "    <tr>\n",
       "      <th>1</th>\n",
       "      <td>1250</td>\n",
       "      <td>71060</td>\n",
       "      <td>昌平</td>\n",
       "      <td>3</td>\n",
       "      <td>1</td>\n",
       "      <td>175.91</td>\n",
       "      <td>南 北</td>\n",
       "      <td>精装</td>\n",
       "      <td>高楼层(共14层)</td>\n",
       "      <td>2012</td>\n",
       "      <td>板楼</td>\n",
       "      <td>0</td>\n",
       "    </tr>\n",
       "    <tr>\n",
       "      <th>2</th>\n",
       "      <td>165</td>\n",
       "      <td>45455</td>\n",
       "      <td>昌平</td>\n",
       "      <td>1</td>\n",
       "      <td>0</td>\n",
       "      <td>36.3</td>\n",
       "      <td>西</td>\n",
       "      <td>简装</td>\n",
       "      <td>高楼层(共10层)</td>\n",
       "      <td>2004</td>\n",
       "      <td>板塔结合</td>\n",
       "      <td>0</td>\n",
       "    </tr>\n",
       "    <tr>\n",
       "      <th>3</th>\n",
       "      <td>1150</td>\n",
       "      <td>46825</td>\n",
       "      <td>昌平</td>\n",
       "      <td>5</td>\n",
       "      <td>2</td>\n",
       "      <td>245.6</td>\n",
       "      <td>南 北</td>\n",
       "      <td>精装</td>\n",
       "      <td>底层(共3层)</td>\n",
       "      <td>2000</td>\n",
       "      <td>板楼</td>\n",
       "      <td>0</td>\n",
       "    </tr>\n",
       "    <tr>\n",
       "      <th>4</th>\n",
       "      <td>515</td>\n",
       "      <td>35483</td>\n",
       "      <td>昌平</td>\n",
       "      <td>3</td>\n",
       "      <td>2</td>\n",
       "      <td>145.14</td>\n",
       "      <td>南 北 西</td>\n",
       "      <td>精装</td>\n",
       "      <td>底层(共6层)</td>\n",
       "      <td>2001</td>\n",
       "      <td>板楼</td>\n",
       "      <td>0</td>\n",
       "    </tr>\n",
       "    <tr>\n",
       "      <th>...</th>\n",
       "      <td>...</td>\n",
       "      <td>...</td>\n",
       "      <td>...</td>\n",
       "      <td>...</td>\n",
       "      <td>...</td>\n",
       "      <td>...</td>\n",
       "      <td>...</td>\n",
       "      <td>...</td>\n",
       "      <td>...</td>\n",
       "      <td>...</td>\n",
       "      <td>...</td>\n",
       "      <td>...</td>\n",
       "    </tr>\n",
       "    <tr>\n",
       "      <th>33551</th>\n",
       "      <td>920</td>\n",
       "      <td>101703</td>\n",
       "      <td>西城</td>\n",
       "      <td>3</td>\n",
       "      <td>1</td>\n",
       "      <td>90.46</td>\n",
       "      <td>南 北</td>\n",
       "      <td>其他</td>\n",
       "      <td>低楼层(共7层)</td>\n",
       "      <td>1990</td>\n",
       "      <td>板楼</td>\n",
       "      <td>0</td>\n",
       "    </tr>\n",
       "    <tr>\n",
       "      <th>33552</th>\n",
       "      <td>1950</td>\n",
       "      <td>128935</td>\n",
       "      <td>西城</td>\n",
       "      <td>3</td>\n",
       "      <td>2</td>\n",
       "      <td>151.24</td>\n",
       "      <td>东 西</td>\n",
       "      <td>精装</td>\n",
       "      <td>低楼层(共13层)</td>\n",
       "      <td>2009</td>\n",
       "      <td>板楼</td>\n",
       "      <td>0</td>\n",
       "    </tr>\n",
       "    <tr>\n",
       "      <th>33553</th>\n",
       "      <td>499</td>\n",
       "      <td>93797</td>\n",
       "      <td>西城</td>\n",
       "      <td>2</td>\n",
       "      <td>1</td>\n",
       "      <td>53.2</td>\n",
       "      <td>东 西</td>\n",
       "      <td>简装</td>\n",
       "      <td>地下室(共6层)</td>\n",
       "      <td>1987</td>\n",
       "      <td>板楼</td>\n",
       "      <td>1</td>\n",
       "    </tr>\n",
       "    <tr>\n",
       "      <th>33554</th>\n",
       "      <td>1380</td>\n",
       "      <td>81484</td>\n",
       "      <td>西城</td>\n",
       "      <td>3</td>\n",
       "      <td>2</td>\n",
       "      <td>169.36</td>\n",
       "      <td>东南</td>\n",
       "      <td>精装</td>\n",
       "      <td>中楼层(共14层)</td>\n",
       "      <td>2003</td>\n",
       "      <td>塔楼</td>\n",
       "      <td>0</td>\n",
       "    </tr>\n",
       "    <tr>\n",
       "      <th>33555</th>\n",
       "      <td>1159</td>\n",
       "      <td>83586</td>\n",
       "      <td>西城</td>\n",
       "      <td>3</td>\n",
       "      <td>2</td>\n",
       "      <td>138.66</td>\n",
       "      <td>东南</td>\n",
       "      <td>精装</td>\n",
       "      <td>高楼层(共19层)</td>\n",
       "      <td>2001</td>\n",
       "      <td>塔楼</td>\n",
       "      <td>0</td>\n",
       "    </tr>\n",
       "  </tbody>\n",
       "</table>\n",
       "<p>32441 rows × 12 columns</p>\n",
       "</div>"
      ],
      "text/plain": [
       "      totalPrice unitPrice county halls bedrooms    area   orient  \\\n",
       "0            455     55836     昌平     2        1   81.49      东南    \n",
       "1           1250     71060     昌平     3        1  175.91     南 北    \n",
       "2            165     45455     昌平     1        0    36.3       西    \n",
       "3           1150     46825     昌平     5        2   245.6     南 北    \n",
       "4            515     35483     昌平     3        2  145.14   南 北 西    \n",
       "...          ...       ...    ...   ...      ...     ...      ...   \n",
       "33551        920    101703     西城     3        1   90.46     南 北    \n",
       "33552       1950    128935     西城     3        2  151.24     东 西    \n",
       "33553        499     93797     西城     2        1    53.2     东 西    \n",
       "33554       1380     81484     西城     3        2  169.36      东南    \n",
       "33555       1159     83586     西城     3        2  138.66      东南    \n",
       "\n",
       "      decorateType        floor builtYear  banta  subway  \n",
       "0              简装    中楼层(共20层)       2008   板塔结合       1  \n",
       "1              精装    高楼层(共14层)       2012     板楼       0  \n",
       "2              简装    高楼层(共10层)       2004   板塔结合       0  \n",
       "3              精装      底层(共3层)       2000     板楼       0  \n",
       "4              精装      底层(共6层)       2001     板楼       0  \n",
       "...            ...          ...       ...    ...     ...  \n",
       "33551          其他     低楼层(共7层)       1990     板楼       0  \n",
       "33552          精装    低楼层(共13层)       2009     板楼       0  \n",
       "33553          简装     地下室(共6层)       1987     板楼       1  \n",
       "33554          精装    中楼层(共14层)       2003     塔楼       0  \n",
       "33555          精装    高楼层(共19层)       2001     塔楼       0  \n",
       "\n",
       "[32441 rows x 12 columns]"
      ]
     },
     "execution_count": 41,
     "metadata": {},
     "output_type": "execute_result"
    }
   ],
   "source": [
    "df_all"
   ]
  },
  {
   "cell_type": "code",
   "execution_count": 42,
   "metadata": {
    "ExecuteTime": {
     "end_time": "2021-04-22T12:46:09.288510Z",
     "start_time": "2021-04-22T12:46:09.232514Z"
    }
   },
   "outputs": [
    {
     "name": "stderr",
     "output_type": "stream",
     "text": [
      "<ipython-input-42-6568e25ca44f>:5: SettingWithCopyWarning: \n",
      "A value is trying to be set on a copy of a slice from a DataFrame.\n",
      "Try using .loc[row_indexer,col_indexer] = value instead\n",
      "\n",
      "See the caveats in the documentation: https://pandas.pydata.org/pandas-docs/stable/user_guide/indexing.html#returning-a-view-versus-a-copy\n",
      "  df_all['totalPrice'] = df_all['totalPrice'].astype('float')\n",
      "<ipython-input-42-6568e25ca44f>:6: SettingWithCopyWarning: \n",
      "A value is trying to be set on a copy of a slice from a DataFrame.\n",
      "Try using .loc[row_indexer,col_indexer] = value instead\n",
      "\n",
      "See the caveats in the documentation: https://pandas.pydata.org/pandas-docs/stable/user_guide/indexing.html#returning-a-view-versus-a-copy\n",
      "  df_all['unitPrice'] = df_all['unitPrice'].astype('float')\n",
      "<ipython-input-42-6568e25ca44f>:7: SettingWithCopyWarning: \n",
      "A value is trying to be set on a copy of a slice from a DataFrame.\n",
      "Try using .loc[row_indexer,col_indexer] = value instead\n",
      "\n",
      "See the caveats in the documentation: https://pandas.pydata.org/pandas-docs/stable/user_guide/indexing.html#returning-a-view-versus-a-copy\n",
      "  df_all['halls'] = df_all['halls'].astype('int')\n",
      "<ipython-input-42-6568e25ca44f>:8: SettingWithCopyWarning: \n",
      "A value is trying to be set on a copy of a slice from a DataFrame.\n",
      "Try using .loc[row_indexer,col_indexer] = value instead\n",
      "\n",
      "See the caveats in the documentation: https://pandas.pydata.org/pandas-docs/stable/user_guide/indexing.html#returning-a-view-versus-a-copy\n",
      "  df_all['bedrooms'] = df_all['bedrooms'].astype('int')\n",
      "<ipython-input-42-6568e25ca44f>:9: SettingWithCopyWarning: \n",
      "A value is trying to be set on a copy of a slice from a DataFrame.\n",
      "Try using .loc[row_indexer,col_indexer] = value instead\n",
      "\n",
      "See the caveats in the documentation: https://pandas.pydata.org/pandas-docs/stable/user_guide/indexing.html#returning-a-view-versus-a-copy\n",
      "  df_all['area'] = df_all['area'].astype('float')\n",
      "<ipython-input-42-6568e25ca44f>:10: SettingWithCopyWarning: \n",
      "A value is trying to be set on a copy of a slice from a DataFrame.\n",
      "Try using .loc[row_indexer,col_indexer] = value instead\n",
      "\n",
      "See the caveats in the documentation: https://pandas.pydata.org/pandas-docs/stable/user_guide/indexing.html#returning-a-view-versus-a-copy\n",
      "  df_all['builtYear'] = df_all['builtYear'].astype('int')\n",
      "<ipython-input-42-6568e25ca44f>:11: SettingWithCopyWarning: \n",
      "A value is trying to be set on a copy of a slice from a DataFrame.\n",
      "Try using .loc[row_indexer,col_indexer] = value instead\n",
      "\n",
      "See the caveats in the documentation: https://pandas.pydata.org/pandas-docs/stable/user_guide/indexing.html#returning-a-view-versus-a-copy\n",
      "  df_all['subway'] = df_all['subway'].astype('int')\n"
     ]
    },
    {
     "data": {
      "text/html": [
       "<div>\n",
       "<style scoped>\n",
       "    .dataframe tbody tr th:only-of-type {\n",
       "        vertical-align: middle;\n",
       "    }\n",
       "\n",
       "    .dataframe tbody tr th {\n",
       "        vertical-align: top;\n",
       "    }\n",
       "\n",
       "    .dataframe thead th {\n",
       "        text-align: right;\n",
       "    }\n",
       "</style>\n",
       "<table border=\"1\" class=\"dataframe\">\n",
       "  <thead>\n",
       "    <tr style=\"text-align: right;\">\n",
       "      <th></th>\n",
       "      <th>totalPrice</th>\n",
       "      <th>unitPrice</th>\n",
       "      <th>county</th>\n",
       "      <th>halls</th>\n",
       "      <th>bedrooms</th>\n",
       "      <th>area</th>\n",
       "      <th>orient</th>\n",
       "      <th>decorateType</th>\n",
       "      <th>floor</th>\n",
       "      <th>builtYear</th>\n",
       "      <th>banta</th>\n",
       "      <th>subway</th>\n",
       "    </tr>\n",
       "  </thead>\n",
       "  <tbody>\n",
       "    <tr>\n",
       "      <th>0</th>\n",
       "      <td>455.0</td>\n",
       "      <td>55836.0</td>\n",
       "      <td>昌平</td>\n",
       "      <td>2</td>\n",
       "      <td>1</td>\n",
       "      <td>81.49</td>\n",
       "      <td>东南</td>\n",
       "      <td>简装</td>\n",
       "      <td>中楼层(共20层)</td>\n",
       "      <td>2008</td>\n",
       "      <td>板塔结合</td>\n",
       "      <td>1</td>\n",
       "    </tr>\n",
       "    <tr>\n",
       "      <th>1</th>\n",
       "      <td>1250.0</td>\n",
       "      <td>71060.0</td>\n",
       "      <td>昌平</td>\n",
       "      <td>3</td>\n",
       "      <td>1</td>\n",
       "      <td>175.91</td>\n",
       "      <td>南 北</td>\n",
       "      <td>精装</td>\n",
       "      <td>高楼层(共14层)</td>\n",
       "      <td>2012</td>\n",
       "      <td>板楼</td>\n",
       "      <td>0</td>\n",
       "    </tr>\n",
       "    <tr>\n",
       "      <th>2</th>\n",
       "      <td>165.0</td>\n",
       "      <td>45455.0</td>\n",
       "      <td>昌平</td>\n",
       "      <td>1</td>\n",
       "      <td>0</td>\n",
       "      <td>36.30</td>\n",
       "      <td>西</td>\n",
       "      <td>简装</td>\n",
       "      <td>高楼层(共10层)</td>\n",
       "      <td>2004</td>\n",
       "      <td>板塔结合</td>\n",
       "      <td>0</td>\n",
       "    </tr>\n",
       "    <tr>\n",
       "      <th>3</th>\n",
       "      <td>1150.0</td>\n",
       "      <td>46825.0</td>\n",
       "      <td>昌平</td>\n",
       "      <td>5</td>\n",
       "      <td>2</td>\n",
       "      <td>245.60</td>\n",
       "      <td>南 北</td>\n",
       "      <td>精装</td>\n",
       "      <td>底层(共3层)</td>\n",
       "      <td>2000</td>\n",
       "      <td>板楼</td>\n",
       "      <td>0</td>\n",
       "    </tr>\n",
       "    <tr>\n",
       "      <th>4</th>\n",
       "      <td>515.0</td>\n",
       "      <td>35483.0</td>\n",
       "      <td>昌平</td>\n",
       "      <td>3</td>\n",
       "      <td>2</td>\n",
       "      <td>145.14</td>\n",
       "      <td>南 北 西</td>\n",
       "      <td>精装</td>\n",
       "      <td>底层(共6层)</td>\n",
       "      <td>2001</td>\n",
       "      <td>板楼</td>\n",
       "      <td>0</td>\n",
       "    </tr>\n",
       "  </tbody>\n",
       "</table>\n",
       "</div>"
      ],
      "text/plain": [
       "   totalPrice  unitPrice county  halls  bedrooms    area   orient  \\\n",
       "0       455.0    55836.0     昌平      2         1   81.49      东南    \n",
       "1      1250.0    71060.0     昌平      3         1  175.91     南 北    \n",
       "2       165.0    45455.0     昌平      1         0   36.30       西    \n",
       "3      1150.0    46825.0     昌平      5         2  245.60     南 北    \n",
       "4       515.0    35483.0     昌平      3         2  145.14   南 北 西    \n",
       "\n",
       "  decorateType        floor  builtYear  banta  subway  \n",
       "0          简装    中楼层(共20层)        2008   板塔结合       1  \n",
       "1          精装    高楼层(共14层)        2012     板楼       0  \n",
       "2          简装    高楼层(共10层)        2004   板塔结合       0  \n",
       "3          精装      底层(共3层)        2000     板楼       0  \n",
       "4          精装      底层(共6层)        2001     板楼       0  "
      ]
     },
     "execution_count": 42,
     "metadata": {},
     "output_type": "execute_result"
    }
   ],
   "source": [
    "# 空值直接删除\n",
    "# df_all = df_all.dropna()\n",
    "\n",
    "# 转换数据类型\n",
    "df_all['totalPrice'] = df_all['totalPrice'].astype('float')\n",
    "df_all['unitPrice'] = df_all['unitPrice'].astype('float')\n",
    "df_all['halls'] = df_all['halls'].astype('int')\n",
    "df_all['bedrooms'] = df_all['bedrooms'].astype('int')\n",
    "df_all['area'] = df_all['area'].astype('float')\n",
    "df_all['builtYear'] = df_all['builtYear'].astype('int')\n",
    "df_all['subway'] = df_all['subway'].astype('int')\n",
    "df_all.head() "
   ]
  },
  {
   "cell_type": "code",
   "execution_count": 43,
   "metadata": {
    "ExecuteTime": {
     "end_time": "2021-04-22T12:46:13.385494Z",
     "start_time": "2021-04-22T12:46:13.363324Z"
    },
    "scrolled": false
   },
   "outputs": [
    {
     "data": {
      "text/html": [
       "<div>\n",
       "<style scoped>\n",
       "    .dataframe tbody tr th:only-of-type {\n",
       "        vertical-align: middle;\n",
       "    }\n",
       "\n",
       "    .dataframe tbody tr th {\n",
       "        vertical-align: top;\n",
       "    }\n",
       "\n",
       "    .dataframe thead th {\n",
       "        text-align: right;\n",
       "    }\n",
       "</style>\n",
       "<table border=\"1\" class=\"dataframe\">\n",
       "  <thead>\n",
       "    <tr style=\"text-align: right;\">\n",
       "      <th></th>\n",
       "      <th>totalPrice</th>\n",
       "      <th>unitPrice</th>\n",
       "      <th>county</th>\n",
       "      <th>halls</th>\n",
       "      <th>bedrooms</th>\n",
       "      <th>area</th>\n",
       "      <th>orient</th>\n",
       "      <th>decorateType</th>\n",
       "      <th>floor</th>\n",
       "      <th>builtYear</th>\n",
       "      <th>banta</th>\n",
       "      <th>subway</th>\n",
       "    </tr>\n",
       "  </thead>\n",
       "  <tbody>\n",
       "    <tr>\n",
       "      <th>0</th>\n",
       "      <td>455.0</td>\n",
       "      <td>55836.0</td>\n",
       "      <td>昌平</td>\n",
       "      <td>2</td>\n",
       "      <td>1</td>\n",
       "      <td>81.49</td>\n",
       "      <td>东南</td>\n",
       "      <td>简装</td>\n",
       "      <td>中楼层(共20层)</td>\n",
       "      <td>2008</td>\n",
       "      <td>板塔结合</td>\n",
       "      <td>1</td>\n",
       "    </tr>\n",
       "    <tr>\n",
       "      <th>1</th>\n",
       "      <td>1250.0</td>\n",
       "      <td>71060.0</td>\n",
       "      <td>昌平</td>\n",
       "      <td>3</td>\n",
       "      <td>1</td>\n",
       "      <td>175.91</td>\n",
       "      <td>南 北</td>\n",
       "      <td>精装</td>\n",
       "      <td>高楼层(共14层)</td>\n",
       "      <td>2012</td>\n",
       "      <td>板楼</td>\n",
       "      <td>0</td>\n",
       "    </tr>\n",
       "    <tr>\n",
       "      <th>2</th>\n",
       "      <td>165.0</td>\n",
       "      <td>45455.0</td>\n",
       "      <td>昌平</td>\n",
       "      <td>1</td>\n",
       "      <td>0</td>\n",
       "      <td>36.30</td>\n",
       "      <td>西</td>\n",
       "      <td>简装</td>\n",
       "      <td>高楼层(共10层)</td>\n",
       "      <td>2004</td>\n",
       "      <td>板塔结合</td>\n",
       "      <td>0</td>\n",
       "    </tr>\n",
       "    <tr>\n",
       "      <th>3</th>\n",
       "      <td>1150.0</td>\n",
       "      <td>46825.0</td>\n",
       "      <td>昌平</td>\n",
       "      <td>5</td>\n",
       "      <td>2</td>\n",
       "      <td>245.60</td>\n",
       "      <td>南 北</td>\n",
       "      <td>精装</td>\n",
       "      <td>底层(共3层)</td>\n",
       "      <td>2000</td>\n",
       "      <td>板楼</td>\n",
       "      <td>0</td>\n",
       "    </tr>\n",
       "    <tr>\n",
       "      <th>4</th>\n",
       "      <td>515.0</td>\n",
       "      <td>35483.0</td>\n",
       "      <td>昌平</td>\n",
       "      <td>3</td>\n",
       "      <td>2</td>\n",
       "      <td>145.14</td>\n",
       "      <td>南 北 西</td>\n",
       "      <td>精装</td>\n",
       "      <td>底层(共6层)</td>\n",
       "      <td>2001</td>\n",
       "      <td>板楼</td>\n",
       "      <td>0</td>\n",
       "    </tr>\n",
       "    <tr>\n",
       "      <th>...</th>\n",
       "      <td>...</td>\n",
       "      <td>...</td>\n",
       "      <td>...</td>\n",
       "      <td>...</td>\n",
       "      <td>...</td>\n",
       "      <td>...</td>\n",
       "      <td>...</td>\n",
       "      <td>...</td>\n",
       "      <td>...</td>\n",
       "      <td>...</td>\n",
       "      <td>...</td>\n",
       "      <td>...</td>\n",
       "    </tr>\n",
       "    <tr>\n",
       "      <th>33551</th>\n",
       "      <td>920.0</td>\n",
       "      <td>101703.0</td>\n",
       "      <td>西城</td>\n",
       "      <td>3</td>\n",
       "      <td>1</td>\n",
       "      <td>90.46</td>\n",
       "      <td>南 北</td>\n",
       "      <td>其他</td>\n",
       "      <td>低楼层(共7层)</td>\n",
       "      <td>1990</td>\n",
       "      <td>板楼</td>\n",
       "      <td>0</td>\n",
       "    </tr>\n",
       "    <tr>\n",
       "      <th>33552</th>\n",
       "      <td>1950.0</td>\n",
       "      <td>128935.0</td>\n",
       "      <td>西城</td>\n",
       "      <td>3</td>\n",
       "      <td>2</td>\n",
       "      <td>151.24</td>\n",
       "      <td>东 西</td>\n",
       "      <td>精装</td>\n",
       "      <td>低楼层(共13层)</td>\n",
       "      <td>2009</td>\n",
       "      <td>板楼</td>\n",
       "      <td>0</td>\n",
       "    </tr>\n",
       "    <tr>\n",
       "      <th>33553</th>\n",
       "      <td>499.0</td>\n",
       "      <td>93797.0</td>\n",
       "      <td>西城</td>\n",
       "      <td>2</td>\n",
       "      <td>1</td>\n",
       "      <td>53.20</td>\n",
       "      <td>东 西</td>\n",
       "      <td>简装</td>\n",
       "      <td>地下室(共6层)</td>\n",
       "      <td>1987</td>\n",
       "      <td>板楼</td>\n",
       "      <td>1</td>\n",
       "    </tr>\n",
       "    <tr>\n",
       "      <th>33554</th>\n",
       "      <td>1380.0</td>\n",
       "      <td>81484.0</td>\n",
       "      <td>西城</td>\n",
       "      <td>3</td>\n",
       "      <td>2</td>\n",
       "      <td>169.36</td>\n",
       "      <td>东南</td>\n",
       "      <td>精装</td>\n",
       "      <td>中楼层(共14层)</td>\n",
       "      <td>2003</td>\n",
       "      <td>塔楼</td>\n",
       "      <td>0</td>\n",
       "    </tr>\n",
       "    <tr>\n",
       "      <th>33555</th>\n",
       "      <td>1159.0</td>\n",
       "      <td>83586.0</td>\n",
       "      <td>西城</td>\n",
       "      <td>3</td>\n",
       "      <td>2</td>\n",
       "      <td>138.66</td>\n",
       "      <td>东南</td>\n",
       "      <td>精装</td>\n",
       "      <td>高楼层(共19层)</td>\n",
       "      <td>2001</td>\n",
       "      <td>塔楼</td>\n",
       "      <td>0</td>\n",
       "    </tr>\n",
       "  </tbody>\n",
       "</table>\n",
       "<p>32441 rows × 12 columns</p>\n",
       "</div>"
      ],
      "text/plain": [
       "       totalPrice  unitPrice county  halls  bedrooms    area   orient  \\\n",
       "0           455.0    55836.0     昌平      2         1   81.49      东南    \n",
       "1          1250.0    71060.0     昌平      3         1  175.91     南 北    \n",
       "2           165.0    45455.0     昌平      1         0   36.30       西    \n",
       "3          1150.0    46825.0     昌平      5         2  245.60     南 北    \n",
       "4           515.0    35483.0     昌平      3         2  145.14   南 北 西    \n",
       "...           ...        ...    ...    ...       ...     ...      ...   \n",
       "33551       920.0   101703.0     西城      3         1   90.46     南 北    \n",
       "33552      1950.0   128935.0     西城      3         2  151.24     东 西    \n",
       "33553       499.0    93797.0     西城      2         1   53.20     东 西    \n",
       "33554      1380.0    81484.0     西城      3         2  169.36      东南    \n",
       "33555      1159.0    83586.0     西城      3         2  138.66      东南    \n",
       "\n",
       "      decorateType        floor  builtYear  banta  subway  \n",
       "0              简装    中楼层(共20层)        2008   板塔结合       1  \n",
       "1              精装    高楼层(共14层)        2012     板楼       0  \n",
       "2              简装    高楼层(共10层)        2004   板塔结合       0  \n",
       "3              精装      底层(共3层)        2000     板楼       0  \n",
       "4              精装      底层(共6层)        2001     板楼       0  \n",
       "...            ...          ...        ...    ...     ...  \n",
       "33551          其他     低楼层(共7层)        1990     板楼       0  \n",
       "33552          精装    低楼层(共13层)        2009     板楼       0  \n",
       "33553          简装     地下室(共6层)        1987     板楼       1  \n",
       "33554          精装    中楼层(共14层)        2003     塔楼       0  \n",
       "33555          精装    高楼层(共19层)        2001     塔楼       0  \n",
       "\n",
       "[32441 rows x 12 columns]"
      ]
     },
     "execution_count": 43,
     "metadata": {},
     "output_type": "execute_result"
    }
   ],
   "source": [
    "df_all"
   ]
  },
  {
   "cell_type": "code",
   "execution_count": 44,
   "metadata": {
    "ExecuteTime": {
     "end_time": "2021-04-22T12:41:04.071276Z",
     "start_time": "2021-04-22T12:41:04.050305Z"
    }
   },
   "outputs": [
    {
     "name": "stdout",
     "output_type": "stream",
     "text": [
      "<class 'pandas.core.frame.DataFrame'>\n",
      "Int64Index: 32441 entries, 0 to 33555\n",
      "Data columns (total 12 columns):\n",
      " #   Column        Non-Null Count  Dtype  \n",
      "---  ------        --------------  -----  \n",
      " 0   totalPrice    32441 non-null  float64\n",
      " 1   unitPrice     32441 non-null  float64\n",
      " 2   county        32441 non-null  object \n",
      " 3   halls         32441 non-null  int32  \n",
      " 4   bedrooms      32441 non-null  int32  \n",
      " 5   area          32441 non-null  float64\n",
      " 6   orient        32441 non-null  object \n",
      " 7   decorateType  32441 non-null  object \n",
      " 8   floor         32441 non-null  object \n",
      " 9   builtYear     32441 non-null  int32  \n",
      " 10  banta         32441 non-null  object \n",
      " 11  subway        32441 non-null  int32  \n",
      "dtypes: float64(3), int32(4), object(5)\n",
      "memory usage: 2.7+ MB\n"
     ]
    }
   ],
   "source": [
    "df_all.info()"
   ]
  },
  {
   "cell_type": "code",
   "execution_count": 45,
   "metadata": {
    "ExecuteTime": {
     "end_time": "2021-04-22T12:41:24.980631Z",
     "start_time": "2021-04-22T12:41:24.975953Z"
    }
   },
   "outputs": [
    {
     "data": {
      "text/plain": [
       "0            东南 \n",
       "1           南 北 \n",
       "2             西 \n",
       "3           南 北 \n",
       "4         南 北 西 \n",
       "          ...   \n",
       "33551       南 北 \n",
       "33552       东 西 \n",
       "33553       东 西 \n",
       "33554        东南 \n",
       "33555        东南 \n",
       "Name: orient, Length: 32441, dtype: object"
      ]
     },
     "execution_count": 45,
     "metadata": {},
     "output_type": "execute_result"
    }
   ],
   "source": [
    "df_all.orient"
   ]
  },
  {
   "cell_type": "code",
   "execution_count": 46,
   "metadata": {
    "ExecuteTime": {
     "end_time": "2021-04-22T12:42:50.638905Z",
     "start_time": "2021-04-22T12:42:50.635184Z"
    }
   },
   "outputs": [
    {
     "data": {
      "text/plain": [
       "Index(['totalPrice', 'unitPrice', 'county', 'halls', 'bedrooms', 'area',\n",
       "       'orient', 'decorateType', 'floor', 'builtYear', 'banta', 'subway'],\n",
       "      dtype='object')"
      ]
     },
     "execution_count": 46,
     "metadata": {},
     "output_type": "execute_result"
    }
   ],
   "source": [
    "df_all.columns"
   ]
  },
  {
   "cell_type": "code",
   "execution_count": 47,
   "metadata": {},
   "outputs": [
    {
     "data": {
      "text/plain": [
       "0         中楼层(共20层) \n",
       "1         高楼层(共14层) \n",
       "2         高楼层(共10层) \n",
       "3           底层(共3层) \n",
       "4           底层(共6层) \n",
       "            ...     \n",
       "33551      低楼层(共7层) \n",
       "33552     低楼层(共13层) \n",
       "33553      地下室(共6层) \n",
       "33554     中楼层(共14层) \n",
       "33555     高楼层(共19层) \n",
       "Name: floor, Length: 32441, dtype: object"
      ]
     },
     "execution_count": 47,
     "metadata": {},
     "output_type": "execute_result"
    }
   ],
   "source": [
    "df_all['floor']   # 或 df_all.floor"
   ]
  },
  {
   "cell_type": "code",
   "execution_count": null,
   "metadata": {},
   "outputs": [],
   "source": []
  },
  {
   "cell_type": "code",
   "execution_count": 48,
   "metadata": {},
   "outputs": [
    {
     "data": {
      "text/plain": [
       "0        中楼层\n",
       "1        高楼层\n",
       "2        高楼层\n",
       "3         底层\n",
       "4         底层\n",
       "        ... \n",
       "33551    低楼层\n",
       "33552    低楼层\n",
       "33553    地下室\n",
       "33554    中楼层\n",
       "33555    高楼层\n",
       "Name: floor, Length: 32441, dtype: object"
      ]
     },
     "execution_count": 48,
     "metadata": {},
     "output_type": "execute_result"
    }
   ],
   "source": [
    "# 验证，获取楼层，用正则表达式将（）及其内容替换成空，strip()去掉字符串左右两侧空格\n",
    "df_all['floor'].str.replace(r'\\(.*?\\)', '').str.strip()"
   ]
  },
  {
   "cell_type": "code",
   "execution_count": null,
   "metadata": {},
   "outputs": [],
   "source": []
  },
  {
   "cell_type": "code",
   "execution_count": 49,
   "metadata": {
    "ExecuteTime": {
     "end_time": "2021-04-22T12:47:00.533268Z",
     "start_time": "2021-04-22T12:47:00.330880Z"
    }
   },
   "outputs": [
    {
     "name": "stderr",
     "output_type": "stream",
     "text": [
      "<ipython-input-49-cd1662e0c1dc>:14: SettingWithCopyWarning: \n",
      "A value is trying to be set on a copy of a slice from a DataFrame.\n",
      "Try using .loc[row_indexer,col_indexer] = value instead\n",
      "\n",
      "See the caveats in the documentation: https://pandas.pydata.org/pandas-docs/stable/user_guide/indexing.html#returning-a-view-versus-a-copy\n",
      "  df_all['floorType'] = df_all['floor'].str.replace(r'\\(.*?\\)', '').str.strip()\n",
      "<ipython-input-49-cd1662e0c1dc>:15: SettingWithCopyWarning: \n",
      "A value is trying to be set on a copy of a slice from a DataFrame.\n",
      "Try using .loc[row_indexer,col_indexer] = value instead\n",
      "\n",
      "See the caveats in the documentation: https://pandas.pydata.org/pandas-docs/stable/user_guide/indexing.html#returning-a-view-versus-a-copy\n",
      "  df_all['floorType'] = df_all.floorType.apply(transform_floor)\n"
     ]
    }
   ],
   "source": [
    "def transform_floor(x):\n",
    "    if x == '高楼层' or x == '顶层' or x == '上叠':\n",
    "        return '高层'\n",
    "    elif x == '低楼层' or x == '底层' or x == '下叠' or x == '1层' or x == '2层' or x == '3层':\n",
    "        return '低层'\n",
    "    elif x == '中楼层' or x == '4层' or x == '5层' or x == '6层':\n",
    "        return '中层' \n",
    "    elif x == '地下室':\n",
    "        return '地下室'\n",
    "    else:             # 其他归为高层\n",
    "        return '高层'  \n",
    "\n",
    "# floor一般化\n",
    "df_all['floorType'] = df_all['floor'].str.replace(r'\\(.*?\\)', '').str.strip()\n",
    "df_all['floorType'] = df_all.floorType.apply(transform_floor)\n",
    "df_all = df_all.drop('floor', axis=1) \n"
   ]
  },
  {
   "cell_type": "code",
   "execution_count": 50,
   "metadata": {
    "ExecuteTime": {
     "end_time": "2021-04-22T12:47:08.749760Z",
     "start_time": "2021-04-22T12:47:08.730766Z"
    },
    "scrolled": false
   },
   "outputs": [
    {
     "name": "stdout",
     "output_type": "stream",
     "text": [
      "<class 'pandas.core.frame.DataFrame'>\n",
      "Int64Index: 32441 entries, 0 to 33555\n",
      "Data columns (total 12 columns):\n",
      " #   Column        Non-Null Count  Dtype  \n",
      "---  ------        --------------  -----  \n",
      " 0   totalPrice    32441 non-null  float64\n",
      " 1   unitPrice     32441 non-null  float64\n",
      " 2   county        32441 non-null  object \n",
      " 3   halls         32441 non-null  int32  \n",
      " 4   bedrooms      32441 non-null  int32  \n",
      " 5   area          32441 non-null  float64\n",
      " 6   orient        32441 non-null  object \n",
      " 7   decorateType  32441 non-null  object \n",
      " 8   builtYear     32441 non-null  int32  \n",
      " 9   banta         32441 non-null  object \n",
      " 10  subway        32441 non-null  int32  \n",
      " 11  floorType     32441 non-null  object \n",
      "dtypes: float64(3), int32(4), object(5)\n",
      "memory usage: 2.7+ MB\n"
     ]
    }
   ],
   "source": [
    "df_all.info() "
   ]
  },
  {
   "cell_type": "code",
   "execution_count": 51,
   "metadata": {
    "scrolled": true
   },
   "outputs": [
    {
     "data": {
      "text/html": [
       "<div>\n",
       "<style scoped>\n",
       "    .dataframe tbody tr th:only-of-type {\n",
       "        vertical-align: middle;\n",
       "    }\n",
       "\n",
       "    .dataframe tbody tr th {\n",
       "        vertical-align: top;\n",
       "    }\n",
       "\n",
       "    .dataframe thead th {\n",
       "        text-align: right;\n",
       "    }\n",
       "</style>\n",
       "<table border=\"1\" class=\"dataframe\">\n",
       "  <thead>\n",
       "    <tr style=\"text-align: right;\">\n",
       "      <th></th>\n",
       "      <th>totalPrice</th>\n",
       "      <th>unitPrice</th>\n",
       "      <th>county</th>\n",
       "      <th>halls</th>\n",
       "      <th>bedrooms</th>\n",
       "      <th>area</th>\n",
       "      <th>orient</th>\n",
       "      <th>decorateType</th>\n",
       "      <th>builtYear</th>\n",
       "      <th>banta</th>\n",
       "      <th>subway</th>\n",
       "      <th>floorType</th>\n",
       "    </tr>\n",
       "  </thead>\n",
       "  <tbody>\n",
       "    <tr>\n",
       "      <th>0</th>\n",
       "      <td>455.0</td>\n",
       "      <td>55836.0</td>\n",
       "      <td>昌平</td>\n",
       "      <td>2</td>\n",
       "      <td>1</td>\n",
       "      <td>81.49</td>\n",
       "      <td>东南</td>\n",
       "      <td>简装</td>\n",
       "      <td>2008</td>\n",
       "      <td>板塔结合</td>\n",
       "      <td>1</td>\n",
       "      <td>中层</td>\n",
       "    </tr>\n",
       "    <tr>\n",
       "      <th>1</th>\n",
       "      <td>1250.0</td>\n",
       "      <td>71060.0</td>\n",
       "      <td>昌平</td>\n",
       "      <td>3</td>\n",
       "      <td>1</td>\n",
       "      <td>175.91</td>\n",
       "      <td>南 北</td>\n",
       "      <td>精装</td>\n",
       "      <td>2012</td>\n",
       "      <td>板楼</td>\n",
       "      <td>0</td>\n",
       "      <td>高层</td>\n",
       "    </tr>\n",
       "    <tr>\n",
       "      <th>2</th>\n",
       "      <td>165.0</td>\n",
       "      <td>45455.0</td>\n",
       "      <td>昌平</td>\n",
       "      <td>1</td>\n",
       "      <td>0</td>\n",
       "      <td>36.30</td>\n",
       "      <td>西</td>\n",
       "      <td>简装</td>\n",
       "      <td>2004</td>\n",
       "      <td>板塔结合</td>\n",
       "      <td>0</td>\n",
       "      <td>高层</td>\n",
       "    </tr>\n",
       "    <tr>\n",
       "      <th>3</th>\n",
       "      <td>1150.0</td>\n",
       "      <td>46825.0</td>\n",
       "      <td>昌平</td>\n",
       "      <td>5</td>\n",
       "      <td>2</td>\n",
       "      <td>245.60</td>\n",
       "      <td>南 北</td>\n",
       "      <td>精装</td>\n",
       "      <td>2000</td>\n",
       "      <td>板楼</td>\n",
       "      <td>0</td>\n",
       "      <td>低层</td>\n",
       "    </tr>\n",
       "    <tr>\n",
       "      <th>4</th>\n",
       "      <td>515.0</td>\n",
       "      <td>35483.0</td>\n",
       "      <td>昌平</td>\n",
       "      <td>3</td>\n",
       "      <td>2</td>\n",
       "      <td>145.14</td>\n",
       "      <td>南 北 西</td>\n",
       "      <td>精装</td>\n",
       "      <td>2001</td>\n",
       "      <td>板楼</td>\n",
       "      <td>0</td>\n",
       "      <td>低层</td>\n",
       "    </tr>\n",
       "  </tbody>\n",
       "</table>\n",
       "</div>"
      ],
      "text/plain": [
       "   totalPrice  unitPrice county  halls  bedrooms    area   orient  \\\n",
       "0       455.0    55836.0     昌平      2         1   81.49      东南    \n",
       "1      1250.0    71060.0     昌平      3         1  175.91     南 北    \n",
       "2       165.0    45455.0     昌平      1         0   36.30       西    \n",
       "3      1150.0    46825.0     昌平      5         2  245.60     南 北    \n",
       "4       515.0    35483.0     昌平      3         2  145.14   南 北 西    \n",
       "\n",
       "  decorateType  builtYear  banta  subway floorType  \n",
       "0          简装        2008   板塔结合       1        中层  \n",
       "1          精装        2012     板楼       0        高层  \n",
       "2          简装        2004   板塔结合       0        高层  \n",
       "3          精装        2000     板楼       0        低层  \n",
       "4          精装        2001     板楼       0        低层  "
      ]
     },
     "execution_count": 51,
     "metadata": {},
     "output_type": "execute_result"
    }
   ],
   "source": [
    "df_all.head()"
   ]
  },
  {
   "cell_type": "markdown",
   "metadata": {
    "toc-hr-collapsed": true
   },
   "source": [
    "# 数据探索和可视化"
   ]
  },
  {
   "cell_type": "markdown",
   "metadata": {},
   "source": [
    "### 北京不同区域的二手房房源数量"
   ]
  },
  {
   "cell_type": "code",
   "execution_count": 76,
   "metadata": {
    "ExecuteTime": {
     "end_time": "2021-04-22T12:55:32.811401Z",
     "start_time": "2021-04-22T12:55:32.798770Z"
    }
   },
   "outputs": [
    {
     "data": {
      "text/html": [
       "\n",
       "<script>\n",
       "    require.config({\n",
       "        paths: {\n",
       "            'echarts':'https://assets.pyecharts.org/assets/echarts.min'\n",
       "        }\n",
       "    });\n",
       "</script>\n",
       "\n",
       "        <div id=\"cc896d0a5cc5474db0e9e8cbdaef90a0\" style=\"width:1200px; height:750px;\"></div>\n",
       "\n",
       "<script>\n",
       "        require(['echarts'], function(echarts) {\n",
       "                var chart_cc896d0a5cc5474db0e9e8cbdaef90a0 = echarts.init(\n",
       "                    document.getElementById('cc896d0a5cc5474db0e9e8cbdaef90a0'), 'white', {renderer: 'canvas'});\n",
       "                var option_cc896d0a5cc5474db0e9e8cbdaef90a0 = {\n",
       "    \"animation\": true,\n",
       "    \"animationThreshold\": 2000,\n",
       "    \"animationDuration\": 1000,\n",
       "    \"animationEasing\": \"cubicOut\",\n",
       "    \"animationDelay\": 0,\n",
       "    \"animationDurationUpdate\": 300,\n",
       "    \"animationEasingUpdate\": \"cubicOut\",\n",
       "    \"animationDelayUpdate\": 0,\n",
       "    \"color\": [\n",
       "        \"#c23531\",\n",
       "        \"#2f4554\",\n",
       "        \"#61a0a8\",\n",
       "        \"#d48265\",\n",
       "        \"#749f83\",\n",
       "        \"#ca8622\",\n",
       "        \"#bda29a\",\n",
       "        \"#6e7074\",\n",
       "        \"#546570\",\n",
       "        \"#c4ccd3\",\n",
       "        \"#f05b72\",\n",
       "        \"#ef5b9c\",\n",
       "        \"#f47920\",\n",
       "        \"#905a3d\",\n",
       "        \"#fab27b\",\n",
       "        \"#2a5caa\",\n",
       "        \"#444693\",\n",
       "        \"#726930\",\n",
       "        \"#b2d235\",\n",
       "        \"#6d8346\",\n",
       "        \"#ac6767\",\n",
       "        \"#1d953f\",\n",
       "        \"#6950a1\",\n",
       "        \"#918597\"\n",
       "    ],\n",
       "    \"series\": [\n",
       "        {\n",
       "            \"type\": \"bar\",\n",
       "            \"legendHoverLink\": true,\n",
       "            \"data\": [\n",
       "                2984,\n",
       "                2979,\n",
       "                2959,\n",
       "                2952,\n",
       "                2951,\n",
       "                2942,\n",
       "                2933,\n",
       "                2914,\n",
       "                2886,\n",
       "                2881,\n",
       "                1844,\n",
       "                1065,\n",
       "                71,\n",
       "                61,\n",
       "                19\n",
       "            ],\n",
       "            \"showBackground\": false,\n",
       "            \"barMinHeight\": 0,\n",
       "            \"barCategoryGap\": \"20%\",\n",
       "            \"barGap\": \"30%\",\n",
       "            \"large\": false,\n",
       "            \"largeThreshold\": 400,\n",
       "            \"seriesLayoutBy\": \"column\",\n",
       "            \"datasetIndex\": 0,\n",
       "            \"clip\": true,\n",
       "            \"zlevel\": 0,\n",
       "            \"z\": 2,\n",
       "            \"label\": {\n",
       "                \"show\": true,\n",
       "                \"position\": \"top\",\n",
       "                \"margin\": 8\n",
       "            }\n",
       "        }\n",
       "    ],\n",
       "    \"legend\": [\n",
       "        {\n",
       "            \"data\": [\n",
       "                \"\"\n",
       "            ],\n",
       "            \"selected\": {\n",
       "                \"\": true\n",
       "            },\n",
       "            \"show\": true,\n",
       "            \"padding\": 5,\n",
       "            \"itemGap\": 10,\n",
       "            \"itemWidth\": 25,\n",
       "            \"itemHeight\": 14\n",
       "        }\n",
       "    ],\n",
       "    \"tooltip\": {\n",
       "        \"show\": true,\n",
       "        \"trigger\": \"item\",\n",
       "        \"triggerOn\": \"mousemove|click\",\n",
       "        \"axisPointer\": {\n",
       "            \"type\": \"line\"\n",
       "        },\n",
       "        \"showContent\": true,\n",
       "        \"alwaysShowContent\": false,\n",
       "        \"showDelay\": 0,\n",
       "        \"hideDelay\": 100,\n",
       "        \"textStyle\": {\n",
       "            \"fontSize\": 14\n",
       "        },\n",
       "        \"borderWidth\": 0,\n",
       "        \"padding\": 5\n",
       "    },\n",
       "    \"xAxis\": [\n",
       "        {\n",
       "            \"show\": true,\n",
       "            \"scale\": false,\n",
       "            \"nameLocation\": \"end\",\n",
       "            \"nameGap\": 15,\n",
       "            \"gridIndex\": 0,\n",
       "            \"inverse\": false,\n",
       "            \"offset\": 0,\n",
       "            \"splitNumber\": 5,\n",
       "            \"minInterval\": 0,\n",
       "            \"splitLine\": {\n",
       "                \"show\": false,\n",
       "                \"lineStyle\": {\n",
       "                    \"show\": true,\n",
       "                    \"width\": 1,\n",
       "                    \"opacity\": 1,\n",
       "                    \"curveness\": 0,\n",
       "                    \"type\": \"solid\"\n",
       "                }\n",
       "            },\n",
       "            \"data\": [\n",
       "                \"\\u671d\\u9633\",\n",
       "                \"\\u4e30\\u53f0\",\n",
       "                \"\\u4e1c\\u57ce\",\n",
       "                \"\\u6d77\\u6dc0\",\n",
       "                \"\\u5927\\u5174\",\n",
       "                \"\\u901a\\u5dde\",\n",
       "                \"\\u897f\\u57ce\",\n",
       "                \"\\u987a\\u4e49\",\n",
       "                \"\\u623f\\u5c71\",\n",
       "                \"\\u660c\\u5e73\",\n",
       "                \"\\u77f3\\u666f\\u5c71\",\n",
       "                \"\\u95e8\\u5934\\u6c9f\",\n",
       "                \"\\u5e73\\u8c37\",\n",
       "                \"\\u5bc6\\u4e91\",\n",
       "                \"\\u6000\\u67d4\"\n",
       "            ]\n",
       "        }\n",
       "    ],\n",
       "    \"yAxis\": [\n",
       "        {\n",
       "            \"show\": true,\n",
       "            \"scale\": false,\n",
       "            \"nameLocation\": \"end\",\n",
       "            \"nameGap\": 15,\n",
       "            \"gridIndex\": 0,\n",
       "            \"inverse\": false,\n",
       "            \"offset\": 0,\n",
       "            \"splitNumber\": 5,\n",
       "            \"minInterval\": 0,\n",
       "            \"splitLine\": {\n",
       "                \"show\": false,\n",
       "                \"lineStyle\": {\n",
       "                    \"show\": true,\n",
       "                    \"width\": 1,\n",
       "                    \"opacity\": 1,\n",
       "                    \"curveness\": 0,\n",
       "                    \"type\": \"solid\"\n",
       "                }\n",
       "            }\n",
       "        }\n",
       "    ],\n",
       "    \"title\": [\n",
       "        {\n",
       "            \"text\": \"\\u5317\\u4eac\\u4e0d\\u540c\\u533a\\u57df\\u7684\\u4e8c\\u624b\\u623f\\u623f\\u6e90\\u6570\\u91cf\",\n",
       "            \"padding\": 5,\n",
       "            \"itemGap\": 10\n",
       "        }\n",
       "    ],\n",
       "    \"visualMap\": {\n",
       "        \"show\": true,\n",
       "        \"type\": \"continuous\",\n",
       "        \"min\": 0,\n",
       "        \"max\": 3000,\n",
       "        \"inRange\": {\n",
       "            \"color\": [\n",
       "                \"#50a3ba\",\n",
       "                \"#eac763\",\n",
       "                \"#d94e5d\"\n",
       "            ]\n",
       "        },\n",
       "        \"calculable\": true,\n",
       "        \"inverse\": false,\n",
       "        \"splitNumber\": 5,\n",
       "        \"orient\": \"vertical\",\n",
       "        \"showLabel\": true,\n",
       "        \"itemWidth\": 20,\n",
       "        \"itemHeight\": 140,\n",
       "        \"borderWidth\": 0\n",
       "    }\n",
       "};\n",
       "                chart_cc896d0a5cc5474db0e9e8cbdaef90a0.setOption(option_cc896d0a5cc5474db0e9e8cbdaef90a0);\n",
       "        });\n",
       "    </script>\n"
      ],
      "text/plain": [
       "<pyecharts.render.display.HTML at 0x17a63bdc1f0>"
      ]
     },
     "execution_count": 76,
     "metadata": {},
     "output_type": "execute_result"
    }
   ],
   "source": [
    "\n",
    "region_name = df_all.groupby('county')['totalPrice'].count().index.tolist()\n",
    "\n",
    "house_num = df_all.groupby('county')['totalPrice'].count().values\n",
    "# 数据框\n",
    "df_region = pd.DataFrame({\n",
    "    'region_name': region_name,\n",
    "    'house_num': house_num\n",
    "})\n",
    "# 排序\n",
    "df_region = df_region.sort_values('house_num', ascending=False)\n",
    "\n",
    "# 产生数据\n",
    "x_data = df_region['region_name'].values.tolist()\n",
    "y_data = df_region['house_num'].values.tolist()\n",
    "\n",
    "# 条形图\n",
    "bar1 = Bar(init_opts=opts.InitOpts(width='1200px', height='750px'))\n",
    "bar1.add_xaxis(x_data)\n",
    "bar1.add_yaxis('', y_data)\n",
    "bar1.set_global_opts(title_opts=opts.TitleOpts(title='北京不同区域的二手房房源数量'), \n",
    "                     visualmap_opts=opts.VisualMapOpts(max_=3000))\n",
    "bar1.render_notebook()"
   ]
  },
  {
   "cell_type": "markdown",
   "metadata": {},
   "source": [
    "### 北京不同区域的二手房均价"
   ]
  },
  {
   "cell_type": "code",
   "execution_count": 77,
   "metadata": {
    "ExecuteTime": {
     "end_time": "2021-04-22T12:56:55.946747Z",
     "start_time": "2021-04-22T12:56:55.938743Z"
    }
   },
   "outputs": [
    {
     "data": {
      "text/plain": [
       "count    32441.000000\n",
       "mean       583.925434\n",
       "std        425.662233\n",
       "min         74.000000\n",
       "25%        328.000000\n",
       "50%        465.000000\n",
       "75%        690.000000\n",
       "max       8299.000000\n",
       "Name: totalPrice, dtype: float64"
      ]
     },
     "execution_count": 77,
     "metadata": {},
     "output_type": "execute_result"
    }
   ],
   "source": [
    "df_all.totalPrice.describe()"
   ]
  },
  {
   "cell_type": "code",
   "execution_count": 79,
   "metadata": {
    "ExecuteTime": {
     "end_time": "2021-04-22T12:57:52.106286Z",
     "start_time": "2021-04-22T12:57:52.092974Z"
    }
   },
   "outputs": [
    {
     "data": {
      "text/html": [
       "\n",
       "<script>\n",
       "    require.config({\n",
       "        paths: {\n",
       "            'echarts':'https://assets.pyecharts.org/assets/echarts.min'\n",
       "        }\n",
       "    });\n",
       "</script>\n",
       "\n",
       "        <div id=\"5e73c4490f8f437b9a14f5589b468956\" style=\"width:1350px; height:750px;\"></div>\n",
       "\n",
       "<script>\n",
       "        require(['echarts'], function(echarts) {\n",
       "                var chart_5e73c4490f8f437b9a14f5589b468956 = echarts.init(\n",
       "                    document.getElementById('5e73c4490f8f437b9a14f5589b468956'), 'white', {renderer: 'canvas'});\n",
       "                var option_5e73c4490f8f437b9a14f5589b468956 = {\n",
       "    \"animation\": true,\n",
       "    \"animationThreshold\": 2000,\n",
       "    \"animationDuration\": 1000,\n",
       "    \"animationEasing\": \"cubicOut\",\n",
       "    \"animationDelay\": 0,\n",
       "    \"animationDurationUpdate\": 300,\n",
       "    \"animationEasingUpdate\": \"cubicOut\",\n",
       "    \"animationDelayUpdate\": 0,\n",
       "    \"color\": [\n",
       "        \"#c23531\",\n",
       "        \"#2f4554\",\n",
       "        \"#61a0a8\",\n",
       "        \"#d48265\",\n",
       "        \"#749f83\",\n",
       "        \"#ca8622\",\n",
       "        \"#bda29a\",\n",
       "        \"#6e7074\",\n",
       "        \"#546570\",\n",
       "        \"#c4ccd3\",\n",
       "        \"#f05b72\",\n",
       "        \"#ef5b9c\",\n",
       "        \"#f47920\",\n",
       "        \"#905a3d\",\n",
       "        \"#fab27b\",\n",
       "        \"#2a5caa\",\n",
       "        \"#444693\",\n",
       "        \"#726930\",\n",
       "        \"#b2d235\",\n",
       "        \"#6d8346\",\n",
       "        \"#ac6767\",\n",
       "        \"#1d953f\",\n",
       "        \"#6950a1\",\n",
       "        \"#918597\"\n",
       "    ],\n",
       "    \"series\": [\n",
       "        {\n",
       "            \"type\": \"bar\",\n",
       "            \"legendHoverLink\": true,\n",
       "            \"data\": [\n",
       "                971.05,\n",
       "                909.65,\n",
       "                846.08,\n",
       "                823.87,\n",
       "                645.77,\n",
       "                521.72,\n",
       "                507.16,\n",
       "                493.21,\n",
       "                464.06,\n",
       "                461.02,\n",
       "                443.15,\n",
       "                398.68,\n",
       "                331.04,\n",
       "                327.13,\n",
       "                302.42\n",
       "            ],\n",
       "            \"showBackground\": false,\n",
       "            \"barMinHeight\": 0,\n",
       "            \"barCategoryGap\": \"20%\",\n",
       "            \"barGap\": \"30%\",\n",
       "            \"large\": false,\n",
       "            \"largeThreshold\": 400,\n",
       "            \"seriesLayoutBy\": \"column\",\n",
       "            \"datasetIndex\": 0,\n",
       "            \"clip\": true,\n",
       "            \"zlevel\": 0,\n",
       "            \"z\": 2,\n",
       "            \"label\": {\n",
       "                \"show\": true,\n",
       "                \"position\": \"top\",\n",
       "                \"margin\": 8\n",
       "            }\n",
       "        }\n",
       "    ],\n",
       "    \"legend\": [\n",
       "        {\n",
       "            \"data\": [\n",
       "                \"\"\n",
       "            ],\n",
       "            \"selected\": {\n",
       "                \"\": true\n",
       "            },\n",
       "            \"show\": true,\n",
       "            \"padding\": 5,\n",
       "            \"itemGap\": 10,\n",
       "            \"itemWidth\": 25,\n",
       "            \"itemHeight\": 14\n",
       "        }\n",
       "    ],\n",
       "    \"tooltip\": {\n",
       "        \"show\": true,\n",
       "        \"trigger\": \"item\",\n",
       "        \"triggerOn\": \"mousemove|click\",\n",
       "        \"axisPointer\": {\n",
       "            \"type\": \"line\"\n",
       "        },\n",
       "        \"showContent\": true,\n",
       "        \"alwaysShowContent\": false,\n",
       "        \"showDelay\": 0,\n",
       "        \"hideDelay\": 100,\n",
       "        \"textStyle\": {\n",
       "            \"fontSize\": 14\n",
       "        },\n",
       "        \"borderWidth\": 0,\n",
       "        \"padding\": 5\n",
       "    },\n",
       "    \"xAxis\": [\n",
       "        {\n",
       "            \"show\": true,\n",
       "            \"scale\": false,\n",
       "            \"nameLocation\": \"end\",\n",
       "            \"nameGap\": 15,\n",
       "            \"gridIndex\": 0,\n",
       "            \"inverse\": false,\n",
       "            \"offset\": 0,\n",
       "            \"splitNumber\": 5,\n",
       "            \"minInterval\": 0,\n",
       "            \"splitLine\": {\n",
       "                \"show\": false,\n",
       "                \"lineStyle\": {\n",
       "                    \"show\": true,\n",
       "                    \"width\": 1,\n",
       "                    \"opacity\": 1,\n",
       "                    \"curveness\": 0,\n",
       "                    \"type\": \"solid\"\n",
       "                }\n",
       "            },\n",
       "            \"data\": [\n",
       "                \"\\u6000\\u67d4\",\n",
       "                \"\\u897f\\u57ce\",\n",
       "                \"\\u6d77\\u6dc0\",\n",
       "                \"\\u4e1c\\u57ce\",\n",
       "                \"\\u671d\\u9633\",\n",
       "                \"\\u4e30\\u53f0\",\n",
       "                \"\\u987a\\u4e49\",\n",
       "                \"\\u660c\\u5e73\",\n",
       "                \"\\u77f3\\u666f\\u5c71\",\n",
       "                \"\\u901a\\u5dde\",\n",
       "                \"\\u5927\\u5174\",\n",
       "                \"\\u95e8\\u5934\\u6c9f\",\n",
       "                \"\\u623f\\u5c71\",\n",
       "                \"\\u5bc6\\u4e91\",\n",
       "                \"\\u5e73\\u8c37\"\n",
       "            ]\n",
       "        }\n",
       "    ],\n",
       "    \"yAxis\": [\n",
       "        {\n",
       "            \"show\": true,\n",
       "            \"scale\": false,\n",
       "            \"nameLocation\": \"end\",\n",
       "            \"nameGap\": 15,\n",
       "            \"gridIndex\": 0,\n",
       "            \"inverse\": false,\n",
       "            \"offset\": 0,\n",
       "            \"splitNumber\": 5,\n",
       "            \"minInterval\": 0,\n",
       "            \"splitLine\": {\n",
       "                \"show\": false,\n",
       "                \"lineStyle\": {\n",
       "                    \"show\": true,\n",
       "                    \"width\": 1,\n",
       "                    \"opacity\": 1,\n",
       "                    \"curveness\": 0,\n",
       "                    \"type\": \"solid\"\n",
       "                }\n",
       "            }\n",
       "        }\n",
       "    ],\n",
       "    \"title\": [\n",
       "        {\n",
       "            \"padding\": 5,\n",
       "            \"itemGap\": 10\n",
       "        }\n",
       "    ],\n",
       "    \"visualMap\": {\n",
       "        \"show\": true,\n",
       "        \"type\": \"continuous\",\n",
       "        \"min\": 0,\n",
       "        \"max\": 1000,\n",
       "        \"inRange\": {\n",
       "            \"color\": [\n",
       "                \"#50a3ba\",\n",
       "                \"#eac763\",\n",
       "                \"#d94e5d\"\n",
       "            ]\n",
       "        },\n",
       "        \"calculable\": true,\n",
       "        \"inverse\": false,\n",
       "        \"splitNumber\": 5,\n",
       "        \"orient\": \"vertical\",\n",
       "        \"showLabel\": true,\n",
       "        \"itemWidth\": 20,\n",
       "        \"itemHeight\": 140,\n",
       "        \"borderWidth\": 0\n",
       "    }\n",
       "};\n",
       "                chart_5e73c4490f8f437b9a14f5589b468956.setOption(option_5e73c4490f8f437b9a14f5589b468956);\n",
       "        });\n",
       "    </script>\n"
      ],
      "text/plain": [
       "<pyecharts.render.display.HTML at 0x17a63f28910>"
      ]
     },
     "execution_count": 79,
     "metadata": {},
     "output_type": "execute_result"
    }
   ],
   "source": [
    "# 条形图\n",
    "\n",
    "region_name = df_all.groupby('county')['totalPrice'].count().index.tolist()\n",
    "\n",
    "house_avg_price = np.around(df_all.groupby('county')['totalPrice'].mean().values, 2)\n",
    "# 数据框\n",
    "df_region = pd.DataFrame({\n",
    "    'region_name': region_name,\n",
    "    'house_avg_price': house_avg_price\n",
    "})\n",
    "df_region = df_region.sort_values('house_avg_price', ascending=False)\n",
    "\n",
    "# 产生数据\n",
    "x_data = df_region['region_name'].values.tolist()\n",
    "y_data = df_region['house_avg_price'].values.tolist()\n",
    "\n",
    "bar2 = Bar(init_opts=opts.InitOpts(width='1350px', height='750px'))\n",
    "bar2.add_xaxis(x_data)\n",
    "bar2.add_yaxis('', y_data)\n",
    "bar2.set_global_opts(visualmap_opts=opts.VisualMapOpts(max_=1000))\n",
    "# bar2.render('北京不同区域的二手房均价.html') \n",
    "bar2.render_notebook()"
   ]
  },
  {
   "cell_type": "code",
   "execution_count": 69,
   "metadata": {
    "ExecuteTime": {
     "end_time": "2021-04-22T12:57:54.368983Z",
     "start_time": "2021-04-22T12:57:54.361957Z"
    }
   },
   "outputs": [
    {
     "data": {
      "text/html": [
       "\n",
       "<script>\n",
       "    require.config({\n",
       "        paths: {\n",
       "            'echarts':'https://assets.pyecharts.org/assets/echarts.min'\n",
       "        }\n",
       "    });\n",
       "</script>\n",
       "\n",
       "        <div id=\"094fc15128a04e088fb6dc01e8b1c1c2\" style=\"width:1350px; height:750px;\"></div>\n",
       "\n",
       "<script>\n",
       "        require(['echarts'], function(echarts) {\n",
       "                var chart_094fc15128a04e088fb6dc01e8b1c1c2 = echarts.init(\n",
       "                    document.getElementById('094fc15128a04e088fb6dc01e8b1c1c2'), 'white', {renderer: 'canvas'});\n",
       "                var option_094fc15128a04e088fb6dc01e8b1c1c2 = {\n",
       "    \"animation\": true,\n",
       "    \"animationThreshold\": 2000,\n",
       "    \"animationDuration\": 1000,\n",
       "    \"animationEasing\": \"cubicOut\",\n",
       "    \"animationDelay\": 0,\n",
       "    \"animationDurationUpdate\": 300,\n",
       "    \"animationEasingUpdate\": \"cubicOut\",\n",
       "    \"animationDelayUpdate\": 0,\n",
       "    \"color\": [\n",
       "        \"#c23531\",\n",
       "        \"#2f4554\",\n",
       "        \"#61a0a8\",\n",
       "        \"#d48265\",\n",
       "        \"#749f83\",\n",
       "        \"#ca8622\",\n",
       "        \"#bda29a\",\n",
       "        \"#6e7074\",\n",
       "        \"#546570\",\n",
       "        \"#c4ccd3\",\n",
       "        \"#f05b72\",\n",
       "        \"#ef5b9c\",\n",
       "        \"#f47920\",\n",
       "        \"#905a3d\",\n",
       "        \"#fab27b\",\n",
       "        \"#2a5caa\",\n",
       "        \"#444693\",\n",
       "        \"#726930\",\n",
       "        \"#b2d235\",\n",
       "        \"#6d8346\",\n",
       "        \"#ac6767\",\n",
       "        \"#1d953f\",\n",
       "        \"#6950a1\",\n",
       "        \"#918597\"\n",
       "    ],\n",
       "    \"series\": [\n",
       "        {\n",
       "            \"type\": \"bar\",\n",
       "            \"legendHoverLink\": true,\n",
       "            \"data\": [\n",
       "                971.05,\n",
       "                909.65,\n",
       "                846.08,\n",
       "                823.87,\n",
       "                645.77,\n",
       "                521.72,\n",
       "                507.16,\n",
       "                493.21,\n",
       "                464.06,\n",
       "                461.02,\n",
       "                443.15,\n",
       "                398.68,\n",
       "                331.04,\n",
       "                327.13,\n",
       "                302.42\n",
       "            ],\n",
       "            \"showBackground\": false,\n",
       "            \"barMinHeight\": 0,\n",
       "            \"barCategoryGap\": \"20%\",\n",
       "            \"barGap\": \"30%\",\n",
       "            \"large\": false,\n",
       "            \"largeThreshold\": 400,\n",
       "            \"seriesLayoutBy\": \"column\",\n",
       "            \"datasetIndex\": 0,\n",
       "            \"clip\": true,\n",
       "            \"zlevel\": 0,\n",
       "            \"z\": 2,\n",
       "            \"label\": {\n",
       "                \"show\": true,\n",
       "                \"position\": \"top\",\n",
       "                \"margin\": 8\n",
       "            }\n",
       "        }\n",
       "    ],\n",
       "    \"legend\": [\n",
       "        {\n",
       "            \"data\": [\n",
       "                \"\"\n",
       "            ],\n",
       "            \"selected\": {\n",
       "                \"\": true\n",
       "            },\n",
       "            \"show\": true,\n",
       "            \"padding\": 5,\n",
       "            \"itemGap\": 10,\n",
       "            \"itemWidth\": 25,\n",
       "            \"itemHeight\": 14\n",
       "        }\n",
       "    ],\n",
       "    \"tooltip\": {\n",
       "        \"show\": true,\n",
       "        \"trigger\": \"item\",\n",
       "        \"triggerOn\": \"mousemove|click\",\n",
       "        \"axisPointer\": {\n",
       "            \"type\": \"line\"\n",
       "        },\n",
       "        \"showContent\": true,\n",
       "        \"alwaysShowContent\": false,\n",
       "        \"showDelay\": 0,\n",
       "        \"hideDelay\": 100,\n",
       "        \"textStyle\": {\n",
       "            \"fontSize\": 14\n",
       "        },\n",
       "        \"borderWidth\": 0,\n",
       "        \"padding\": 5\n",
       "    },\n",
       "    \"xAxis\": [\n",
       "        {\n",
       "            \"show\": true,\n",
       "            \"scale\": false,\n",
       "            \"nameLocation\": \"end\",\n",
       "            \"nameGap\": 15,\n",
       "            \"gridIndex\": 0,\n",
       "            \"inverse\": false,\n",
       "            \"offset\": 0,\n",
       "            \"splitNumber\": 5,\n",
       "            \"minInterval\": 0,\n",
       "            \"splitLine\": {\n",
       "                \"show\": false,\n",
       "                \"lineStyle\": {\n",
       "                    \"show\": true,\n",
       "                    \"width\": 1,\n",
       "                    \"opacity\": 1,\n",
       "                    \"curveness\": 0,\n",
       "                    \"type\": \"solid\"\n",
       "                }\n",
       "            },\n",
       "            \"data\": [\n",
       "                \"\\u6000\\u67d4\",\n",
       "                \"\\u897f\\u57ce\",\n",
       "                \"\\u6d77\\u6dc0\",\n",
       "                \"\\u4e1c\\u57ce\",\n",
       "                \"\\u671d\\u9633\",\n",
       "                \"\\u4e30\\u53f0\",\n",
       "                \"\\u987a\\u4e49\",\n",
       "                \"\\u660c\\u5e73\",\n",
       "                \"\\u77f3\\u666f\\u5c71\",\n",
       "                \"\\u901a\\u5dde\",\n",
       "                \"\\u5927\\u5174\",\n",
       "                \"\\u95e8\\u5934\\u6c9f\",\n",
       "                \"\\u623f\\u5c71\",\n",
       "                \"\\u5bc6\\u4e91\",\n",
       "                \"\\u5e73\\u8c37\"\n",
       "            ]\n",
       "        }\n",
       "    ],\n",
       "    \"yAxis\": [\n",
       "        {\n",
       "            \"show\": true,\n",
       "            \"scale\": false,\n",
       "            \"nameLocation\": \"end\",\n",
       "            \"nameGap\": 15,\n",
       "            \"gridIndex\": 0,\n",
       "            \"inverse\": false,\n",
       "            \"offset\": 0,\n",
       "            \"splitNumber\": 5,\n",
       "            \"minInterval\": 0,\n",
       "            \"splitLine\": {\n",
       "                \"show\": false,\n",
       "                \"lineStyle\": {\n",
       "                    \"show\": true,\n",
       "                    \"width\": 1,\n",
       "                    \"opacity\": 1,\n",
       "                    \"curveness\": 0,\n",
       "                    \"type\": \"solid\"\n",
       "                }\n",
       "            }\n",
       "        }\n",
       "    ],\n",
       "    \"title\": [\n",
       "        {\n",
       "            \"padding\": 5,\n",
       "            \"itemGap\": 10\n",
       "        }\n",
       "    ],\n",
       "    \"visualMap\": {\n",
       "        \"show\": true,\n",
       "        \"type\": \"continuous\",\n",
       "        \"min\": 0,\n",
       "        \"max\": 1000,\n",
       "        \"inRange\": {\n",
       "            \"color\": [\n",
       "                \"#50a3ba\",\n",
       "                \"#eac763\",\n",
       "                \"#d94e5d\"\n",
       "            ]\n",
       "        },\n",
       "        \"calculable\": true,\n",
       "        \"inverse\": false,\n",
       "        \"splitNumber\": 5,\n",
       "        \"orient\": \"vertical\",\n",
       "        \"showLabel\": true,\n",
       "        \"itemWidth\": 20,\n",
       "        \"itemHeight\": 140,\n",
       "        \"borderWidth\": 0\n",
       "    }\n",
       "};\n",
       "                chart_094fc15128a04e088fb6dc01e8b1c1c2.setOption(option_094fc15128a04e088fb6dc01e8b1c1c2);\n",
       "        });\n",
       "    </script>\n"
      ],
      "text/plain": [
       "<pyecharts.render.display.HTML at 0x17c628095e0>"
      ]
     },
     "execution_count": 69,
     "metadata": {},
     "output_type": "execute_result"
    }
   ],
   "source": []
  },
  {
   "cell_type": "markdown",
   "metadata": {},
   "source": [
    "### 面积分布"
   ]
  },
  {
   "cell_type": "code",
   "execution_count": 70,
   "metadata": {
    "ExecuteTime": {
     "end_time": "2021-04-22T12:59:14.581969Z",
     "start_time": "2021-04-22T12:59:14.575865Z"
    }
   },
   "outputs": [],
   "source": [
    "\n",
    "area_level = [0, 50, 100, 150, 200, 250, 300, 500]    \n",
    "label_level = ['小于50', '50-100', '100-150', '150-200', '200-250', '250-300', '300-350']    \n",
    "area_cut = pd.cut(df_all['area'], area_level, labels=label_level)        \n"
   ]
  },
  {
   "cell_type": "code",
   "execution_count": 71,
   "metadata": {
    "ExecuteTime": {
     "end_time": "2021-04-22T12:59:19.456074Z",
     "start_time": "2021-04-22T12:59:19.450121Z"
    }
   },
   "outputs": [
    {
     "data": {
      "text/plain": [
       "0         50-100\n",
       "1        150-200\n",
       "2           小于50\n",
       "3        200-250\n",
       "4        100-150\n",
       "          ...   \n",
       "33551     50-100\n",
       "33552    150-200\n",
       "33553     50-100\n",
       "33554    150-200\n",
       "33555    100-150\n",
       "Name: area, Length: 32441, dtype: category\n",
       "Categories (7, object): [小于50 < 50-100 < 100-150 < 150-200 < 200-250 < 250-300 < 300-350]"
      ]
     },
     "execution_count": 71,
     "metadata": {},
     "output_type": "execute_result"
    }
   ],
   "source": [
    "area_cut"
   ]
  },
  {
   "cell_type": "code",
   "execution_count": 72,
   "metadata": {
    "ExecuteTime": {
     "end_time": "2021-04-22T12:59:39.119095Z",
     "start_time": "2021-04-22T12:59:39.113052Z"
    }
   },
   "outputs": [
    {
     "data": {
      "text/plain": [
       "50-100     19163\n",
       "100-150     7521\n",
       "150-200     2272\n",
       "小于50        2088\n",
       "200-250      711\n",
       "250-300      337\n",
       "300-350      309\n",
       "Name: area, dtype: int64"
      ]
     },
     "execution_count": 72,
     "metadata": {},
     "output_type": "execute_result"
    }
   ],
   "source": [
    "area_cut.value_counts()"
   ]
  },
  {
   "cell_type": "code",
   "execution_count": 73,
   "metadata": {
    "ExecuteTime": {
     "end_time": "2021-04-22T13:00:01.696557Z",
     "start_time": "2021-04-22T13:00:01.496294Z"
    }
   },
   "outputs": [
    {
     "data": {
      "text/plain": [
       "<matplotlib.axes._subplots.AxesSubplot at 0x17c62d8efa0>"
      ]
     },
     "execution_count": 73,
     "metadata": {},
     "output_type": "execute_result"
    },
    {
     "name": "stderr",
     "output_type": "stream",
     "text": [
      "findfont: Font family ['sans-serif'] not found. Falling back to DejaVu Sans.\n",
      "C:\\Users\\85388\\anaconda3\\lib\\site-packages\\matplotlib\\backends\\backend_agg.py:214: RuntimeWarning: Glyph 23567 missing from current font.\n",
      "  font.set_text(s, 0.0, flags=flags)\n",
      "C:\\Users\\85388\\anaconda3\\lib\\site-packages\\matplotlib\\backends\\backend_agg.py:214: RuntimeWarning: Glyph 20110 missing from current font.\n",
      "  font.set_text(s, 0.0, flags=flags)\n",
      "C:\\Users\\85388\\anaconda3\\lib\\site-packages\\matplotlib\\backends\\backend_agg.py:183: RuntimeWarning: Glyph 23567 missing from current font.\n",
      "  font.set_text(s, 0, flags=flags)\n",
      "C:\\Users\\85388\\anaconda3\\lib\\site-packages\\matplotlib\\backends\\backend_agg.py:183: RuntimeWarning: Glyph 20110 missing from current font.\n",
      "  font.set_text(s, 0, flags=flags)\n"
     ]
    },
    {
     "data": {
      "image/png": "[encoded data removed]",
      "text/plain": [
       "<Figure size 1152x576 with 1 Axes>"
      ]
     },
     "metadata": {
      "needs_background": "light"
     },
     "output_type": "display_data"
    }
   ],
   "source": [
    "area_cut.value_counts().plot(kind='bar', rot=30, grid=True, figsize=(16,8))    \n"
   ]
  },
  {
   "cell_type": "code",
   "execution_count": null,
   "metadata": {},
   "outputs": [],
   "source": []
  },
  {
   "cell_type": "markdown",
   "metadata": {},
   "source": [
    "### 北京二手房都处在哪些价位"
   ]
  },
  {
   "cell_type": "code",
   "execution_count": 52,
   "metadata": {
    "ExecuteTime": {
     "end_time": "2021-04-22T12:50:04.075256Z",
     "start_time": "2021-04-22T12:50:04.069778Z"
    }
   },
   "outputs": [
    {
     "data": {
      "text/plain": [
       "0         455.0\n",
       "1        1250.0\n",
       "2         165.0\n",
       "3        1150.0\n",
       "4         515.0\n",
       "          ...  \n",
       "33551     920.0\n",
       "33552    1950.0\n",
       "33553     499.0\n",
       "33554    1380.0\n",
       "33555    1159.0\n",
       "Name: totalPrice, Length: 32441, dtype: float64"
      ]
     },
     "execution_count": 52,
     "metadata": {},
     "output_type": "execute_result"
    }
   ],
   "source": [
    "df_all['totalPrice']"
   ]
  },
  {
   "cell_type": "code",
   "execution_count": 53,
   "metadata": {
    "ExecuteTime": {
     "end_time": "2021-04-22T12:50:33.305427Z",
     "start_time": "2021-04-22T12:50:33.288003Z"
    }
   },
   "outputs": [
    {
     "data": {
      "text/html": [
       "<div>\n",
       "<style scoped>\n",
       "    .dataframe tbody tr th:only-of-type {\n",
       "        vertical-align: middle;\n",
       "    }\n",
       "\n",
       "    .dataframe tbody tr th {\n",
       "        vertical-align: top;\n",
       "    }\n",
       "\n",
       "    .dataframe thead th {\n",
       "        text-align: right;\n",
       "    }\n",
       "</style>\n",
       "<table border=\"1\" class=\"dataframe\">\n",
       "  <thead>\n",
       "    <tr style=\"text-align: right;\">\n",
       "      <th></th>\n",
       "      <th>totalPrice</th>\n",
       "      <th>unitPrice</th>\n",
       "      <th>county</th>\n",
       "      <th>halls</th>\n",
       "      <th>bedrooms</th>\n",
       "      <th>area</th>\n",
       "      <th>orient</th>\n",
       "      <th>decorateType</th>\n",
       "      <th>builtYear</th>\n",
       "      <th>banta</th>\n",
       "      <th>subway</th>\n",
       "      <th>floorType</th>\n",
       "      <th>priceCut</th>\n",
       "    </tr>\n",
       "  </thead>\n",
       "  <tbody>\n",
       "    <tr>\n",
       "      <th>0</th>\n",
       "      <td>455.0</td>\n",
       "      <td>55836.0</td>\n",
       "      <td>昌平</td>\n",
       "      <td>2</td>\n",
       "      <td>1</td>\n",
       "      <td>81.49</td>\n",
       "      <td>东南</td>\n",
       "      <td>简装</td>\n",
       "      <td>2008</td>\n",
       "      <td>板塔结合</td>\n",
       "      <td>1</td>\n",
       "      <td>中层</td>\n",
       "      <td>300-500万</td>\n",
       "    </tr>\n",
       "    <tr>\n",
       "      <th>1</th>\n",
       "      <td>1250.0</td>\n",
       "      <td>71060.0</td>\n",
       "      <td>昌平</td>\n",
       "      <td>3</td>\n",
       "      <td>1</td>\n",
       "      <td>175.91</td>\n",
       "      <td>南 北</td>\n",
       "      <td>精装</td>\n",
       "      <td>2012</td>\n",
       "      <td>板楼</td>\n",
       "      <td>0</td>\n",
       "      <td>高层</td>\n",
       "      <td>1000万以上</td>\n",
       "    </tr>\n",
       "    <tr>\n",
       "      <th>2</th>\n",
       "      <td>165.0</td>\n",
       "      <td>45455.0</td>\n",
       "      <td>昌平</td>\n",
       "      <td>1</td>\n",
       "      <td>0</td>\n",
       "      <td>36.30</td>\n",
       "      <td>西</td>\n",
       "      <td>简装</td>\n",
       "      <td>2004</td>\n",
       "      <td>板塔结合</td>\n",
       "      <td>0</td>\n",
       "      <td>高层</td>\n",
       "      <td>300万及以下</td>\n",
       "    </tr>\n",
       "    <tr>\n",
       "      <th>3</th>\n",
       "      <td>1150.0</td>\n",
       "      <td>46825.0</td>\n",
       "      <td>昌平</td>\n",
       "      <td>5</td>\n",
       "      <td>2</td>\n",
       "      <td>245.60</td>\n",
       "      <td>南 北</td>\n",
       "      <td>精装</td>\n",
       "      <td>2000</td>\n",
       "      <td>板楼</td>\n",
       "      <td>0</td>\n",
       "      <td>低层</td>\n",
       "      <td>1000万以上</td>\n",
       "    </tr>\n",
       "    <tr>\n",
       "      <th>4</th>\n",
       "      <td>515.0</td>\n",
       "      <td>35483.0</td>\n",
       "      <td>昌平</td>\n",
       "      <td>3</td>\n",
       "      <td>2</td>\n",
       "      <td>145.14</td>\n",
       "      <td>南 北 西</td>\n",
       "      <td>精装</td>\n",
       "      <td>2001</td>\n",
       "      <td>板楼</td>\n",
       "      <td>0</td>\n",
       "      <td>低层</td>\n",
       "      <td>500-800万</td>\n",
       "    </tr>\n",
       "  </tbody>\n",
       "</table>\n",
       "</div>"
      ],
      "text/plain": [
       "   totalPrice  unitPrice county  halls  bedrooms    area   orient  \\\n",
       "0       455.0    55836.0     昌平      2         1   81.49      东南    \n",
       "1      1250.0    71060.0     昌平      3         1  175.91     南 北    \n",
       "2       165.0    45455.0     昌平      1         0   36.30       西    \n",
       "3      1150.0    46825.0     昌平      5         2  245.60     南 北    \n",
       "4       515.0    35483.0     昌平      3         2  145.14   南 北 西    \n",
       "\n",
       "  decorateType  builtYear  banta  subway floorType  priceCut  \n",
       "0          简装        2008   板塔结合       1        中层  300-500万  \n",
       "1          精装        2012     板楼       0        高层   1000万以上  \n",
       "2          简装        2004   板塔结合       0        高层   300万及以下  \n",
       "3          精装        2000     板楼       0        低层   1000万以上  \n",
       "4          精装        2001     板楼       0        低层  500-800万  "
      ]
     },
     "execution_count": 53,
     "metadata": {},
     "output_type": "execute_result"
    }
   ],
   "source": [
    "bins = [74, 300, 500, 800, 1000, 8299]\n",
    "bins_label = ['300万及以下', '300-500万', '500-800万', '800-1000万', '1000万以上'] \n",
    "\n",
    "df_all['priceCut'] = pd.cut(df_all['totalPrice'], bins=bins, labels=bins_label) \n",
    "df_all.head() "
   ]
  },
  {
   "cell_type": "code",
   "execution_count": 54,
   "metadata": {
    "ExecuteTime": {
     "end_time": "2021-04-22T12:51:43.738688Z",
     "start_time": "2021-04-22T12:51:43.731987Z"
    }
   },
   "outputs": [
    {
     "data": {
      "text/plain": [
       "300-500万     11646\n",
       "500-800万      8612\n",
       "300万及以下       6334\n",
       "1000万以上       3361\n",
       "800-1000万     2487\n",
       "Name: priceCut, dtype: int64"
      ]
     },
     "execution_count": 54,
     "metadata": {},
     "output_type": "execute_result"
    }
   ],
   "source": [
    "df_all['priceCut'].value_counts()    # 每个值出现的次数"
   ]
  },
  {
   "cell_type": "code",
   "execution_count": 55,
   "metadata": {
    "ExecuteTime": {
     "end_time": "2021-04-22T12:52:27.276153Z",
     "start_time": "2021-04-22T12:52:27.269800Z"
    }
   },
   "outputs": [
    {
     "name": "stdout",
     "output_type": "stream",
     "text": [
      "('300-500万', 11646)\n",
      "('500-800万', 8612)\n",
      "('300万及以下', 6334)\n",
      "('1000万以上', 3361)\n",
      "('800-1000万', 2487)\n"
     ]
    }
   ],
   "source": [
    "###  验证\n",
    "price_num = df_all.priceCut.value_counts() \n",
    "a = zip(price_num.index.tolist(), price_num.values.tolist())\n",
    "for i in a:\n",
    "    print(i)"
   ]
  },
  {
   "cell_type": "code",
   "execution_count": 56,
   "metadata": {
    "ExecuteTime": {
     "end_time": "2021-04-22T12:52:27.276153Z",
     "start_time": "2021-04-22T12:52:27.269800Z"
    }
   },
   "outputs": [
    {
     "data": {
      "text/plain": [
       "[['300-500万', 11646],\n",
       " ['500-800万', 8612],\n",
       " ['300万及以下', 6334],\n",
       " ['1000万以上', 3361],\n",
       " ['800-1000万', 2487]]"
      ]
     },
     "execution_count": 56,
     "metadata": {},
     "output_type": "execute_result"
    }
   ],
   "source": [
    "price_num = df_all.priceCut.value_counts() \n",
    "\n",
    "data_pair = [list(z) for z in zip(price_num.index.tolist(), price_num.values.tolist())]\n",
    "data_pair"
   ]
  },
  {
   "cell_type": "code",
   "execution_count": 57,
   "metadata": {
    "ExecuteTime": {
     "end_time": "2021-04-22T12:52:59.588821Z",
     "start_time": "2021-04-22T12:52:59.583092Z"
    }
   },
   "outputs": [
    {
     "data": {
      "text/plain": [
       "<pyecharts.charts.basic_charts.pie.Pie at 0x17a5f00a160>"
      ]
     },
     "execution_count": 57,
     "metadata": {},
     "output_type": "execute_result"
    }
   ],
   "source": [
    "# 绘制饼图\n",
    "pie1 = Pie(init_opts=opts.InitOpts(width='800px', height='750px'))\n",
    "pie1.add('', data_pair=data_pair, radius=['30%', '60%'], rosetype='radius')\n",
    "pie1.set_global_opts(title_opts=opts.TitleOpts(title='北京二手房都处在哪些价位？'), \n",
    "                     legend_opts=opts.LegendOpts(orient='vertical', pos_top='15%', pos_left='2%'))\n",
    "pie1.set_series_opts(label_opts=opts.LabelOpts(formatter=\"{b}:{d}%\"))\n",
    "pie1.set_colors(['#FF7F0E', '#1F77B4', '#2CA02C', '#D62728', '#946C8B'])\n"
   ]
  },
  {
   "cell_type": "code",
   "execution_count": 58,
   "metadata": {},
   "outputs": [],
   "source": [
    "#pie1.load_javascript()"
   ]
  },
  {
   "cell_type": "code",
   "execution_count": 60,
   "metadata": {
    "ExecuteTime": {
     "end_time": "2021-04-22T12:54:24.183491Z",
     "start_time": "2021-04-22T12:54:24.175639Z"
    }
   },
   "outputs": [
    {
     "data": {
      "text/html": [
       "\n",
       "<script>\n",
       "    require.config({\n",
       "        paths: {\n",
       "            'echarts':'https://assets.pyecharts.org/assets/echarts.min'\n",
       "        }\n",
       "    });\n",
       "</script>\n",
       "\n",
       "        <div id=\"8eeec55ad0c847ae97b936bd38cda5d1\" style=\"width:800px; height:750px;\"></div>\n",
       "\n",
       "<script>\n",
       "        require(['echarts'], function(echarts) {\n",
       "                var chart_8eeec55ad0c847ae97b936bd38cda5d1 = echarts.init(\n",
       "                    document.getElementById('8eeec55ad0c847ae97b936bd38cda5d1'), 'white', {renderer: 'canvas'});\n",
       "                var option_8eeec55ad0c847ae97b936bd38cda5d1 = {\n",
       "    \"animation\": true,\n",
       "    \"animationThreshold\": 2000,\n",
       "    \"animationDuration\": 1000,\n",
       "    \"animationEasing\": \"cubicOut\",\n",
       "    \"animationDelay\": 0,\n",
       "    \"animationDurationUpdate\": 300,\n",
       "    \"animationEasingUpdate\": \"cubicOut\",\n",
       "    \"animationDelayUpdate\": 0,\n",
       "    \"color\": [\n",
       "        \"#FF7F0E\",\n",
       "        \"#1F77B4\",\n",
       "        \"#2CA02C\",\n",
       "        \"#D62728\",\n",
       "        \"#946C8B\"\n",
       "    ],\n",
       "    \"series\": [\n",
       "        {\n",
       "            \"type\": \"pie\",\n",
       "            \"clockwise\": true,\n",
       "            \"data\": [\n",
       "                {\n",
       "                    \"name\": \"300-500\\u4e07\",\n",
       "                    \"value\": 11646\n",
       "                },\n",
       "                {\n",
       "                    \"name\": \"500-800\\u4e07\",\n",
       "                    \"value\": 8612\n",
       "                },\n",
       "                {\n",
       "                    \"name\": \"300\\u4e07\\u53ca\\u4ee5\\u4e0b\",\n",
       "                    \"value\": 6334\n",
       "                },\n",
       "                {\n",
       "                    \"name\": \"1000\\u4e07\\u4ee5\\u4e0a\",\n",
       "                    \"value\": 3361\n",
       "                },\n",
       "                {\n",
       "                    \"name\": \"800-1000\\u4e07\",\n",
       "                    \"value\": 2487\n",
       "                }\n",
       "            ],\n",
       "            \"radius\": [\n",
       "                \"30%\",\n",
       "                \"60%\"\n",
       "            ],\n",
       "            \"center\": [\n",
       "                \"50%\",\n",
       "                \"50%\"\n",
       "            ],\n",
       "            \"roseType\": \"radius\",\n",
       "            \"label\": {\n",
       "                \"show\": true,\n",
       "                \"position\": \"top\",\n",
       "                \"margin\": 8,\n",
       "                \"formatter\": \"{b}:{d}%\"\n",
       "            },\n",
       "            \"rippleEffect\": {\n",
       "                \"show\": true,\n",
       "                \"brushType\": \"stroke\",\n",
       "                \"scale\": 2.5,\n",
       "                \"period\": 4\n",
       "            }\n",
       "        }\n",
       "    ],\n",
       "    \"legend\": [\n",
       "        {\n",
       "            \"data\": [\n",
       "                \"300-500\\u4e07\",\n",
       "                \"500-800\\u4e07\",\n",
       "                \"300\\u4e07\\u53ca\\u4ee5\\u4e0b\",\n",
       "                \"1000\\u4e07\\u4ee5\\u4e0a\",\n",
       "                \"800-1000\\u4e07\"\n",
       "            ],\n",
       "            \"selected\": {},\n",
       "            \"show\": true,\n",
       "            \"left\": \"2%\",\n",
       "            \"top\": \"15%\",\n",
       "            \"orient\": \"vertical\",\n",
       "            \"padding\": 5,\n",
       "            \"itemGap\": 10,\n",
       "            \"itemWidth\": 25,\n",
       "            \"itemHeight\": 14\n",
       "        }\n",
       "    ],\n",
       "    \"tooltip\": {\n",
       "        \"show\": true,\n",
       "        \"trigger\": \"item\",\n",
       "        \"triggerOn\": \"mousemove|click\",\n",
       "        \"axisPointer\": {\n",
       "            \"type\": \"line\"\n",
       "        },\n",
       "        \"showContent\": true,\n",
       "        \"alwaysShowContent\": false,\n",
       "        \"showDelay\": 0,\n",
       "        \"hideDelay\": 100,\n",
       "        \"textStyle\": {\n",
       "            \"fontSize\": 14\n",
       "        },\n",
       "        \"borderWidth\": 0,\n",
       "        \"padding\": 5\n",
       "    },\n",
       "    \"title\": [\n",
       "        {\n",
       "            \"text\": \"\\u5317\\u4eac\\u4e8c\\u624b\\u623f\\u90fd\\u5904\\u5728\\u54ea\\u4e9b\\u4ef7\\u4f4d\\uff1f\",\n",
       "            \"padding\": 5,\n",
       "            \"itemGap\": 10\n",
       "        }\n",
       "    ]\n",
       "};\n",
       "                chart_8eeec55ad0c847ae97b936bd38cda5d1.setOption(option_8eeec55ad0c847ae97b936bd38cda5d1);\n",
       "        });\n",
       "    </script>\n"
      ],
      "text/plain": [
       "<pyecharts.render.display.HTML at 0x17a55ba9340>"
      ]
     },
     "execution_count": 60,
     "metadata": {},
     "output_type": "execute_result"
    }
   ],
   "source": [
    "#pie1.render('北京二手房都处在哪些价位.html')\n",
    "pie1.render_notebook()"
   ]
  },
  {
   "cell_type": "code",
   "execution_count": null,
   "metadata": {},
   "outputs": [],
   "source": []
  },
  {
   "cell_type": "code",
   "execution_count": null,
   "metadata": {},
   "outputs": [],
   "source": []
  },
  {
   "cell_type": "code",
   "execution_count": null,
   "metadata": {},
   "outputs": [],
   "source": []
  },
  {
   "cell_type": "markdown",
   "metadata": {},
   "source": [
    "### 客厅数量和房屋价格的关系"
   ]
  },
  {
   "cell_type": "code",
   "execution_count": 74,
   "metadata": {},
   "outputs": [],
   "source": [
    "df_all['halls'] = [i if i<=4 else '5及以上' for i in df_all['halls']]\n",
    "df_all['halls'] = df_all.halls.astype('str')\n"
   ]
  },
  {
   "cell_type": "code",
   "execution_count": 75,
   "metadata": {},
   "outputs": [
    {
     "data": {
      "text/html": [
       "<div>\n",
       "<style scoped>\n",
       "    .dataframe tbody tr th:only-of-type {\n",
       "        vertical-align: middle;\n",
       "    }\n",
       "\n",
       "    .dataframe tbody tr th {\n",
       "        vertical-align: top;\n",
       "    }\n",
       "\n",
       "    .dataframe thead th {\n",
       "        text-align: right;\n",
       "    }\n",
       "</style>\n",
       "<table border=\"1\" class=\"dataframe\">\n",
       "  <thead>\n",
       "    <tr style=\"text-align: right;\">\n",
       "      <th></th>\n",
       "      <th>count</th>\n",
       "      <th>mean</th>\n",
       "      <th>std</th>\n",
       "      <th>min</th>\n",
       "      <th>25%</th>\n",
       "      <th>50%</th>\n",
       "      <th>75%</th>\n",
       "      <th>max</th>\n",
       "    </tr>\n",
       "    <tr>\n",
       "      <th>halls</th>\n",
       "      <th></th>\n",
       "      <th></th>\n",
       "      <th></th>\n",
       "      <th></th>\n",
       "      <th></th>\n",
       "      <th></th>\n",
       "      <th></th>\n",
       "      <th></th>\n",
       "    </tr>\n",
       "  </thead>\n",
       "  <tbody>\n",
       "    <tr>\n",
       "      <th>1</th>\n",
       "      <td>4622.0</td>\n",
       "      <td>379.542190</td>\n",
       "      <td>168.882083</td>\n",
       "      <td>74.0</td>\n",
       "      <td>255.0</td>\n",
       "      <td>338.0</td>\n",
       "      <td>470.0</td>\n",
       "      <td>1800.0</td>\n",
       "    </tr>\n",
       "    <tr>\n",
       "      <th>2</th>\n",
       "      <td>15499.0</td>\n",
       "      <td>469.253629</td>\n",
       "      <td>237.228237</td>\n",
       "      <td>96.0</td>\n",
       "      <td>305.0</td>\n",
       "      <td>405.0</td>\n",
       "      <td>575.0</td>\n",
       "      <td>3250.0</td>\n",
       "    </tr>\n",
       "    <tr>\n",
       "      <th>3</th>\n",
       "      <td>9694.0</td>\n",
       "      <td>694.717970</td>\n",
       "      <td>394.048443</td>\n",
       "      <td>115.0</td>\n",
       "      <td>430.0</td>\n",
       "      <td>580.0</td>\n",
       "      <td>855.0</td>\n",
       "      <td>5800.0</td>\n",
       "    </tr>\n",
       "    <tr>\n",
       "      <th>4</th>\n",
       "      <td>1855.0</td>\n",
       "      <td>1133.764420</td>\n",
       "      <td>759.773000</td>\n",
       "      <td>190.0</td>\n",
       "      <td>620.0</td>\n",
       "      <td>880.0</td>\n",
       "      <td>1394.0</td>\n",
       "      <td>6368.0</td>\n",
       "    </tr>\n",
       "    <tr>\n",
       "      <th>5及以上</th>\n",
       "      <td>771.0</td>\n",
       "      <td>1398.430610</td>\n",
       "      <td>960.443836</td>\n",
       "      <td>189.0</td>\n",
       "      <td>770.0</td>\n",
       "      <td>1140.0</td>\n",
       "      <td>1689.0</td>\n",
       "      <td>8299.0</td>\n",
       "    </tr>\n",
       "  </tbody>\n",
       "</table>\n",
       "</div>"
      ],
      "text/plain": [
       "         count         mean         std    min    25%     50%     75%     max\n",
       "halls                                                                        \n",
       "1       4622.0   379.542190  168.882083   74.0  255.0   338.0   470.0  1800.0\n",
       "2      15499.0   469.253629  237.228237   96.0  305.0   405.0   575.0  3250.0\n",
       "3       9694.0   694.717970  394.048443  115.0  430.0   580.0   855.0  5800.0\n",
       "4       1855.0  1133.764420  759.773000  190.0  620.0   880.0  1394.0  6368.0\n",
       "5及以上     771.0  1398.430610  960.443836  189.0  770.0  1140.0  1689.0  8299.0"
      ]
     },
     "execution_count": 75,
     "metadata": {},
     "output_type": "execute_result"
    }
   ],
   "source": [
    "df_all.groupby('halls')['totalPrice'].describe() \n"
   ]
  },
  {
   "cell_type": "markdown",
   "metadata": {},
   "source": [
    "### 卧室数量和房屋总价的关系"
   ]
  },
  {
   "cell_type": "code",
   "execution_count": 76,
   "metadata": {},
   "outputs": [
    {
     "name": "stdout",
     "output_type": "stream",
     "text": [
      "<class 'pandas.core.frame.DataFrame'>\n",
      "Int64Index: 32441 entries, 0 to 33555\n",
      "Data columns (total 13 columns):\n",
      " #   Column        Non-Null Count  Dtype   \n",
      "---  ------        --------------  -----   \n",
      " 0   totalPrice    32441 non-null  float64 \n",
      " 1   unitPrice     32441 non-null  float64 \n",
      " 2   county        32441 non-null  object  \n",
      " 3   halls         32441 non-null  object  \n",
      " 4   bedrooms      32441 non-null  int32   \n",
      " 5   area          32441 non-null  float64 \n",
      " 6   orient        32441 non-null  object  \n",
      " 7   decorateType  32441 non-null  object  \n",
      " 8   builtYear     32441 non-null  int32   \n",
      " 9   banta         32441 non-null  object  \n",
      " 10  subway        32441 non-null  int32   \n",
      " 11  floorType     32441 non-null  object  \n",
      " 12  priceCut      32440 non-null  category\n",
      "dtypes: category(1), float64(3), int32(3), object(6)\n",
      "memory usage: 2.9+ MB\n"
     ]
    }
   ],
   "source": [
    "df_all.info()"
   ]
  },
  {
   "cell_type": "code",
   "execution_count": 77,
   "metadata": {},
   "outputs": [],
   "source": [
    "\n",
    "df_all['bedrooms'] = [i if i<=3 else '4及以上' for i in df_all['bedrooms']]\n",
    "df_all['bedrooms'] = df_all.bedrooms.astype('str')\n"
   ]
  },
  {
   "cell_type": "code",
   "execution_count": 78,
   "metadata": {},
   "outputs": [
    {
     "data": {
      "text/html": [
       "<div>\n",
       "<style scoped>\n",
       "    .dataframe tbody tr th:only-of-type {\n",
       "        vertical-align: middle;\n",
       "    }\n",
       "\n",
       "    .dataframe tbody tr th {\n",
       "        vertical-align: top;\n",
       "    }\n",
       "\n",
       "    .dataframe thead th {\n",
       "        text-align: right;\n",
       "    }\n",
       "</style>\n",
       "<table border=\"1\" class=\"dataframe\">\n",
       "  <thead>\n",
       "    <tr style=\"text-align: right;\">\n",
       "      <th></th>\n",
       "      <th>count</th>\n",
       "      <th>mean</th>\n",
       "      <th>std</th>\n",
       "      <th>min</th>\n",
       "      <th>25%</th>\n",
       "      <th>50%</th>\n",
       "      <th>75%</th>\n",
       "      <th>max</th>\n",
       "    </tr>\n",
       "    <tr>\n",
       "      <th>bedrooms</th>\n",
       "      <th></th>\n",
       "      <th></th>\n",
       "      <th></th>\n",
       "      <th></th>\n",
       "      <th></th>\n",
       "      <th></th>\n",
       "      <th></th>\n",
       "      <th></th>\n",
       "    </tr>\n",
       "  </thead>\n",
       "  <tbody>\n",
       "    <tr>\n",
       "      <th>0</th>\n",
       "      <td>780.0</td>\n",
       "      <td>361.176923</td>\n",
       "      <td>209.435520</td>\n",
       "      <td>74.0</td>\n",
       "      <td>230.0</td>\n",
       "      <td>325.0</td>\n",
       "      <td>445.75</td>\n",
       "      <td>4090.0</td>\n",
       "    </tr>\n",
       "    <tr>\n",
       "      <th>1</th>\n",
       "      <td>23374.0</td>\n",
       "      <td>500.010011</td>\n",
       "      <td>278.050068</td>\n",
       "      <td>77.0</td>\n",
       "      <td>310.0</td>\n",
       "      <td>425.0</td>\n",
       "      <td>610.00</td>\n",
       "      <td>5199.0</td>\n",
       "    </tr>\n",
       "    <tr>\n",
       "      <th>2</th>\n",
       "      <td>7842.0</td>\n",
       "      <td>808.571283</td>\n",
       "      <td>584.178126</td>\n",
       "      <td>120.0</td>\n",
       "      <td>440.0</td>\n",
       "      <td>625.0</td>\n",
       "      <td>980.00</td>\n",
       "      <td>8299.0</td>\n",
       "    </tr>\n",
       "    <tr>\n",
       "      <th>3</th>\n",
       "      <td>412.0</td>\n",
       "      <td>1403.485437</td>\n",
       "      <td>996.424241</td>\n",
       "      <td>328.0</td>\n",
       "      <td>750.0</td>\n",
       "      <td>1100.0</td>\n",
       "      <td>1750.00</td>\n",
       "      <td>7800.0</td>\n",
       "    </tr>\n",
       "    <tr>\n",
       "      <th>4及以上</th>\n",
       "      <td>33.0</td>\n",
       "      <td>1670.333333</td>\n",
       "      <td>1088.625012</td>\n",
       "      <td>699.0</td>\n",
       "      <td>1080.0</td>\n",
       "      <td>1280.0</td>\n",
       "      <td>1880.00</td>\n",
       "      <td>6600.0</td>\n",
       "    </tr>\n",
       "  </tbody>\n",
       "</table>\n",
       "</div>"
      ],
      "text/plain": [
       "            count         mean          std    min     25%     50%      75%  \\\n",
       "bedrooms                                                                      \n",
       "0           780.0   361.176923   209.435520   74.0   230.0   325.0   445.75   \n",
       "1         23374.0   500.010011   278.050068   77.0   310.0   425.0   610.00   \n",
       "2          7842.0   808.571283   584.178126  120.0   440.0   625.0   980.00   \n",
       "3           412.0  1403.485437   996.424241  328.0   750.0  1100.0  1750.00   \n",
       "4及以上         33.0  1670.333333  1088.625012  699.0  1080.0  1280.0  1880.00   \n",
       "\n",
       "             max  \n",
       "bedrooms          \n",
       "0         4090.0  \n",
       "1         5199.0  \n",
       "2         8299.0  \n",
       "3         7800.0  \n",
       "4及以上      6600.0  "
      ]
     },
     "execution_count": 78,
     "metadata": {},
     "output_type": "execute_result"
    }
   ],
   "source": [
    "df_all.groupby('bedrooms')['totalPrice'].describe() \n"
   ]
  },
  {
   "cell_type": "markdown",
   "metadata": {},
   "source": [
    "### 是否靠近地铁和房屋单价的关系"
   ]
  },
  {
   "cell_type": "code",
   "execution_count": 79,
   "metadata": {},
   "outputs": [
    {
     "data": {
      "text/html": [
       "<div>\n",
       "<style scoped>\n",
       "    .dataframe tbody tr th:only-of-type {\n",
       "        vertical-align: middle;\n",
       "    }\n",
       "\n",
       "    .dataframe tbody tr th {\n",
       "        vertical-align: top;\n",
       "    }\n",
       "\n",
       "    .dataframe thead th {\n",
       "        text-align: right;\n",
       "    }\n",
       "</style>\n",
       "<table border=\"1\" class=\"dataframe\">\n",
       "  <thead>\n",
       "    <tr style=\"text-align: right;\">\n",
       "      <th></th>\n",
       "      <th>count</th>\n",
       "      <th>mean</th>\n",
       "      <th>std</th>\n",
       "      <th>min</th>\n",
       "      <th>25%</th>\n",
       "      <th>50%</th>\n",
       "      <th>75%</th>\n",
       "      <th>max</th>\n",
       "    </tr>\n",
       "    <tr>\n",
       "      <th>subway</th>\n",
       "      <th></th>\n",
       "      <th></th>\n",
       "      <th></th>\n",
       "      <th></th>\n",
       "      <th></th>\n",
       "      <th></th>\n",
       "      <th></th>\n",
       "      <th></th>\n",
       "    </tr>\n",
       "  </thead>\n",
       "  <tbody>\n",
       "    <tr>\n",
       "      <th>0</th>\n",
       "      <td>22108.0</td>\n",
       "      <td>571.058440</td>\n",
       "      <td>427.408558</td>\n",
       "      <td>74.0</td>\n",
       "      <td>315.0</td>\n",
       "      <td>450.0</td>\n",
       "      <td>678.0</td>\n",
       "      <td>8299.0</td>\n",
       "    </tr>\n",
       "    <tr>\n",
       "      <th>1</th>\n",
       "      <td>10333.0</td>\n",
       "      <td>611.455047</td>\n",
       "      <td>420.602095</td>\n",
       "      <td>103.0</td>\n",
       "      <td>365.0</td>\n",
       "      <td>505.0</td>\n",
       "      <td>715.0</td>\n",
       "      <td>6368.0</td>\n",
       "    </tr>\n",
       "  </tbody>\n",
       "</table>\n",
       "</div>"
      ],
      "text/plain": [
       "          count        mean         std    min    25%    50%    75%     max\n",
       "subway                                                                     \n",
       "0       22108.0  571.058440  427.408558   74.0  315.0  450.0  678.0  8299.0\n",
       "1       10333.0  611.455047  420.602095  103.0  365.0  505.0  715.0  6368.0"
      ]
     },
     "execution_count": 79,
     "metadata": {},
     "output_type": "execute_result"
    }
   ],
   "source": [
    "df_all.groupby('subway')['totalPrice'].describe() \n"
   ]
  },
  {
   "cell_type": "markdown",
   "metadata": {},
   "source": [
    "### 房屋楼层和房屋价格的关系"
   ]
  },
  {
   "cell_type": "code",
   "execution_count": 80,
   "metadata": {},
   "outputs": [
    {
     "data": {
      "text/html": [
       "<div>\n",
       "<style scoped>\n",
       "    .dataframe tbody tr th:only-of-type {\n",
       "        vertical-align: middle;\n",
       "    }\n",
       "\n",
       "    .dataframe tbody tr th {\n",
       "        vertical-align: top;\n",
       "    }\n",
       "\n",
       "    .dataframe thead th {\n",
       "        text-align: right;\n",
       "    }\n",
       "</style>\n",
       "<table border=\"1\" class=\"dataframe\">\n",
       "  <thead>\n",
       "    <tr style=\"text-align: right;\">\n",
       "      <th></th>\n",
       "      <th>count</th>\n",
       "      <th>mean</th>\n",
       "      <th>std</th>\n",
       "      <th>min</th>\n",
       "      <th>25%</th>\n",
       "      <th>50%</th>\n",
       "      <th>75%</th>\n",
       "      <th>max</th>\n",
       "    </tr>\n",
       "    <tr>\n",
       "      <th>floorType</th>\n",
       "      <th></th>\n",
       "      <th></th>\n",
       "      <th></th>\n",
       "      <th></th>\n",
       "      <th></th>\n",
       "      <th></th>\n",
       "      <th></th>\n",
       "      <th></th>\n",
       "    </tr>\n",
       "  </thead>\n",
       "  <tbody>\n",
       "    <tr>\n",
       "      <th>中层</th>\n",
       "      <td>10940.0</td>\n",
       "      <td>571.991773</td>\n",
       "      <td>403.172927</td>\n",
       "      <td>77.0</td>\n",
       "      <td>330.0</td>\n",
       "      <td>463.5</td>\n",
       "      <td>680.0</td>\n",
       "      <td>5800.0</td>\n",
       "    </tr>\n",
       "    <tr>\n",
       "      <th>低层</th>\n",
       "      <td>9876.0</td>\n",
       "      <td>631.007493</td>\n",
       "      <td>469.096448</td>\n",
       "      <td>74.0</td>\n",
       "      <td>349.0</td>\n",
       "      <td>498.0</td>\n",
       "      <td>750.0</td>\n",
       "      <td>8299.0</td>\n",
       "    </tr>\n",
       "    <tr>\n",
       "      <th>地下室</th>\n",
       "      <td>170.0</td>\n",
       "      <td>765.347059</td>\n",
       "      <td>824.476540</td>\n",
       "      <td>99.0</td>\n",
       "      <td>318.5</td>\n",
       "      <td>499.5</td>\n",
       "      <td>727.5</td>\n",
       "      <td>6600.0</td>\n",
       "    </tr>\n",
       "    <tr>\n",
       "      <th>高层</th>\n",
       "      <td>11455.0</td>\n",
       "      <td>552.038062</td>\n",
       "      <td>393.221261</td>\n",
       "      <td>78.0</td>\n",
       "      <td>313.0</td>\n",
       "      <td>447.0</td>\n",
       "      <td>655.0</td>\n",
       "      <td>6000.0</td>\n",
       "    </tr>\n",
       "  </tbody>\n",
       "</table>\n",
       "</div>"
      ],
      "text/plain": [
       "             count        mean         std   min    25%    50%    75%     max\n",
       "floorType                                                                    \n",
       "中层         10940.0  571.991773  403.172927  77.0  330.0  463.5  680.0  5800.0\n",
       "低层          9876.0  631.007493  469.096448  74.0  349.0  498.0  750.0  8299.0\n",
       "地下室          170.0  765.347059  824.476540  99.0  318.5  499.5  727.5  6600.0\n",
       "高层         11455.0  552.038062  393.221261  78.0  313.0  447.0  655.0  6000.0"
      ]
     },
     "execution_count": 80,
     "metadata": {},
     "output_type": "execute_result"
    }
   ],
   "source": [
    "df_all.groupby('floorType')['totalPrice'].describe() \n"
   ]
  },
  {
   "cell_type": "markdown",
   "metadata": {},
   "source": [
    "### 房屋面积和房屋价格的关系"
   ]
  },
  {
   "cell_type": "code",
   "execution_count": 81,
   "metadata": {},
   "outputs": [
    {
     "data": {
      "image/png": "[encoded data removed]",
      "text/plain": [
       "<Figure size 432x288 with 1 Axes>"
      ]
     },
     "metadata": {
      "needs_background": "light"
     },
     "output_type": "display_data"
    }
   ],
   "source": [
    "plt.scatter(x=df_all.area, y=df_all.totalPrice);\n"
   ]
  },
  {
   "cell_type": "code",
   "execution_count": 82,
   "metadata": {},
   "outputs": [
    {
     "data": {
      "text/html": [
       "<div>\n",
       "<style scoped>\n",
       "    .dataframe tbody tr th:only-of-type {\n",
       "        vertical-align: middle;\n",
       "    }\n",
       "\n",
       "    .dataframe tbody tr th {\n",
       "        vertical-align: top;\n",
       "    }\n",
       "\n",
       "    .dataframe thead th {\n",
       "        text-align: right;\n",
       "    }\n",
       "</style>\n",
       "<table border=\"1\" class=\"dataframe\">\n",
       "  <thead>\n",
       "    <tr style=\"text-align: right;\">\n",
       "      <th></th>\n",
       "      <th>area</th>\n",
       "      <th>totalPrice</th>\n",
       "    </tr>\n",
       "  </thead>\n",
       "  <tbody>\n",
       "    <tr>\n",
       "      <th>area</th>\n",
       "      <td>1.000000</td>\n",
       "      <td>0.669359</td>\n",
       "    </tr>\n",
       "    <tr>\n",
       "      <th>totalPrice</th>\n",
       "      <td>0.669359</td>\n",
       "      <td>1.000000</td>\n",
       "    </tr>\n",
       "  </tbody>\n",
       "</table>\n",
       "</div>"
      ],
      "text/plain": [
       "                area  totalPrice\n",
       "area        1.000000    0.669359\n",
       "totalPrice  0.669359    1.000000"
      ]
     },
     "execution_count": 82,
     "metadata": {},
     "output_type": "execute_result"
    }
   ],
   "source": [
    "df_all[['area', 'totalPrice']].corr()\n"
   ]
  },
  {
   "cell_type": "markdown",
   "metadata": {},
   "source": [
    "### 房屋年龄和房屋单价的关系"
   ]
  },
  {
   "cell_type": "code",
   "execution_count": 83,
   "metadata": {
    "ExecuteTime": {
     "end_time": "2021-04-22T13:04:12.770477Z",
     "start_time": "2021-04-22T13:04:12.751668Z"
    }
   },
   "outputs": [
    {
     "data": {
      "text/html": [
       "<div>\n",
       "<style scoped>\n",
       "    .dataframe tbody tr th:only-of-type {\n",
       "        vertical-align: middle;\n",
       "    }\n",
       "\n",
       "    .dataframe tbody tr th {\n",
       "        vertical-align: top;\n",
       "    }\n",
       "\n",
       "    .dataframe thead th {\n",
       "        text-align: right;\n",
       "    }\n",
       "</style>\n",
       "<table border=\"1\" class=\"dataframe\">\n",
       "  <thead>\n",
       "    <tr style=\"text-align: right;\">\n",
       "      <th></th>\n",
       "      <th>totalPrice</th>\n",
       "      <th>unitPrice</th>\n",
       "      <th>county</th>\n",
       "      <th>halls</th>\n",
       "      <th>bedrooms</th>\n",
       "      <th>area</th>\n",
       "      <th>orient</th>\n",
       "      <th>decorateType</th>\n",
       "      <th>builtYear</th>\n",
       "      <th>banta</th>\n",
       "      <th>subway</th>\n",
       "      <th>floorType</th>\n",
       "      <th>priceCut</th>\n",
       "      <th>built_cut</th>\n",
       "    </tr>\n",
       "  </thead>\n",
       "  <tbody>\n",
       "    <tr>\n",
       "      <th>0</th>\n",
       "      <td>455.0</td>\n",
       "      <td>55836.0</td>\n",
       "      <td>昌平</td>\n",
       "      <td>2</td>\n",
       "      <td>1</td>\n",
       "      <td>81.49</td>\n",
       "      <td>东南</td>\n",
       "      <td>简装</td>\n",
       "      <td>2008</td>\n",
       "      <td>板塔结合</td>\n",
       "      <td>1</td>\n",
       "      <td>中层</td>\n",
       "      <td>300-500万</td>\n",
       "      <td>NaN</td>\n",
       "    </tr>\n",
       "    <tr>\n",
       "      <th>1</th>\n",
       "      <td>1250.0</td>\n",
       "      <td>71060.0</td>\n",
       "      <td>昌平</td>\n",
       "      <td>3</td>\n",
       "      <td>1</td>\n",
       "      <td>175.91</td>\n",
       "      <td>南 北</td>\n",
       "      <td>精装</td>\n",
       "      <td>2012</td>\n",
       "      <td>板楼</td>\n",
       "      <td>0</td>\n",
       "      <td>高层</td>\n",
       "      <td>1000万以上</td>\n",
       "      <td>NaN</td>\n",
       "    </tr>\n",
       "    <tr>\n",
       "      <th>2</th>\n",
       "      <td>165.0</td>\n",
       "      <td>45455.0</td>\n",
       "      <td>昌平</td>\n",
       "      <td>1</td>\n",
       "      <td>0</td>\n",
       "      <td>36.30</td>\n",
       "      <td>西</td>\n",
       "      <td>简装</td>\n",
       "      <td>2004</td>\n",
       "      <td>板塔结合</td>\n",
       "      <td>0</td>\n",
       "      <td>高层</td>\n",
       "      <td>300万及以下</td>\n",
       "      <td>NaN</td>\n",
       "    </tr>\n",
       "    <tr>\n",
       "      <th>3</th>\n",
       "      <td>1150.0</td>\n",
       "      <td>46825.0</td>\n",
       "      <td>昌平</td>\n",
       "      <td>5及以上</td>\n",
       "      <td>2</td>\n",
       "      <td>245.60</td>\n",
       "      <td>南 北</td>\n",
       "      <td>精装</td>\n",
       "      <td>2000</td>\n",
       "      <td>板楼</td>\n",
       "      <td>0</td>\n",
       "      <td>低层</td>\n",
       "      <td>1000万以上</td>\n",
       "      <td>NaN</td>\n",
       "    </tr>\n",
       "    <tr>\n",
       "      <th>4</th>\n",
       "      <td>515.0</td>\n",
       "      <td>35483.0</td>\n",
       "      <td>昌平</td>\n",
       "      <td>3</td>\n",
       "      <td>2</td>\n",
       "      <td>145.14</td>\n",
       "      <td>南 北 西</td>\n",
       "      <td>精装</td>\n",
       "      <td>2001</td>\n",
       "      <td>板楼</td>\n",
       "      <td>0</td>\n",
       "      <td>低层</td>\n",
       "      <td>500-800万</td>\n",
       "      <td>NaN</td>\n",
       "    </tr>\n",
       "  </tbody>\n",
       "</table>\n",
       "</div>"
      ],
      "text/plain": [
       "   totalPrice  unitPrice county halls bedrooms    area   orient decorateType  \\\n",
       "0       455.0    55836.0     昌平     2        1   81.49      东南           简装    \n",
       "1      1250.0    71060.0     昌平     3        1  175.91     南 北           精装    \n",
       "2       165.0    45455.0     昌平     1        0   36.30       西           简装    \n",
       "3      1150.0    46825.0     昌平  5及以上        2  245.60     南 北           精装    \n",
       "4       515.0    35483.0     昌平     3        2  145.14   南 北 西           精装    \n",
       "\n",
       "   builtYear  banta  subway floorType  priceCut built_cut  \n",
       "0       2008   板塔结合       1        中层  300-500万       NaN  \n",
       "1       2012     板楼       0        高层   1000万以上       NaN  \n",
       "2       2004   板塔结合       0        高层   300万及以下       NaN  \n",
       "3       2000     板楼       0        低层   1000万以上       NaN  \n",
       "4       2001     板楼       0        低层  500-800万       NaN  "
      ]
     },
     "execution_count": 83,
     "metadata": {},
     "output_type": "execute_result"
    }
   ],
   "source": [
    "bins_built = [0, 5, 10, 15, 20, 71]\n",
    "bins_label = ['5年以内', '5至10年', '10至15年', '15至20年', '20年以上']\n",
    "\n",
    "df_all['built_cut'] = pd.cut(df_all['builtYear'], bins=bins_built, right=True, labels=bins_label)\n",
    "df_all.head() "
   ]
  },
  {
   "cell_type": "code",
   "execution_count": 84,
   "metadata": {
    "ExecuteTime": {
     "end_time": "2021-04-22T13:04:55.240308Z",
     "start_time": "2021-04-22T13:04:55.234415Z"
    }
   },
   "outputs": [
    {
     "data": {
      "text/plain": [
       "built_cut\n",
       "5年以内     NaN\n",
       "5至10年    NaN\n",
       "10至15年   NaN\n",
       "15至20年   NaN\n",
       "20年以上    NaN\n",
       "Name: totalPrice, dtype: float64"
      ]
     },
     "execution_count": 84,
     "metadata": {},
     "output_type": "execute_result"
    }
   ],
   "source": [
    "df_all.groupby('built_cut')['totalPrice'].mean()"
   ]
  },
  {
   "cell_type": "code",
   "execution_count": 85,
   "metadata": {
    "ExecuteTime": {
     "end_time": "2021-04-22T13:04:19.559870Z",
     "start_time": "2021-04-22T13:04:19.554172Z"
    }
   },
   "outputs": [
    {
     "data": {
      "text/plain": [
       "20年以上     0\n",
       "15至20年    0\n",
       "10至15年    0\n",
       "5至10年     0\n",
       "5年以内      0\n",
       "Name: built_cut, dtype: int64"
      ]
     },
     "execution_count": 85,
     "metadata": {},
     "output_type": "execute_result"
    }
   ],
   "source": [
    "df_all.built_cut.value_counts()"
   ]
  },
  {
   "cell_type": "markdown",
   "metadata": {
    "toc-hr-collapsed": true
   },
   "source": [
    "## 构建模型"
   ]
  },
  {
   "cell_type": "code",
   "execution_count": 86,
   "metadata": {},
   "outputs": [
    {
     "data": {
      "text/plain": [
       "Index(['totalPrice', 'unitPrice', 'county', 'halls', 'bedrooms', 'area',\n",
       "       'orient', 'decorateType', 'builtYear', 'banta', 'subway', 'floorType',\n",
       "       'priceCut', 'built_cut'],\n",
       "      dtype='object')"
      ]
     },
     "execution_count": 86,
     "metadata": {},
     "output_type": "execute_result"
    }
   ],
   "source": [
    "df_all.columns"
   ]
  },
  {
   "cell_type": "code",
   "execution_count": 87,
   "metadata": {},
   "outputs": [
    {
     "data": {
      "text/plain": [
       "totalPrice          1.000000\n",
       "unitPrice           0.541225\n",
       "area                0.669359\n",
       "builtYear           0.088055\n",
       "subway              0.044216\n",
       "                      ...   \n",
       "built_cut_5年以内           NaN\n",
       "built_cut_5至10年          NaN\n",
       "built_cut_10至15年         NaN\n",
       "built_cut_15至20年         NaN\n",
       "built_cut_20年以上          NaN\n",
       "Name: totalPrice, Length: 163, dtype: float64"
      ]
     },
     "execution_count": 87,
     "metadata": {},
     "output_type": "execute_result"
    }
   ],
   "source": [
    "# 查看各个特征和总价的相关性\n",
    "pd.get_dummies(df_all).corr()['totalPrice']"
   ]
  },
  {
   "cell_type": "code",
   "execution_count": 88,
   "metadata": {
    "ExecuteTime": {
     "end_time": "2021-04-22T13:08:38.736117Z",
     "start_time": "2021-04-22T13:08:38.733747Z"
    }
   },
   "outputs": [],
   "source": [
    "# 确定特征\n",
    "features = ['county', 'halls', 'bedrooms', 'area',]"
   ]
  },
  {
   "cell_type": "code",
   "execution_count": 89,
   "metadata": {
    "ExecuteTime": {
     "end_time": "2021-04-22T13:08:55.700394Z",
     "start_time": "2021-04-22T13:08:55.696513Z"
    }
   },
   "outputs": [],
   "source": [
    "# 选择特征列\n",
    "data = df_all[features]"
   ]
  },
  {
   "cell_type": "code",
   "execution_count": 90,
   "metadata": {
    "ExecuteTime": {
     "end_time": "2021-04-22T13:08:57.334957Z",
     "start_time": "2021-04-22T13:08:57.324235Z"
    }
   },
   "outputs": [],
   "source": [
    "# 特征列预处理\n",
    "data = pd.get_dummies(data)"
   ]
  },
  {
   "cell_type": "code",
   "execution_count": 91,
   "metadata": {
    "ExecuteTime": {
     "end_time": "2021-04-22T13:09:31.665945Z",
     "start_time": "2021-04-22T13:09:31.663662Z"
    }
   },
   "outputs": [],
   "source": [
    "# 确定标签\n",
    "labels = df_all['totalPrice']"
   ]
  },
  {
   "cell_type": "code",
   "execution_count": 92,
   "metadata": {
    "ExecuteTime": {
     "end_time": "2021-04-22T13:09:35.414575Z",
     "start_time": "2021-04-22T13:09:34.490988Z"
    }
   },
   "outputs": [],
   "source": [
    "# 数据集划分\n",
    "from sklearn.model_selection import train_test_split\n",
    "X_train, X_test, y_train, y_test = train_test_split(data, labels)"
   ]
  },
  {
   "cell_type": "code",
   "execution_count": 93,
   "metadata": {
    "ExecuteTime": {
     "end_time": "2021-04-22T13:09:55.463767Z",
     "start_time": "2021-04-22T13:09:55.461232Z"
    }
   },
   "outputs": [],
   "source": [
    "# 构建线性回归模型\n",
    "from sklearn.linear_model import LinearRegression\n",
    "lr = LinearRegression()"
   ]
  },
  {
   "cell_type": "code",
   "execution_count": 94,
   "metadata": {
    "ExecuteTime": {
     "end_time": "2021-04-22T13:10:04.032919Z",
     "start_time": "2021-04-22T13:10:04.017156Z"
    }
   },
   "outputs": [
    {
     "data": {
      "text/plain": [
       "LinearRegression()"
      ]
     },
     "execution_count": 94,
     "metadata": {},
     "output_type": "execute_result"
    }
   ],
   "source": [
    "# 模型训练\n",
    "lr.fit(X_train, y_train)"
   ]
  },
  {
   "cell_type": "code",
   "execution_count": 95,
   "metadata": {
    "ExecuteTime": {
     "end_time": "2021-04-22T13:10:30.592681Z",
     "start_time": "2021-04-22T13:10:30.587597Z"
    }
   },
   "outputs": [],
   "source": [
    "# 模型评估\n",
    "from sklearn.metrics import mean_absolute_error, mean_squared_error\n",
    "y_predict = lr.predict(X_test)"
   ]
  },
  {
   "cell_type": "code",
   "execution_count": 96,
   "metadata": {
    "ExecuteTime": {
     "end_time": "2021-04-22T13:10:43.938669Z",
     "start_time": "2021-04-22T13:10:43.934316Z"
    }
   },
   "outputs": [
    {
     "data": {
      "text/plain": [
       "46213.7510691301"
      ]
     },
     "execution_count": 96,
     "metadata": {},
     "output_type": "execute_result"
    }
   ],
   "source": [
    "mean_squared_error(y_test, y_predict)"
   ]
  },
  {
   "cell_type": "markdown",
   "metadata": {},
   "source": [
    "本次分享旨在让大家了解如何用Python做一个简单的数据分析，对于刚刚接触数据分析的朋友无疑是一个很好的练习。后续需要做更多地特征工程工作，比如数据清洗，特征选择和筛选"
   ]
  }
 ],
 "metadata": {
  "kernelspec": {
   "display_name": "Python 3",
   "language": "python",
   "name": "python3"
  },
  "language_info": {
   "codemirror_mode": {
    "name": "ipython",
    "version": 3
   },
   "file_extension": ".py",
   "mimetype": "text/x-python",
   "name": "python",
   "nbconvert_exporter": "python",
   "pygments_lexer": "ipython3",
   "version": "3.8.3"
  },
  "toc": {
   "base_numbering": 1,
   "nav_menu": {},
   "number_sections": true,
   "sideBar": true,
   "skip_h1_title": false,
   "title_cell": "Table of Contents",
   "title_sidebar": "Contents",
   "toc_cell": false,
   "toc_position": {},
   "toc_section_display": true,
   "toc_window_display": false
  },
  "varInspector": {
   "cols": {
    "lenName": 16,
    "lenType": 16,
    "lenVar": 40
   },
   "kernels_config": {
    "python": {
     "delete_cmd_postfix": "",
     "delete_cmd_prefix": "del ",
     "library": "var_list.py",
     "varRefreshCmd": "print(var_dic_list())"
    },
    "r": {
     "delete_cmd_postfix": ") ",
     "delete_cmd_prefix": "rm(",
     "library": "var_list.r",
     "varRefreshCmd": "cat(var_dic_list()) "
    }
   },
   "types_to_exclude": [
    "module",
    "function",
    "builtin_function_or_method",
    "instance",
    "_Feature"
   ],
   "window_display": false
  },
  "widgets": {
   "application/vnd.jupyter.widget-state+json": {
    "state": {},
    "version_major": 2,
    "version_minor": 0
   }
  }
 },
 "nbformat": 4,
 "nbformat_minor": 5
}
